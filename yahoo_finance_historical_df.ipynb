{
  "nbformat": 4,
  "nbformat_minor": 0,
  "metadata": {
    "colab": {
      "name": "Untitled12.ipynb",
      "provenance": [],
      "collapsed_sections": [],
      "include_colab_link": true
    },
    "kernelspec": {
      "name": "python3",
      "display_name": "Python 3"
    }
  },
  "cells": [
    {
      "cell_type": "markdown",
      "metadata": {
        "id": "view-in-github",
        "colab_type": "text"
      },
      "source": [
        "<a href=\"https://colab.research.google.com/github/rhysdavies21/library/blob/master/yahoo_finance_historical_df.ipynb\" target=\"_parent\"><img src=\"https://colab.research.google.com/assets/colab-badge.svg\" alt=\"Open In Colab\"/></a>"
      ]
    },
    {
      "cell_type": "code",
      "metadata": {
        "id": "mUyJyi1uBv5Y",
        "colab_type": "code",
        "outputId": "f1472201-b900-4361-f7ed-11b883804542",
        "colab": {
          "base_uri": "https://localhost:8080/",
          "height": 34
        }
      },
      "source": [
        "# Import initial libraries\n",
        "import pandas as pd\n",
        "import numpy as np\n",
        "import datetime\n",
        "import matplotlib.pyplot as plt\n",
        "import plotly.graph_objs as go\n",
        "%matplotlib inline\n",
        "\n",
        "# Imports in order to be able to use Plotly offline.\n",
        "from plotly import __version__\n",
        "from plotly.offline import download_plotlyjs, init_notebook_mode, plot, iplot\n",
        "print(__version__) # requires version >= 1.9.0\n",
        "init_notebook_mode(connected=True)"
      ],
      "execution_count": 28,
      "outputs": [
        {
          "output_type": "stream",
          "text": [
            "4.1.1\n"
          ],
          "name": "stdout"
        },
        {
          "output_type": "display_data",
          "data": {
            "text/html": [
              "        <script type=\"text/javascript\">\n",
              "        window.PlotlyConfig = {MathJaxConfig: 'local'};\n",
              "        if (window.MathJax) {MathJax.Hub.Config({SVG: {font: \"STIX-Web\"}});}\n",
              "        if (typeof require !== 'undefined') {\n",
              "        require.undef(\"plotly\");\n",
              "        requirejs.config({\n",
              "            paths: {\n",
              "                'plotly': ['https://cdn.plot.ly/plotly-latest.min']\n",
              "            }\n",
              "        });\n",
              "        require(['plotly'], function(Plotly) {\n",
              "            window._Plotly = Plotly;\n",
              "        });\n",
              "        }\n",
              "        </script>\n",
              "        "
            ]
          },
          "metadata": {
            "tags": []
          }
        }
      ]
    },
    {
      "cell_type": "code",
      "metadata": {
        "id": "2FgWy85GCjEz",
        "colab_type": "code",
        "outputId": "cba00a70-55ac-4915-f983-0b4714d83ec0",
        "colab": {
          "base_uri": "https://localhost:8080/",
          "height": 288
        }
      },
      "source": [
        "# Download historical prices from Yahoo using fix_yahoo_finance\n",
        "\n",
        "import fix_yahoo_finance as yf\n",
        "import datetime\n",
        "\n",
        "stocks = [\"AAPL\",\"MSFT\"]\n",
        "start = datetime.datetime(2012,5,31)\n",
        "end = datetime.datetime(2019,10,23)\n",
        "data = yf.download(stocks, start=start, end=end)\n",
        "\n",
        "display(stocks[:])\n",
        "data[:].head()"
      ],
      "execution_count": 11,
      "outputs": [
        {
          "output_type": "stream",
          "text": [
            "[*********************100%***********************]  2 of 2 downloaded\n"
          ],
          "name": "stdout"
        },
        {
          "output_type": "display_data",
          "data": {
            "text/plain": [
              "['AAPL', 'MSFT']"
            ]
          },
          "metadata": {
            "tags": []
          }
        },
        {
          "output_type": "execute_result",
          "data": {
            "text/html": [
              "<div>\n",
              "<style scoped>\n",
              "    .dataframe tbody tr th:only-of-type {\n",
              "        vertical-align: middle;\n",
              "    }\n",
              "\n",
              "    .dataframe tbody tr th {\n",
              "        vertical-align: top;\n",
              "    }\n",
              "\n",
              "    .dataframe thead tr th {\n",
              "        text-align: left;\n",
              "    }\n",
              "\n",
              "    .dataframe thead tr:last-of-type th {\n",
              "        text-align: right;\n",
              "    }\n",
              "</style>\n",
              "<table border=\"1\" class=\"dataframe\">\n",
              "  <thead>\n",
              "    <tr>\n",
              "      <th></th>\n",
              "      <th colspan=\"2\" halign=\"left\">Open</th>\n",
              "      <th colspan=\"2\" halign=\"left\">High</th>\n",
              "      <th colspan=\"2\" halign=\"left\">Low</th>\n",
              "      <th colspan=\"2\" halign=\"left\">Close</th>\n",
              "      <th colspan=\"2\" halign=\"left\">Adj Close</th>\n",
              "      <th colspan=\"2\" halign=\"left\">Volume</th>\n",
              "    </tr>\n",
              "    <tr>\n",
              "      <th></th>\n",
              "      <th>AAPL</th>\n",
              "      <th>MSFT</th>\n",
              "      <th>AAPL</th>\n",
              "      <th>MSFT</th>\n",
              "      <th>AAPL</th>\n",
              "      <th>MSFT</th>\n",
              "      <th>AAPL</th>\n",
              "      <th>MSFT</th>\n",
              "      <th>AAPL</th>\n",
              "      <th>MSFT</th>\n",
              "      <th>AAPL</th>\n",
              "      <th>MSFT</th>\n",
              "    </tr>\n",
              "    <tr>\n",
              "      <th>Date</th>\n",
              "      <th></th>\n",
              "      <th></th>\n",
              "      <th></th>\n",
              "      <th></th>\n",
              "      <th></th>\n",
              "      <th></th>\n",
              "      <th></th>\n",
              "      <th></th>\n",
              "      <th></th>\n",
              "      <th></th>\n",
              "      <th></th>\n",
              "      <th></th>\n",
              "    </tr>\n",
              "  </thead>\n",
              "  <tbody>\n",
              "    <tr>\n",
              "      <th>2012-05-31</th>\n",
              "      <td>82.962860</td>\n",
              "      <td>29.299999</td>\n",
              "      <td>83.071426</td>\n",
              "      <td>29.420000</td>\n",
              "      <td>81.637146</td>\n",
              "      <td>28.940001</td>\n",
              "      <td>82.532860</td>\n",
              "      <td>29.190001</td>\n",
              "      <td>72.027489</td>\n",
              "      <td>24.477589</td>\n",
              "      <td>122918600</td>\n",
              "      <td>39134000</td>\n",
              "    </tr>\n",
              "    <tr>\n",
              "      <th>2012-06-01</th>\n",
              "      <td>81.308571</td>\n",
              "      <td>28.760000</td>\n",
              "      <td>81.807144</td>\n",
              "      <td>28.959999</td>\n",
              "      <td>80.074287</td>\n",
              "      <td>28.440001</td>\n",
              "      <td>80.141426</td>\n",
              "      <td>28.450001</td>\n",
              "      <td>69.940491</td>\n",
              "      <td>23.857056</td>\n",
              "      <td>130246900</td>\n",
              "      <td>56634300</td>\n",
              "    </tr>\n",
              "    <tr>\n",
              "      <th>2012-06-04</th>\n",
              "      <td>80.214287</td>\n",
              "      <td>28.620001</td>\n",
              "      <td>81.071426</td>\n",
              "      <td>28.780001</td>\n",
              "      <td>78.357140</td>\n",
              "      <td>28.320000</td>\n",
              "      <td>80.612854</td>\n",
              "      <td>28.549999</td>\n",
              "      <td>70.351906</td>\n",
              "      <td>23.940908</td>\n",
              "      <td>139248900</td>\n",
              "      <td>47926300</td>\n",
              "    </tr>\n",
              "    <tr>\n",
              "      <th>2012-06-05</th>\n",
              "      <td>80.181427</td>\n",
              "      <td>28.510000</td>\n",
              "      <td>80.924286</td>\n",
              "      <td>28.750000</td>\n",
              "      <td>79.761429</td>\n",
              "      <td>28.389999</td>\n",
              "      <td>80.404289</td>\n",
              "      <td>28.510000</td>\n",
              "      <td>70.169876</td>\n",
              "      <td>23.907368</td>\n",
              "      <td>97053600</td>\n",
              "      <td>45715400</td>\n",
              "    </tr>\n",
              "    <tr>\n",
              "      <th>2012-06-06</th>\n",
              "      <td>81.110001</td>\n",
              "      <td>28.879999</td>\n",
              "      <td>81.978569</td>\n",
              "      <td>29.370001</td>\n",
              "      <td>80.785713</td>\n",
              "      <td>28.809999</td>\n",
              "      <td>81.637146</td>\n",
              "      <td>29.350000</td>\n",
              "      <td>71.245819</td>\n",
              "      <td>24.611753</td>\n",
              "      <td>100363900</td>\n",
              "      <td>46860500</td>\n",
              "    </tr>\n",
              "  </tbody>\n",
              "</table>\n",
              "</div>"
            ],
            "text/plain": [
              "                 Open                  High  ...  Adj Close     Volume          \n",
              "                 AAPL       MSFT       AAPL  ...       MSFT       AAPL      MSFT\n",
              "Date                                         ...                                \n",
              "2012-05-31  82.962860  29.299999  83.071426  ...  24.477589  122918600  39134000\n",
              "2012-06-01  81.308571  28.760000  81.807144  ...  23.857056  130246900  56634300\n",
              "2012-06-04  80.214287  28.620001  81.071426  ...  23.940908  139248900  47926300\n",
              "2012-06-05  80.181427  28.510000  80.924286  ...  23.907368   97053600  45715400\n",
              "2012-06-06  81.110001  28.879999  81.978569  ...  24.611753  100363900  46860500\n",
              "\n",
              "[5 rows x 12 columns]"
            ]
          },
          "metadata": {
            "tags": []
          },
          "execution_count": 11
        }
      ]
    },
    {
      "cell_type": "code",
      "metadata": {
        "id": "5cRznZo5JzVo",
        "colab_type": "code",
        "outputId": "d45d0af7-46a5-41c1-e8ae-2dba9b2e0b72",
        "colab": {
          "base_uri": "https://localhost:8080/",
          "height": 185
        }
      },
      "source": [
        "# Import historical index data from Yahoo using fix_yahoo_finance\n",
        "# Reference:  https://finance.yahoo.com/world-indices/\n",
        "\n",
        "import fix_yahoo_finance as yf\n",
        "\n",
        "indices = [\"^FTSE\",\"^STOXX50E\",\"^GSPC\"]\n",
        "start = datetime.datetime(2012,12,30)\n",
        "end = datetime.datetime(2019,10,22)\n",
        "data = yf.download(stocks, start=start, end=end, group_by = 'ticker')\n",
        "\n",
        "display(type(data[\"^FTSE\"]['Open'].tail()))\n",
        "display(indices)\n",
        "data[\"^FTSE\"]['Open'].tail(5)"
      ],
      "execution_count": 19,
      "outputs": [
        {
          "output_type": "stream",
          "text": [
            "[*********************100%***********************]  3 of 3 downloaded\n"
          ],
          "name": "stdout"
        },
        {
          "output_type": "display_data",
          "data": {
            "text/plain": [
              "pandas.core.series.Series"
            ]
          },
          "metadata": {
            "tags": []
          }
        },
        {
          "output_type": "display_data",
          "data": {
            "text/plain": [
              "['^FTSE', '^STOXX50E', '^GSPC']"
            ]
          },
          "metadata": {
            "tags": []
          }
        },
        {
          "output_type": "execute_result",
          "data": {
            "text/plain": [
              "Date\n",
              "2019-10-16    7211.600098\n",
              "2019-10-17    7168.000000\n",
              "2019-10-18    7182.299805\n",
              "2019-10-21    7150.600098\n",
              "2019-10-22    7163.600098\n",
              "Name: Open, dtype: float64"
            ]
          },
          "metadata": {
            "tags": []
          },
          "execution_count": 19
        }
      ]
    },
    {
      "cell_type": "code",
      "metadata": {
        "id": "-SK1KgL3La8u",
        "colab_type": "code",
        "colab": {
          "base_uri": "https://localhost:8080/",
          "height": 353
        },
        "outputId": "277b7851-d5ff-4464-b09e-6f2e95b9179d"
      },
      "source": [
        "pip install yfinance --upgrade --no-cache-dir"
      ],
      "execution_count": 22,
      "outputs": [
        {
          "output_type": "stream",
          "text": [
            "Collecting yfinance\n",
            "  Downloading https://files.pythonhosted.org/packages/53/0e/40387099824c98be22cd7e33a620e9d38b61998b031f0b33f0b9959717d2/yfinance-0.1.45.tar.gz\n",
            "Requirement already satisfied, skipping upgrade: pandas>=0.24 in /usr/local/lib/python3.6/dist-packages (from yfinance) (0.25.2)\n",
            "Requirement already satisfied, skipping upgrade: numpy>=1.15 in /usr/local/lib/python3.6/dist-packages (from yfinance) (1.17.3)\n",
            "Requirement already satisfied, skipping upgrade: requests>=2.20 in /usr/local/lib/python3.6/dist-packages (from yfinance) (2.21.0)\n",
            "Requirement already satisfied, skipping upgrade: multitasking>=0.0.7 in /usr/local/lib/python3.6/dist-packages (from yfinance) (0.0.9)\n",
            "Requirement already satisfied, skipping upgrade: pytz>=2017.2 in /usr/local/lib/python3.6/dist-packages (from pandas>=0.24->yfinance) (2018.9)\n",
            "Requirement already satisfied, skipping upgrade: python-dateutil>=2.6.1 in /usr/local/lib/python3.6/dist-packages (from pandas>=0.24->yfinance) (2.6.1)\n",
            "Requirement already satisfied, skipping upgrade: idna<2.9,>=2.5 in /usr/local/lib/python3.6/dist-packages (from requests>=2.20->yfinance) (2.8)\n",
            "Requirement already satisfied, skipping upgrade: certifi>=2017.4.17 in /usr/local/lib/python3.6/dist-packages (from requests>=2.20->yfinance) (2019.9.11)\n",
            "Requirement already satisfied, skipping upgrade: urllib3<1.25,>=1.21.1 in /usr/local/lib/python3.6/dist-packages (from requests>=2.20->yfinance) (1.24.3)\n",
            "Requirement already satisfied, skipping upgrade: chardet<3.1.0,>=3.0.2 in /usr/local/lib/python3.6/dist-packages (from requests>=2.20->yfinance) (3.0.4)\n",
            "Requirement already satisfied, skipping upgrade: six>=1.5 in /usr/local/lib/python3.6/dist-packages (from python-dateutil>=2.6.1->pandas>=0.24->yfinance) (1.12.0)\n",
            "Building wheels for collected packages: yfinance\n",
            "  Building wheel for yfinance (setup.py) ... \u001b[?25l\u001b[?25hdone\n",
            "  Created wheel for yfinance: filename=yfinance-0.1.45-cp36-none-any.whl size=14652 sha256=aefc4cdaece6eab18000ec3e3bc7d4739515e060d114b291995cabe7bb1efcac\n",
            "  Stored in directory: /tmp/pip-ephem-wheel-cache-pusmm7hi/wheels/0c/d1/df/aa9a7744a4ac353cc9a1f2c3aaea7c1f457fc49de4286f2d88\n",
            "Successfully built yfinance\n",
            "Installing collected packages: yfinance\n",
            "Successfully installed yfinance-0.1.45\n"
          ],
          "name": "stdout"
        }
      ]
    },
    {
      "cell_type": "code",
      "metadata": {
        "id": "ZivHGaeLTaGW",
        "colab_type": "code",
        "outputId": "f27c3b39-f84b-4cc3-fdd0-7254115722f3",
        "colab": {
          "base_uri": "https://localhost:8080/",
          "height": 502
        }
      },
      "source": [
        "# Calculate index performance using yfinance\n",
        "import yfinance as yf\n",
        "import matplotlib.pyplot as plt\n",
        "%matplotlib inline\n",
        "\n",
        "stocks = '^FTSE ^STOXX50E ^GSPC HISFX'\n",
        "end_date = '2019-08-01'\n",
        "start_date = '2016-01-01'\n",
        "\n",
        "data = yf.download(stocks,start_date,end_date)\n",
        "\n",
        "data['Adj Close'].plot()\n",
        "display(data['Adj Close'].tail())\n",
        "plt.show()"
      ],
      "execution_count": 41,
      "outputs": [
        {
          "output_type": "stream",
          "text": [
            "[*********************100%***********************]  4 of 4 downloaded\n"
          ],
          "name": "stdout"
        },
        {
          "output_type": "display_data",
          "data": {
            "text/html": [
              "<div>\n",
              "<style scoped>\n",
              "    .dataframe tbody tr th:only-of-type {\n",
              "        vertical-align: middle;\n",
              "    }\n",
              "\n",
              "    .dataframe tbody tr th {\n",
              "        vertical-align: top;\n",
              "    }\n",
              "\n",
              "    .dataframe thead th {\n",
              "        text-align: right;\n",
              "    }\n",
              "</style>\n",
              "<table border=\"1\" class=\"dataframe\">\n",
              "  <thead>\n",
              "    <tr style=\"text-align: right;\">\n",
              "      <th></th>\n",
              "      <th>HISFX</th>\n",
              "      <th>^FTSE</th>\n",
              "      <th>^GSPC</th>\n",
              "      <th>^STOXX50E</th>\n",
              "    </tr>\n",
              "    <tr>\n",
              "      <th>Date</th>\n",
              "      <th></th>\n",
              "      <th></th>\n",
              "      <th></th>\n",
              "      <th></th>\n",
              "    </tr>\n",
              "  </thead>\n",
              "  <tbody>\n",
              "    <tr>\n",
              "      <th>2019-07-26</th>\n",
              "      <td>12.91</td>\n",
              "      <td>7549.1</td>\n",
              "      <td>3025.86</td>\n",
              "      <td>3524.47</td>\n",
              "    </tr>\n",
              "    <tr>\n",
              "      <th>2019-07-29</th>\n",
              "      <td>12.78</td>\n",
              "      <td>7686.6</td>\n",
              "      <td>3020.97</td>\n",
              "      <td>3523.58</td>\n",
              "    </tr>\n",
              "    <tr>\n",
              "      <th>2019-07-30</th>\n",
              "      <td>12.94</td>\n",
              "      <td>7646.8</td>\n",
              "      <td>3013.18</td>\n",
              "      <td>3462.85</td>\n",
              "    </tr>\n",
              "    <tr>\n",
              "      <th>2019-07-31</th>\n",
              "      <td>12.89</td>\n",
              "      <td>7586.8</td>\n",
              "      <td>2980.38</td>\n",
              "      <td>3466.85</td>\n",
              "    </tr>\n",
              "    <tr>\n",
              "      <th>2019-08-01</th>\n",
              "      <td>NaN</td>\n",
              "      <td>7584.9</td>\n",
              "      <td>NaN</td>\n",
              "      <td>NaN</td>\n",
              "    </tr>\n",
              "  </tbody>\n",
              "</table>\n",
              "</div>"
            ],
            "text/plain": [
              "            HISFX   ^FTSE    ^GSPC  ^STOXX50E\n",
              "Date                                         \n",
              "2019-07-26  12.91  7549.1  3025.86    3524.47\n",
              "2019-07-29  12.78  7686.6  3020.97    3523.58\n",
              "2019-07-30  12.94  7646.8  3013.18    3462.85\n",
              "2019-07-31  12.89  7586.8  2980.38    3466.85\n",
              "2019-08-01    NaN  7584.9      NaN        NaN"
            ]
          },
          "metadata": {
            "tags": []
          }
        },
        {
          "output_type": "display_data",
          "data": {
            "image/png": "[encoded data removed]",
            "text/plain": [
              "<Figure size 432x288 with 1 Axes>"
            ]
          },
          "metadata": {
            "tags": []
          }
        }
      ]
    },
    {
      "cell_type": "code",
      "metadata": {
        "id": "VaIOOSV9QjSq",
        "colab_type": "code",
        "colab": {
          "base_uri": "https://localhost:8080/",
          "height": 67
        },
        "outputId": "7c3f0f3a-f827-4108-f9d5-063caa548f65"
      },
      "source": [
        "pip install yahoofinancials"
      ],
      "execution_count": 32,
      "outputs": [
        {
          "output_type": "stream",
          "text": [
            "Requirement already satisfied: yahoofinancials in /usr/local/lib/python3.6/dist-packages (1.5)\n",
            "Requirement already satisfied: pytz in /usr/local/lib/python3.6/dist-packages (from yahoofinancials) (2018.9)\n",
            "Requirement already satisfied: beautifulsoup4 in /usr/local/lib/python3.6/dist-packages (from yahoofinancials) (4.6.3)\n"
          ],
          "name": "stdout"
        }
      ]
    },
    {
      "cell_type": "code",
      "metadata": {
        "id": "aOWBM4DeZf4Q",
        "colab_type": "code",
        "outputId": "ec0b8ef8-acc1-4b70-8b1c-4bdea4a8b41b",
        "colab": {
          "base_uri": "https://localhost:8080/",
          "height": 460
        }
      },
      "source": [
        "# Historical fund prices from yahoofinancials\n",
        "# Reference for funds https://pypi.org/project/yahoofinancials/\n",
        "\n",
        "from yahoofinancials import YahooFinancials\n",
        "\n",
        "start_date = '2008-09-15'\n",
        "end_date = '2018-09-15'\n",
        "freq = 'daily'\n",
        "\n",
        "mutual_funds = ['HISFX', 'QASGX', 'PRLAX']\n",
        "yahoo_financials_mutualfunds = YahooFinancials(mutual_funds)\n",
        "daily_mutualfund_prices = yahoo_financials_mutualfunds.get_historical_price_data(start_date, end_date, freq)\n",
        "\n",
        "i=1\n",
        "\n",
        "date_vec = []\n",
        "price_vec_1 = []\n",
        "\n",
        "for i in range(100):\n",
        "  date_vec.append(daily_mutualfund_prices['HISFX']['prices'][i]['formatted_date'])\n",
        "  price_vec_1.append(daily_mutualfund_prices['HISFX']['prices'][i]['close'])\n",
        "\n",
        "import pandas as pd\n",
        "df_histprices = pd.DataFrame()\n",
        "df_histprices['Dates'] = date_vec\n",
        "df_histprices['Prices'] = price_vec_1\n",
        "\n",
        "display(df_histprices.shape)\n",
        "display(df_histprices.head())\n",
        "\n",
        "# Plot graph\n",
        "import matplotlib.pyplot as plt\n",
        "%matplotlib inline\n",
        "\n",
        "df_histprices['Prices'].plot()\n",
        "plt.show()"
      ],
      "execution_count": 40,
      "outputs": [
        {
          "output_type": "display_data",
          "data": {
            "text/plain": [
              "(100, 2)"
            ]
          },
          "metadata": {
            "tags": []
          }
        },
        {
          "output_type": "display_data",
          "data": {
            "text/html": [
              "<div>\n",
              "<style scoped>\n",
              "    .dataframe tbody tr th:only-of-type {\n",
              "        vertical-align: middle;\n",
              "    }\n",
              "\n",
              "    .dataframe tbody tr th {\n",
              "        vertical-align: top;\n",
              "    }\n",
              "\n",
              "    .dataframe thead th {\n",
              "        text-align: right;\n",
              "    }\n",
              "</style>\n",
              "<table border=\"1\" class=\"dataframe\">\n",
              "  <thead>\n",
              "    <tr style=\"text-align: right;\">\n",
              "      <th></th>\n",
              "      <th>Dates</th>\n",
              "      <th>Prices</th>\n",
              "    </tr>\n",
              "  </thead>\n",
              "  <tbody>\n",
              "    <tr>\n",
              "      <th>0</th>\n",
              "      <td>2008-09-15</td>\n",
              "      <td>10.13</td>\n",
              "    </tr>\n",
              "    <tr>\n",
              "      <th>1</th>\n",
              "      <td>2008-09-16</td>\n",
              "      <td>10.56</td>\n",
              "    </tr>\n",
              "    <tr>\n",
              "      <th>2</th>\n",
              "      <td>2008-09-17</td>\n",
              "      <td>10.04</td>\n",
              "    </tr>\n",
              "    <tr>\n",
              "      <th>3</th>\n",
              "      <td>2008-09-18</td>\n",
              "      <td>11.26</td>\n",
              "    </tr>\n",
              "    <tr>\n",
              "      <th>4</th>\n",
              "      <td>2008-09-19</td>\n",
              "      <td>11.72</td>\n",
              "    </tr>\n",
              "  </tbody>\n",
              "</table>\n",
              "</div>"
            ],
            "text/plain": [
              "        Dates  Prices\n",
              "0  2008-09-15   10.13\n",
              "1  2008-09-16   10.56\n",
              "2  2008-09-17   10.04\n",
              "3  2008-09-18   11.26\n",
              "4  2008-09-19   11.72"
            ]
          },
          "metadata": {
            "tags": []
          }
        },
        {
          "output_type": "display_data",
          "data": {
            "image/png": "[encoded data removed]",
            "text/plain": [
              "<Figure size 432x288 with 1 Axes>"
            ]
          },
          "metadata": {
            "tags": []
          }
        }
      ]
    },
    {
      "cell_type": "code",
      "metadata": {
        "id": "V8yR_L1uQnZS",
        "colab_type": "code",
        "colab": {}
      },
      "source": [
        ""
      ],
      "execution_count": 0,
      "outputs": []
    }
  ]
}