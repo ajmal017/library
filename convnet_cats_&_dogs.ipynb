{
  "nbformat": 4,
  "nbformat_minor": 0,
  "metadata": {
    "colab": {
      "name": "convnet_cats_&_dogs.ipynb",
      "provenance": [],
      "collapsed_sections": [],
      "authorship_tag": "ABX9TyOefJYKyui9LHexjYZXF8F0",
      "include_colab_link": true
    },
    "kernelspec": {
      "name": "python3",
      "display_name": "Python 3"
    }
  },
  "cells": [
    {
      "cell_type": "markdown",
      "metadata": {
        "id": "view-in-github",
        "colab_type": "text"
      },
      "source": [
        "<a href=\"https://colab.research.google.com/github/rhysdavies21/library/blob/master/convnet_cats_%26_dogs.ipynb\" target=\"_parent\"><img src=\"https://colab.research.google.com/assets/colab-badge.svg\" alt=\"Open In Colab\"/></a>"
      ]
    },
    {
      "cell_type": "markdown",
      "metadata": {
        "id": "yhT9wI6EOt2s",
        "colab_type": "text"
      },
      "source": [
        "### **Convolutional Neural Network to identify cats versus dogs (Kaggle competition)**"
      ]
    },
    {
      "cell_type": "markdown",
      "metadata": {
        "id": "mYN1SKO7OueC",
        "colab_type": "text"
      },
      "source": [
        "*Data source:* \n",
        "https://www.kaggle.com/c/dogs-vs-cats/data\n",
        "\n",
        "*Reference: Chollet 5.2.2*\n",
        "\n",
        "Instructions: Download Kaggle data and copy and paste into \"cats_and_dogs_all\" after running section 2 which generates the directories"
      ]
    },
    {
      "cell_type": "markdown",
      "metadata": {
        "id": "uUySyfrRP5EG",
        "colab_type": "text"
      },
      "source": [
        "**1. Import libraries**"
      ]
    },
    {
      "cell_type": "code",
      "metadata": {
        "id": "u-fuHLOgOxrd",
        "colab_type": "code",
        "colab": {
          "base_uri": "https://localhost:8080/",
          "height": 50
        },
        "outputId": "7dee001a-8216-45e7-d5ff-b1c3d010f7a9"
      },
      "source": [
        "# Import library\n",
        "import os, shutil\n",
        "print('Operating system: ', os.name)\n",
        "print('Get current working directory: ', os.getcwd()) "
      ],
      "execution_count": 21,
      "outputs": [
        {
          "output_type": "stream",
          "text": [
            "Operating system:  posix\n",
            "Get current working directory:  /content\n"
          ],
          "name": "stdout"
        }
      ]
    },
    {
      "cell_type": "markdown",
      "metadata": {
        "id": "_11J3uD9P_8G",
        "colab_type": "text"
      },
      "source": [
        "**2. Create directories for data**"
      ]
    },
    {
      "cell_type": "code",
      "metadata": {
        "id": "_bWPT3BL_Xda",
        "colab_type": "code",
        "colab": {}
      },
      "source": [
        "# Create directory for raw data\n",
        "top_dir = '/content'\n",
        "full_kaggle_dir =  os.path.join(top_dir, 'cats_and_dogs_all')\n",
        "os.mkdir(full_kaggle_dir)\n",
        "\n",
        "# Create directory for train, test, split\n",
        "base_dir = '/content/cats_and_dogs_subset'\n",
        "os.mkdir(base_dir)\n",
        "\n",
        "# Create sub directories for train, test, split\n",
        "# Training\n",
        "train_dir = os.path.join(base_dir, 'train')\n",
        "os.mkdir(train_dir)\n",
        "\n",
        "# Validating\n",
        "validation_dir =  os.path.join(base_dir, 'validation')\n",
        "os.mkdir(validation_dir)\n",
        "\n",
        "# Testing\n",
        "test_dir = os.path.join(base_dir, 'test')\n",
        "os.mkdir(test_dir)\n",
        "\n",
        "# Create directories for assigning cat images and dog images\n",
        "# Train\n",
        "train_cats_dir = os.path.join(train_dir, 'cats')\n",
        "os.mkdir(train_cats_dir)\n",
        "\n",
        "train_dogs_dir = os.path.join(train_dir, 'dogs')\n",
        "os.mkdir(train_dogs_dir)\n",
        "\n",
        "# Validation\n",
        "validation_cats_dir = os.path.join(validation_dir, 'cats')\n",
        "os.mkdir(validation_cats_dir)\n",
        "\n",
        "validation_dogs_dir = os.path.join(validation_dir, 'dogs')\n",
        "os.mkdir(validation_dogs_dir)\n",
        "\n",
        "# Testing\n",
        "test_cats_dir = os.path.join(test_dir, 'cats')\n",
        "os.mkdir(test_cats_dir)\n",
        "\n",
        "test_dogs_dir = os.path.join(test_dir, 'dogs')\n",
        "os.mkdir(test_dogs_dir)"
      ],
      "execution_count": 0,
      "outputs": []
    },
    {
      "cell_type": "markdown",
      "metadata": {
        "id": "YL1mSUH8RIyG",
        "colab_type": "text"
      },
      "source": [
        "**3. Import data and assign to folders**"
      ]
    },
    {
      "cell_type": "code",
      "metadata": {
        "id": "nPELjjvuCH9C",
        "colab_type": "code",
        "colab": {}
      },
      "source": [
        "# Copies images to assigned folders\n",
        "\n",
        "# Cats / Training\n",
        "fnames = ['cat.{}.jpg'.format(i) for i in range(1, 500)]\n",
        "for fname in fnames:\n",
        "  src = os.path.join(full_kaggle_dir, fname)\n",
        "  dst = os.path.join(train_cats_dir, fname)\n",
        "  shutil.copyfile(src, dst)\n",
        "\n",
        "# Cats / Validation\n",
        "fnames = ['cat.{}.jpg'.format(i) for i in range(501, 700)]\n",
        "for fname in fnames:\n",
        "  src = os.path.join(full_kaggle_dir, fname)\n",
        "  dst = os.path.join(validation_cats_dir, fname)\n",
        "  shutil.copyfile(src, dst)\n",
        "\n",
        "# Cats / Testing\n",
        "fnames = ['cat.{}.jpg'.format(i) for i in range(701, 999)]\n",
        "for fname in fnames:\n",
        "  src = os.path.join(full_kaggle_dir, fname)\n",
        "  dst = os.path.join(test_cats_dir, fname)\n",
        "  shutil.copyfile(src, dst)\n",
        "\n",
        "# Dogs / Training\n",
        "fnames = ['dog.{}.jpg'.format(i) for i in range(1, 500)]\n",
        "for fname in fnames:\n",
        "  src = os.path.join(full_kaggle_dir, fname)\n",
        "  dst = os.path.join(train_dogs_dir, fname)\n",
        "  shutil.copyfile(src, dst)\n",
        "\n",
        "# Dogs / Validation\n",
        "fnames = ['dog.{}.jpg'.format(i) for i in range(501, 700)]\n",
        "for fname in fnames:\n",
        "  src = os.path.join(full_kaggle_dir, fname)\n",
        "  dst = os.path.join(validation_dogs_dir, fname)\n",
        "  shutil.copyfile(src, dst)\n",
        "\n",
        "# Dogs / Testing\n",
        "fnames = ['dog.{}.jpg'.format(i) for i in range(701, 999)]\n",
        "for fname in fnames:\n",
        "  src = os.path.join(full_kaggle_dir, fname)\n",
        "  dst = os.path.join(test_dogs_dir, fname)\n",
        "  shutil.copyfile(src, dst)"
      ],
      "execution_count": 0,
      "outputs": []
    },
    {
      "cell_type": "code",
      "metadata": {
        "id": "S4my59hZCgml",
        "colab_type": "code",
        "outputId": "3bbfb694-5923-4f60-b065-0248e2951c28",
        "colab": {
          "base_uri": "https://localhost:8080/",
          "height": 118
        }
      },
      "source": [
        "# Review files\n",
        "\n",
        "# Training\n",
        "print('total training cat images:', len(os.listdir(train_cats_dir)))\n",
        "print('total training dog images:', len(os.listdir(train_dogs_dir)))\n",
        "\n",
        "# Validation\n",
        "print('total validation cat images:', len(os.listdir(validation_cats_dir)))\n",
        "print('total validation dog images:', len(os.listdir(validation_dogs_dir)))\n",
        "\n",
        "# Testing\n",
        "print('total test cat images:', len(os.listdir(test_cats_dir)))\n",
        "print('total test dog images:', len(os.listdir(test_dogs_dir)))"
      ],
      "execution_count": 15,
      "outputs": [
        {
          "output_type": "stream",
          "text": [
            "total training cat images: 499\n",
            "total training dog images: 499\n",
            "total validation cat images: 199\n",
            "total validation dog images: 199\n",
            "total test cat images: 298\n",
            "total test dog images: 298\n"
          ],
          "name": "stdout"
        }
      ]
    }
  ]
}