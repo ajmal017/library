{
  "nbformat": 4,
  "nbformat_minor": 0,
  "metadata": {
    "colab": {
      "name": "mnist_numeric_recognition_keras_nn.ipynb",
      "provenance": [],
      "collapsed_sections": [],
      "include_colab_link": true
    },
    "kernelspec": {
      "name": "python3",
      "display_name": "Python 3"
    }
  },
  "cells": [
    {
      "cell_type": "markdown",
      "metadata": {
        "id": "view-in-github",
        "colab_type": "text"
      },
      "source": [
        "<a href=\"https://colab.research.google.com/github/rhysdavies21/library/blob/master/mnist_numeric_recognition_keras_nn.ipynb\" target=\"_parent\"><img src=\"https://colab.research.google.com/assets/colab-badge.svg\" alt=\"Open In Colab\"/></a>"
      ]
    },
    {
      "cell_type": "markdown",
      "metadata": {
        "id": "BxVJ-A2BKNpD",
        "colab_type": "text"
      },
      "source": [
        "## **Image recognition using MNIST library**"
      ]
    },
    {
      "cell_type": "markdown",
      "metadata": {
        "id": "AyZIJfLNaJ9y",
        "colab_type": "text"
      },
      "source": [
        "**1. Data import and review**"
      ]
    },
    {
      "cell_type": "code",
      "metadata": {
        "id": "gvBJvYtJ71tQ",
        "colab_type": "code",
        "outputId": "e1168b36-5362-48f1-9618-05fd220c14c1",
        "colab": {
          "base_uri": "https://localhost:8080/",
          "height": 79
        }
      },
      "source": [
        "# Load libraries\n",
        "from keras.datasets import mnist\n",
        "import numpy as np\n",
        "import matplotlib.pyplot as plt\n",
        "\n",
        "from keras import models\n",
        "from keras import layers\n",
        "\n",
        "from keras.utils import to_categorical"
      ],
      "execution_count": 1,
      "outputs": [
        {
          "output_type": "stream",
          "text": [
            "Using TensorFlow backend.\n"
          ],
          "name": "stderr"
        },
        {
          "output_type": "display_data",
          "data": {
            "text/html": [
              "<p style=\"color: red;\">\n",
              "The default version of TensorFlow in Colab will soon switch to TensorFlow 2.x.<br>\n",
              "We recommend you <a href=\"https://www.tensorflow.org/guide/migrate\" target=\"_blank\">upgrade</a> now \n",
              "or ensure your notebook will continue to use TensorFlow 1.x via the <code>%tensorflow_version 1.x</code> magic:\n",
              "<a href=\"https://colab.research.google.com/notebooks/tensorflow_version.ipynb\" target=\"_blank\">more info</a>.</p>\n"
            ],
            "text/plain": [
              "<IPython.core.display.HTML object>"
            ]
          },
          "metadata": {
            "tags": []
          }
        }
      ]
    },
    {
      "cell_type": "code",
      "metadata": {
        "id": "a2oJ8zJyL9x1",
        "colab_type": "code",
        "colab": {}
      },
      "source": [
        "class color:\n",
        "   BOLD = '\\033[1m'\n",
        "   UNDERLINE = '\\033[4m'\n",
        "   END = '\\033[0m'"
      ],
      "execution_count": 0,
      "outputs": []
    },
    {
      "cell_type": "code",
      "metadata": {
        "id": "xVLDxFCqKPKR",
        "colab_type": "code",
        "colab": {}
      },
      "source": [
        "# Import data\n",
        "(train_images, train_labels), (test_images, test_labels) = mnist.load_data()"
      ],
      "execution_count": 0,
      "outputs": []
    },
    {
      "cell_type": "code",
      "metadata": {
        "id": "5hxvJ22pLB7K",
        "colab_type": "code",
        "outputId": "d0d5bb2f-06ec-4160-c297-bb6873b09789",
        "colab": {
          "base_uri": "https://localhost:8080/",
          "height": 403
        }
      },
      "source": [
        "# Review data\n",
        "print(color.BOLD+'train_images:'+color.END)\n",
        "print('Shape: ', train_images.shape)\n",
        "print('Type: ', type(train_images))\n",
        "print('dtype: ', train_images.dtype)\n",
        "print('ndim: ', train_images.ndim)\n",
        "\n",
        "print(color.BOLD+'\\ntrain_labels:'+color.END)\n",
        "print('Shape: ', train_labels.shape)\n",
        "print('Type: ', type(train_labels))\n",
        "print('dtype: ', train_labels.dtype)\n",
        "print('ndim: ', train_labels.ndim)\n",
        "\n",
        "print(color.BOLD+'\\ntest_images:'+color.END)\n",
        "print('Shape: ', test_images.shape)\n",
        "print('Type: ', type(test_images))\n",
        "print('dtype: ', test_images.dtype)\n",
        "print('ndim: ', test_images.ndim)\n",
        "\n",
        "print(color.BOLD+'\\ntest_labels:'+color.END)\n",
        "print('Shape: ', test_labels.shape)\n",
        "print('Type: ', type(test_labels))\n",
        "print('dtype: ', test_labels.dtype)\n",
        "print('ndim: ', test_labels.ndim)"
      ],
      "execution_count": 4,
      "outputs": [
        {
          "output_type": "stream",
          "text": [
            "\u001b[1mtrain_images:\u001b[0m\n",
            "Shape:  (60000, 28, 28)\n",
            "Type:  <class 'numpy.ndarray'>\n",
            "dtype:  uint8\n",
            "ndim:  3\n",
            "\u001b[1m\n",
            "train_labels:\u001b[0m\n",
            "Shape:  (60000,)\n",
            "Type:  <class 'numpy.ndarray'>\n",
            "dtype:  uint8\n",
            "ndim:  1\n",
            "\u001b[1m\n",
            "test_images:\u001b[0m\n",
            "Shape:  (10000, 28, 28)\n",
            "Type:  <class 'numpy.ndarray'>\n",
            "dtype:  uint8\n",
            "ndim:  3\n",
            "\u001b[1m\n",
            "test_labels:\u001b[0m\n",
            "Shape:  (10000,)\n",
            "Type:  <class 'numpy.ndarray'>\n",
            "dtype:  uint8\n",
            "ndim:  1\n"
          ],
          "name": "stdout"
        }
      ]
    },
    {
      "cell_type": "code",
      "metadata": {
        "id": "qN_6CRp-8Kk4",
        "colab_type": "code",
        "outputId": "9b080cbc-fd54-46f3-e95d-501d3d331e2f",
        "colab": {
          "base_uri": "https://localhost:8080/",
          "height": 604
        }
      },
      "source": [
        "# Review examples\n",
        "print(color.BOLD+color.UNDERLINE+'\\nReview train_images'+color.END)\n",
        "fig=plt.figure(figsize=(4, 4))\n",
        "columns = 2\n",
        "rows = 2\n",
        "for i in range(1, columns*rows+1):\n",
        "    img = train_images[i-1]\n",
        "    fig.add_subplot(rows, columns, i)\n",
        "    plt.imshow(img)\n",
        "    plt.title('train_images['+str(i-1)+']')\n",
        "    plt.subplots_adjust(top = 0.75, bottom=0.01, hspace=0.5, wspace=0.4)    \n",
        "plt.show()\n",
        "\n",
        "print(color.BOLD+color.UNDERLINE+'\\nReview test_images'+color.END)\n",
        "fig=plt.figure(figsize=(4, 4))\n",
        "columns = 2\n",
        "rows = 2\n",
        "for i in range(1, columns*rows+1):\n",
        "    img = test_images[i-1]\n",
        "    fig.add_subplot(rows, columns, i)\n",
        "    plt.imshow(img)\n",
        "    plt.title('test_images['+str(i-1)+']')\n",
        "    plt.subplots_adjust(top = 0.75, bottom=0.01, hspace=0.5, wspace=0.4)    \n",
        "plt.show()"
      ],
      "execution_count": 5,
      "outputs": [
        {
          "output_type": "stream",
          "text": [
            "\u001b[1m\u001b[4m\n",
            "Review train_images\u001b[0m\n"
          ],
          "name": "stdout"
        },
        {
          "output_type": "display_data",
          "data": {
            "image/png": "[encoded data removed]",
            "text/plain": [
              "<Figure size 288x288 with 4 Axes>"
            ]
          },
          "metadata": {
            "tags": []
          }
        },
        {
          "output_type": "stream",
          "text": [
            "\u001b[1m\u001b[4m\n",
            "Review test_images\u001b[0m\n"
          ],
          "name": "stdout"
        },
        {
          "output_type": "display_data",
          "data": {
            "image/png": "[encoded data removed]",
            "text/plain": [
              "<Figure size 288x288 with 4 Axes>"
            ]
          },
          "metadata": {
            "tags": []
          }
        }
      ]
    },
    {
      "cell_type": "markdown",
      "metadata": {
        "id": "pGIFsAELaSQu",
        "colab_type": "text"
      },
      "source": [
        "**2. Neural Network construction**"
      ]
    },
    {
      "cell_type": "code",
      "metadata": {
        "id": "5aZD-mtOxFwI",
        "colab_type": "code",
        "colab": {
          "base_uri": "https://localhost:8080/",
          "height": 84
        },
        "outputId": "3f8364d5-9a7c-4758-8a28-f16ff76e5f6b"
      },
      "source": [
        "# Prepare image data\n",
        "train_images = train_images.reshape((60000, 28*28))\n",
        "train_images = train_images.astype('float32') / 255\n",
        "\n",
        "test_images = test_images.reshape((10000, 28*28))\n",
        "test_images = test_images.astype('float32') / 255\n",
        "\n",
        "# Prepare labels\n",
        "train_labels = to_categorical(train_labels)\n",
        "test_labels = to_categorical(test_labels)\n",
        "\n",
        "# Review data\n",
        "print('Shape of train_images', train_images.shape)\n",
        "print('Shape of train_labels', train_labels.shape)\n",
        "print('Shape of test_images', test_images.shape)\n",
        "print('Shape of test_labels', test_labels.shape)"
      ],
      "execution_count": 6,
      "outputs": [
        {
          "output_type": "stream",
          "text": [
            "Shape of train_images (60000, 784)\n",
            "Shape of train_labels (60000, 10)\n",
            "Shape of test_images (10000, 784)\n",
            "Shape of test_labels (10000, 10)\n"
          ],
          "name": "stdout"
        }
      ]
    },
    {
      "cell_type": "code",
      "metadata": {
        "id": "fpPYy4JHxhN2",
        "colab_type": "code",
        "colab": {
          "base_uri": "https://localhost:8080/",
          "height": 202
        },
        "outputId": "12d9fd1c-86e2-4a2c-9ee2-48831096f74a"
      },
      "source": [
        "# Construct network architecture\n",
        "network = models.Sequential()\n",
        "network.add(layers.Dense(512, activation='relu', input_shape=(28 * 28,)))\n",
        "network.add(layers.Dense(10, activation='softmax'))\n",
        "\n",
        "# Network compilation\n",
        "# categorical_crossentropy is loss function as feedback sigal for learning the weight \n",
        "# tensors. Reduction of loss happens via minibatch stochastic gradient descent. Rules governing\n",
        "# gradient descent defined in rmsprop \n",
        "network.compile(optimizer='rmsprop',\n",
        "                loss='categorical_crossentropy',\n",
        "                metrics=['accuracy'])\n",
        "\n",
        "# Training loop\n",
        "network.fit(train_images, train_labels, epochs=5, batch_size=128)"
      ],
      "execution_count": 10,
      "outputs": [
        {
          "output_type": "stream",
          "text": [
            "Epoch 1/5\n",
            "60000/60000 [==============================] - 6s 104us/step - loss: 0.2625 - acc: 0.9237\n",
            "Epoch 2/5\n",
            "60000/60000 [==============================] - 5s 86us/step - loss: 0.1093 - acc: 0.9680\n",
            "Epoch 3/5\n",
            "60000/60000 [==============================] - 5s 83us/step - loss: 0.0722 - acc: 0.9788\n",
            "Epoch 4/5\n",
            "60000/60000 [==============================] - 5s 83us/step - loss: 0.0520 - acc: 0.9842\n",
            "Epoch 5/5\n",
            "60000/60000 [==============================] - 5s 83us/step - loss: 0.0406 - acc: 0.9877\n"
          ],
          "name": "stdout"
        },
        {
          "output_type": "execute_result",
          "data": {
            "text/plain": [
              "<keras.callbacks.History at 0x7f18ffc3c710>"
            ]
          },
          "metadata": {
            "tags": []
          },
          "execution_count": 10
        }
      ]
    },
    {
      "cell_type": "code",
      "metadata": {
        "id": "SMMQlNXg3Uz4",
        "colab_type": "code",
        "colab": {
          "base_uri": "https://localhost:8080/",
          "height": 67
        },
        "outputId": "f7ba0a81-cc7b-4f0a-dfbd-157f24a445c1"
      },
      "source": [
        "test_loss, test_acc = network.evaluate(test_images, test_labels)\n",
        "print('test_loss: ', test_loss)\n",
        "print('test_acc: ', test_acc)"
      ],
      "execution_count": 11,
      "outputs": [
        {
          "output_type": "stream",
          "text": [
            "10000/10000 [==============================] - 1s 71us/step\n",
            "test_loss:  0.06856753133774036\n",
            "test_acc:  0.9799\n"
          ],
          "name": "stdout"
        }
      ]
    }
  ]
}