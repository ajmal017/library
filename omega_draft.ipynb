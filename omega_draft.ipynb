{
  "nbformat": 4,
  "nbformat_minor": 0,
  "metadata": {
    "colab": {
      "name": "Untitled13.ipynb",
      "provenance": [],
      "collapsed_sections": [],
      "include_colab_link": true
    },
    "kernelspec": {
      "name": "python3",
      "display_name": "Python 3"
    }
  },
  "cells": [
    {
      "cell_type": "markdown",
      "metadata": {
        "id": "view-in-github",
        "colab_type": "text"
      },
      "source": [
        "<a href=\"https://colab.research.google.com/github/rhysdavies21/library/blob/master/omega_draft.ipynb\" target=\"_parent\"><img src=\"https://colab.research.google.com/assets/colab-badge.svg\" alt=\"Open In Colab\"/></a>"
      ]
    },
    {
      "cell_type": "markdown",
      "metadata": {
        "id": "3Qhd-hF-sFns",
        "colab_type": "text"
      },
      "source": [
        "Comparing the Omega Measure across asset class"
      ]
    },
    {
      "cell_type": "code",
      "metadata": {
        "id": "q0hgJ01jsGOh",
        "colab_type": "code",
        "colab": {}
      },
      "source": [
        "# Input list of underlying assets, dates and compare historical Omega measure"
      ],
      "execution_count": 0,
      "outputs": []
    },
    {
      "cell_type": "code",
      "metadata": {
        "id": "qO-AskLNsG2C",
        "colab_type": "code",
        "outputId": "7f9ab2c6-6069-4b7d-83c7-af0537074592",
        "colab": {
          "base_uri": "https://localhost:8080/",
          "height": 218
        }
      },
      "source": [
        "pip install yfinance --upgrade --no-cache-dir"
      ],
      "execution_count": 148,
      "outputs": [
        {
          "output_type": "stream",
          "text": [
            "Requirement already up-to-date: yfinance in /usr/local/lib/python3.6/dist-packages (0.1.49)\n",
            "Requirement already satisfied, skipping upgrade: requests>=2.20 in /usr/local/lib/python3.6/dist-packages (from yfinance) (2.21.0)\n",
            "Requirement already satisfied, skipping upgrade: multitasking>=0.0.7 in /usr/local/lib/python3.6/dist-packages (from yfinance) (0.0.9)\n",
            "Requirement already satisfied, skipping upgrade: numpy>=1.15 in /usr/local/lib/python3.6/dist-packages (from yfinance) (1.17.3)\n",
            "Requirement already satisfied, skipping upgrade: pandas>=0.24 in /usr/local/lib/python3.6/dist-packages (from yfinance) (0.25.2)\n",
            "Requirement already satisfied, skipping upgrade: urllib3<1.25,>=1.21.1 in /usr/local/lib/python3.6/dist-packages (from requests>=2.20->yfinance) (1.24.3)\n",
            "Requirement already satisfied, skipping upgrade: certifi>=2017.4.17 in /usr/local/lib/python3.6/dist-packages (from requests>=2.20->yfinance) (2019.9.11)\n",
            "Requirement already satisfied, skipping upgrade: chardet<3.1.0,>=3.0.2 in /usr/local/lib/python3.6/dist-packages (from requests>=2.20->yfinance) (3.0.4)\n",
            "Requirement already satisfied, skipping upgrade: idna<2.9,>=2.5 in /usr/local/lib/python3.6/dist-packages (from requests>=2.20->yfinance) (2.8)\n",
            "Requirement already satisfied, skipping upgrade: python-dateutil>=2.6.1 in /usr/local/lib/python3.6/dist-packages (from pandas>=0.24->yfinance) (2.6.1)\n",
            "Requirement already satisfied, skipping upgrade: pytz>=2017.2 in /usr/local/lib/python3.6/dist-packages (from pandas>=0.24->yfinance) (2018.9)\n",
            "Requirement already satisfied, skipping upgrade: six>=1.5 in /usr/local/lib/python3.6/dist-packages (from python-dateutil>=2.6.1->pandas>=0.24->yfinance) (1.12.0)\n"
          ],
          "name": "stdout"
        }
      ]
    },
    {
      "cell_type": "code",
      "metadata": {
        "id": "ATxI3KZWsP2a",
        "colab_type": "code",
        "colab": {}
      },
      "source": [
        "# Import libraries\n",
        "import pandas as pd\n",
        "import yfinance as yf\n",
        "import matplotlib.pyplot as plt\n",
        "%matplotlib inline"
      ],
      "execution_count": 0,
      "outputs": []
    },
    {
      "cell_type": "code",
      "metadata": {
        "id": "n0NmH9SrA2zZ",
        "colab_type": "code",
        "colab": {}
      },
      "source": [
        "class color:\n",
        "   PURPLE = '\\033[95m'\n",
        "   CYAN = '\\033[96m'\n",
        "   DARKCYAN = '\\033[36m'\n",
        "   BLUE = '\\033[94m'\n",
        "   GREEN = '\\033[92m'\n",
        "   YELLOW = '\\033[93m'\n",
        "   RED = '\\033[91m'\n",
        "   BOLD = '\\033[1m'\n",
        "   UNDERLINE = '\\033[4m'\n",
        "   END = '\\033[0m'"
      ],
      "execution_count": 0,
      "outputs": []
    },
    {
      "cell_type": "code",
      "metadata": {
        "id": "dqd20HDwsXED",
        "colab_type": "code",
        "colab": {}
      },
      "source": [
        "# Choose inputs\n",
        "assets = '^FTSE ^GSPC HISFX AAPL'\n",
        "start_date = '2019-01-01'\n",
        "end_date = '2019-10-24'\n",
        "\n",
        "# Generate inputs\n",
        "#assets = str(input(\"Choose tickers (string format with space between tickers) \"))\n",
        "#start_date = str(input(\"Choose start date (yyyy-mm-dd) \"))\n",
        "#end_date = str(input(\"Choose end date (yyyy-mm-dd) \"))"
      ],
      "execution_count": 0,
      "outputs": []
    },
    {
      "cell_type": "code",
      "metadata": {
        "id": "krfzi_e3pF7q",
        "colab_type": "code",
        "outputId": "19ee4782-df55-4998-c356-d32f7da9db22",
        "colab": {
          "base_uri": "https://localhost:8080/",
          "height": 67
        }
      },
      "source": [
        "# Display inputs\n",
        "print('assets: ', type(assets), assets)\n",
        "print('start_date: ', type(start_date), start_date)\n",
        "print('end_date: ', type(end_date), end_date)"
      ],
      "execution_count": 152,
      "outputs": [
        {
          "output_type": "stream",
          "text": [
            "assets:  <class 'str'> ^FTSE ^GSPC HISFX AAPL\n",
            "start_date:  <class 'str'> 2019-01-01\n",
            "end_date:  <class 'str'> 2019-10-24\n"
          ],
          "name": "stdout"
        }
      ]
    },
    {
      "cell_type": "code",
      "metadata": {
        "id": "LKjn7tSzF96G",
        "colab_type": "code",
        "outputId": "05836146-d150-464a-9937-ae1cd2373333",
        "colab": {
          "base_uri": "https://localhost:8080/",
          "height": 454
        }
      },
      "source": [
        "# Import data\n",
        "data = yf.download(assets, start_date, end_date)\n",
        "\n",
        "# Review data\n",
        "print(color.BOLD+'Indexing information:'+color.END)\n",
        "print(data.index.dtype)\n",
        "print(type(data.index))\n",
        "print(data.index)\n",
        "\n",
        "print(color.BOLD+'Dataframe information:'+color.END)\n",
        "print('Data Shape: ', data.shape)\n",
        "print('Data Head', data.head(1))\n",
        "print('Data Tail', data.tail(1))"
      ],
      "execution_count": 153,
      "outputs": [
        {
          "output_type": "stream",
          "text": [
            "[*********************100%***********************]  4 of 4 completed\n",
            "\u001b[1mIndexing information:\u001b[0m\n",
            "datetime64[ns]\n",
            "<class 'pandas.core.indexes.datetimes.DatetimeIndex'>\n",
            "DatetimeIndex(['2019-01-02', '2019-01-03', '2019-01-04', '2019-01-07',\n",
            "               '2019-01-08', '2019-01-09', '2019-01-10', '2019-01-11',\n",
            "               '2019-01-14', '2019-01-15',\n",
            "               ...\n",
            "               '2019-10-11', '2019-10-14', '2019-10-15', '2019-10-16',\n",
            "               '2019-10-17', '2019-10-18', '2019-10-21', '2019-10-22',\n",
            "               '2019-10-23', '2019-10-24'],\n",
            "              dtype='datetime64[ns]', name='Date', length=210, freq=None)\n",
            "\u001b[1mDataframe information:\u001b[0m\n",
            "Data Shape:  (210, 24)\n",
            "Data Head              Adj Close                      ... Volume                           \n",
            "                  AAPL  HISFX        ^FTSE  ...  HISFX        ^FTSE         ^GSPC\n",
            "Date                                        ...                                  \n",
            "2019-01-02  156.049484  11.46  6734.200195  ...    0.0  614252000.0  3.733160e+09\n",
            "\n",
            "[1 rows x 24 columns]\n",
            "Data Tail            Adj Close                           ... Volume                         \n",
            "                AAPL HISFX        ^FTSE ^GSPC  ...   AAPL HISFX        ^FTSE ^GSPC\n",
            "Date                                           ...                                \n",
            "2019-10-24       NaN   NaN  7328.299805   NaN  ...    NaN   NaN  733646100.0   NaN\n",
            "\n",
            "[1 rows x 24 columns]\n"
          ],
          "name": "stdout"
        }
      ]
    },
    {
      "cell_type": "code",
      "metadata": {
        "id": "Dtajs81nubM0",
        "colab_type": "code",
        "outputId": "801dd9bd-6b72-4c6b-9aa3-dbf88404b054",
        "colab": {
          "base_uri": "https://localhost:8080/",
          "height": 199
        }
      },
      "source": [
        "# Change into performance metric\n",
        "new_df = data['Adj Close'].pct_change(periods=1)   # Example: (data_adjclose['^FTSE'][1] / data_adjclose['^FTSE'][0] ) -1\n",
        "\n",
        "print('Type', type(new_df))\n",
        "print('Shape', new_df.shape)\n",
        "new_df.head(3)"
      ],
      "execution_count": 154,
      "outputs": [
        {
          "output_type": "stream",
          "text": [
            "Type <class 'pandas.core.frame.DataFrame'>\n",
            "Shape (210, 4)\n"
          ],
          "name": "stdout"
        },
        {
          "output_type": "execute_result",
          "data": {
            "text/html": [
              "<div>\n",
              "<style scoped>\n",
              "    .dataframe tbody tr th:only-of-type {\n",
              "        vertical-align: middle;\n",
              "    }\n",
              "\n",
              "    .dataframe tbody tr th {\n",
              "        vertical-align: top;\n",
              "    }\n",
              "\n",
              "    .dataframe thead th {\n",
              "        text-align: right;\n",
              "    }\n",
              "</style>\n",
              "<table border=\"1\" class=\"dataframe\">\n",
              "  <thead>\n",
              "    <tr style=\"text-align: right;\">\n",
              "      <th></th>\n",
              "      <th>AAPL</th>\n",
              "      <th>HISFX</th>\n",
              "      <th>^FTSE</th>\n",
              "      <th>^GSPC</th>\n",
              "    </tr>\n",
              "    <tr>\n",
              "      <th>Date</th>\n",
              "      <th></th>\n",
              "      <th></th>\n",
              "      <th></th>\n",
              "      <th></th>\n",
              "    </tr>\n",
              "  </thead>\n",
              "  <tbody>\n",
              "    <tr>\n",
              "      <th>2019-01-02</th>\n",
              "      <td>NaN</td>\n",
              "      <td>NaN</td>\n",
              "      <td>NaN</td>\n",
              "      <td>NaN</td>\n",
              "    </tr>\n",
              "    <tr>\n",
              "      <th>2019-01-03</th>\n",
              "      <td>-0.099607</td>\n",
              "      <td>-0.003490</td>\n",
              "      <td>-0.006163</td>\n",
              "      <td>-0.024757</td>\n",
              "    </tr>\n",
              "    <tr>\n",
              "      <th>2019-01-04</th>\n",
              "      <td>0.042689</td>\n",
              "      <td>0.024518</td>\n",
              "      <td>0.021621</td>\n",
              "      <td>0.034336</td>\n",
              "    </tr>\n",
              "  </tbody>\n",
              "</table>\n",
              "</div>"
            ],
            "text/plain": [
              "                AAPL     HISFX     ^FTSE     ^GSPC\n",
              "Date                                              \n",
              "2019-01-02       NaN       NaN       NaN       NaN\n",
              "2019-01-03 -0.099607 -0.003490 -0.006163 -0.024757\n",
              "2019-01-04  0.042689  0.024518  0.021621  0.034336"
            ]
          },
          "metadata": {
            "tags": []
          },
          "execution_count": 154
        }
      ]
    },
    {
      "cell_type": "code",
      "metadata": {
        "id": "a2D1Tl8XA1fM",
        "colab_type": "code",
        "outputId": "18bbedb2-ccba-4196-e8ef-c2fe6f0c2df2",
        "colab": {
          "base_uri": "https://localhost:8080/",
          "height": 34
        }
      },
      "source": [
        "asset_list = list(new_df.columns)[0:]\n",
        "print('Assets: ', asset_list)"
      ],
      "execution_count": 155,
      "outputs": [
        {
          "output_type": "stream",
          "text": [
            "Assets:  ['AAPL', 'HISFX', '^FTSE', '^GSPC']\n"
          ],
          "name": "stdout"
        }
      ]
    },
    {
      "cell_type": "code",
      "metadata": {
        "id": "xRhoeDrvHYZ3",
        "colab_type": "code",
        "colab": {
          "base_uri": "https://localhost:8080/",
          "height": 50
        },
        "outputId": "333ad84c-0b98-4666-f5e6-f498bfe6d405"
      },
      "source": [
        "# calc_omega is function t create omega by asset for a given input of Threshold\n",
        "\n",
        "def calc_omega(thresh):\n",
        "  threshold = thresh\n",
        "  update_new_df = new_df\n",
        "  omega_assets = []\n",
        "  omega_losses = []\n",
        "  omega_gains = []\n",
        "  omega_values = []\n",
        "\n",
        "  for i in asset_list:\n",
        "    update_new_df['loss_col_'+i]= update_new_df[i].apply(lambda x: float(1) if x < threshold else float(0)) * (threshold - update_new_df[i])\n",
        "    update_new_df['gain_col_'+i]= update_new_df[i].apply(lambda x: float(1) if x > threshold else float(0)) * (update_new_df[i] - threshold)\n",
        "\n",
        "    omega_assets.append(i)\n",
        "    omega_losses.append(sum(update_new_df['loss_col_'+i][1:]))\n",
        "    omega_gains.append(sum(update_new_df['gain_col_'+i][1:]))\n",
        "    omega_values.append(omega_gains[asset_list.index(i)] / omega_losses[asset_list.index(i)])\n",
        "\n",
        "  data_summary = {'assets' : omega_assets, 'losses' : omega_losses, 'gains' : omega_gains, 'omega' : omega_values }\n",
        "  omega_summary = pd.DataFrame(data_summary)\n",
        "  \n",
        "  rd = dict()\n",
        "  rd['Assets'] = omega_assets\n",
        "  rd['Omega Values'] = omega_values\n",
        "\n",
        " # return print(omega_summary, type(omega_summary)) \n",
        "  # return list(omega_values)\n",
        "  return rd\n",
        "\n",
        "#calc_omega(0.03)['Omega Values']\n",
        "calc_omega(0.03)\n"
      ],
      "execution_count": 320,
      "outputs": [
        {
          "output_type": "execute_result",
          "data": {
            "text/plain": [
              "{'Assets': ['AAPL', 'HISFX', '^FTSE', '^GSPC'],\n",
              " 'Omega Values': [0.01787319271661638, 0.0, 0.0, 0.000712283716337993]}"
            ]
          },
          "metadata": {
            "tags": []
          },
          "execution_count": 320
        }
      ]
    },
    {
      "cell_type": "code",
      "metadata": {
        "id": "HXttlmCaKMnN",
        "colab_type": "code",
        "colab": {
          "base_uri": "https://localhost:8080/",
          "height": 246
        },
        "outputId": "82b2c24e-989d-4e30-d23f-db8b689c22a4"
      },
      "source": [
        "display(type(calc_omega(0.01)))\n",
        "calc_omega(0.01)[2]\n",
        "\n",
        "# build a dictionary\n",
        "# https://www.geeksforgeeks.org/g-fact-41-multiple-return-values-in-python/ "
      ],
      "execution_count": 312,
      "outputs": [
        {
          "output_type": "display_data",
          "data": {
            "text/plain": [
              "dict"
            ]
          },
          "metadata": {
            "tags": []
          }
        },
        {
          "output_type": "error",
          "ename": "KeyError",
          "evalue": "ignored",
          "traceback": [
            "\u001b[0;31m---------------------------------------------------------------------------\u001b[0m",
            "\u001b[0;31mKeyError\u001b[0m                                  Traceback (most recent call last)",
            "\u001b[0;32m<ipython-input-312-f49858b3766f>\u001b[0m in \u001b[0;36m<module>\u001b[0;34m()\u001b[0m\n\u001b[1;32m      1\u001b[0m \u001b[0mdisplay\u001b[0m\u001b[0;34m(\u001b[0m\u001b[0mtype\u001b[0m\u001b[0;34m(\u001b[0m\u001b[0mcalc_omega\u001b[0m\u001b[0;34m(\u001b[0m\u001b[0;36m0.01\u001b[0m\u001b[0;34m)\u001b[0m\u001b[0;34m)\u001b[0m\u001b[0;34m)\u001b[0m\u001b[0;34m\u001b[0m\u001b[0;34m\u001b[0m\u001b[0m\n\u001b[0;32m----> 2\u001b[0;31m \u001b[0mcalc_omega\u001b[0m\u001b[0;34m(\u001b[0m\u001b[0;36m0.01\u001b[0m\u001b[0;34m)\u001b[0m\u001b[0;34m[\u001b[0m\u001b[0;36m2\u001b[0m\u001b[0;34m]\u001b[0m\u001b[0;34m\u001b[0m\u001b[0;34m\u001b[0m\u001b[0m\n\u001b[0m\u001b[1;32m      3\u001b[0m \u001b[0;34m\u001b[0m\u001b[0m\n\u001b[1;32m      4\u001b[0m \u001b[0;31m# build a dictionary\u001b[0m\u001b[0;34m\u001b[0m\u001b[0;34m\u001b[0m\u001b[0;34m\u001b[0m\u001b[0m\n\u001b[1;32m      5\u001b[0m \u001b[0;31m# https://www.geeksforgeeks.org/g-fact-41-multiple-return-values-in-python/\u001b[0m\u001b[0;34m\u001b[0m\u001b[0;34m\u001b[0m\u001b[0;34m\u001b[0m\u001b[0m\n",
            "\u001b[0;31mKeyError\u001b[0m: 2"
          ]
        }
      ]
    },
    {
      "cell_type": "code",
      "metadata": {
        "id": "7g8ft8O9GGbn",
        "colab_type": "code",
        "outputId": "2a1f1737-94e4-4afb-8c71-c14cfde92e0e",
        "colab": {
          "base_uri": "https://localhost:8080/",
          "height": 34
        }
      },
      "source": [
        "omega_range = [0, 0.01, 0.02, 0.03, 0.04, 0.05, 0.06, 0.07, 0.08, 0.09, 0.1]\n",
        "print('omega_range: ', omega_range)"
      ],
      "execution_count": 159,
      "outputs": [
        {
          "output_type": "stream",
          "text": [
            "omega_range:  [0, 0.01, 0.02, 0.03, 0.04, 0.05, 0.06, 0.07, 0.08, 0.09, 0.1]\n"
          ],
          "name": "stdout"
        }
      ]
    },
    {
      "cell_type": "code",
      "metadata": {
        "id": "ttHMZ4MvA0iv",
        "colab_type": "code",
        "colab": {}
      },
      "source": [
        ""
      ],
      "execution_count": 0,
      "outputs": []
    },
    {
      "cell_type": "code",
      "metadata": {
        "id": "69MlZdeoU9ti",
        "colab_type": "code",
        "colab": {}
      },
      "source": [
        "\n",
        "  "
      ],
      "execution_count": 0,
      "outputs": []
    },
    {
      "cell_type": "code",
      "metadata": {
        "id": "I7RQ5_OmHAfv",
        "colab_type": "code",
        "colab": {}
      },
      "source": [
        ""
      ],
      "execution_count": 0,
      "outputs": []
    },
    {
      "cell_type": "code",
      "metadata": {
        "id": "jIo20x2lIAUy",
        "colab_type": "code",
        "colab": {}
      },
      "source": [
        ""
      ],
      "execution_count": 0,
      "outputs": []
    },
    {
      "cell_type": "code",
      "metadata": {
        "id": "Walj8LBYCVMs",
        "colab_type": "code",
        "colab": {}
      },
      "source": [
        ""
      ],
      "execution_count": 0,
      "outputs": []
    },
    {
      "cell_type": "code",
      "metadata": {
        "id": "jJTXzoSNGBeA",
        "colab_type": "code",
        "colab": {}
      },
      "source": [
        "def fun(): \n",
        "    d = dict();  \n",
        "    d['str'] = \"GeeksforGeeks\"\n",
        "    d['x']   = 20\n",
        "    return d \n",
        " \n",
        "# Driver code to test above method \n",
        "d = fun()  \n",
        "print(d) "
      ],
      "execution_count": 0,
      "outputs": []
    },
    {
      "cell_type": "code",
      "metadata": {
        "id": "fPKQyyMISL8U",
        "colab_type": "code",
        "colab": {
          "base_uri": "https://localhost:8080/",
          "height": 34
        },
        "outputId": "e65350a3-fd4d-41bd-b902-23dbd15fb901"
      },
      "source": [
        "# Driver code to test above method \n",
        "d = fun()  \n",
        "print(d) \n"
      ],
      "execution_count": 307,
      "outputs": [
        {
          "output_type": "stream",
          "text": [
            "{'str': 'GeeksforGeeks', 'x': 20}\n"
          ],
          "name": "stdout"
        }
      ]
    },
    {
      "cell_type": "code",
      "metadata": {
        "id": "QEs9AJMkkn1B",
        "colab_type": "code",
        "colab": {}
      },
      "source": [
        ""
      ],
      "execution_count": 0,
      "outputs": []
    }
  ]
}