{
  "nbformat": 4,
  "nbformat_minor": 0,
  "metadata": {
    "colab": {
      "name": "financial_formulae_ipynb",
      "provenance": [],
      "collapsed_sections": [],
      "authorship_tag": "ABX9TyNNZEN1h1gioGYMY0iExXQk",
      "include_colab_link": true
    },
    "kernelspec": {
      "name": "python3",
      "display_name": "Python 3"
    }
  },
  "cells": [
    {
      "cell_type": "markdown",
      "metadata": {
        "id": "view-in-github",
        "colab_type": "text"
      },
      "source": [
        "<a href=\"https://colab.research.google.com/github/rhysdavies21/library/blob/master/financial_formulae_ipynb.ipynb\" target=\"_parent\"><img src=\"https://colab.research.google.com/assets/colab-badge.svg\" alt=\"Open In Colab\"/></a>"
      ]
    },
    {
      "cell_type": "markdown",
      "metadata": {
        "id": "_zRKisuaUkOl",
        "colab_type": "text"
      },
      "source": [
        "**Financial Formulae**"
      ]
    },
    {
      "cell_type": "code",
      "metadata": {
        "id": "vSH6sykSioLI",
        "colab_type": "code",
        "colab": {}
      },
      "source": [
        "# Black's formula\n",
        "\n",
        "from scipy.stats import norm\n",
        "import math\n",
        "\n",
        "def black(f_0, strike, expiry, vol, rate, c_p):\n",
        "    d_plus = (math.log(f_0 / strike) + 0.5 * vol * vol * expiry)/ (vol / math.sqrt(expiry))\n",
        "    d_minus = (math.log(f_0 / strike) - 0.5 * vol * vol * expiry)/ (vol / math.sqrt(expiry))\n",
        "    if c_p == 'c':\n",
        "            option_value = (math.exp((-rate)*expiry))*(f_0 * norm.cdf(d_plus) - strike *norm.cdf(d_minus))\n",
        "    elif c_p == 'p':\n",
        "            option_value = (math.exp((-rate)*expiry))*(strike * norm.cdf(-d_minus) - f_0 *norm.cdf(-d_plus))\n",
        "    else:\n",
        "            print('Check input')\n",
        "    return option_value"
      ],
      "execution_count": 0,
      "outputs": []
    },
    {
      "cell_type": "code",
      "metadata": {
        "id": "RAzWSQ5ya9NG",
        "colab_type": "code",
        "outputId": "0d3bf86f-4296-4343-d400-1e3598b3ac48",
        "colab": {
          "base_uri": "https://localhost:8080/",
          "height": 67
        }
      },
      "source": [
        "# Run black_price\n",
        "\n",
        "# Request inputs\n",
        "c_p = str(input('call (c) or put (p) = '))\n",
        "\n",
        "f_0 = 0.07\n",
        "strike = 0.08\n",
        "expiry = 1\n",
        "black_vol = 0.2\n",
        "rate = 0.05\n",
        "\n",
        "# Price option\n",
        "if c_p in ['c', 'p']:\n",
        "  black_price = black(f_0, strike, expiry, black_vol, rate, c_p)\n",
        "  print('\\n' \"black_price = \"+\"{:.3%}\".format(black_price))\n",
        "else:\n",
        "  print('Check input')"
      ],
      "execution_count": 145,
      "outputs": [
        {
          "output_type": "stream",
          "text": [
            "call (c) or put (p) = p\n",
            "\n",
            "black_price = 1.165%\n"
          ],
          "name": "stdout"
        }
      ]
    },
    {
      "cell_type": "code",
      "metadata": {
        "id": "OAxGoFB4VKQu",
        "colab_type": "code",
        "colab": {}
      },
      "source": [
        "# Bachelier's formula \n",
        "\n",
        "from scipy.stats import norm\n",
        "import math\n",
        "\n",
        "def dPlusBachelier(F_0 , y, expiry , vol):\n",
        "    d_plus = (F_0 - y)/ (vol * math.sqrt(expiry))\n",
        "    return d_plus\n",
        "\n",
        "def bachelier(F_0, y, expiry, vol, rfr, type):\n",
        "    if expiry * vol == 0.0:\n",
        "        if type == 'isCall':\n",
        "            option_value = max(F_0 - y, 0.0)\n",
        "        elif type == 'isPut':\n",
        "            option_value = max(y - F_0 , 0.0)\n",
        "        else:\n",
        "            option_value = 'Not defined'\n",
        "    else:\n",
        "        d1 = dPlusBachelier(F_0, y, expiry, vol)\n",
        "        if type == 'isCall':\n",
        "             option_value = (math.exp((-rfr)*expiry))*((F_0 - y)* norm.cdf(d1) + vol * math.sqrt(expiry) * norm.cdf(d1))\n",
        "        elif type == 'isPut':\n",
        "             option_value = (math.exp((-rfr)*expiry))*((y-F_0) * norm.cdf(-d1) + vol * math.sqrt(expiry) * norm.cdf(-d1))\n",
        "        else: option_vale = 'Not defined'\n",
        "    return option_value"
      ],
      "execution_count": 0,
      "outputs": []
    },
    {
      "cell_type": "code",
      "metadata": {
        "id": "a58DspBvVh0-",
        "colab_type": "code",
        "outputId": "5c6668db-fc99-4f83-bdeb-fa072efe854a",
        "colab": {
          "base_uri": "https://localhost:8080/",
          "height": 34
        }
      },
      "source": [
        "# Run Bachelier \n",
        "\n",
        "# Input\n",
        "F_0_val = 0.07\n",
        "y_val = 0.08\n",
        "expiry_val = 2\n",
        "vol_val = 0.2\n",
        "rfr_val = 0.07\n",
        "type_val = 'isCall'   # or 'isPut'\n",
        "\n",
        "# Output\n",
        "bachelier_price = bachelier(F_0_val, y_val, expiry_val, vol_val, rfr_val, type_val)\n",
        "print('bachelier_price = '+'{:.3%}'.format(bachelier_price))"
      ],
      "execution_count": 141,
      "outputs": [
        {
          "output_type": "stream",
          "text": [
            "bachelier_price = 11.525%\n"
          ],
          "name": "stdout"
        }
      ]
    },
    {
      "cell_type": "code",
      "metadata": {
        "id": "4TmzalzMCIWw",
        "colab_type": "code",
        "colab": {}
      },
      "source": [
        "# Calculate SABR Volatility\n",
        "\n",
        "import math\n",
        "\n",
        "def sabr_vol(alpha, beta, rho, v, f, k, T):\n",
        "  bb = alpha / (f**(1.-beta))\n",
        "  if k <= 0:                       # For negative rates shift smile\n",
        "    z = 'n/a'\n",
        "    x = 'n/a'\n",
        "    sabr_vol = 0\n",
        "    note = 'No volatility since negative rates'\n",
        "  elif f ==  k:\n",
        "    z = 0\n",
        "    x = 0\n",
        "    sabr_vol = bb * (1+ ( (1-beta)*(1-beta)*alpha*alpha/(24*(f**(2-2*beta))) \n",
        "    + alpha*beta*rho*v/(4*(f**(1-beta))) + (2-3*rho*rho)*v*v/24) * T )\n",
        "    note = 'ATM'\n",
        "  elif f != k:\n",
        "    z = (v/alpha) * (f*k) ** ((1-beta)/2) * math.log(f/k)\n",
        "    x = math.log(  ( math.sqrt(1-2*rho*z+z*z) + z - rho ) / (1-rho) )\n",
        "    denomimator = 1 + ((1-beta)**2)*(1/24) * ((math.log(f/k))**2) \n",
        "    + ((1-beta)**4)*(1/1920) * ((math.log(f/k))**4)\n",
        "    numerator = 1 + ( ((1-beta)**2)*(1/24) * (alpha**2)/((f*k)**(1-beta)) \n",
        "    + (1/4)*rho*beta*v*alpha*((f*k)**((1-beta)/2)) \n",
        "    + (2-3*rho*rho)*(1/24)*v*v ) * T\n",
        "    sabr_vol = bb * ((f*k)**((1-beta)/2)) * (z / x) * numerator\n",
        "    note = 'Not ATM'\n",
        "  return round(sabr_vol,5), note"
      ],
      "execution_count": 0,
      "outputs": []
    },
    {
      "cell_type": "code",
      "metadata": {
        "id": "I4pdzmxDDPof",
        "colab_type": "code",
        "outputId": "1a8b60ee-3d59-44aa-828d-4555fdc8c30e",
        "colab": {
          "base_uri": "https://localhost:8080/",
          "height": 34
        }
      },
      "source": [
        "# Run SABR calcuation\n",
        "\n",
        "# Input\n",
        "alpha_val = 0.2\n",
        "beta_val = 1\n",
        "f_val = 0.07\n",
        "k_val = 0.07\n",
        "v_val = 0.2\n",
        "rho_val = -0.3\n",
        "T_val = 2\n",
        "\n",
        "# Output\n",
        "print('SABR', sabr_vol(alpha_val, beta_val, rho_val, v_val, f_val, k_val, T_val))"
      ],
      "execution_count": 110,
      "outputs": [
        {
          "output_type": "stream",
          "text": [
            "SABR (0.19995, 'ATM')\n"
          ],
          "name": "stdout"
        }
      ]
    },
    {
      "cell_type": "code",
      "metadata": {
        "id": "pSlnVWCBIla3",
        "colab_type": "code",
        "colab": {}
      },
      "source": [
        ""
      ],
      "execution_count": 0,
      "outputs": []
    }
  ]
}