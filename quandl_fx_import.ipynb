{
  "nbformat": 4,
  "nbformat_minor": 0,
  "metadata": {
    "colab": {
      "name": "quandl_fx_import.ipynb",
      "provenance": [],
      "authorship_tag": "ABX9TyPzC0qbBDeuTkM15CN/BVnU",
      "include_colab_link": true
    },
    "kernelspec": {
      "name": "python3",
      "display_name": "Python 3"
    }
  },
  "cells": [
    {
      "cell_type": "markdown",
      "metadata": {
        "id": "view-in-github",
        "colab_type": "text"
      },
      "source": [
        "<a href=\"https://colab.research.google.com/github/rhysdavies21/library/blob/master/quandl_fx_import.ipynb\" target=\"_parent\"><img src=\"https://colab.research.google.com/assets/colab-badge.svg\" alt=\"Open In Colab\"/></a>"
      ]
    },
    {
      "cell_type": "markdown",
      "metadata": {
        "id": "6y5KOnOPXI5X",
        "colab_type": "text"
      },
      "source": [
        "Download FX data using Quandl"
      ]
    },
    {
      "cell_type": "code",
      "metadata": {
        "id": "BAGF3DfNXDwe",
        "colab_type": "code",
        "outputId": "3c1ba336-b8c0-4a74-c0b6-68defde4fa43",
        "colab": {
          "base_uri": "https://localhost:8080/",
          "height": 386
        }
      },
      "source": [
        "pip install quandl"
      ],
      "execution_count": 1,
      "outputs": [
        {
          "output_type": "stream",
          "text": [
            "Collecting quandl\n",
            "  Downloading https://files.pythonhosted.org/packages/07/ab/8cd479fba8a9b197a43a0d55dd534b066fb8e5a0a04b5c0384cbc5d663aa/Quandl-3.5.0-py2.py3-none-any.whl\n",
            "Requirement already satisfied: pandas>=0.14 in /usr/local/lib/python3.6/dist-packages (from quandl) (0.25.3)\n",
            "Collecting inflection>=0.3.1\n",
            "  Downloading https://files.pythonhosted.org/packages/d5/35/a6eb45b4e2356fe688b21570864d4aa0d0a880ce387defe9c589112077f8/inflection-0.3.1.tar.gz\n",
            "Requirement already satisfied: six in /usr/local/lib/python3.6/dist-packages (from quandl) (1.12.0)\n",
            "Requirement already satisfied: more-itertools in /usr/local/lib/python3.6/dist-packages (from quandl) (8.0.2)\n",
            "Requirement already satisfied: python-dateutil in /usr/local/lib/python3.6/dist-packages (from quandl) (2.6.1)\n",
            "Requirement already satisfied: requests>=2.7.0 in /usr/local/lib/python3.6/dist-packages (from quandl) (2.21.0)\n",
            "Requirement already satisfied: numpy>=1.8 in /usr/local/lib/python3.6/dist-packages (from quandl) (1.17.5)\n",
            "Requirement already satisfied: pytz>=2017.2 in /usr/local/lib/python3.6/dist-packages (from pandas>=0.14->quandl) (2018.9)\n",
            "Requirement already satisfied: chardet<3.1.0,>=3.0.2 in /usr/local/lib/python3.6/dist-packages (from requests>=2.7.0->quandl) (3.0.4)\n",
            "Requirement already satisfied: idna<2.9,>=2.5 in /usr/local/lib/python3.6/dist-packages (from requests>=2.7.0->quandl) (2.8)\n",
            "Requirement already satisfied: urllib3<1.25,>=1.21.1 in /usr/local/lib/python3.6/dist-packages (from requests>=2.7.0->quandl) (1.24.3)\n",
            "Requirement already satisfied: certifi>=2017.4.17 in /usr/local/lib/python3.6/dist-packages (from requests>=2.7.0->quandl) (2019.11.28)\n",
            "Building wheels for collected packages: inflection\n",
            "  Building wheel for inflection (setup.py) ... \u001b[?25l\u001b[?25hdone\n",
            "  Created wheel for inflection: filename=inflection-0.3.1-cp36-none-any.whl size=6076 sha256=14e9a609ef62f0e02dad1dad70cb987a3a96e9f97567db4d7e2e443118827ca4\n",
            "  Stored in directory: /root/.cache/pip/wheels/9f/5a/d3/6fc3bf6516d2a3eb7e18f9f28b472110b59325f3f258fe9211\n",
            "Successfully built inflection\n",
            "Installing collected packages: inflection, quandl\n",
            "Successfully installed inflection-0.3.1 quandl-3.5.0\n"
          ],
          "name": "stdout"
        }
      ]
    },
    {
      "cell_type": "code",
      "metadata": {
        "id": "07-mPqgjXFeL",
        "colab_type": "code",
        "colab": {}
      },
      "source": [
        "# Import libraries\n",
        "import quandl as q\n",
        "import pandas as pd\n",
        "import requests"
      ],
      "execution_count": 0,
      "outputs": []
    },
    {
      "cell_type": "code",
      "metadata": {
        "id": "YpZXnj-GXSBy",
        "colab_type": "code",
        "colab": {}
      },
      "source": [
        "# Quandl don't offer free bid-offer spreads \n",
        "# Premium Products https://www.quandl.com/publishers/fxcm\n",
        "# Sample data https://www.quandl.com/databases/FXD1/documentation?anchor=sample-data)  \n",
        "# Entire data feed https://www.quandl.com/databases/FXD1/pricing/plans\n",
        "# Reference link https://www.quandl.com/databases/FXD1/documentation?anchor=daily-fx-rates-fxcm-d1-\n",
        "# Python Table reference https://docs.quandl.com/docs/python-tables\n",
        "# Table reference https://docs.quandl.com/docs/tables"
      ],
      "execution_count": 0,
      "outputs": []
    },
    {
      "cell_type": "code",
      "metadata": {
        "id": "YSdFNyijrCzi",
        "colab_type": "code",
        "outputId": "106d1547-c16f-498e-a979-1dc0e18baa1d",
        "colab": {
          "base_uri": "https://localhost:8080/",
          "height": 269
        }
      },
      "source": [
        "# API Key\n",
        "Key21 = 'T-ibP1eksFUdr1VxCfrU'\n",
        "KeyDG = 'zbGHko5EdCx6Gqhpksy5'\n",
        "\n",
        "# Config\n",
        "q.ApiConfig.api_key = KeyDG\n",
        "\n",
        "# Get all data for EUR/CAD between 2019-11-30 and 2020-01-01 as a paged DataFrame\n",
        "full_table = q.get_table('FXCM/D1', symbol='EUR/CAD', date = {'gte': '2016-11-30', 'lte': '2020-01-01'}, paginate=True)\n",
        "print(full_table)"
      ],
      "execution_count": 4,
      "outputs": [
        {
          "output_type": "stream",
          "text": [
            "       symbol       date  hour  openbid  ...  highask   lowask  closeask  totalticks\n",
            "None                                     ...                                        \n",
            "0     EUR/CAD 2017-07-02    21  1.48053  ...  1.48331  1.47376   1.47830      205415\n",
            "1     EUR/CAD 2017-07-03    21  1.47643  ...  1.47930  1.46531   1.46873      185227\n",
            "2     EUR/CAD 2017-07-04    21  1.46671  ...  1.47468  1.46586   1.47082      266364\n",
            "3     EUR/CAD 2017-07-05    21  1.47063  ...  1.48292  1.46755   1.48259      273222\n",
            "4     EUR/CAD 2017-07-06    21  1.48243  ...  1.48370  1.46519   1.46859      311318\n",
            "...       ...        ...   ...      ...  ...      ...      ...       ...         ...\n",
            "147   EUR/CAD 2017-12-21    22  1.51228  ...  1.51704  1.50481   1.51025      192982\n",
            "148   EUR/CAD 2017-12-25    22  1.50854  ...  1.51053  1.50449   1.50489       69747\n",
            "149   EUR/CAD 2017-12-26    22  1.50386  ...  1.50745  1.50203   1.50485      156352\n",
            "150   EUR/CAD 2017-12-27    22  1.50396  ...  1.50666  1.50023   1.50118      185216\n",
            "151   EUR/CAD 2017-12-28    22  1.50020  ...  1.51100  1.49950   1.51090      168965\n",
            "\n",
            "[152 rows x 12 columns]\n"
          ],
          "name": "stdout"
        }
      ]
    },
    {
      "cell_type": "code",
      "metadata": {
        "id": "WCFznz3O__cf",
        "colab_type": "code",
        "outputId": "a4d9c66f-bcb0-4bc6-e120-e4a9e90bf645",
        "colab": {
          "base_uri": "https://localhost:8080/",
          "height": 431
        }
      },
      "source": [
        "symbol_col = full_table['symbol']\n",
        "date_col = full_table['date']\n",
        "close_bid_col = full_table['closebid']\n",
        "close_ask_col = full_table['closeask']\n",
        "\n",
        "summary_table = pd.DataFrame({\"Underlying\":symbol_col,\n",
        "                              \"Date\":date_col, \n",
        "                              \"Bid\":close_bid_col,\n",
        "                              \"Ask\":close_ask_col})\n",
        "\n",
        "display(summary_table)"
      ],
      "execution_count": 5,
      "outputs": [
        {
          "output_type": "display_data",
          "data": {
            "text/html": [
              "<div>\n",
              "<style scoped>\n",
              "    .dataframe tbody tr th:only-of-type {\n",
              "        vertical-align: middle;\n",
              "    }\n",
              "\n",
              "    .dataframe tbody tr th {\n",
              "        vertical-align: top;\n",
              "    }\n",
              "\n",
              "    .dataframe thead th {\n",
              "        text-align: right;\n",
              "    }\n",
              "</style>\n",
              "<table border=\"1\" class=\"dataframe\">\n",
              "  <thead>\n",
              "    <tr style=\"text-align: right;\">\n",
              "      <th></th>\n",
              "      <th>Underlying</th>\n",
              "      <th>Date</th>\n",
              "      <th>Bid</th>\n",
              "      <th>Ask</th>\n",
              "    </tr>\n",
              "    <tr>\n",
              "      <th>None</th>\n",
              "      <th></th>\n",
              "      <th></th>\n",
              "      <th></th>\n",
              "      <th></th>\n",
              "    </tr>\n",
              "  </thead>\n",
              "  <tbody>\n",
              "    <tr>\n",
              "      <th>0</th>\n",
              "      <td>EUR/CAD</td>\n",
              "      <td>2017-07-02</td>\n",
              "      <td>1.47643</td>\n",
              "      <td>1.47830</td>\n",
              "    </tr>\n",
              "    <tr>\n",
              "      <th>1</th>\n",
              "      <td>EUR/CAD</td>\n",
              "      <td>2017-07-03</td>\n",
              "      <td>1.46671</td>\n",
              "      <td>1.46873</td>\n",
              "    </tr>\n",
              "    <tr>\n",
              "      <th>2</th>\n",
              "      <td>EUR/CAD</td>\n",
              "      <td>2017-07-04</td>\n",
              "      <td>1.47063</td>\n",
              "      <td>1.47082</td>\n",
              "    </tr>\n",
              "    <tr>\n",
              "      <th>3</th>\n",
              "      <td>EUR/CAD</td>\n",
              "      <td>2017-07-05</td>\n",
              "      <td>1.48243</td>\n",
              "      <td>1.48259</td>\n",
              "    </tr>\n",
              "    <tr>\n",
              "      <th>4</th>\n",
              "      <td>EUR/CAD</td>\n",
              "      <td>2017-07-06</td>\n",
              "      <td>1.46789</td>\n",
              "      <td>1.46859</td>\n",
              "    </tr>\n",
              "    <tr>\n",
              "      <th>...</th>\n",
              "      <td>...</td>\n",
              "      <td>...</td>\n",
              "      <td>...</td>\n",
              "      <td>...</td>\n",
              "    </tr>\n",
              "    <tr>\n",
              "      <th>147</th>\n",
              "      <td>EUR/CAD</td>\n",
              "      <td>2017-12-21</td>\n",
              "      <td>1.50854</td>\n",
              "      <td>1.51025</td>\n",
              "    </tr>\n",
              "    <tr>\n",
              "      <th>148</th>\n",
              "      <td>EUR/CAD</td>\n",
              "      <td>2017-12-25</td>\n",
              "      <td>1.50386</td>\n",
              "      <td>1.50489</td>\n",
              "    </tr>\n",
              "    <tr>\n",
              "      <th>149</th>\n",
              "      <td>EUR/CAD</td>\n",
              "      <td>2017-12-26</td>\n",
              "      <td>1.50396</td>\n",
              "      <td>1.50485</td>\n",
              "    </tr>\n",
              "    <tr>\n",
              "      <th>150</th>\n",
              "      <td>EUR/CAD</td>\n",
              "      <td>2017-12-27</td>\n",
              "      <td>1.50020</td>\n",
              "      <td>1.50118</td>\n",
              "    </tr>\n",
              "    <tr>\n",
              "      <th>151</th>\n",
              "      <td>EUR/CAD</td>\n",
              "      <td>2017-12-28</td>\n",
              "      <td>1.50925</td>\n",
              "      <td>1.51090</td>\n",
              "    </tr>\n",
              "  </tbody>\n",
              "</table>\n",
              "<p>152 rows × 4 columns</p>\n",
              "</div>"
            ],
            "text/plain": [
              "     Underlying       Date      Bid      Ask\n",
              "None                                        \n",
              "0       EUR/CAD 2017-07-02  1.47643  1.47830\n",
              "1       EUR/CAD 2017-07-03  1.46671  1.46873\n",
              "2       EUR/CAD 2017-07-04  1.47063  1.47082\n",
              "3       EUR/CAD 2017-07-05  1.48243  1.48259\n",
              "4       EUR/CAD 2017-07-06  1.46789  1.46859\n",
              "...         ...        ...      ...      ...\n",
              "147     EUR/CAD 2017-12-21  1.50854  1.51025\n",
              "148     EUR/CAD 2017-12-25  1.50386  1.50489\n",
              "149     EUR/CAD 2017-12-26  1.50396  1.50485\n",
              "150     EUR/CAD 2017-12-27  1.50020  1.50118\n",
              "151     EUR/CAD 2017-12-28  1.50925  1.51090\n",
              "\n",
              "[152 rows x 4 columns]"
            ]
          },
          "metadata": {
            "tags": []
          }
        }
      ]
    }
  ]
}