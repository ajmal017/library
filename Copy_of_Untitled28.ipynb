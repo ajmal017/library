{
  "nbformat": 4,
  "nbformat_minor": 0,
  "metadata": {
    "colab": {
      "name": "Copy of Untitled28.ipynb",
      "provenance": [],
      "authorship_tag": "ABX9TyNfGf/CqZR5nVpnAiPAjxhg",
      "include_colab_link": true
    },
    "kernelspec": {
      "name": "python3",
      "display_name": "Python 3"
    }
  },
  "cells": [
    {
      "cell_type": "markdown",
      "metadata": {
        "id": "view-in-github",
        "colab_type": "text"
      },
      "source": [
        "<a href=\"https://colab.research.google.com/github/rhysdavies21/library/blob/master/Copy_of_Untitled28.ipynb\" target=\"_parent\"><img src=\"https://colab.research.google.com/assets/colab-badge.svg\" alt=\"Open In Colab\"/></a>"
      ]
    },
    {
      "cell_type": "markdown",
      "metadata": {
        "id": "MoGkM9r-lXA4",
        "colab_type": "text"
      },
      "source": [
        "##**Random Walks**"
      ]
    },
    {
      "cell_type": "code",
      "metadata": {
        "id": "-VNwJVjAlbod",
        "colab_type": "code",
        "colab": {}
      },
      "source": [
        "# Define simple random walk\n",
        "import random\n",
        "\n",
        "def random_walk(n):\n",
        "  \"\"\"Calculates simple random walk in on of four directions\"\"\"\n",
        "  x=0\n",
        "  y=0\n",
        "  for i in range(n):\n",
        "    step = random.choice(['N', 'S', 'E', 'W'])\n",
        "    if step == 'N':\n",
        "      y = y+1\n",
        "    elif step == 'S':\n",
        "      y = y-1\n",
        "    elif step == 'E':\n",
        "      x = x+1\n",
        "    elif step == 'W':\n",
        "      x = x-1\n",
        "    else:\n",
        "      Message = 'Check for error'\n",
        "      return Message\n",
        "  return (x,y)"
      ],
      "execution_count": null,
      "outputs": []
    },
    {
      "cell_type": "code",
      "metadata": {
        "id": "KLUHs61c7Fll",
        "colab_type": "code",
        "colab": {
          "base_uri": "https://localhost:8080/",
          "height": 435
        },
        "outputId": "721de347-0ec3-4239-87eb-14018943bbcd"
      },
      "source": [
        "# Run random_walk\n",
        "\n",
        "for i in range(25):\n",
        "  walk = random_walk(10)\n",
        "  distance = abs(walk[0])+abs(walk[1])\n",
        "  print(walk, \"Distance from home =\", distance)"
      ],
      "execution_count": null,
      "outputs": [
        {
          "output_type": "stream",
          "text": [
            "(1, 1) Distance from home = 2\n",
            "(2, 2) Distance from home = 4\n",
            "(-2, -2) Distance from home = 4\n",
            "(0, 0) Distance from home = 0\n",
            "(-2, 0) Distance from home = 2\n",
            "(1, 1) Distance from home = 2\n",
            "(5, 1) Distance from home = 6\n",
            "(-5, -1) Distance from home = 6\n",
            "(2, 0) Distance from home = 2\n",
            "(2, -2) Distance from home = 4\n",
            "(2, 2) Distance from home = 4\n",
            "(-3, -3) Distance from home = 6\n",
            "(-2, -2) Distance from home = 4\n",
            "(0, 0) Distance from home = 0\n",
            "(1, -1) Distance from home = 2\n",
            "(-4, 2) Distance from home = 6\n",
            "(-3, 1) Distance from home = 4\n",
            "(0, 4) Distance from home = 4\n",
            "(2, 0) Distance from home = 2\n",
            "(-1, 1) Distance from home = 2\n",
            "(1, -1) Distance from home = 2\n",
            "(5, 1) Distance from home = 6\n",
            "(-1, 1) Distance from home = 2\n",
            "(0, 2) Distance from home = 2\n",
            "(0, -2) Distance from home = 2\n"
          ],
          "name": "stdout"
        }
      ]
    },
    {
      "cell_type": "code",
      "metadata": {
        "id": "ZhlufOxz7S6N",
        "colab_type": "code",
        "colab": {
          "base_uri": "https://localhost:8080/",
          "height": 518
        },
        "outputId": "1b431930-9129-4cbd-fdfc-a7a6a7b6a11a"
      },
      "source": [
        "def random_walk_2(n):\n",
        "  \"\"\"Return coordinates after n block random walk\"\"\"\n",
        "  x, y = 0, 0\n",
        "  for i in range(n):\n",
        "    (dx, dy) = random.choice([(0,1),(0,-1),(1,0),(-1,0)])\n",
        "    x += dx\n",
        "    y += dy\n",
        "  return (x,y)\n",
        "\n",
        "\n",
        "number_of_walks = 20000\n",
        "\n",
        "for walk_length in range(1,31):\n",
        "  no_transport = 0 # number of walks 4 blocks or less from home\n",
        "  for i in range(number_of_walks):\n",
        "    (x,y) = random_walk_2(walk_length)\n",
        "    distance = abs(x) + abs(y)\n",
        "    if distance <= 4:\n",
        "      no_transport += 1\n",
        "  no_transport_percentage = float(no_transport) / number_of_walks\n",
        "  print(\"Walk size = \", walk_length, \"/ % of no transport = \", 100*no_transport_percentage)"
      ],
      "execution_count": null,
      "outputs": [
        {
          "output_type": "stream",
          "text": [
            "Walk size =  1 / % of no transport =  100.0\n",
            "Walk size =  2 / % of no transport =  100.0\n",
            "Walk size =  3 / % of no transport =  100.0\n",
            "Walk size =  4 / % of no transport =  100.0\n",
            "Walk size =  5 / % of no transport =  87.69\n",
            "Walk size =  6 / % of no transport =  94.03\n",
            "Walk size =  7 / % of no transport =  76.07000000000001\n",
            "Walk size =  8 / % of no transport =  86.625\n",
            "Walk size =  9 / % of no transport =  66.905\n",
            "Walk size =  10 / % of no transport =  79.19500000000001\n",
            "Walk size =  11 / % of no transport =  59.485\n",
            "Walk size =  12 / % of no transport =  72.59\n",
            "Walk size =  13 / % of no transport =  54.13\n",
            "Walk size =  14 / % of no transport =  67.52\n",
            "Walk size =  15 / % of no transport =  48.93\n",
            "Walk size =  16 / % of no transport =  63.3\n",
            "Walk size =  17 / % of no transport =  45.235\n",
            "Walk size =  18 / % of no transport =  57.91\n",
            "Walk size =  19 / % of no transport =  40.53\n",
            "Walk size =  20 / % of no transport =  54.72\n",
            "Walk size =  21 / % of no transport =  38.015\n",
            "Walk size =  22 / % of no transport =  50.955\n",
            "Walk size =  23 / % of no transport =  35.465\n",
            "Walk size =  24 / % of no transport =  47.635\n",
            "Walk size =  25 / % of no transport =  33.485\n",
            "Walk size =  26 / % of no transport =  45.83\n",
            "Walk size =  27 / % of no transport =  30.714999999999996\n",
            "Walk size =  28 / % of no transport =  43.05\n",
            "Walk size =  29 / % of no transport =  29.160000000000004\n",
            "Walk size =  30 / % of no transport =  40.589999999999996\n"
          ],
          "name": "stdout"
        }
      ]
    }
  ]
}