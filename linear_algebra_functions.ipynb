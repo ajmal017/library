{
  "nbformat": 4,
  "nbformat_minor": 0,
  "metadata": {
    "colab": {
      "name": "linear_algebra_functions.ipynb",
      "provenance": [],
      "collapsed_sections": [],
      "include_colab_link": true
    },
    "kernelspec": {
      "name": "python3",
      "display_name": "Python 3"
    }
  },
  "cells": [
    {
      "cell_type": "markdown",
      "metadata": {
        "id": "view-in-github",
        "colab_type": "text"
      },
      "source": [
        "<a href=\"https://colab.research.google.com/github/rhysdavies21/library/blob/master/linear_algebra_functions.ipynb\" target=\"_parent\"><img src=\"https://colab.research.google.com/assets/colab-badge.svg\" alt=\"Open In Colab\"/></a>"
      ]
    },
    {
      "cell_type": "markdown",
      "metadata": {
        "id": "FSu39q-ihf8m",
        "colab_type": "text"
      },
      "source": [
        "Linear algebra functions"
      ]
    },
    {
      "cell_type": "code",
      "metadata": {
        "id": "LDkMgj1lifBU",
        "colab_type": "code",
        "colab": {}
      },
      "source": [
        "import numpy as np"
      ],
      "execution_count": 0,
      "outputs": []
    },
    {
      "cell_type": "code",
      "metadata": {
        "id": "dZm_vOlbgyyi",
        "colab_type": "code",
        "colab": {
          "base_uri": "https://localhost:8080/",
          "height": 252
        },
        "outputId": "4de2a139-a248-400b-d179-f20c84845db7"
      },
      "source": [
        "# Re-shaping\n",
        "print('Original')\n",
        "x = np.array([[0.,1.],[2.,3.],[4.,5.]])\n",
        "print('Shape of x: ', x.shape)\n",
        "print('Type of x: ', type(x))\n",
        "display('x: ', x)\n",
        "\n",
        "print('\\nRe-shaped')\n",
        "y = x.reshape((2,3))\n",
        "print('Shape of y: ', y.shape)\n",
        "print('Type of y: ', type(y))\n",
        "display('y: ', y)"
      ],
      "execution_count": 41,
      "outputs": [
        {
          "output_type": "stream",
          "text": [
            "Original\n",
            "Shape of x:  (3, 2)\n",
            "Type of x:  <class 'numpy.ndarray'>\n"
          ],
          "name": "stdout"
        },
        {
          "output_type": "display_data",
          "data": {
            "text/plain": [
              "'x: '"
            ]
          },
          "metadata": {
            "tags": []
          }
        },
        {
          "output_type": "display_data",
          "data": {
            "text/plain": [
              "array([[0., 1.],\n",
              "       [2., 3.],\n",
              "       [4., 5.]])"
            ]
          },
          "metadata": {
            "tags": []
          }
        },
        {
          "output_type": "stream",
          "text": [
            "\n",
            "Re-shaped\n",
            "Shape of y:  (2, 3)\n",
            "Type of y:  <class 'numpy.ndarray'>\n"
          ],
          "name": "stdout"
        },
        {
          "output_type": "display_data",
          "data": {
            "text/plain": [
              "'y: '"
            ]
          },
          "metadata": {
            "tags": []
          }
        },
        {
          "output_type": "display_data",
          "data": {
            "text/plain": [
              "array([[0., 1., 2.],\n",
              "       [3., 4., 5.]])"
            ]
          },
          "metadata": {
            "tags": []
          }
        }
      ]
    },
    {
      "cell_type": "code",
      "metadata": {
        "id": "dUJzurl1g3lj",
        "colab_type": "code",
        "colab": {
          "base_uri": "https://localhost:8080/",
          "height": 50
        },
        "outputId": "4db6688c-0a78-434b-bce8-1b84059643e4"
      },
      "source": [
        "# Numpy transpose\n",
        "q = np.zeros((300,20))\n",
        "print('Shape of array: ', q.shape)\n",
        "w = np.transpose(q)\n",
        "print('Shape of transpose: ', q.shape)"
      ],
      "execution_count": 42,
      "outputs": [
        {
          "output_type": "stream",
          "text": [
            "Shape of array:  (300, 20)\n",
            "Shape of transpose:  (300, 20)\n"
          ],
          "name": "stdout"
        }
      ]
    },
    {
      "cell_type": "code",
      "metadata": {
        "id": "z5faI3t3hAC6",
        "colab_type": "code",
        "colab": {
          "base_uri": "https://localhost:8080/",
          "height": 67
        },
        "outputId": "cec8a3c2-e77b-461d-cd40-cca51d771e33"
      },
      "source": [
        "# Element-wise relu\n",
        "def naive_relu(x):\n",
        "  assert len(x.shape) == 2\n",
        "  \n",
        "  x = x.copy()\n",
        "  for i in range(x.shape[0]):\n",
        "    for j in range(x.shape[1]):\n",
        "      x[i,j] = max(x[i,j],0)\n",
        "  return x\n",
        "\n",
        "a = np.array([[0.,-1.,6.],[2.,-3.,7.],[-4.,5.,-55]])\n",
        "naive_relu(a)"
      ],
      "execution_count": 43,
      "outputs": [
        {
          "output_type": "execute_result",
          "data": {
            "text/plain": [
              "array([[0., 0., 6.],\n",
              "       [2., 0., 7.],\n",
              "       [0., 5., 0.]])"
            ]
          },
          "metadata": {
            "tags": []
          },
          "execution_count": 43
        }
      ]
    },
    {
      "cell_type": "code",
      "metadata": {
        "id": "2wiokzGehGIz",
        "colab_type": "code",
        "colab": {
          "base_uri": "https://localhost:8080/",
          "height": 67
        },
        "outputId": "9d92fb7b-18db-4ac8-d7e0-b0cb366d9019"
      },
      "source": [
        "# Element-wise addition\n",
        "def naive_add(x,y):\n",
        "  assert len(x.shape) == 2\n",
        "  assert x.shape == y.shape\n",
        "\n",
        "  x = x.copy()\n",
        "  for i in range(x.shape[0]):\n",
        "    for j in range(x.shape[1]):\n",
        "      x[i,j] += y[i,j]\n",
        "  return x\n",
        "\n",
        "u = np.array([[0.,-1.,6.],[2.,3.,7.],[-4.,5.,-55]])\n",
        "v = np.array([[0.,-1.,6.],[2.,3.,7.],[-4.,5.,-55]])\n",
        "naive_add(u,v)"
      ],
      "execution_count": 44,
      "outputs": [
        {
          "output_type": "execute_result",
          "data": {
            "text/plain": [
              "array([[   0.,   -2.,   12.],\n",
              "       [   4.,    6.,   14.],\n",
              "       [  -8.,   10., -110.]])"
            ]
          },
          "metadata": {
            "tags": []
          },
          "execution_count": 44
        }
      ]
    },
    {
      "cell_type": "code",
      "metadata": {
        "id": "APA8cIvPhOAz",
        "colab_type": "code",
        "colab": {
          "base_uri": "https://localhost:8080/",
          "height": 218
        },
        "outputId": "03775b6f-4dc6-44bd-9738-881fdd19131a"
      },
      "source": [
        "# Broadcasting - adding matrix and vector\n",
        "def naive_add_matrix_and_Vector(x,y):\n",
        "  assert len(x.shape) == 2\n",
        "  assert len(y.shape) == 1\n",
        "  assert x.shape[1] == y.shape[0]\n",
        "\n",
        "  x = x.copy()\n",
        "  for i in range(x.shape[0]):\n",
        "    for j in range(x.shape[1]):\n",
        "      x[i,j] += y[j]\n",
        "  return x\n",
        "  \n",
        "a = np.array([[1,2,3],[4,5,6],[7,8,9]])\n",
        "b = np.array([1,2,3])\n",
        "print('a')\n",
        "display(a)\n",
        "print('\\nb')\n",
        "display(b)\n",
        "print('\\nadd_matrix_vector')\n",
        "naive_add_matrix_and_Vector(a,b)"
      ],
      "execution_count": 45,
      "outputs": [
        {
          "output_type": "stream",
          "text": [
            "a\n"
          ],
          "name": "stdout"
        },
        {
          "output_type": "display_data",
          "data": {
            "text/plain": [
              "array([[1, 2, 3],\n",
              "       [4, 5, 6],\n",
              "       [7, 8, 9]])"
            ]
          },
          "metadata": {
            "tags": []
          }
        },
        {
          "output_type": "stream",
          "text": [
            "\n",
            "b\n"
          ],
          "name": "stdout"
        },
        {
          "output_type": "display_data",
          "data": {
            "text/plain": [
              "array([1, 2, 3])"
            ]
          },
          "metadata": {
            "tags": []
          }
        },
        {
          "output_type": "stream",
          "text": [
            "\n",
            "add_matrix_vector\n"
          ],
          "name": "stdout"
        },
        {
          "output_type": "execute_result",
          "data": {
            "text/plain": [
              "array([[ 2,  4,  6],\n",
              "       [ 5,  7,  9],\n",
              "       [ 8, 10, 12]])"
            ]
          },
          "metadata": {
            "tags": []
          },
          "execution_count": 45
        }
      ]
    },
    {
      "cell_type": "code",
      "metadata": {
        "id": "EoXcM-ZuhQYI",
        "colab_type": "code",
        "colab": {
          "base_uri": "https://localhost:8080/",
          "height": 34
        },
        "outputId": "ad55a09b-df65-4743-82df-928d2d8d170b"
      },
      "source": [
        "# Tensor dot \n",
        "def naive_vector_dot(x,y):\n",
        "  assert len(x.shape) == 1\n",
        "  assert len(y.shape) == 1\n",
        "  assert x.shape[0] == y.shape[0]\n",
        "\n",
        "  z = 0 \n",
        "  for i in range(x.shape[0]):\n",
        "    z+= x[i] * y[i]\n",
        "  return z\n",
        "\n",
        "a = np.array([1,2,3])\n",
        "b = np.array([2,4,6])\n",
        "naive_vector_dot(a,b)"
      ],
      "execution_count": 46,
      "outputs": [
        {
          "output_type": "execute_result",
          "data": {
            "text/plain": [
              "28"
            ]
          },
          "metadata": {
            "tags": []
          },
          "execution_count": 46
        }
      ]
    },
    {
      "cell_type": "code",
      "metadata": {
        "id": "1icfhzfahTfE",
        "colab_type": "code",
        "colab": {
          "base_uri": "https://localhost:8080/",
          "height": 34
        },
        "outputId": "f5140c00-1649-43af-8afb-12cfb2d24a05"
      },
      "source": [
        "# Matrix vector dot\n",
        "def naive_matrix_vector_dot(x,y):\n",
        "  assert len(x.shape) == 2\n",
        "  assert len(y.shape) == 1\n",
        "  assert x.shape[1] == y.shape[0]\n",
        "\n",
        "  z = np.zeros(x.shape[0])\n",
        "  for i in range(x.shape[0]):\n",
        "    for j in range(x.shape[1]):\n",
        "      z[i] += x[i,j] * y[j]\n",
        "  return z\n",
        "\n",
        "a = np.array([[1,2,3],[4,5,6]])\n",
        "b = np.array([2,4,6])\n",
        "naive_matrix_vector_dot(a,b)"
      ],
      "execution_count": 47,
      "outputs": [
        {
          "output_type": "execute_result",
          "data": {
            "text/plain": [
              "array([28., 64.])"
            ]
          },
          "metadata": {
            "tags": []
          },
          "execution_count": 47
        }
      ]
    },
    {
      "cell_type": "code",
      "metadata": {
        "id": "lkfSxIuAhV_3",
        "colab_type": "code",
        "colab": {
          "base_uri": "https://localhost:8080/",
          "height": 67
        },
        "outputId": "34a0f70f-0b3a-4681-947a-7a631cb457d0"
      },
      "source": [
        "# Matrix multiplication\n",
        "def naive_matrix(x,y):\n",
        "  assert len(x.shape) == 2\n",
        "  assert len(y.shape) == 2\n",
        "  assert x.shape[1] == y.shape[0]\n",
        "\n",
        "  z = np.zeros((x.shape[0],y.shape[1]))\n",
        "  for i in range(x.shape[0]):\n",
        "    for j in range(y.shape[1]):\n",
        "      row_x = x[i,:]\n",
        "      column_y = y[:,j]\n",
        "      z[i,j] = naive_vector_dot(row_x, column_y)\n",
        "  return z\n",
        "  \n",
        "a = np.array([[1,2,3],[4,5,6],[4,5,6]])\n",
        "b = np.array([[1,2,3],[4,5,6],[4,5,6]])\n",
        "naive_matrix(a,b)"
      ],
      "execution_count": 48,
      "outputs": [
        {
          "output_type": "execute_result",
          "data": {
            "text/plain": [
              "array([[21., 27., 33.],\n",
              "       [48., 63., 78.],\n",
              "       [48., 63., 78.]])"
            ]
          },
          "metadata": {
            "tags": []
          },
          "execution_count": 48
        }
      ]
    }
  ]
}