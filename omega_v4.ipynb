{
  "nbformat": 4,
  "nbformat_minor": 0,
  "metadata": {
    "colab": {
      "name": "Untitled13.ipynb",
      "provenance": [],
      "collapsed_sections": [],
      "include_colab_link": true
    },
    "kernelspec": {
      "name": "python3",
      "display_name": "Python 3"
    }
  },
  "cells": [
    {
      "cell_type": "markdown",
      "metadata": {
        "id": "view-in-github",
        "colab_type": "text"
      },
      "source": [
        "<a href=\"https://colab.research.google.com/github/rhysdavies21/library/blob/master/omega_v4.ipynb\" target=\"_parent\"><img src=\"https://colab.research.google.com/assets/colab-badge.svg\" alt=\"Open In Colab\"/></a>"
      ]
    },
    {
      "cell_type": "markdown",
      "metadata": {
        "id": "3Qhd-hF-sFns",
        "colab_type": "text"
      },
      "source": [
        "## **Comparing the Omega Measure across asset class**\n",
        "\n",
        "---\n",
        "\n"
      ]
    },
    {
      "cell_type": "markdown",
      "metadata": {
        "id": "tcbzLiRIdbnY",
        "colab_type": "text"
      },
      "source": [
        "**1. Load libraries and input**"
      ]
    },
    {
      "cell_type": "code",
      "metadata": {
        "id": "qO-AskLNsG2C",
        "colab_type": "code",
        "outputId": "c92a359b-e135-4e38-a393-6d80d2967a74",
        "colab": {
          "base_uri": "https://localhost:8080/",
          "height": 218
        }
      },
      "source": [
        "pip install yfinance --upgrade --no-cache-dir"
      ],
      "execution_count": 1,
      "outputs": [
        {
          "output_type": "stream",
          "text": [
            "Requirement already up-to-date: yfinance in /usr/local/lib/python3.6/dist-packages (0.1.49)\n",
            "Requirement already satisfied, skipping upgrade: multitasking>=0.0.7 in /usr/local/lib/python3.6/dist-packages (from yfinance) (0.0.9)\n",
            "Requirement already satisfied, skipping upgrade: numpy>=1.15 in /usr/local/lib/python3.6/dist-packages (from yfinance) (1.17.3)\n",
            "Requirement already satisfied, skipping upgrade: requests>=2.20 in /usr/local/lib/python3.6/dist-packages (from yfinance) (2.21.0)\n",
            "Requirement already satisfied, skipping upgrade: pandas>=0.24 in /usr/local/lib/python3.6/dist-packages (from yfinance) (0.25.2)\n",
            "Requirement already satisfied, skipping upgrade: urllib3<1.25,>=1.21.1 in /usr/local/lib/python3.6/dist-packages (from requests>=2.20->yfinance) (1.24.3)\n",
            "Requirement already satisfied, skipping upgrade: idna<2.9,>=2.5 in /usr/local/lib/python3.6/dist-packages (from requests>=2.20->yfinance) (2.8)\n",
            "Requirement already satisfied, skipping upgrade: certifi>=2017.4.17 in /usr/local/lib/python3.6/dist-packages (from requests>=2.20->yfinance) (2019.9.11)\n",
            "Requirement already satisfied, skipping upgrade: chardet<3.1.0,>=3.0.2 in /usr/local/lib/python3.6/dist-packages (from requests>=2.20->yfinance) (3.0.4)\n",
            "Requirement already satisfied, skipping upgrade: python-dateutil>=2.6.1 in /usr/local/lib/python3.6/dist-packages (from pandas>=0.24->yfinance) (2.6.1)\n",
            "Requirement already satisfied, skipping upgrade: pytz>=2017.2 in /usr/local/lib/python3.6/dist-packages (from pandas>=0.24->yfinance) (2018.9)\n",
            "Requirement already satisfied, skipping upgrade: six>=1.5 in /usr/local/lib/python3.6/dist-packages (from python-dateutil>=2.6.1->pandas>=0.24->yfinance) (1.12.0)\n"
          ],
          "name": "stdout"
        }
      ]
    },
    {
      "cell_type": "code",
      "metadata": {
        "id": "ATxI3KZWsP2a",
        "colab_type": "code",
        "colab": {}
      },
      "source": [
        "# Import libraries\n",
        "import pandas as pd\n",
        "import yfinance as yf\n",
        "import matplotlib\n",
        "import matplotlib.pyplot as plt\n",
        "%matplotlib inline"
      ],
      "execution_count": 0,
      "outputs": []
    },
    {
      "cell_type": "code",
      "metadata": {
        "id": "n0NmH9SrA2zZ",
        "colab_type": "code",
        "colab": {}
      },
      "source": [
        "# Create class of formats\n",
        "class color:\n",
        "   PURPLE = '\\033[95m'\n",
        "   CYAN = '\\033[96m'\n",
        "   DARKCYAN = '\\033[36m'\n",
        "   BLUE = '\\033[94m'\n",
        "   GREEN = '\\033[92m'\n",
        "   YELLOW = '\\033[93m'\n",
        "   RED = '\\033[91m'\n",
        "   BOLD = '\\033[1m'\n",
        "   UNDERLINE = '\\033[4m'\n",
        "   END = '\\033[0m'"
      ],
      "execution_count": 0,
      "outputs": []
    },
    {
      "cell_type": "code",
      "metadata": {
        "id": "dqd20HDwsXED",
        "colab_type": "code",
        "outputId": "6383d282-32a6-4838-fee1-693c8f9fd28d",
        "colab": {
          "base_uri": "https://localhost:8080/",
          "height": 67
        }
      },
      "source": [
        "# Choose inputs\n",
        "assets = '^FTSE ^GSPC HISFX AAPL ^N225 ^HSI'\n",
        "start_date = '2016-01-01'\n",
        "end_date = '2019-10-24'\n",
        "\n",
        "# Generate inputs\n",
        "#assets = str(input(\"Choose tickers (string format with space between tickers) \"))\n",
        "#start_date = str(input(\"Choose start date (yyyy-mm-dd) \"))\n",
        "#end_date = str(input(\"Choose end date (yyyy-mm-dd) \"))\n",
        "\n",
        "# Display inputs\n",
        "print(color.BOLD+'assets :'+color.END, type(assets), assets)\n",
        "print(color.BOLD+'start_date: '+color.END, type(start_date), start_date)\n",
        "print(color.BOLD+'end_date: '+color.END, type(end_date), end_date)"
      ],
      "execution_count": 4,
      "outputs": [
        {
          "output_type": "stream",
          "text": [
            "\u001b[1massets :\u001b[0m <class 'str'> ^FTSE ^GSPC HISFX AAPL ^N225 ^HSI\n",
            "\u001b[1mstart_date: \u001b[0m <class 'str'> 2016-01-01\n",
            "\u001b[1mend_date: \u001b[0m <class 'str'> 2019-10-24\n"
          ],
          "name": "stdout"
        }
      ]
    },
    {
      "cell_type": "markdown",
      "metadata": {
        "id": "Ia9zx59kdwbH",
        "colab_type": "text"
      },
      "source": [
        "**2. Import and process and review historical data**"
      ]
    },
    {
      "cell_type": "code",
      "metadata": {
        "id": "LKjn7tSzF96G",
        "colab_type": "code",
        "outputId": "5dc366c4-b250-492a-91f3-3379b69499e4",
        "colab": {
          "base_uri": "https://localhost:8080/",
          "height": 550
        }
      },
      "source": [
        "# Import data\n",
        "raw_data = yf.download(assets, start_date, end_date)\n",
        "\n",
        "# Review data\n",
        "print('\\n', color.BOLD+'Review dataframe of input data - head:'+color.END)\n",
        "display(raw_data['Adj Close'].head())\n",
        "\n",
        "print('\\n', color.BOLD+'Review dataframe of input data - tail:'+color.END)\n",
        "display(raw_data['Adj Close'].tail())\n",
        "\n",
        "print('\\n',color.BOLD+'Review shape of raw_data: '+color.END, raw_data.shape)"
      ],
      "execution_count": 5,
      "outputs": [
        {
          "output_type": "stream",
          "text": [
            "[*********************100%***********************]  6 of 6 completed\n",
            "\n",
            " \u001b[1mReview dataframe of input data - head:\u001b[0m\n"
          ],
          "name": "stdout"
        },
        {
          "output_type": "display_data",
          "data": {
            "text/html": [
              "<div>\n",
              "<style scoped>\n",
              "    .dataframe tbody tr th:only-of-type {\n",
              "        vertical-align: middle;\n",
              "    }\n",
              "\n",
              "    .dataframe tbody tr th {\n",
              "        vertical-align: top;\n",
              "    }\n",
              "\n",
              "    .dataframe thead th {\n",
              "        text-align: right;\n",
              "    }\n",
              "</style>\n",
              "<table border=\"1\" class=\"dataframe\">\n",
              "  <thead>\n",
              "    <tr style=\"text-align: right;\">\n",
              "      <th></th>\n",
              "      <th>AAPL</th>\n",
              "      <th>HISFX</th>\n",
              "      <th>^FTSE</th>\n",
              "      <th>^GSPC</th>\n",
              "      <th>^HSI</th>\n",
              "      <th>^N225</th>\n",
              "    </tr>\n",
              "    <tr>\n",
              "      <th>Date</th>\n",
              "      <th></th>\n",
              "      <th></th>\n",
              "      <th></th>\n",
              "      <th></th>\n",
              "      <th></th>\n",
              "      <th></th>\n",
              "    </tr>\n",
              "  </thead>\n",
              "  <tbody>\n",
              "    <tr>\n",
              "      <th>2016-01-04</th>\n",
              "      <td>98.742249</td>\n",
              "      <td>9.720344</td>\n",
              "      <td>6093.399902</td>\n",
              "      <td>2012.660034</td>\n",
              "      <td>21327.119141</td>\n",
              "      <td>18450.980469</td>\n",
              "    </tr>\n",
              "    <tr>\n",
              "      <th>2016-01-05</th>\n",
              "      <td>96.267815</td>\n",
              "      <td>9.757700</td>\n",
              "      <td>6137.200195</td>\n",
              "      <td>2016.709961</td>\n",
              "      <td>21188.720703</td>\n",
              "      <td>18374.000000</td>\n",
              "    </tr>\n",
              "    <tr>\n",
              "      <th>2016-01-06</th>\n",
              "      <td>94.383888</td>\n",
              "      <td>9.735286</td>\n",
              "      <td>6073.399902</td>\n",
              "      <td>1990.260010</td>\n",
              "      <td>20980.810547</td>\n",
              "      <td>18191.320312</td>\n",
              "    </tr>\n",
              "    <tr>\n",
              "      <th>2016-01-07</th>\n",
              "      <td>90.400467</td>\n",
              "      <td>9.541029</td>\n",
              "      <td>5954.100098</td>\n",
              "      <td>1943.089966</td>\n",
              "      <td>20333.339844</td>\n",
              "      <td>17767.339844</td>\n",
              "    </tr>\n",
              "    <tr>\n",
              "      <th>2016-01-08</th>\n",
              "      <td>90.878479</td>\n",
              "      <td>9.414014</td>\n",
              "      <td>5912.399902</td>\n",
              "      <td>1922.030029</td>\n",
              "      <td>20453.710938</td>\n",
              "      <td>17697.960938</td>\n",
              "    </tr>\n",
              "  </tbody>\n",
              "</table>\n",
              "</div>"
            ],
            "text/plain": [
              "                 AAPL     HISFX  ...          ^HSI         ^N225\n",
              "Date                             ...                            \n",
              "2016-01-04  98.742249  9.720344  ...  21327.119141  18450.980469\n",
              "2016-01-05  96.267815  9.757700  ...  21188.720703  18374.000000\n",
              "2016-01-06  94.383888  9.735286  ...  20980.810547  18191.320312\n",
              "2016-01-07  90.400467  9.541029  ...  20333.339844  17767.339844\n",
              "2016-01-08  90.878479  9.414014  ...  20453.710938  17697.960938\n",
              "\n",
              "[5 rows x 6 columns]"
            ]
          },
          "metadata": {
            "tags": []
          }
        },
        {
          "output_type": "stream",
          "text": [
            "\n",
            " \u001b[1mReview dataframe of input data - tail:\u001b[0m\n"
          ],
          "name": "stdout"
        },
        {
          "output_type": "display_data",
          "data": {
            "text/html": [
              "<div>\n",
              "<style scoped>\n",
              "    .dataframe tbody tr th:only-of-type {\n",
              "        vertical-align: middle;\n",
              "    }\n",
              "\n",
              "    .dataframe tbody tr th {\n",
              "        vertical-align: top;\n",
              "    }\n",
              "\n",
              "    .dataframe thead th {\n",
              "        text-align: right;\n",
              "    }\n",
              "</style>\n",
              "<table border=\"1\" class=\"dataframe\">\n",
              "  <thead>\n",
              "    <tr style=\"text-align: right;\">\n",
              "      <th></th>\n",
              "      <th>AAPL</th>\n",
              "      <th>HISFX</th>\n",
              "      <th>^FTSE</th>\n",
              "      <th>^GSPC</th>\n",
              "      <th>^HSI</th>\n",
              "      <th>^N225</th>\n",
              "    </tr>\n",
              "    <tr>\n",
              "      <th>Date</th>\n",
              "      <th></th>\n",
              "      <th></th>\n",
              "      <th></th>\n",
              "      <th></th>\n",
              "      <th></th>\n",
              "      <th></th>\n",
              "    </tr>\n",
              "  </thead>\n",
              "  <tbody>\n",
              "    <tr>\n",
              "      <th>2019-10-18</th>\n",
              "      <td>236.410004</td>\n",
              "      <td>12.60</td>\n",
              "      <td>7150.600098</td>\n",
              "      <td>2986.199951</td>\n",
              "      <td>26719.580078</td>\n",
              "      <td>22492.679688</td>\n",
              "    </tr>\n",
              "    <tr>\n",
              "      <th>2019-10-21</th>\n",
              "      <td>240.509995</td>\n",
              "      <td>12.75</td>\n",
              "      <td>7163.600098</td>\n",
              "      <td>3006.719971</td>\n",
              "      <td>26725.679688</td>\n",
              "      <td>22548.900391</td>\n",
              "    </tr>\n",
              "    <tr>\n",
              "      <th>2019-10-22</th>\n",
              "      <td>239.960007</td>\n",
              "      <td>12.80</td>\n",
              "      <td>7212.500000</td>\n",
              "      <td>2995.989990</td>\n",
              "      <td>26786.199219</td>\n",
              "      <td>NaN</td>\n",
              "    </tr>\n",
              "    <tr>\n",
              "      <th>2019-10-23</th>\n",
              "      <td>243.179993</td>\n",
              "      <td>12.78</td>\n",
              "      <td>7260.700195</td>\n",
              "      <td>3004.520020</td>\n",
              "      <td>26566.730469</td>\n",
              "      <td>22625.380859</td>\n",
              "    </tr>\n",
              "    <tr>\n",
              "      <th>2019-10-24</th>\n",
              "      <td>NaN</td>\n",
              "      <td>NaN</td>\n",
              "      <td>7328.299805</td>\n",
              "      <td>NaN</td>\n",
              "      <td>26797.949219</td>\n",
              "      <td>22750.599609</td>\n",
              "    </tr>\n",
              "  </tbody>\n",
              "</table>\n",
              "</div>"
            ],
            "text/plain": [
              "                  AAPL  HISFX  ...          ^HSI         ^N225\n",
              "Date                           ...                            \n",
              "2019-10-18  236.410004  12.60  ...  26719.580078  22492.679688\n",
              "2019-10-21  240.509995  12.75  ...  26725.679688  22548.900391\n",
              "2019-10-22  239.960007  12.80  ...  26786.199219           NaN\n",
              "2019-10-23  243.179993  12.78  ...  26566.730469  22625.380859\n",
              "2019-10-24         NaN    NaN  ...  26797.949219  22750.599609\n",
              "\n",
              "[5 rows x 6 columns]"
            ]
          },
          "metadata": {
            "tags": []
          }
        },
        {
          "output_type": "stream",
          "text": [
            "\n",
            " \u001b[1mReview shape of raw_data: \u001b[0m (991, 36)\n"
          ],
          "name": "stdout"
        }
      ]
    },
    {
      "cell_type": "code",
      "metadata": {
        "id": "Dtajs81nubM0",
        "colab_type": "code",
        "outputId": "956b2bb2-9cdc-45bc-917f-9c857a0c18e6",
        "colab": {
          "base_uri": "https://localhost:8080/",
          "height": 449
        }
      },
      "source": [
        "# Change into performance metric\n",
        "new_df = raw_data['Adj Close'].pct_change(periods=1)   # Calculate performance: (data_adjclose['asset'][1] / data_adjclose['asset'][0] ) -1\n",
        "\n",
        "# Create asset_list\n",
        "asset_list = list(new_df.columns)[0:]\n",
        "\n",
        "# Review data\n",
        "print('\\n', color.BOLD+'Review dataframe of performance data - head:'+color.END)\n",
        "display(new_df.head(3))\n",
        "\n",
        "print('\\n', color.BOLD+'Review dataframe of performance data - tail:'+color.END)\n",
        "display(new_df.tail(3))\n",
        "\n",
        "print('\\n',color.BOLD+'Review shape of new_df: '+color.END, new_df.shape)\n",
        "print('\\n', color.BOLD+'asset_list: '+color.END, asset_list)"
      ],
      "execution_count": 6,
      "outputs": [
        {
          "output_type": "stream",
          "text": [
            "\n",
            " \u001b[1mReview dataframe of performance data - head:\u001b[0m\n"
          ],
          "name": "stdout"
        },
        {
          "output_type": "display_data",
          "data": {
            "text/html": [
              "<div>\n",
              "<style scoped>\n",
              "    .dataframe tbody tr th:only-of-type {\n",
              "        vertical-align: middle;\n",
              "    }\n",
              "\n",
              "    .dataframe tbody tr th {\n",
              "        vertical-align: top;\n",
              "    }\n",
              "\n",
              "    .dataframe thead th {\n",
              "        text-align: right;\n",
              "    }\n",
              "</style>\n",
              "<table border=\"1\" class=\"dataframe\">\n",
              "  <thead>\n",
              "    <tr style=\"text-align: right;\">\n",
              "      <th></th>\n",
              "      <th>AAPL</th>\n",
              "      <th>HISFX</th>\n",
              "      <th>^FTSE</th>\n",
              "      <th>^GSPC</th>\n",
              "      <th>^HSI</th>\n",
              "      <th>^N225</th>\n",
              "    </tr>\n",
              "    <tr>\n",
              "      <th>Date</th>\n",
              "      <th></th>\n",
              "      <th></th>\n",
              "      <th></th>\n",
              "      <th></th>\n",
              "      <th></th>\n",
              "      <th></th>\n",
              "    </tr>\n",
              "  </thead>\n",
              "  <tbody>\n",
              "    <tr>\n",
              "      <th>2016-01-04</th>\n",
              "      <td>NaN</td>\n",
              "      <td>NaN</td>\n",
              "      <td>NaN</td>\n",
              "      <td>NaN</td>\n",
              "      <td>NaN</td>\n",
              "      <td>NaN</td>\n",
              "    </tr>\n",
              "    <tr>\n",
              "      <th>2016-01-05</th>\n",
              "      <td>-0.02506</td>\n",
              "      <td>0.003843</td>\n",
              "      <td>0.007188</td>\n",
              "      <td>0.002012</td>\n",
              "      <td>-0.006489</td>\n",
              "      <td>-0.004172</td>\n",
              "    </tr>\n",
              "    <tr>\n",
              "      <th>2016-01-06</th>\n",
              "      <td>-0.01957</td>\n",
              "      <td>-0.002297</td>\n",
              "      <td>-0.010396</td>\n",
              "      <td>-0.013115</td>\n",
              "      <td>-0.009812</td>\n",
              "      <td>-0.009942</td>\n",
              "    </tr>\n",
              "  </tbody>\n",
              "</table>\n",
              "</div>"
            ],
            "text/plain": [
              "               AAPL     HISFX     ^FTSE     ^GSPC      ^HSI     ^N225\n",
              "Date                                                                 \n",
              "2016-01-04      NaN       NaN       NaN       NaN       NaN       NaN\n",
              "2016-01-05 -0.02506  0.003843  0.007188  0.002012 -0.006489 -0.004172\n",
              "2016-01-06 -0.01957 -0.002297 -0.010396 -0.013115 -0.009812 -0.009942"
            ]
          },
          "metadata": {
            "tags": []
          }
        },
        {
          "output_type": "stream",
          "text": [
            "\n",
            " \u001b[1mReview dataframe of performance data - tail:\u001b[0m\n"
          ],
          "name": "stdout"
        },
        {
          "output_type": "display_data",
          "data": {
            "text/html": [
              "<div>\n",
              "<style scoped>\n",
              "    .dataframe tbody tr th:only-of-type {\n",
              "        vertical-align: middle;\n",
              "    }\n",
              "\n",
              "    .dataframe tbody tr th {\n",
              "        vertical-align: top;\n",
              "    }\n",
              "\n",
              "    .dataframe thead th {\n",
              "        text-align: right;\n",
              "    }\n",
              "</style>\n",
              "<table border=\"1\" class=\"dataframe\">\n",
              "  <thead>\n",
              "    <tr style=\"text-align: right;\">\n",
              "      <th></th>\n",
              "      <th>AAPL</th>\n",
              "      <th>HISFX</th>\n",
              "      <th>^FTSE</th>\n",
              "      <th>^GSPC</th>\n",
              "      <th>^HSI</th>\n",
              "      <th>^N225</th>\n",
              "    </tr>\n",
              "    <tr>\n",
              "      <th>Date</th>\n",
              "      <th></th>\n",
              "      <th></th>\n",
              "      <th></th>\n",
              "      <th></th>\n",
              "      <th></th>\n",
              "      <th></th>\n",
              "    </tr>\n",
              "  </thead>\n",
              "  <tbody>\n",
              "    <tr>\n",
              "      <th>2019-10-22</th>\n",
              "      <td>-0.002287</td>\n",
              "      <td>0.003922</td>\n",
              "      <td>0.006826</td>\n",
              "      <td>-0.003569</td>\n",
              "      <td>0.002264</td>\n",
              "      <td>0.000000</td>\n",
              "    </tr>\n",
              "    <tr>\n",
              "      <th>2019-10-23</th>\n",
              "      <td>0.013419</td>\n",
              "      <td>-0.001563</td>\n",
              "      <td>0.006683</td>\n",
              "      <td>0.002847</td>\n",
              "      <td>-0.008193</td>\n",
              "      <td>0.003392</td>\n",
              "    </tr>\n",
              "    <tr>\n",
              "      <th>2019-10-24</th>\n",
              "      <td>0.000000</td>\n",
              "      <td>0.000000</td>\n",
              "      <td>0.009310</td>\n",
              "      <td>0.000000</td>\n",
              "      <td>0.008703</td>\n",
              "      <td>0.005534</td>\n",
              "    </tr>\n",
              "  </tbody>\n",
              "</table>\n",
              "</div>"
            ],
            "text/plain": [
              "                AAPL     HISFX     ^FTSE     ^GSPC      ^HSI     ^N225\n",
              "Date                                                                  \n",
              "2019-10-22 -0.002287  0.003922  0.006826 -0.003569  0.002264  0.000000\n",
              "2019-10-23  0.013419 -0.001563  0.006683  0.002847 -0.008193  0.003392\n",
              "2019-10-24  0.000000  0.000000  0.009310  0.000000  0.008703  0.005534"
            ]
          },
          "metadata": {
            "tags": []
          }
        },
        {
          "output_type": "stream",
          "text": [
            "\n",
            " \u001b[1mReview shape of new_df: \u001b[0m (991, 6)\n",
            "\n",
            " \u001b[1masset_list: \u001b[0m ['AAPL', 'HISFX', '^FTSE', '^GSPC', '^HSI', '^N225']\n"
          ],
          "name": "stdout"
        }
      ]
    },
    {
      "cell_type": "markdown",
      "metadata": {
        "id": "u-GCTZe3mJ39",
        "colab_type": "text"
      },
      "source": [
        "**3. Define calc_function to calculate and illustrate Omega by asset and threshold**"
      ]
    },
    {
      "cell_type": "code",
      "metadata": {
        "id": "jJTXzoSNGBeA",
        "colab_type": "code",
        "colab": {}
      },
      "source": [
        "# Input threshold_list as a list of threshold values\n",
        "# calc_omega is function to create omega by asset for a given input of threshold\n",
        "# Inner loops over asset to calculate omega for some threshold. Then outer loop to calculate list of (list) omegas by asset for varying thresholds\n",
        "\n",
        "def calc_omega(threshold_list):\n",
        " # import matplotlib\n",
        "  \n",
        "  update_new_df = new_df        # new dataframe to include gains, losses and omegas\n",
        "  omega_by_asset = []           # list of (lists) omega outputs by underlying asset for particular threshold\n",
        "  col_threshold =[]             # column of threshold values\n",
        "\n",
        "  for t in threshold_list:\n",
        "    threshold = t\n",
        "\n",
        "    vec_assets = []             # vector of assets for some threshold\n",
        "    vec_losses = []             # vector of losses for some threshold\n",
        "    vec_gains = []              # vector of gains for some threshold\n",
        "    vec_omega = []              # vector of omegas for some threshold\n",
        "\n",
        "    for a in asset_list:\n",
        "      \n",
        "      update_new_df['loss_col_'+a]= update_new_df[a].apply(lambda x: float(1) if x < threshold else float(0)) * (threshold - update_new_df[a])\n",
        "      update_new_df['gain_col_'+a]= update_new_df[a].apply(lambda x: float(1) if x > threshold else float(0)) * (update_new_df[a] - threshold)\n",
        "\n",
        "      vec_assets.append(a)\n",
        "      vec_losses.append(sum(update_new_df['loss_col_'+a][1:]))\n",
        "      vec_gains.append(sum(update_new_df['gain_col_'+a][1:]))\n",
        "      vec_omega.append(vec_gains[asset_list.index(a)] / vec_losses[asset_list.index(a)])\n",
        "\n",
        "    omega_by_asset.append(vec_omega)\n",
        "    col_threshold.append(t) \n",
        "   \n",
        "  output_df = pd.DataFrame(columns=asset_list[:], data=omega_by_asset)\n",
        "  output_df['Omega_Heading'] = col_threshold\n",
        "  output_df.set_index('Omega_Heading', inplace=True)\n",
        "\n",
        "  display(output_df)\n",
        "  \n",
        "  output_df.plot()\n",
        "  \n",
        "  return   "
      ],
      "execution_count": 0,
      "outputs": []
    },
    {
      "cell_type": "markdown",
      "metadata": {
        "id": "QfFHj_x7nAcR",
        "colab_type": "text"
      },
      "source": [
        "**4. Run the calculation**"
      ]
    },
    {
      "cell_type": "code",
      "metadata": {
        "id": "Qdh5sCXdVqev",
        "colab_type": "code",
        "outputId": "95b4b6d6-5aaf-4b2a-bb72-0c56c5faab30",
        "colab": {
          "base_uri": "https://localhost:8080/",
          "height": 488
        }
      },
      "source": [
        "# Run function for some given input\n",
        "calc_omega([0, 0.01, 0.02, 0.03, 0.04])"
      ],
      "execution_count": 8,
      "outputs": [
        {
          "output_type": "display_data",
          "data": {
            "text/html": [
              "<div>\n",
              "<style scoped>\n",
              "    .dataframe tbody tr th:only-of-type {\n",
              "        vertical-align: middle;\n",
              "    }\n",
              "\n",
              "    .dataframe tbody tr th {\n",
              "        vertical-align: top;\n",
              "    }\n",
              "\n",
              "    .dataframe thead th {\n",
              "        text-align: right;\n",
              "    }\n",
              "</style>\n",
              "<table border=\"1\" class=\"dataframe\">\n",
              "  <thead>\n",
              "    <tr style=\"text-align: right;\">\n",
              "      <th></th>\n",
              "      <th>AAPL</th>\n",
              "      <th>HISFX</th>\n",
              "      <th>^FTSE</th>\n",
              "      <th>^GSPC</th>\n",
              "      <th>^HSI</th>\n",
              "      <th>^N225</th>\n",
              "    </tr>\n",
              "    <tr>\n",
              "      <th>Omega_Heading</th>\n",
              "      <th></th>\n",
              "      <th></th>\n",
              "      <th></th>\n",
              "      <th></th>\n",
              "      <th></th>\n",
              "      <th></th>\n",
              "    </tr>\n",
              "  </thead>\n",
              "  <tbody>\n",
              "    <tr>\n",
              "      <th>0.00</th>\n",
              "      <td>1.219559</td>\n",
              "      <td>1.087057</td>\n",
              "      <td>1.078870</td>\n",
              "      <td>1.177010</td>\n",
              "      <td>1.079019</td>\n",
              "      <td>1.075244</td>\n",
              "    </tr>\n",
              "    <tr>\n",
              "      <th>0.01</th>\n",
              "      <td>0.193597</td>\n",
              "      <td>0.091062</td>\n",
              "      <td>0.044382</td>\n",
              "      <td>0.042458</td>\n",
              "      <td>0.080698</td>\n",
              "      <td>0.100905</td>\n",
              "    </tr>\n",
              "    <tr>\n",
              "      <th>0.02</th>\n",
              "      <td>0.043366</td>\n",
              "      <td>0.009066</td>\n",
              "      <td>0.004009</td>\n",
              "      <td>0.003567</td>\n",
              "      <td>0.007667</td>\n",
              "      <td>0.017510</td>\n",
              "    </tr>\n",
              "    <tr>\n",
              "      <th>0.03</th>\n",
              "      <td>0.013879</td>\n",
              "      <td>0.000693</td>\n",
              "      <td>0.000236</td>\n",
              "      <td>0.000817</td>\n",
              "      <td>0.000897</td>\n",
              "      <td>0.005039</td>\n",
              "    </tr>\n",
              "    <tr>\n",
              "      <th>0.04</th>\n",
              "      <td>0.004435</td>\n",
              "      <td>0.000014</td>\n",
              "      <td>0.000000</td>\n",
              "      <td>0.000245</td>\n",
              "      <td>0.000054</td>\n",
              "      <td>0.001997</td>\n",
              "    </tr>\n",
              "  </tbody>\n",
              "</table>\n",
              "</div>"
            ],
            "text/plain": [
              "                   AAPL     HISFX     ^FTSE     ^GSPC      ^HSI     ^N225\n",
              "Omega_Heading                                                            \n",
              "0.00           1.219559  1.087057  1.078870  1.177010  1.079019  1.075244\n",
              "0.01           0.193597  0.091062  0.044382  0.042458  0.080698  0.100905\n",
              "0.02           0.043366  0.009066  0.004009  0.003567  0.007667  0.017510\n",
              "0.03           0.013879  0.000693  0.000236  0.000817  0.000897  0.005039\n",
              "0.04           0.004435  0.000014  0.000000  0.000245  0.000054  0.001997"
            ]
          },
          "metadata": {
            "tags": []
          }
        },
        {
          "output_type": "display_data",
          "data": {
            "image/png": "[encoded data removed]",
            "text/plain": [
              "<Figure size 432x288 with 1 Axes>"
            ]
          },
          "metadata": {
            "tags": []
          }
        }
      ]
    },
    {
      "cell_type": "code",
      "metadata": {
        "id": "VOzHYymWnXfq",
        "colab_type": "code",
        "colab": {}
      },
      "source": [
        ""
      ],
      "execution_count": 0,
      "outputs": []
    }
  ]
}