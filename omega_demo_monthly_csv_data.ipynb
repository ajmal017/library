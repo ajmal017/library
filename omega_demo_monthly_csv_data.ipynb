{
  "nbformat": 4,
  "nbformat_minor": 0,
  "metadata": {
    "colab": {
      "name": "omega_demo_monthly_csv_data.ipynb",
      "provenance": [],
      "collapsed_sections": [],
      "include_colab_link": true
    },
    "kernelspec": {
      "name": "python3",
      "display_name": "Python 3"
    }
  },
  "cells": [
    {
      "cell_type": "markdown",
      "metadata": {
        "id": "view-in-github",
        "colab_type": "text"
      },
      "source": [
        "<a href=\"https://colab.research.google.com/github/rhysdavies21/library/blob/master/omega_demo_monthly_csv_data.ipynb\" target=\"_parent\"><img src=\"https://colab.research.google.com/assets/colab-badge.svg\" alt=\"Open In Colab\"/></a>"
      ]
    },
    {
      "cell_type": "markdown",
      "metadata": {
        "id": "3Qhd-hF-sFns",
        "colab_type": "text"
      },
      "source": [
        "## **Comparing the Omega Measure across asset class**\n",
        "\n",
        "---\n",
        "\n"
      ]
    },
    {
      "cell_type": "markdown",
      "metadata": {
        "id": "tcbzLiRIdbnY",
        "colab_type": "text"
      },
      "source": [
        "**1. Load libraries and input**"
      ]
    },
    {
      "cell_type": "code",
      "metadata": {
        "id": "qO-AskLNsG2C",
        "colab_type": "code",
        "outputId": "c5bc2603-c4c5-402e-aa07-b01d96810ef6",
        "colab": {
          "base_uri": "https://localhost:8080/",
          "height": 218
        }
      },
      "source": [
        "pip install yfinance --upgrade --no-cache-dir"
      ],
      "execution_count": 0,
      "outputs": [
        {
          "output_type": "stream",
          "text": [
            "Requirement already up-to-date: yfinance in /usr/local/lib/python3.6/dist-packages (0.1.49)\n",
            "Requirement already satisfied, skipping upgrade: pandas>=0.24 in /usr/local/lib/python3.6/dist-packages (from yfinance) (0.25.2)\n",
            "Requirement already satisfied, skipping upgrade: numpy>=1.15 in /usr/local/lib/python3.6/dist-packages (from yfinance) (1.17.3)\n",
            "Requirement already satisfied, skipping upgrade: requests>=2.20 in /usr/local/lib/python3.6/dist-packages (from yfinance) (2.21.0)\n",
            "Requirement already satisfied, skipping upgrade: multitasking>=0.0.7 in /usr/local/lib/python3.6/dist-packages (from yfinance) (0.0.9)\n",
            "Requirement already satisfied, skipping upgrade: python-dateutil>=2.6.1 in /usr/local/lib/python3.6/dist-packages (from pandas>=0.24->yfinance) (2.6.1)\n",
            "Requirement already satisfied, skipping upgrade: pytz>=2017.2 in /usr/local/lib/python3.6/dist-packages (from pandas>=0.24->yfinance) (2018.9)\n",
            "Requirement already satisfied, skipping upgrade: chardet<3.1.0,>=3.0.2 in /usr/local/lib/python3.6/dist-packages (from requests>=2.20->yfinance) (3.0.4)\n",
            "Requirement already satisfied, skipping upgrade: urllib3<1.25,>=1.21.1 in /usr/local/lib/python3.6/dist-packages (from requests>=2.20->yfinance) (1.24.3)\n",
            "Requirement already satisfied, skipping upgrade: idna<2.9,>=2.5 in /usr/local/lib/python3.6/dist-packages (from requests>=2.20->yfinance) (2.8)\n",
            "Requirement already satisfied, skipping upgrade: certifi>=2017.4.17 in /usr/local/lib/python3.6/dist-packages (from requests>=2.20->yfinance) (2019.9.11)\n",
            "Requirement already satisfied, skipping upgrade: six>=1.5 in /usr/local/lib/python3.6/dist-packages (from python-dateutil>=2.6.1->pandas>=0.24->yfinance) (1.12.0)\n"
          ],
          "name": "stdout"
        }
      ]
    },
    {
      "cell_type": "code",
      "metadata": {
        "id": "ATxI3KZWsP2a",
        "colab_type": "code",
        "outputId": "498a5c95-be89-43c9-849d-100d7d2ee13a",
        "colab": {
          "base_uri": "https://localhost:8080/",
          "height": 67
        }
      },
      "source": [
        "# Import libraries\n",
        "import pandas as pd\n",
        "import yfinance as yf\n",
        "\n",
        "import matplotlib as mpl\n",
        "import matplotlib.pyplot as plt\n",
        "%matplotlib inline\n",
        "\n",
        "# Version check\n",
        "print ('pandas version: ', pd.__version__) \n",
        "print ('yfinance version: ', yf.__version__) \n",
        "print ('matplotlib version: ', mpl.__version__)"
      ],
      "execution_count": 0,
      "outputs": [
        {
          "output_type": "stream",
          "text": [
            "pandas version:  0.25.2\n",
            "yfinance version:  0.1.49\n",
            "matplotlib version:  3.1.1\n"
          ],
          "name": "stdout"
        }
      ]
    },
    {
      "cell_type": "code",
      "metadata": {
        "id": "n0NmH9SrA2zZ",
        "colab_type": "code",
        "colab": {}
      },
      "source": [
        "# Create class of formats\n",
        "class color:\n",
        "   PURPLE = '\\033[95m'\n",
        "   CYAN = '\\033[96m'\n",
        "   DARKCYAN = '\\033[36m'\n",
        "   BLUE = '\\033[94m'\n",
        "   GREEN = '\\033[92m'\n",
        "   YELLOW = '\\033[93m'\n",
        "   RED = '\\033[91m'\n",
        "   BOLD = '\\033[1m'\n",
        "   UNDERLINE = '\\033[4m'\n",
        "   END = '\\033[0m'"
      ],
      "execution_count": 0,
      "outputs": []
    },
    {
      "cell_type": "markdown",
      "metadata": {
        "id": "Ia9zx59kdwbH",
        "colab_type": "text"
      },
      "source": [
        "**2. Import and process and review historical data**"
      ]
    },
    {
      "cell_type": "code",
      "metadata": {
        "id": "LKjn7tSzF96G",
        "colab_type": "code",
        "outputId": "6784f442-2359-4602-bc95-1dfa4b8574e5",
        "colab": {
          "base_uri": "https://localhost:8080/",
          "height": 567
        }
      },
      "source": [
        "# Import data from CSV in github\n",
        "url = 'https://raw.githubusercontent.com/rhysdavies21/library/master/historical_financial_data_series.csv'\n",
        "raw_data = pd.read_csv(url)\n",
        "raw_data = raw_data.dropna()                                       # Drop all rows that have any NaN values\n",
        "raw_data = raw_data.set_index('Date')\n",
        "\n",
        "# Review data\n",
        "start_date = raw_data.index[0]\n",
        "end_date = raw_data.index[len(raw_data)-1]\n",
        "\n",
        "print(color.BOLD+' start_data: '+color.END, start_date)\n",
        "print(color.BOLD+' end_date: '+color.END, end_date)\n",
        "print('\\n',color.BOLD+'Review shape of raw_data: '+color.END, raw_data.shape)\n",
        "\n",
        "print('\\n', color.BOLD+'Review dataframe of input data - head:'+color.END)\n",
        "display(raw_data.head())\n",
        "\n",
        "print('\\n', color.BOLD+'Review dataframe of input data - tail:'+color.END)\n",
        "display(raw_data.tail())"
      ],
      "execution_count": 0,
      "outputs": [
        {
          "output_type": "stream",
          "text": [
            "\u001b[1m start_data: \u001b[0m 4-Jan-05\n",
            "\u001b[1m end_date: \u001b[0m 2-Jun-14\n",
            "\n",
            " \u001b[1mReview shape of raw_data: \u001b[0m (114, 6)\n",
            "\n",
            " \u001b[1mReview dataframe of input data - head:\u001b[0m\n"
          ],
          "name": "stdout"
        },
        {
          "output_type": "display_data",
          "data": {
            "text/html": [
              "<div>\n",
              "<style scoped>\n",
              "    .dataframe tbody tr th:only-of-type {\n",
              "        vertical-align: middle;\n",
              "    }\n",
              "\n",
              "    .dataframe tbody tr th {\n",
              "        vertical-align: top;\n",
              "    }\n",
              "\n",
              "    .dataframe thead th {\n",
              "        text-align: right;\n",
              "    }\n",
              "</style>\n",
              "<table border=\"1\" class=\"dataframe\">\n",
              "  <thead>\n",
              "    <tr style=\"text-align: right;\">\n",
              "      <th></th>\n",
              "      <th>HFRXGL_GBP</th>\n",
              "      <th>UKRPI</th>\n",
              "      <th>UKXT</th>\n",
              "      <th>MXWO_GBP</th>\n",
              "      <th>QX6G</th>\n",
              "      <th>QX6I</th>\n",
              "    </tr>\n",
              "    <tr>\n",
              "      <th>Date</th>\n",
              "      <th></th>\n",
              "      <th></th>\n",
              "      <th></th>\n",
              "      <th></th>\n",
              "      <th></th>\n",
              "      <th></th>\n",
              "    </tr>\n",
              "  </thead>\n",
              "  <tbody>\n",
              "    <tr>\n",
              "      <th>4-Jan-05</th>\n",
              "      <td>599.660027</td>\n",
              "      <td>188.9</td>\n",
              "      <td>2544.55</td>\n",
              "      <td>610.268260</td>\n",
              "      <td>155.44</td>\n",
              "      <td>156.62</td>\n",
              "    </tr>\n",
              "    <tr>\n",
              "      <th>1-Feb-05</th>\n",
              "      <td>598.227176</td>\n",
              "      <td>189.6</td>\n",
              "      <td>2577.03</td>\n",
              "      <td>609.325902</td>\n",
              "      <td>155.53</td>\n",
              "      <td>156.56</td>\n",
              "    </tr>\n",
              "    <tr>\n",
              "      <th>1-Mar-05</th>\n",
              "      <td>592.015823</td>\n",
              "      <td>190.5</td>\n",
              "      <td>2637.88</td>\n",
              "      <td>614.146672</td>\n",
              "      <td>154.36</td>\n",
              "      <td>155.01</td>\n",
              "    </tr>\n",
              "    <tr>\n",
              "      <th>1-Apr-05</th>\n",
              "      <td>597.635871</td>\n",
              "      <td>191.6</td>\n",
              "      <td>2610.80</td>\n",
              "      <td>609.977156</td>\n",
              "      <td>155.55</td>\n",
              "      <td>156.18</td>\n",
              "    </tr>\n",
              "    <tr>\n",
              "      <th>3-May-05</th>\n",
              "      <td>584.026420</td>\n",
              "      <td>192.0</td>\n",
              "      <td>2587.50</td>\n",
              "      <td>595.867900</td>\n",
              "      <td>157.93</td>\n",
              "      <td>159.31</td>\n",
              "    </tr>\n",
              "  </tbody>\n",
              "</table>\n",
              "</div>"
            ],
            "text/plain": [
              "          HFRXGL_GBP  UKRPI     UKXT    MXWO_GBP    QX6G    QX6I\n",
              "Date                                                            \n",
              "4-Jan-05  599.660027  188.9  2544.55  610.268260  155.44  156.62\n",
              "1-Feb-05  598.227176  189.6  2577.03  609.325902  155.53  156.56\n",
              "1-Mar-05  592.015823  190.5  2637.88  614.146672  154.36  155.01\n",
              "1-Apr-05  597.635871  191.6  2610.80  609.977156  155.55  156.18\n",
              "3-May-05  584.026420  192.0  2587.50  595.867900  157.93  159.31"
            ]
          },
          "metadata": {
            "tags": []
          }
        },
        {
          "output_type": "stream",
          "text": [
            "\n",
            " \u001b[1mReview dataframe of input data - tail:\u001b[0m\n"
          ],
          "name": "stdout"
        },
        {
          "output_type": "display_data",
          "data": {
            "text/html": [
              "<div>\n",
              "<style scoped>\n",
              "    .dataframe tbody tr th:only-of-type {\n",
              "        vertical-align: middle;\n",
              "    }\n",
              "\n",
              "    .dataframe tbody tr th {\n",
              "        vertical-align: top;\n",
              "    }\n",
              "\n",
              "    .dataframe thead th {\n",
              "        text-align: right;\n",
              "    }\n",
              "</style>\n",
              "<table border=\"1\" class=\"dataframe\">\n",
              "  <thead>\n",
              "    <tr style=\"text-align: right;\">\n",
              "      <th></th>\n",
              "      <th>HFRXGL_GBP</th>\n",
              "      <th>UKRPI</th>\n",
              "      <th>UKXT</th>\n",
              "      <th>MXWO_GBP</th>\n",
              "      <th>QX6G</th>\n",
              "      <th>QX6I</th>\n",
              "    </tr>\n",
              "    <tr>\n",
              "      <th>Date</th>\n",
              "      <th></th>\n",
              "      <th></th>\n",
              "      <th></th>\n",
              "      <th></th>\n",
              "      <th></th>\n",
              "      <th></th>\n",
              "    </tr>\n",
              "  </thead>\n",
              "  <tbody>\n",
              "    <tr>\n",
              "      <th>3-Feb-14</th>\n",
              "      <td>745.869365</td>\n",
              "      <td>254.2</td>\n",
              "      <td>4717.39</td>\n",
              "      <td>964.072370</td>\n",
              "      <td>249.66</td>\n",
              "      <td>263.36</td>\n",
              "    </tr>\n",
              "    <tr>\n",
              "      <th>3-Mar-14</th>\n",
              "      <td>743.181136</td>\n",
              "      <td>254.8</td>\n",
              "      <td>4914.92</td>\n",
              "      <td>993.232135</td>\n",
              "      <td>250.65</td>\n",
              "      <td>264.54</td>\n",
              "    </tr>\n",
              "    <tr>\n",
              "      <th>1-Apr-14</th>\n",
              "      <td>746.578473</td>\n",
              "      <td>255.7</td>\n",
              "      <td>4898.04</td>\n",
              "      <td>1012.447384</td>\n",
              "      <td>249.89</td>\n",
              "      <td>263.48</td>\n",
              "    </tr>\n",
              "    <tr>\n",
              "      <th>2-May-14</th>\n",
              "      <td>730.373444</td>\n",
              "      <td>255.9</td>\n",
              "      <td>5039.52</td>\n",
              "      <td>1001.179609</td>\n",
              "      <td>250.96</td>\n",
              "      <td>265.84</td>\n",
              "    </tr>\n",
              "    <tr>\n",
              "      <th>2-Jun-14</th>\n",
              "      <td>738.528604</td>\n",
              "      <td>256.3</td>\n",
              "      <td>5091.27</td>\n",
              "      <td>1025.480712</td>\n",
              "      <td>251.81</td>\n",
              "      <td>266.92</td>\n",
              "    </tr>\n",
              "  </tbody>\n",
              "</table>\n",
              "</div>"
            ],
            "text/plain": [
              "          HFRXGL_GBP  UKRPI     UKXT     MXWO_GBP    QX6G    QX6I\n",
              "Date                                                             \n",
              "3-Feb-14  745.869365  254.2  4717.39   964.072370  249.66  263.36\n",
              "3-Mar-14  743.181136  254.8  4914.92   993.232135  250.65  264.54\n",
              "1-Apr-14  746.578473  255.7  4898.04  1012.447384  249.89  263.48\n",
              "2-May-14  730.373444  255.9  5039.52  1001.179609  250.96  265.84\n",
              "2-Jun-14  738.528604  256.3  5091.27  1025.480712  251.81  266.92"
            ]
          },
          "metadata": {
            "tags": []
          }
        }
      ]
    },
    {
      "cell_type": "code",
      "metadata": {
        "id": "Dtajs81nubM0",
        "colab_type": "code",
        "outputId": "eddc3095-bd02-4ea5-be9c-4f976a9d60df",
        "colab": {
          "base_uri": "https://localhost:8080/",
          "height": 567
        }
      },
      "source": [
        "# Change into performance metric\n",
        "new_df = raw_data.pct_change(periods=1)  # Calculate performance: (data_adjclose['asset'][1] / data_adjclose['asset'][0] ) -1\n",
        "# new_df = new_df.dropna()                              # Drop all rows that have any NaN values\n",
        "\n",
        "# Create asset_list\n",
        "asset_list = list(new_df.columns)[0:]\n",
        "\n",
        "# Review data\n",
        "print('\\n', color.BOLD+'Review dataframe of performance data - head:'+color.END)\n",
        "display(new_df.head())\n",
        "\n",
        "print('\\n', color.BOLD+'Review dataframe of performance data - tail:'+color.END)\n",
        "display(new_df.tail())\n",
        "\n",
        "print('\\n',color.BOLD+'Review shape of new_df: '+color.END, new_df.shape)\n",
        "print('\\n', color.BOLD+'asset_list: '+color.END, asset_list)"
      ],
      "execution_count": 0,
      "outputs": [
        {
          "output_type": "stream",
          "text": [
            "\n",
            " \u001b[1mReview dataframe of performance data - head:\u001b[0m\n"
          ],
          "name": "stdout"
        },
        {
          "output_type": "display_data",
          "data": {
            "text/html": [
              "<div>\n",
              "<style scoped>\n",
              "    .dataframe tbody tr th:only-of-type {\n",
              "        vertical-align: middle;\n",
              "    }\n",
              "\n",
              "    .dataframe tbody tr th {\n",
              "        vertical-align: top;\n",
              "    }\n",
              "\n",
              "    .dataframe thead th {\n",
              "        text-align: right;\n",
              "    }\n",
              "</style>\n",
              "<table border=\"1\" class=\"dataframe\">\n",
              "  <thead>\n",
              "    <tr style=\"text-align: right;\">\n",
              "      <th></th>\n",
              "      <th>HFRXGL_GBP</th>\n",
              "      <th>UKRPI</th>\n",
              "      <th>UKXT</th>\n",
              "      <th>MXWO_GBP</th>\n",
              "      <th>QX6G</th>\n",
              "      <th>QX6I</th>\n",
              "    </tr>\n",
              "    <tr>\n",
              "      <th>Date</th>\n",
              "      <th></th>\n",
              "      <th></th>\n",
              "      <th></th>\n",
              "      <th></th>\n",
              "      <th></th>\n",
              "      <th></th>\n",
              "    </tr>\n",
              "  </thead>\n",
              "  <tbody>\n",
              "    <tr>\n",
              "      <th>4-Jan-05</th>\n",
              "      <td>NaN</td>\n",
              "      <td>NaN</td>\n",
              "      <td>NaN</td>\n",
              "      <td>NaN</td>\n",
              "      <td>NaN</td>\n",
              "      <td>NaN</td>\n",
              "    </tr>\n",
              "    <tr>\n",
              "      <th>1-Feb-05</th>\n",
              "      <td>-0.002389</td>\n",
              "      <td>0.003706</td>\n",
              "      <td>0.012765</td>\n",
              "      <td>-0.001544</td>\n",
              "      <td>0.000579</td>\n",
              "      <td>-0.000383</td>\n",
              "    </tr>\n",
              "    <tr>\n",
              "      <th>1-Mar-05</th>\n",
              "      <td>-0.010383</td>\n",
              "      <td>0.004747</td>\n",
              "      <td>0.023612</td>\n",
              "      <td>0.007912</td>\n",
              "      <td>-0.007523</td>\n",
              "      <td>-0.009900</td>\n",
              "    </tr>\n",
              "    <tr>\n",
              "      <th>1-Apr-05</th>\n",
              "      <td>0.009493</td>\n",
              "      <td>0.005774</td>\n",
              "      <td>-0.010266</td>\n",
              "      <td>-0.006789</td>\n",
              "      <td>0.007709</td>\n",
              "      <td>0.007548</td>\n",
              "    </tr>\n",
              "    <tr>\n",
              "      <th>3-May-05</th>\n",
              "      <td>-0.022772</td>\n",
              "      <td>0.002088</td>\n",
              "      <td>-0.008924</td>\n",
              "      <td>-0.023131</td>\n",
              "      <td>0.015301</td>\n",
              "      <td>0.020041</td>\n",
              "    </tr>\n",
              "  </tbody>\n",
              "</table>\n",
              "</div>"
            ],
            "text/plain": [
              "          HFRXGL_GBP     UKRPI      UKXT  MXWO_GBP      QX6G      QX6I\n",
              "Date                                                                  \n",
              "4-Jan-05         NaN       NaN       NaN       NaN       NaN       NaN\n",
              "1-Feb-05   -0.002389  0.003706  0.012765 -0.001544  0.000579 -0.000383\n",
              "1-Mar-05   -0.010383  0.004747  0.023612  0.007912 -0.007523 -0.009900\n",
              "1-Apr-05    0.009493  0.005774 -0.010266 -0.006789  0.007709  0.007548\n",
              "3-May-05   -0.022772  0.002088 -0.008924 -0.023131  0.015301  0.020041"
            ]
          },
          "metadata": {
            "tags": []
          }
        },
        {
          "output_type": "stream",
          "text": [
            "\n",
            " \u001b[1mReview dataframe of performance data - tail:\u001b[0m\n"
          ],
          "name": "stdout"
        },
        {
          "output_type": "display_data",
          "data": {
            "text/html": [
              "<div>\n",
              "<style scoped>\n",
              "    .dataframe tbody tr th:only-of-type {\n",
              "        vertical-align: middle;\n",
              "    }\n",
              "\n",
              "    .dataframe tbody tr th {\n",
              "        vertical-align: top;\n",
              "    }\n",
              "\n",
              "    .dataframe thead th {\n",
              "        text-align: right;\n",
              "    }\n",
              "</style>\n",
              "<table border=\"1\" class=\"dataframe\">\n",
              "  <thead>\n",
              "    <tr style=\"text-align: right;\">\n",
              "      <th></th>\n",
              "      <th>HFRXGL_GBP</th>\n",
              "      <th>UKRPI</th>\n",
              "      <th>UKXT</th>\n",
              "      <th>MXWO_GBP</th>\n",
              "      <th>QX6G</th>\n",
              "      <th>QX6I</th>\n",
              "    </tr>\n",
              "    <tr>\n",
              "      <th>Date</th>\n",
              "      <th></th>\n",
              "      <th></th>\n",
              "      <th></th>\n",
              "      <th></th>\n",
              "      <th></th>\n",
              "      <th></th>\n",
              "    </tr>\n",
              "  </thead>\n",
              "  <tbody>\n",
              "    <tr>\n",
              "      <th>3-Feb-14</th>\n",
              "      <td>0.003040</td>\n",
              "      <td>0.006334</td>\n",
              "      <td>-0.036774</td>\n",
              "      <td>-0.035881</td>\n",
              "      <td>0.015663</td>\n",
              "      <td>0.024149</td>\n",
              "    </tr>\n",
              "    <tr>\n",
              "      <th>3-Mar-14</th>\n",
              "      <td>-0.003604</td>\n",
              "      <td>0.002360</td>\n",
              "      <td>0.041873</td>\n",
              "      <td>0.030246</td>\n",
              "      <td>0.003965</td>\n",
              "      <td>0.004481</td>\n",
              "    </tr>\n",
              "    <tr>\n",
              "      <th>1-Apr-14</th>\n",
              "      <td>0.004571</td>\n",
              "      <td>0.003532</td>\n",
              "      <td>-0.003434</td>\n",
              "      <td>0.019346</td>\n",
              "      <td>-0.003032</td>\n",
              "      <td>-0.004007</td>\n",
              "    </tr>\n",
              "    <tr>\n",
              "      <th>2-May-14</th>\n",
              "      <td>-0.021706</td>\n",
              "      <td>0.000782</td>\n",
              "      <td>0.028885</td>\n",
              "      <td>-0.011129</td>\n",
              "      <td>0.004282</td>\n",
              "      <td>0.008957</td>\n",
              "    </tr>\n",
              "    <tr>\n",
              "      <th>2-Jun-14</th>\n",
              "      <td>0.011166</td>\n",
              "      <td>0.001563</td>\n",
              "      <td>0.010269</td>\n",
              "      <td>0.024272</td>\n",
              "      <td>0.003387</td>\n",
              "      <td>0.004063</td>\n",
              "    </tr>\n",
              "  </tbody>\n",
              "</table>\n",
              "</div>"
            ],
            "text/plain": [
              "          HFRXGL_GBP     UKRPI      UKXT  MXWO_GBP      QX6G      QX6I\n",
              "Date                                                                  \n",
              "3-Feb-14    0.003040  0.006334 -0.036774 -0.035881  0.015663  0.024149\n",
              "3-Mar-14   -0.003604  0.002360  0.041873  0.030246  0.003965  0.004481\n",
              "1-Apr-14    0.004571  0.003532 -0.003434  0.019346 -0.003032 -0.004007\n",
              "2-May-14   -0.021706  0.000782  0.028885 -0.011129  0.004282  0.008957\n",
              "2-Jun-14    0.011166  0.001563  0.010269  0.024272  0.003387  0.004063"
            ]
          },
          "metadata": {
            "tags": []
          }
        },
        {
          "output_type": "stream",
          "text": [
            "\n",
            " \u001b[1mReview shape of new_df: \u001b[0m (114, 6)\n",
            "\n",
            " \u001b[1masset_list: \u001b[0m ['HFRXGL_GBP', 'UKRPI', 'UKXT', 'MXWO_GBP', 'QX6G', 'QX6I']\n"
          ],
          "name": "stdout"
        }
      ]
    },
    {
      "cell_type": "markdown",
      "metadata": {
        "id": "u-GCTZe3mJ39",
        "colab_type": "text"
      },
      "source": [
        "**3. Define calc_function to calculate and illustrate Omega by asset and threshold**"
      ]
    },
    {
      "cell_type": "code",
      "metadata": {
        "id": "jJTXzoSNGBeA",
        "colab_type": "code",
        "colab": {}
      },
      "source": [
        "# Input threshold_list as a list of threshold values (on a daily basis)\n",
        "# calc_omega is function to create omega by asset for a given input of threshold\n",
        "# Inner loops over asset to calculate omega for some threshold. Then outer loop to calculate list of (list) omegas by asset for varying thresholds\n",
        "\n",
        "def calc_omega(threshold_list):\n",
        "  \n",
        "  update_new_df = new_df        # new dataframe to include gains, losses and omegas\n",
        "  omega_by_asset = []           # list of (lists) omega outputs by underlying asset for particular threshold\n",
        "  col_threshold =[]             # column of threshold values\n",
        "  annualised_col_threshold =[]             # column of annualised threshold values\n",
        "\n",
        "  for t in threshold_list:\n",
        "    threshold = t\n",
        "\n",
        "    vec_assets = []             # vector of assets for some threshold\n",
        "    vec_losses = []             # vector of losses for some threshold\n",
        "    vec_gains = []              # vector of gains for some threshold\n",
        "    vec_omega = []              # vector of omegas for some threshold\n",
        "\n",
        "    for a in asset_list:\n",
        "      \n",
        "      update_new_df['loss_col_'+a]= update_new_df[a].apply(lambda x: float(1) if x < threshold else float(0)) * (threshold - update_new_df[a])\n",
        "      update_new_df['gain_col_'+a]= update_new_df[a].apply(lambda x: float(1) if x > threshold else float(0)) * (update_new_df[a] - threshold)\n",
        "\n",
        "      vec_assets.append(a)\n",
        "      vec_losses.append(sum(update_new_df['loss_col_'+a][1:]))\n",
        "      vec_gains.append(sum(update_new_df['gain_col_'+a][1:]))\n",
        "      vec_omega.append(vec_gains[asset_list.index(a)] / vec_losses[asset_list.index(a)])\n",
        "\n",
        "    omega_by_asset.append(vec_omega)\n",
        "    col_threshold.append(t) \n",
        "    annualised_col_threshold.append(str(round( 100*(((1+t)**12)-1)))+'%')\n",
        "   \n",
        "  output_df = pd.DataFrame(columns=asset_list[:], data=omega_by_asset)\n",
        "  output_df['Annualised_Threshold_Heading'] = annualised_col_threshold\n",
        "  output_df.set_index('Annualised_Threshold_Heading', inplace=True)\n",
        "\n",
        "  display(output_df)\n",
        "  print('\\n')\n",
        "  \n",
        "  ### Graph below\n",
        "\n",
        "  plt = output_df.plot(kind='line', figsize=(20,8), linewidth=3)\n",
        "  # plt = output_df.plot(kind='area', alpha=0.9, figsize=(20,8), linewidth=3)     # Alternative graph. Note that alpha denotes transparency\n",
        "  plt.set_title('Omega by Threshold for group of assets', size=16)\n",
        "  plt.set_xlabel('Annualised Threshold', fontsize=14)\n",
        "  plt.set_ylabel('Omega value', fontsize=14)\n",
        "  plt.legend(loc='upper right', fontsize=14)\n",
        "  \n",
        "  plt.plot()\n",
        "\n",
        "  return   "
      ],
      "execution_count": 0,
      "outputs": []
    },
    {
      "cell_type": "markdown",
      "metadata": {
        "id": "QfFHj_x7nAcR",
        "colab_type": "text"
      },
      "source": [
        "**4. Run the calculation**"
      ]
    },
    {
      "cell_type": "code",
      "metadata": {
        "id": "Qdh5sCXdVqev",
        "colab_type": "code",
        "outputId": "b58678d6-3363-4715-de6b-3db54e0f317f",
        "colab": {
          "base_uri": "https://localhost:8080/",
          "height": 998
        }
      },
      "source": [
        "# Run function for some given input\n",
        "calc_omega([0/100, 0.25/100, 0.5/100, 0.75/100, 1.0/100, 1.25/100, 1.5/100, 1.75/100, 2.0/100, 2.25/100, 2.5/100, 2.75/100, 3.0/100])"
      ],
      "execution_count": 0,
      "outputs": [
        {
          "output_type": "display_data",
          "data": {
            "text/html": [
              "<div>\n",
              "<style scoped>\n",
              "    .dataframe tbody tr th:only-of-type {\n",
              "        vertical-align: middle;\n",
              "    }\n",
              "\n",
              "    .dataframe tbody tr th {\n",
              "        vertical-align: top;\n",
              "    }\n",
              "\n",
              "    .dataframe thead th {\n",
              "        text-align: right;\n",
              "    }\n",
              "</style>\n",
              "<table border=\"1\" class=\"dataframe\">\n",
              "  <thead>\n",
              "    <tr style=\"text-align: right;\">\n",
              "      <th></th>\n",
              "      <th>HFRXGL_GBP</th>\n",
              "      <th>UKRPI</th>\n",
              "      <th>UKXT</th>\n",
              "      <th>MXWO_GBP</th>\n",
              "      <th>QX6G</th>\n",
              "      <th>QX6I</th>\n",
              "    </tr>\n",
              "    <tr>\n",
              "      <th>Annualised_Threshold_Heading</th>\n",
              "      <th></th>\n",
              "      <th></th>\n",
              "      <th></th>\n",
              "      <th></th>\n",
              "      <th></th>\n",
              "      <th></th>\n",
              "    </tr>\n",
              "  </thead>\n",
              "  <tbody>\n",
              "    <tr>\n",
              "      <th>0%</th>\n",
              "      <td>1.252125</td>\n",
              "      <td>4.721180</td>\n",
              "      <td>1.503416</td>\n",
              "      <td>1.371351</td>\n",
              "      <td>2.599392</td>\n",
              "      <td>2.171883</td>\n",
              "    </tr>\n",
              "    <tr>\n",
              "      <th>3%</th>\n",
              "      <td>0.965696</td>\n",
              "      <td>1.146557</td>\n",
              "      <td>1.306971</td>\n",
              "      <td>1.194079</td>\n",
              "      <td>1.499422</td>\n",
              "      <td>1.456625</td>\n",
              "    </tr>\n",
              "    <tr>\n",
              "      <th>6%</th>\n",
              "      <td>0.745746</td>\n",
              "      <td>0.184217</td>\n",
              "      <td>1.134330</td>\n",
              "      <td>1.038371</td>\n",
              "      <td>0.865718</td>\n",
              "      <td>0.977687</td>\n",
              "    </tr>\n",
              "    <tr>\n",
              "      <th>9%</th>\n",
              "      <td>0.578787</td>\n",
              "      <td>0.015423</td>\n",
              "      <td>0.982000</td>\n",
              "      <td>0.901038</td>\n",
              "      <td>0.498463</td>\n",
              "      <td>0.658201</td>\n",
              "    </tr>\n",
              "    <tr>\n",
              "      <th>13%</th>\n",
              "      <td>0.451887</td>\n",
              "      <td>0.000053</td>\n",
              "      <td>0.847295</td>\n",
              "      <td>0.779945</td>\n",
              "      <td>0.292071</td>\n",
              "      <td>0.445228</td>\n",
              "    </tr>\n",
              "    <tr>\n",
              "      <th>16%</th>\n",
              "      <td>0.355344</td>\n",
              "      <td>0.000000</td>\n",
              "      <td>0.728691</td>\n",
              "      <td>0.674050</td>\n",
              "      <td>0.171825</td>\n",
              "      <td>0.302849</td>\n",
              "    </tr>\n",
              "    <tr>\n",
              "      <th>20%</th>\n",
              "      <td>0.279853</td>\n",
              "      <td>0.000000</td>\n",
              "      <td>0.625380</td>\n",
              "      <td>0.580516</td>\n",
              "      <td>0.103576</td>\n",
              "      <td>0.209037</td>\n",
              "    </tr>\n",
              "    <tr>\n",
              "      <th>23%</th>\n",
              "      <td>0.221296</td>\n",
              "      <td>0.000000</td>\n",
              "      <td>0.536140</td>\n",
              "      <td>0.498579</td>\n",
              "      <td>0.064069</td>\n",
              "      <td>0.145927</td>\n",
              "    </tr>\n",
              "    <tr>\n",
              "      <th>27%</th>\n",
              "      <td>0.178286</td>\n",
              "      <td>0.000000</td>\n",
              "      <td>0.459058</td>\n",
              "      <td>0.427372</td>\n",
              "      <td>0.038764</td>\n",
              "      <td>0.100121</td>\n",
              "    </tr>\n",
              "    <tr>\n",
              "      <th>31%</th>\n",
              "      <td>0.143432</td>\n",
              "      <td>0.000000</td>\n",
              "      <td>0.392488</td>\n",
              "      <td>0.367713</td>\n",
              "      <td>0.020844</td>\n",
              "      <td>0.069782</td>\n",
              "    </tr>\n",
              "    <tr>\n",
              "      <th>34%</th>\n",
              "      <td>0.114424</td>\n",
              "      <td>0.000000</td>\n",
              "      <td>0.334994</td>\n",
              "      <td>0.317054</td>\n",
              "      <td>0.013757</td>\n",
              "      <td>0.048255</td>\n",
              "    </tr>\n",
              "    <tr>\n",
              "      <th>38%</th>\n",
              "      <td>0.091653</td>\n",
              "      <td>0.000000</td>\n",
              "      <td>0.285316</td>\n",
              "      <td>0.273477</td>\n",
              "      <td>0.009486</td>\n",
              "      <td>0.032577</td>\n",
              "    </tr>\n",
              "    <tr>\n",
              "      <th>43%</th>\n",
              "      <td>0.074128</td>\n",
              "      <td>0.000000</td>\n",
              "      <td>0.242991</td>\n",
              "      <td>0.235780</td>\n",
              "      <td>0.006020</td>\n",
              "      <td>0.023713</td>\n",
              "    </tr>\n",
              "  </tbody>\n",
              "</table>\n",
              "</div>"
            ],
            "text/plain": [
              "                              HFRXGL_GBP     UKRPI  ...      QX6G      QX6I\n",
              "Annualised_Threshold_Heading                        ...                    \n",
              "0%                              1.252125  4.721180  ...  2.599392  2.171883\n",
              "3%                              0.965696  1.146557  ...  1.499422  1.456625\n",
              "6%                              0.745746  0.184217  ...  0.865718  0.977687\n",
              "9%                              0.578787  0.015423  ...  0.498463  0.658201\n",
              "13%                             0.451887  0.000053  ...  0.292071  0.445228\n",
              "16%                             0.355344  0.000000  ...  0.171825  0.302849\n",
              "20%                             0.279853  0.000000  ...  0.103576  0.209037\n",
              "23%                             0.221296  0.000000  ...  0.064069  0.145927\n",
              "27%                             0.178286  0.000000  ...  0.038764  0.100121\n",
              "31%                             0.143432  0.000000  ...  0.020844  0.069782\n",
              "34%                             0.114424  0.000000  ...  0.013757  0.048255\n",
              "38%                             0.091653  0.000000  ...  0.009486  0.032577\n",
              "43%                             0.074128  0.000000  ...  0.006020  0.023713\n",
              "\n",
              "[13 rows x 6 columns]"
            ]
          },
          "metadata": {
            "tags": []
          }
        },
        {
          "output_type": "stream",
          "text": [
            "\n",
            "\n"
          ],
          "name": "stdout"
        },
        {
          "output_type": "display_data",
          "data": {
            "image/png": "[encoded data removed]",
            "text/plain": [
              "<Figure size 1440x576 with 1 Axes>"
            ]
          },
          "metadata": {
            "tags": []
          }
        }
      ]
    },
    {
      "cell_type": "markdown",
      "metadata": {
        "id": "fmAQMfKzKiP1",
        "colab_type": "text"
      },
      "source": [
        "**Notes**\n",
        "Not production ready:\n",
        "*   No error handling\n",
        "*   Designed specifically for monthly data as input through CSV\n",
        "*   Requires CSV data to be in standard format and denominated in same currency "
      ]
    }
  ]
}