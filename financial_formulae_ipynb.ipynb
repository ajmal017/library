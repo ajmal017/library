{
  "nbformat": 4,
  "nbformat_minor": 0,
  "metadata": {
    "colab": {
      "name": "financial_formulae_ipynb",
      "provenance": [],
      "collapsed_sections": [],
      "authorship_tag": "ABX9TyM+t9u+dvcUFlBZpKnTKZty",
      "include_colab_link": true
    },
    "kernelspec": {
      "name": "python3",
      "display_name": "Python 3"
    }
  },
  "cells": [
    {
      "cell_type": "markdown",
      "metadata": {
        "id": "view-in-github",
        "colab_type": "text"
      },
      "source": [
        "<a href=\"https://colab.research.google.com/github/rhysdavies21/library/blob/master/financial_formulae_ipynb.ipynb\" target=\"_parent\"><img src=\"https://colab.research.google.com/assets/colab-badge.svg\" alt=\"Open In Colab\"/></a>"
      ]
    },
    {
      "cell_type": "markdown",
      "metadata": {
        "id": "_zRKisuaUkOl",
        "colab_type": "text"
      },
      "source": [
        "**Financial Formulae**"
      ]
    },
    {
      "cell_type": "code",
      "metadata": {
        "id": "vSH6sykSioLI",
        "colab_type": "code",
        "colab": {}
      },
      "source": [
        "# Black's formula\n",
        "\n",
        "from scipy.stats import norm\n",
        "import math\n",
        "\n",
        "def black(f_0, strike, expiry, vol, rate, c_p):\n",
        "    d_plus = (math.log(f_0 / strike) + 0.5 * vol * vol * expiry)/ (vol / math.sqrt(expiry))\n",
        "    d_minus = (math.log(f_0 / strike) - 0.5 * vol * vol * expiry)/ (vol / math.sqrt(expiry))\n",
        "    if c_p == 'c':\n",
        "            option_value = (math.exp((-rate)*expiry))*(f_0 * norm.cdf(d_plus) - strike *norm.cdf(d_minus))\n",
        "    elif c_p == 'p':\n",
        "            option_value = (math.exp((-rate)*expiry))*(strike * norm.cdf(-d_minus) - f_0 *norm.cdf(-d_plus))\n",
        "    else:\n",
        "            print('Check input')\n",
        "    return option_value"
      ],
      "execution_count": 0,
      "outputs": []
    },
    {
      "cell_type": "code",
      "metadata": {
        "id": "RAzWSQ5ya9NG",
        "colab_type": "code",
        "outputId": "a29016b0-857f-43eb-f17e-14dc31d8e482",
        "colab": {
          "base_uri": "https://localhost:8080/",
          "height": 67
        }
      },
      "source": [
        "# Run black_price\n",
        "\n",
        "# Request inputs\n",
        "# f_0 = float(input('Input f_0 = '))\n",
        "# strike = float(input('strike = '))\n",
        "# expiry = float(input('expiry = '))\n",
        "# black_vol = float(input('black_vol = '))\n",
        "# rate = float(input('rate = '))\n",
        "c_p = str(input('call (c) or put (p) = '))\n",
        "\n",
        "f_0 = 0.07\n",
        "strike = 0.08\n",
        "expiry = 1\n",
        "black_vol = 0.2\n",
        "rate = 0.05\n",
        "\n",
        "# Price option\n",
        "if c_p in ['c', 'p']:\n",
        "  black_price = black(f_0, strike, expiry, black_vol, rate, c_p)\n",
        "  print('\\n' \"black_price = \"+\"{:.3%}\".format(black_price))\n",
        "else:\n",
        "  print('Please check input')"
      ],
      "execution_count": 0,
      "outputs": [
        {
          "output_type": "stream",
          "text": [
            "call (c) or put (p) = c\n",
            "\n",
            "black_price = 0.214%\n"
          ],
          "name": "stdout"
        }
      ]
    },
    {
      "cell_type": "code",
      "metadata": {
        "id": "OAxGoFB4VKQu",
        "colab_type": "code",
        "colab": {}
      },
      "source": [
        "# Bachelier \n",
        "\n",
        "from scipy.stats import norm\n",
        "import math\n",
        "\n",
        "def dPlusBachelier(F_0 , y, expiry , vol):\n",
        "    d_plus = (F_0 - y)/ (vol * math.sqrt(expiry))\n",
        "    return d_plus\n",
        "\n",
        "def bachelier(F_0,y,expiry,vol,rfr,expiry_1,isCall):\n",
        "    option_value = 0\n",
        "    if expiry * vol == 0.0:\n",
        "        if isCall:\n",
        "            option_value = max(F_0 - y, 0.0)\n",
        "        else:\n",
        "            option_value = max(y - F_0 , 0.0)\n",
        "    else:\n",
        "        d1 = dPlusBachelier(F_0 = F_0 , y = y, expiry = expiry ,vol = vol)\n",
        "        if isCall:\n",
        "             option_value = (math.exp((-rfr)*expiry_1))*((F_0 - y)* norm.cdf(d1) + vol * math.sqrt(expiry) * norm.cdf(d1))\n",
        "        else:\n",
        "             option_value = (math.exp((-rfr)*expiry_1))*((y-F_0) * norm.cdf(-d1) + vol * math.sqrt(expiry) * norm.cdf(-d1))\n",
        "    return option_value\n"
      ],
      "execution_count": 0,
      "outputs": []
    },
    {
      "cell_type": "code",
      "metadata": {
        "id": "a58DspBvVh0-",
        "colab_type": "code",
        "outputId": "b18b71be-033d-4c6f-dd91-2f6e5b227abf",
        "colab": {
          "base_uri": "https://localhost:8080/",
          "height": 34
        }
      },
      "source": [
        "bachelier_price = bachelier(0.07,0.08,1,0.20,0.069394,1.25,\"isCall\")\n",
        "print(\"bachelier_price = \"+\"{:.3%}\".format(bachelier_price))"
      ],
      "execution_count": 0,
      "outputs": [
        {
          "output_type": "stream",
          "text": [
            "bachelier_price = 8.363%\n"
          ],
          "name": "stdout"
        }
      ]
    }
  ]
}