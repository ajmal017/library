{
  "nbformat": 4,
  "nbformat_minor": 0,
  "metadata": {
    "colab": {
      "name": "Untitled13.ipynb",
      "provenance": [],
      "collapsed_sections": [],
      "include_colab_link": true
    },
    "kernelspec": {
      "name": "python3",
      "display_name": "Python 3"
    }
  },
  "cells": [
    {
      "cell_type": "markdown",
      "metadata": {
        "id": "view-in-github",
        "colab_type": "text"
      },
      "source": [
        "<a href=\"https://colab.research.google.com/github/rhysdavies21/library/blob/master/omega_v2.ipynb\" target=\"_parent\"><img src=\"https://colab.research.google.com/assets/colab-badge.svg\" alt=\"Open In Colab\"/></a>"
      ]
    },
    {
      "cell_type": "markdown",
      "metadata": {
        "id": "3Qhd-hF-sFns",
        "colab_type": "text"
      },
      "source": [
        "Comparing the Omega Measure across asset class"
      ]
    },
    {
      "cell_type": "code",
      "metadata": {
        "id": "q0hgJ01jsGOh",
        "colab_type": "code",
        "colab": {}
      },
      "source": [
        "# Input list of underlying assets, dates and compare historical Omega measure"
      ],
      "execution_count": 0,
      "outputs": []
    },
    {
      "cell_type": "code",
      "metadata": {
        "id": "qO-AskLNsG2C",
        "colab_type": "code",
        "outputId": "ef389363-c035-46d2-9a23-b1399439ce0d",
        "colab": {
          "base_uri": "https://localhost:8080/",
          "height": 218
        }
      },
      "source": [
        "pip install yfinance --upgrade --no-cache-dir"
      ],
      "execution_count": 20,
      "outputs": [
        {
          "output_type": "stream",
          "text": [
            "Requirement already up-to-date: yfinance in /usr/local/lib/python3.6/dist-packages (0.1.49)\n",
            "Requirement already satisfied, skipping upgrade: pandas>=0.24 in /usr/local/lib/python3.6/dist-packages (from yfinance) (0.25.2)\n",
            "Requirement already satisfied, skipping upgrade: numpy>=1.15 in /usr/local/lib/python3.6/dist-packages (from yfinance) (1.17.3)\n",
            "Requirement already satisfied, skipping upgrade: multitasking>=0.0.7 in /usr/local/lib/python3.6/dist-packages (from yfinance) (0.0.9)\n",
            "Requirement already satisfied, skipping upgrade: requests>=2.20 in /usr/local/lib/python3.6/dist-packages (from yfinance) (2.21.0)\n",
            "Requirement already satisfied, skipping upgrade: pytz>=2017.2 in /usr/local/lib/python3.6/dist-packages (from pandas>=0.24->yfinance) (2018.9)\n",
            "Requirement already satisfied, skipping upgrade: python-dateutil>=2.6.1 in /usr/local/lib/python3.6/dist-packages (from pandas>=0.24->yfinance) (2.6.1)\n",
            "Requirement already satisfied, skipping upgrade: chardet<3.1.0,>=3.0.2 in /usr/local/lib/python3.6/dist-packages (from requests>=2.20->yfinance) (3.0.4)\n",
            "Requirement already satisfied, skipping upgrade: urllib3<1.25,>=1.21.1 in /usr/local/lib/python3.6/dist-packages (from requests>=2.20->yfinance) (1.24.3)\n",
            "Requirement already satisfied, skipping upgrade: certifi>=2017.4.17 in /usr/local/lib/python3.6/dist-packages (from requests>=2.20->yfinance) (2019.9.11)\n",
            "Requirement already satisfied, skipping upgrade: idna<2.9,>=2.5 in /usr/local/lib/python3.6/dist-packages (from requests>=2.20->yfinance) (2.8)\n",
            "Requirement already satisfied, skipping upgrade: six>=1.5 in /usr/local/lib/python3.6/dist-packages (from python-dateutil>=2.6.1->pandas>=0.24->yfinance) (1.12.0)\n"
          ],
          "name": "stdout"
        }
      ]
    },
    {
      "cell_type": "code",
      "metadata": {
        "id": "ATxI3KZWsP2a",
        "colab_type": "code",
        "colab": {}
      },
      "source": [
        "# Import libraries\n",
        "import pandas as pd\n",
        "import yfinance as yf\n",
        "import matplotlib\n",
        "import matplotlib.pyplot as plt\n",
        "%matplotlib inline"
      ],
      "execution_count": 0,
      "outputs": []
    },
    {
      "cell_type": "code",
      "metadata": {
        "id": "n0NmH9SrA2zZ",
        "colab_type": "code",
        "colab": {}
      },
      "source": [
        "class color:\n",
        "   PURPLE = '\\033[95m'\n",
        "   CYAN = '\\033[96m'\n",
        "   DARKCYAN = '\\033[36m'\n",
        "   BLUE = '\\033[94m'\n",
        "   GREEN = '\\033[92m'\n",
        "   YELLOW = '\\033[93m'\n",
        "   RED = '\\033[91m'\n",
        "   BOLD = '\\033[1m'\n",
        "   UNDERLINE = '\\033[4m'\n",
        "   END = '\\033[0m'"
      ],
      "execution_count": 0,
      "outputs": []
    },
    {
      "cell_type": "code",
      "metadata": {
        "id": "dqd20HDwsXED",
        "colab_type": "code",
        "colab": {
          "base_uri": "https://localhost:8080/",
          "height": 67
        },
        "outputId": "37387a50-51cc-453d-ed64-8b177812a475"
      },
      "source": [
        "# Choose inputs\n",
        "assets = '^FTSE ^GSPC HISFX AAPL ^N225 ^HSI'\n",
        "start_date = '2016-01-01'\n",
        "end_date = '2019-10-24'\n",
        "\n",
        "# Generate inputs\n",
        "#assets = str(input(\"Choose tickers (string format with space between tickers) \"))\n",
        "#start_date = str(input(\"Choose start date (yyyy-mm-dd) \"))\n",
        "#end_date = str(input(\"Choose end date (yyyy-mm-dd) \"))\n",
        "\n",
        "# Display inputs\n",
        "print('assets: ', type(assets), assets)\n",
        "print('start_date: ', type(start_date), start_date)\n",
        "print('end_date: ', type(end_date), end_date)"
      ],
      "execution_count": 23,
      "outputs": [
        {
          "output_type": "stream",
          "text": [
            "assets:  <class 'str'> ^FTSE ^GSPC HISFX AAPL ^N225 ^HSI\n",
            "start_date:  <class 'str'> 2016-01-01\n",
            "end_date:  <class 'str'> 2019-10-24\n"
          ],
          "name": "stdout"
        }
      ]
    },
    {
      "cell_type": "code",
      "metadata": {
        "id": "krfzi_e3pF7q",
        "colab_type": "code",
        "colab": {}
      },
      "source": [
        ""
      ],
      "execution_count": 0,
      "outputs": []
    },
    {
      "cell_type": "code",
      "metadata": {
        "id": "LKjn7tSzF96G",
        "colab_type": "code",
        "outputId": "53d24d42-ee3b-49b3-e438-cca0671c0920",
        "colab": {
          "base_uri": "https://localhost:8080/",
          "height": 521
        }
      },
      "source": [
        "# Import data\n",
        "data = yf.download(assets, start_date, end_date)\n",
        "\n",
        "# Review data\n",
        "print(color.BOLD+'Indexing information:'+color.END)\n",
        "print(data.index.dtype)\n",
        "print(type(data.index))\n",
        "print(data.index)\n",
        "\n",
        "print(color.BOLD+'Dataframe information:'+color.END)\n",
        "print('Data Shape: ', data.shape)\n",
        "print('Data Head', data.head(3))\n",
        "print('Data Tail', data.tail(3))"
      ],
      "execution_count": 24,
      "outputs": [
        {
          "output_type": "stream",
          "text": [
            "[*********************100%***********************]  6 of 6 completed\n",
            "\u001b[1mIndexing information:\u001b[0m\n",
            "datetime64[ns]\n",
            "<class 'pandas.core.indexes.datetimes.DatetimeIndex'>\n",
            "DatetimeIndex(['2016-01-04', '2016-01-05', '2016-01-06', '2016-01-07',\n",
            "               '2016-01-08', '2016-01-11', '2016-01-12', '2016-01-13',\n",
            "               '2016-01-14', '2016-01-15',\n",
            "               ...\n",
            "               '2019-10-11', '2019-10-14', '2019-10-15', '2019-10-16',\n",
            "               '2019-10-17', '2019-10-18', '2019-10-21', '2019-10-22',\n",
            "               '2019-10-23', '2019-10-24'],\n",
            "              dtype='datetime64[ns]', name='Date', length=991, freq=None)\n",
            "\u001b[1mDataframe information:\u001b[0m\n",
            "Data Shape:  (991, 36)\n",
            "Data Head             Adj Close            ...        Volume          \n",
            "                 AAPL     HISFX  ...          ^HSI     ^N225\n",
            "Date                             ...                        \n",
            "2016-01-04  98.742249  9.720344  ...  1.712095e+09  140200.0\n",
            "2016-01-05  96.267815  9.757700  ...  1.484745e+09  132300.0\n",
            "2016-01-06  94.383888  9.735286  ...  1.651083e+09  142200.0\n",
            "\n",
            "[3 rows x 36 columns]\n",
            "Data Tail              Adj Close                      ...        Volume                       \n",
            "                  AAPL  HISFX        ^FTSE  ...         ^GSPC          ^HSI    ^N225\n",
            "Date                                        ...                                     \n",
            "2019-10-22  239.960007  12.80  7212.500000  ...  3.523890e+09  1.496851e+09      NaN\n",
            "2019-10-23  243.179993  12.78  7260.700195  ...  3.392870e+09  1.270779e+09  68000.0\n",
            "2019-10-24         NaN    NaN  7328.299805  ...           NaN  1.496729e+09  61300.0\n",
            "\n",
            "[3 rows x 36 columns]\n"
          ],
          "name": "stdout"
        }
      ]
    },
    {
      "cell_type": "code",
      "metadata": {
        "id": "oM4XCRMi_4Zk",
        "colab_type": "code",
        "colab": {}
      },
      "source": [
        ""
      ],
      "execution_count": 0,
      "outputs": []
    },
    {
      "cell_type": "code",
      "metadata": {
        "id": "Dtajs81nubM0",
        "colab_type": "code",
        "outputId": "99841e10-2ceb-45e0-f6a9-e23379e6b740",
        "colab": {
          "base_uri": "https://localhost:8080/",
          "height": 199
        }
      },
      "source": [
        "# Change into performance metric\n",
        "new_df = data['Adj Close'].pct_change(periods=1)   # Example: (data_adjclose['^FTSE'][1] / data_adjclose['^FTSE'][0] ) -1\n",
        "\n",
        "print('Type', type(new_df))\n",
        "print('Shape', new_df.shape)\n",
        "new_df.head(3)"
      ],
      "execution_count": 25,
      "outputs": [
        {
          "output_type": "stream",
          "text": [
            "Type <class 'pandas.core.frame.DataFrame'>\n",
            "Shape (991, 6)\n"
          ],
          "name": "stdout"
        },
        {
          "output_type": "execute_result",
          "data": {
            "text/html": [
              "<div>\n",
              "<style scoped>\n",
              "    .dataframe tbody tr th:only-of-type {\n",
              "        vertical-align: middle;\n",
              "    }\n",
              "\n",
              "    .dataframe tbody tr th {\n",
              "        vertical-align: top;\n",
              "    }\n",
              "\n",
              "    .dataframe thead th {\n",
              "        text-align: right;\n",
              "    }\n",
              "</style>\n",
              "<table border=\"1\" class=\"dataframe\">\n",
              "  <thead>\n",
              "    <tr style=\"text-align: right;\">\n",
              "      <th></th>\n",
              "      <th>AAPL</th>\n",
              "      <th>HISFX</th>\n",
              "      <th>^FTSE</th>\n",
              "      <th>^GSPC</th>\n",
              "      <th>^HSI</th>\n",
              "      <th>^N225</th>\n",
              "    </tr>\n",
              "    <tr>\n",
              "      <th>Date</th>\n",
              "      <th></th>\n",
              "      <th></th>\n",
              "      <th></th>\n",
              "      <th></th>\n",
              "      <th></th>\n",
              "      <th></th>\n",
              "    </tr>\n",
              "  </thead>\n",
              "  <tbody>\n",
              "    <tr>\n",
              "      <th>2016-01-04</th>\n",
              "      <td>NaN</td>\n",
              "      <td>NaN</td>\n",
              "      <td>NaN</td>\n",
              "      <td>NaN</td>\n",
              "      <td>NaN</td>\n",
              "      <td>NaN</td>\n",
              "    </tr>\n",
              "    <tr>\n",
              "      <th>2016-01-05</th>\n",
              "      <td>-0.02506</td>\n",
              "      <td>0.003843</td>\n",
              "      <td>0.007188</td>\n",
              "      <td>0.002012</td>\n",
              "      <td>-0.006489</td>\n",
              "      <td>-0.004172</td>\n",
              "    </tr>\n",
              "    <tr>\n",
              "      <th>2016-01-06</th>\n",
              "      <td>-0.01957</td>\n",
              "      <td>-0.002297</td>\n",
              "      <td>-0.010396</td>\n",
              "      <td>-0.013115</td>\n",
              "      <td>-0.009812</td>\n",
              "      <td>-0.009942</td>\n",
              "    </tr>\n",
              "  </tbody>\n",
              "</table>\n",
              "</div>"
            ],
            "text/plain": [
              "               AAPL     HISFX     ^FTSE     ^GSPC      ^HSI     ^N225\n",
              "Date                                                                 \n",
              "2016-01-04      NaN       NaN       NaN       NaN       NaN       NaN\n",
              "2016-01-05 -0.02506  0.003843  0.007188  0.002012 -0.006489 -0.004172\n",
              "2016-01-06 -0.01957 -0.002297 -0.010396 -0.013115 -0.009812 -0.009942"
            ]
          },
          "metadata": {
            "tags": []
          },
          "execution_count": 25
        }
      ]
    },
    {
      "cell_type": "code",
      "metadata": {
        "id": "xRhoeDrvHYZ3",
        "colab_type": "code",
        "outputId": "e70e1d13-7241-490a-b991-9f3bd258d52c",
        "colab": {
          "base_uri": "https://localhost:8080/",
          "height": 242
        }
      },
      "source": [
        "asset_list = list(new_df.columns)[0:]\n",
        "print('Assets: ', asset_list)\n",
        "\n",
        "data['Adj Close'].tail()"
      ],
      "execution_count": 26,
      "outputs": [
        {
          "output_type": "stream",
          "text": [
            "Assets:  ['AAPL', 'HISFX', '^FTSE', '^GSPC', '^HSI', '^N225']\n"
          ],
          "name": "stdout"
        },
        {
          "output_type": "execute_result",
          "data": {
            "text/html": [
              "<div>\n",
              "<style scoped>\n",
              "    .dataframe tbody tr th:only-of-type {\n",
              "        vertical-align: middle;\n",
              "    }\n",
              "\n",
              "    .dataframe tbody tr th {\n",
              "        vertical-align: top;\n",
              "    }\n",
              "\n",
              "    .dataframe thead th {\n",
              "        text-align: right;\n",
              "    }\n",
              "</style>\n",
              "<table border=\"1\" class=\"dataframe\">\n",
              "  <thead>\n",
              "    <tr style=\"text-align: right;\">\n",
              "      <th></th>\n",
              "      <th>AAPL</th>\n",
              "      <th>HISFX</th>\n",
              "      <th>^FTSE</th>\n",
              "      <th>^GSPC</th>\n",
              "      <th>^HSI</th>\n",
              "      <th>^N225</th>\n",
              "    </tr>\n",
              "    <tr>\n",
              "      <th>Date</th>\n",
              "      <th></th>\n",
              "      <th></th>\n",
              "      <th></th>\n",
              "      <th></th>\n",
              "      <th></th>\n",
              "      <th></th>\n",
              "    </tr>\n",
              "  </thead>\n",
              "  <tbody>\n",
              "    <tr>\n",
              "      <th>2019-10-18</th>\n",
              "      <td>236.410004</td>\n",
              "      <td>12.60</td>\n",
              "      <td>7150.600098</td>\n",
              "      <td>2986.199951</td>\n",
              "      <td>26719.580078</td>\n",
              "      <td>22492.679688</td>\n",
              "    </tr>\n",
              "    <tr>\n",
              "      <th>2019-10-21</th>\n",
              "      <td>240.509995</td>\n",
              "      <td>12.75</td>\n",
              "      <td>7163.600098</td>\n",
              "      <td>3006.719971</td>\n",
              "      <td>26725.679688</td>\n",
              "      <td>22548.900391</td>\n",
              "    </tr>\n",
              "    <tr>\n",
              "      <th>2019-10-22</th>\n",
              "      <td>239.960007</td>\n",
              "      <td>12.80</td>\n",
              "      <td>7212.500000</td>\n",
              "      <td>2995.989990</td>\n",
              "      <td>26786.199219</td>\n",
              "      <td>NaN</td>\n",
              "    </tr>\n",
              "    <tr>\n",
              "      <th>2019-10-23</th>\n",
              "      <td>243.179993</td>\n",
              "      <td>12.78</td>\n",
              "      <td>7260.700195</td>\n",
              "      <td>3004.520020</td>\n",
              "      <td>26566.730469</td>\n",
              "      <td>22625.380859</td>\n",
              "    </tr>\n",
              "    <tr>\n",
              "      <th>2019-10-24</th>\n",
              "      <td>NaN</td>\n",
              "      <td>NaN</td>\n",
              "      <td>7328.299805</td>\n",
              "      <td>NaN</td>\n",
              "      <td>26797.949219</td>\n",
              "      <td>22750.599609</td>\n",
              "    </tr>\n",
              "  </tbody>\n",
              "</table>\n",
              "</div>"
            ],
            "text/plain": [
              "                  AAPL  HISFX  ...          ^HSI         ^N225\n",
              "Date                           ...                            \n",
              "2019-10-18  236.410004  12.60  ...  26719.580078  22492.679688\n",
              "2019-10-21  240.509995  12.75  ...  26725.679688  22548.900391\n",
              "2019-10-22  239.960007  12.80  ...  26786.199219           NaN\n",
              "2019-10-23  243.179993  12.78  ...  26566.730469  22625.380859\n",
              "2019-10-24         NaN    NaN  ...  26797.949219  22750.599609\n",
              "\n",
              "[5 rows x 6 columns]"
            ]
          },
          "metadata": {
            "tags": []
          },
          "execution_count": 26
        }
      ]
    },
    {
      "cell_type": "code",
      "metadata": {
        "id": "jJTXzoSNGBeA",
        "colab_type": "code",
        "outputId": "5ab3c252-4e8e-4361-a7c6-f14b7669b752",
        "colab": {
          "base_uri": "https://localhost:8080/",
          "height": 790
        }
      },
      "source": [
        "\n",
        "# calc_omega is function t create omega by asset for a given input of Threshold\n",
        "\n",
        "def calc_omega(omega_list):\n",
        "  import matplotlib\n",
        "  \n",
        "  F_ASSETS = []\n",
        "  F_OMEGA =[]\n",
        "  update_new_df = new_df\n",
        "  omega_hlist = []\n",
        "\n",
        "  for t in omega_list:\n",
        "    threshold = t\n",
        "    F_OMEGA.append(t) \n",
        "\n",
        "  #  update_new_df = new_df\n",
        "    omega_assets = []\n",
        "    omega_losses = []\n",
        "    omega_gains = []\n",
        "    omega_values = []\n",
        "\n",
        "    for i in asset_list:\n",
        "      \n",
        "      update_new_df['loss_col_'+i]= update_new_df[i].apply(lambda x: float(1) if x < threshold else float(0)) * (threshold - update_new_df[i])\n",
        "      update_new_df['gain_col_'+i]= update_new_df[i].apply(lambda x: float(1) if x > threshold else float(0)) * (update_new_df[i] - threshold)\n",
        "\n",
        "      omega_assets.append(i)\n",
        "\n",
        "      omega_losses.append(sum(update_new_df['loss_col_'+i][1:]))\n",
        "      omega_gains.append(sum(update_new_df['gain_col_'+i][1:]))\n",
        "      omega_values.append(omega_gains[asset_list.index(i)] / omega_losses[asset_list.index(i)])\n",
        "\n",
        "    omega_hlist.append(omega_values)\n",
        "\n",
        "  display(omega_hlist)\n",
        "  display('              ')\n",
        "  \n",
        "  cdf = pd.DataFrame([omega_hlist])\n",
        " # display(cdf)\n",
        "  \n",
        "  \n",
        "  #F_df = pd.DataFrame(columns=['my_column_name_0', 'my_column_name_1', 'my_column_name_2', 'my_column_name_3'], data=omega_hlist)\n",
        "  F_df = pd.DataFrame(columns=asset_list[:], data=omega_hlist)\n",
        "\n",
        "  F_df['Omega_Heading'] = F_OMEGA\n",
        "  \n",
        "  F_df.set_index('Omega_Heading', inplace=True)\n",
        "\n",
        "  display(F_df)\n",
        "  display(type(F_df), F_df.shape)\n",
        "  F_df.plot()\n",
        "  return   \n",
        "\n",
        "calc_omega([0, 0.03, 0.05, 0.07, 0.23])"
      ],
      "execution_count": 27,
      "outputs": [
        {
          "output_type": "display_data",
          "data": {
            "text/plain": [
              "[[1.2195593660662363,\n",
              "  1.0870571504664857,\n",
              "  1.0788702357340065,\n",
              "  1.1770103073543126,\n",
              "  1.0790189377667667,\n",
              "  1.0752443864967216],\n",
              " [0.013879393199675896,\n",
              "  0.0006929502926745975,\n",
              "  0.0002362371499560841,\n",
              "  0.000816967125686461,\n",
              "  0.0008965137541583622,\n",
              "  0.005039474092213871],\n",
              " [0.0015811012522344604, 0.0, 0.0, 0.0, 0.0, 0.0009655284890206547],\n",
              " [6.172800013302942e-06, 0.0, 0.0, 0.0, 0.0, 2.2563144458476354e-05],\n",
              " [0.0, 0.0, 0.0, 0.0, 0.0, 0.0]]"
            ]
          },
          "metadata": {
            "tags": []
          }
        },
        {
          "output_type": "display_data",
          "data": {
            "text/plain": [
              "'              '"
            ]
          },
          "metadata": {
            "tags": []
          }
        },
        {
          "output_type": "display_data",
          "data": {
            "text/html": [
              "<div>\n",
              "<style scoped>\n",
              "    .dataframe tbody tr th:only-of-type {\n",
              "        vertical-align: middle;\n",
              "    }\n",
              "\n",
              "    .dataframe tbody tr th {\n",
              "        vertical-align: top;\n",
              "    }\n",
              "\n",
              "    .dataframe thead th {\n",
              "        text-align: right;\n",
              "    }\n",
              "</style>\n",
              "<table border=\"1\" class=\"dataframe\">\n",
              "  <thead>\n",
              "    <tr style=\"text-align: right;\">\n",
              "      <th></th>\n",
              "      <th>AAPL</th>\n",
              "      <th>HISFX</th>\n",
              "      <th>^FTSE</th>\n",
              "      <th>^GSPC</th>\n",
              "      <th>^HSI</th>\n",
              "      <th>^N225</th>\n",
              "    </tr>\n",
              "    <tr>\n",
              "      <th>Omega_Heading</th>\n",
              "      <th></th>\n",
              "      <th></th>\n",
              "      <th></th>\n",
              "      <th></th>\n",
              "      <th></th>\n",
              "      <th></th>\n",
              "    </tr>\n",
              "  </thead>\n",
              "  <tbody>\n",
              "    <tr>\n",
              "      <th>0.00</th>\n",
              "      <td>1.219559</td>\n",
              "      <td>1.087057</td>\n",
              "      <td>1.078870</td>\n",
              "      <td>1.177010</td>\n",
              "      <td>1.079019</td>\n",
              "      <td>1.075244</td>\n",
              "    </tr>\n",
              "    <tr>\n",
              "      <th>0.03</th>\n",
              "      <td>0.013879</td>\n",
              "      <td>0.000693</td>\n",
              "      <td>0.000236</td>\n",
              "      <td>0.000817</td>\n",
              "      <td>0.000897</td>\n",
              "      <td>0.005039</td>\n",
              "    </tr>\n",
              "    <tr>\n",
              "      <th>0.05</th>\n",
              "      <td>0.001581</td>\n",
              "      <td>0.000000</td>\n",
              "      <td>0.000000</td>\n",
              "      <td>0.000000</td>\n",
              "      <td>0.000000</td>\n",
              "      <td>0.000966</td>\n",
              "    </tr>\n",
              "    <tr>\n",
              "      <th>0.07</th>\n",
              "      <td>0.000006</td>\n",
              "      <td>0.000000</td>\n",
              "      <td>0.000000</td>\n",
              "      <td>0.000000</td>\n",
              "      <td>0.000000</td>\n",
              "      <td>0.000023</td>\n",
              "    </tr>\n",
              "    <tr>\n",
              "      <th>0.23</th>\n",
              "      <td>0.000000</td>\n",
              "      <td>0.000000</td>\n",
              "      <td>0.000000</td>\n",
              "      <td>0.000000</td>\n",
              "      <td>0.000000</td>\n",
              "      <td>0.000000</td>\n",
              "    </tr>\n",
              "  </tbody>\n",
              "</table>\n",
              "</div>"
            ],
            "text/plain": [
              "                   AAPL     HISFX     ^FTSE     ^GSPC      ^HSI     ^N225\n",
              "Omega_Heading                                                            \n",
              "0.00           1.219559  1.087057  1.078870  1.177010  1.079019  1.075244\n",
              "0.03           0.013879  0.000693  0.000236  0.000817  0.000897  0.005039\n",
              "0.05           0.001581  0.000000  0.000000  0.000000  0.000000  0.000966\n",
              "0.07           0.000006  0.000000  0.000000  0.000000  0.000000  0.000023\n",
              "0.23           0.000000  0.000000  0.000000  0.000000  0.000000  0.000000"
            ]
          },
          "metadata": {
            "tags": []
          }
        },
        {
          "output_type": "display_data",
          "data": {
            "text/plain": [
              "pandas.core.frame.DataFrame"
            ]
          },
          "metadata": {
            "tags": []
          }
        },
        {
          "output_type": "display_data",
          "data": {
            "text/plain": [
              "(5, 6)"
            ]
          },
          "metadata": {
            "tags": []
          }
        },
        {
          "output_type": "display_data",
          "data": {
            "image/png": "[encoded data removed]",
            "text/plain": [
              "<Figure size 432x288 with 1 Axes>"
            ]
          },
          "metadata": {
            "tags": []
          }
        }
      ]
    },
    {
      "cell_type": "code",
      "metadata": {
        "id": "fPKQyyMISL8U",
        "colab_type": "code",
        "outputId": "04e554e7-0300-4128-ec94-dc7e784bda87",
        "colab": {
          "base_uri": "https://localhost:8080/",
          "height": 34
        }
      },
      "source": [
        "asset_list[:][0]"
      ],
      "execution_count": 28,
      "outputs": [
        {
          "output_type": "execute_result",
          "data": {
            "text/plain": [
              "'AAPL'"
            ]
          },
          "metadata": {
            "tags": []
          },
          "execution_count": 28
        }
      ]
    },
    {
      "cell_type": "code",
      "metadata": {
        "id": "Qdh5sCXdVqev",
        "colab_type": "code",
        "colab": {}
      },
      "source": [
        ""
      ],
      "execution_count": 0,
      "outputs": []
    }
  ]
}