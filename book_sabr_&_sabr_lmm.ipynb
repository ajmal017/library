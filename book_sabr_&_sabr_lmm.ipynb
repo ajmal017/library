{
  "nbformat": 4,
  "nbformat_minor": 0,
  "metadata": {
    "colab": {
      "name": "book_sabr_&_sabr_lmm.ipynb",
      "provenance": [],
      "collapsed_sections": [],
      "authorship_tag": "ABX9TyNvyG+RCht9WMKNYWMRG6AZ",
      "include_colab_link": true
    },
    "kernelspec": {
      "name": "python3",
      "display_name": "Python 3"
    }
  },
  "cells": [
    {
      "cell_type": "markdown",
      "metadata": {
        "id": "view-in-github",
        "colab_type": "text"
      },
      "source": [
        "<a href=\"https://colab.research.google.com/github/rhysdavies21/library/blob/master/book_sabr_%26_sabr_lmm.ipynb\" target=\"_parent\"><img src=\"https://colab.research.google.com/assets/colab-badge.svg\" alt=\"Open In Colab\"/></a>"
      ]
    },
    {
      "cell_type": "markdown",
      "metadata": {
        "id": "sQXyqZSAO2xj",
        "colab_type": "text"
      },
      "source": [
        "##SABR and SABR LIBOR Market Models in Practice --- Crispoldi, Wigger & Larkin##"
      ]
    },
    {
      "cell_type": "code",
      "metadata": {
        "id": "OibA5IQ1O34X",
        "colab_type": "code",
        "colab": {}
      },
      "source": [
        "# Black formula\n",
        "# Reference SABR & SABR LIBOR Market Models, page 32, table 4.1\n",
        "# Note that this is NOT the discounted price\n",
        "\n",
        "from scipy.stats import norm\n",
        "import math\n",
        "\n",
        "def Black(F_0, y, expiry, vol, isCall):\n",
        "  '''\n",
        "  Compute the Black formula.\n",
        "  @var F_0: Forward rate at time 0\n",
        "  @var y: option strike\n",
        "  @var expiry: option expiry (in years)\n",
        "  @var vol: Black implied volatility\n",
        "  @var isCall: True or False\n",
        "  '''\n",
        "  option_value = 0\n",
        "  if expiry * vol == 0.0:\n",
        "    if isCall: \n",
        "      option_value = max(F_0 - y, 0.0)\n",
        "    else:\n",
        "      option_value = max(y - F_0, 0.0)\n",
        "  else:\n",
        "    d1 = dPlusBlack(F_0 = F_0, y = y, expiry = expiry, vol = vol)\n",
        "    d2 = dMinusBlack(F_0 = F_0, y = y, expiry = expiry, vol = vol)\n",
        "    if isCall:\n",
        "      option_value = (F_0 * norm.cdf(d1) - y * norm.cdf(d2))\n",
        "    else:\n",
        "      option_value = (y * norm.cdf(-d2) - F_0 * norm.cdf(-d1))\n",
        "  return option_value\n",
        "\n",
        "\n",
        "def dPlusBlack(F_0, y, expiry, vol):\n",
        "  '''\n",
        "  Compute the d+ term appearing in the Black formula\n",
        "  @var F_0: forward rate at time 0\n",
        "  @vary y: option strike\n",
        "  @var expiry: option expiry (in years)\n",
        "  @var vol: Black implied volatility\n",
        "  '''\n",
        "  d_plus =  ((math.log(F_0 / y) + 0.5 * vol * vol * expiry) / (vol * math.sqrt(expiry)))\n",
        "  return d_plus\n",
        "\n",
        "\n",
        "def dMinusBlack(F_0, y, expiry, vol):\n",
        "  '''\n",
        "  Compute the d- term appearing in the Black formula\n",
        "  @var F_0: forward rate at time 0\n",
        "  @vary y: option strike\n",
        "  @var expiry: option expiry (in years)\n",
        "  @var vol: Black implied volatility\n",
        "  '''\n",
        "  d_minus =  (dPlusBlack(F_0 = F_0, y = y, expiry = expiry, vol = vol) - vol * math.sqrt(expiry))\n",
        "  return d_minus"
      ],
      "execution_count": 44,
      "outputs": []
    },
    {
      "cell_type": "code",
      "metadata": {
        "id": "rPCIClHzb6Fo",
        "colab_type": "code",
        "colab": {
          "base_uri": "https://localhost:8080/",
          "height": 67
        },
        "outputId": "b16c9e09-0469-499a-a91e-642ca8bb6f52"
      },
      "source": [
        "# Run Black (undiscounted) formula\n",
        "\n",
        "F_0 = 0.02 \n",
        "y = 0.03\n",
        "expiry =  0.5\n",
        "vol = 0.4\n",
        "isCall = 1\n",
        "\n",
        "a = Black(F_0, y, expiry, vol, isCall)\n",
        "b = dPlusBlack(F_0, y, expiry, vol)\n",
        "c = dMinusBlack(F_0, y, expiry, vol)\n",
        "\n",
        "print('BOOK Black (undiscounted) price: ', round(a,10))\n",
        "print('BOOK dPlusBlack: ', b)\n",
        "print('BOOK dMinusBlack', c)"
      ],
      "execution_count": 35,
      "outputs": [
        {
          "output_type": "stream",
          "text": [
            "BOOK Black (undiscounted) price:  0.0002341801\n",
            "BOOK dPlusBlack:  -1.2921142811517878\n",
            "BOOK dMinusBlack -1.574956993626407\n"
          ],
          "name": "stdout"
        }
      ]
    },
    {
      "cell_type": "code",
      "metadata": {
        "id": "B3vffuiAqrVR",
        "colab_type": "code",
        "colab": {}
      },
      "source": [
        "# First-order derivative of a function using central difference \n",
        "# Reference SABR & SABR LIBOR Market Models, page 41, table 4.6\n",
        "\n",
        "def computeFirstDerivative(v_u_plus_du, v_u_minus_du, du):\n",
        "  '''\n",
        "  Compute the first derivative of a function using central difference\n",
        "\n",
        "  @var v_u_plus_du: is the value of the function computed for a positive bump amount du\n",
        "  @var v_u_minus_du: is the value of the function computed for a negative bump amount du\n",
        "  @var du: bump amount\n",
        "  '''\n",
        "  first_derivative = (v_u_plus_du - v_u_minus_du) / (2.0 * du)\n",
        "\n",
        "  return first_derivative"
      ],
      "execution_count": 9,
      "outputs": []
    },
    {
      "cell_type": "code",
      "metadata": {
        "id": "v7VUgiqWrobT",
        "colab_type": "code",
        "colab": {}
      },
      "source": [
        "# First-order derivative of a function using central difference \n",
        "# Reference SABR & SABR LIBOR Market Models, page 41, table 4.6\n",
        "\n",
        "def computeSecondDerivative(v_u, v_u_plus_du, v_u_minus_du, du):\n",
        "  '''\n",
        "  Compute the second derivative of a function using central difference\n",
        "\n",
        "  @var v_u: is the value of the function\n",
        "  @var v_u_plus_du: is the value of the function computed for a positive bump amount du\n",
        "  @var v_u_minus_du: is the value of the function computed for a negative bump amount du\n",
        "  @var du: bump amount\n",
        "  '''\n",
        "  second_derivative = (v_u_plus_du - 2.0*v_u + v_u_minus_du) / (du * du)\n",
        "\n",
        "  return second_derivative"
      ],
      "execution_count": 10,
      "outputs": []
    },
    {
      "cell_type": "code",
      "metadata": {
        "id": "sxIr4ZOStP5a",
        "colab_type": "code",
        "colab": {}
      },
      "source": [
        "# Hagan et al. lognormal approximation\n",
        "# Reference SABR & SABR LIBOR Market Models, page 58, table 5.1\n",
        "\n",
        "import math\n",
        "def haganLogNormalApprox(y, expiry, F_0, alpha_0, beta, nu, rho):\n",
        "  '''\n",
        "  Function which returns the Black implied volatility, computed using the \n",
        "  Hagan et al. lognormal approximations\n",
        "\n",
        "  @var y: option strike\n",
        "  @expiry: option expiry (in years)\n",
        "  @var F_0: forward interest rate\n",
        "  @var alpha_0: SABR Alpha at t=0\n",
        "  @var beta: SABR Beta\n",
        "  @var rho: SABR Rho\n",
        "  @var nu: SABR Nu\n",
        "  '''\n",
        "  one_beta = 1.0 - beta\n",
        "  one_betasqr =  one_beta * one_beta\n",
        "  if F_0 != y:\n",
        "    fK = F_0 * y\n",
        "    fK_beta = math.pow(fK, one_beta / 2.0)\n",
        "    log_fK = math.log(F_0 / y)\n",
        "    z = nu / alpha_0 * fK_beta *log_fK\n",
        "    x = math.log((math.sqrt(1.0 - 2.0 * rho * \n",
        "                            z + z * z) + z - rho) / (1 - rho))\n",
        "    sigma_1 = (alpha_0 / fK_beta / (1.0 + one_betasqr / \n",
        "              24.0 * log_fK * log_fK +\n",
        "              math.pow(one_beta * log_fK, 4) / 1920.0) *\n",
        "              (z / x))\n",
        "    sigma_exp = (one_betasqr / 24.0 * alpha_0 * alpha_0 /\n",
        "                 fK_beta / fK_beta + 0.25 * rho * beta *\n",
        "                 nu * alpha_0 / fK_beta + \n",
        "                 (2.0 - 3.0 * rho * rho) / 24.0 * nu * nu)\n",
        "    sigma = sigma_1 * (1.0 + sigma_exp * expiry)\n",
        "  else:\n",
        "    f_beta = math.pow(F_0, one_beta)\n",
        "    f_two_beta = math.pow(F_0, (2.0 - 2.0 * beta))\n",
        "    sigma - ((alpha_0 / f_beta) * (1.0 + \n",
        "                                   ((one_betasqr / 24.0) *\n",
        "                                    (alpha_0 * alpha_0 / f_two_beta) + \n",
        "                                    (0.25 * rho * beta * nu * alpha_0 / f_beta) +\n",
        "                                    24.0 * nu * nu) * expiry))\n",
        "  return sigma"
      ],
      "execution_count": 25,
      "outputs": []
    },
    {
      "cell_type": "code",
      "metadata": {
        "id": "Fjurlzo8yK-n",
        "colab_type": "code",
        "colab": {
          "base_uri": "https://localhost:8080/",
          "height": 33
        },
        "outputId": "3e908b5a-517f-470f-a02f-f0e4e50782a7"
      },
      "source": [
        "# Run Hagan et al. lognormal approximation\n",
        "\n",
        "y = 0.09\n",
        "expiry = 3\n",
        "F_0 = 0.03\n",
        "alpha_0 = 0.2\n",
        "beta = .2\n",
        "nu = 0.5\n",
        "rho = 0.5\n",
        "\n",
        "x = haganLogNormalApprox(y, expiry, F_0, alpha_0, beta, nu, rho)\n",
        "print('SABR Vol: ', round(x, 10))"
      ],
      "execution_count": 26,
      "outputs": [
        {
          "output_type": "stream",
          "text": [
            "SABR Vol:  3.272972092\n"
          ],
          "name": "stdout"
        }
      ]
    },
    {
      "cell_type": "code",
      "metadata": {
        "id": "iiNfclHa5wsy",
        "colab_type": "code",
        "colab": {
          "base_uri": "https://localhost:8080/",
          "height": 33
        },
        "outputId": "3a0b35af-7b2e-4a9c-b19a-d118c3544260"
      },
      "source": [
        "# Run SABR calculation example\n",
        "\n",
        "y = 0.02\n",
        "expiry = 0.5\n",
        "F_0 = 0.04\n",
        "alpha_0 = 0.2\n",
        "beta = .8\n",
        "nu = 0.3\n",
        "rho = -0.4\n",
        "\n",
        "x = haganLogNormalApprox(y, expiry, F_0, alpha_0, beta, nu, rho)\n",
        "round(x, 10)"
      ],
      "execution_count": 43,
      "outputs": [
        {
          "output_type": "execute_result",
          "data": {
            "text/plain": [
              "0.4584267891"
            ]
          },
          "metadata": {
            "tags": []
          },
          "execution_count": 43
        }
      ]
    },
    {
      "cell_type": "code",
      "metadata": {
        "id": "jmWDt8125yq0",
        "colab_type": "code",
        "colab": {}
      },
      "source": [
        "# SABR delta computation \n",
        "# Reference SABR & SABR LIBOR Market Models, page 74, table 5.2\n",
        "\n",
        "def computeSABRDelta(y, expiry, F_0, alpha_0, beta, rho, nu, isCall):\n",
        "  '''\n",
        "  Compute the SABR delta\n",
        "\n",
        "  @var y: option strike\n",
        "  @var expiry: option expiry (in years)\n",
        "  @var F_0: forward interest rate\n",
        "  @var alpha_0: SABR Alpha at t=0\n",
        "  @var beta: SABR Beta\n",
        "  @var rho: SABR Rho\n",
        "  @var nu: SABR Nu\n",
        "  @var isCall: True or False\n",
        "  '''\n",
        "  small_figure = 1e-6\n",
        "  \n",
        "  F_0_plus_h = F_0 + small_figure\n",
        "  avg_alpha_plus = (alpha_0 + (rho * nu / math.pow(F_0, beta)) * small_figure)\n",
        "  vol = haganLogNormalApprox(y, expiry, F_0_plus_h, avg_alpha_plus, beta, nu, rho)\n",
        "  px_f_plus_h = black(F_0_plus_h, y, expiry, vol, isCall)\n",
        "\n",
        "  F_0_minus_h = F_0 - small_figure\n",
        "  avg_alpha_minus = (alpha_0 + (rho * nu / math.pow(F_0, beta)) * (-small_figure))\n",
        "  vol = haganLogNormalApprox(y, expiry, F_0_minus_h, avg_alpha_minus, beta, nu, rho)\n",
        "  px_f_minus_h = black(F_0_minus_h, y, expiry, vol, isCall)\n",
        "  sabr_delta = computeFirstDerivative(px_f_plus_h, px_f_minus_h, small_figure)\n",
        "\n",
        "  return sabr_delta"
      ],
      "execution_count": 25,
      "outputs": []
    },
    {
      "cell_type": "code",
      "metadata": {
        "id": "WLl-smeJ5Ofn",
        "colab_type": "code",
        "colab": {}
      },
      "source": [
        "# SABR vega computation \n",
        "# Reference SABR & SABR LIBOR Market Models, page 76, table 5.3\n",
        "\n",
        "import math\n",
        "\n",
        "def computeSABRVega(y, expiry, F_0, alpha_0, beta, rho, nu, isCall):\n",
        "  '''\n",
        "  Compute the SABR vega\n",
        "\n",
        "  @var y: option strike\n",
        "  @var expiry: option expiry (in years)\n",
        "  @var F_0: forward interest rate\n",
        "  @var alpha_0: SABR Alpha at t=0\n",
        "  @var beta: SABR Beta\n",
        "  @var rho: SABR Rho\n",
        "  @var nu: SABR Nu\n",
        "  @var isCall: True or False\n",
        "  '''\n",
        "  small_figure = 1e-6\n",
        "  alpha_plus_h = alpha_0 + small_figure\n",
        "  avg_F_plus = (F_0 + (rho * math.pow(F_0, beta) / nu) * small_figure)\n",
        "  vol_plus = haganLogNormalApprox(y, expiry, avg_F_plus, alpha_plus_h, beta, nu, rho)\n",
        "  px_a_plus_h = black(F_0, y, expiry, vol_plus, isCall)\n",
        "\n",
        "  alpha_minus_h = alpha_0 - small_figure\n",
        "  avg_F_minus = (F_0 + (rho * math.pow(F_0, beta) / nu) * (-small_figure))\n",
        "  vol_minus = haganLogNormalApprox(y, expiry, avg_F_minus, alpha_minus_h, beta, nu, rho)\n",
        "  px_a_minus_h = black(F_0, y, expiry, vol_minus, isCall)\n",
        "\n",
        "  sabr_vega = computeFirstDerivative(px_a_plus_h, px_a_minus_h, small_figure)\n",
        "\n",
        "  return sabr_vega"
      ],
      "execution_count": 27,
      "outputs": []
    },
    {
      "cell_type": "code",
      "metadata": {
        "id": "4MPcu67GCLeR",
        "colab_type": "code",
        "colab": {}
      },
      "source": [
        "# Draw two correlated random numbers\n",
        "# Reference SABR & SABR LIBOR Market Models, page 80, table 5.4\n",
        "\n",
        "import random\n",
        "# Seed the random number generator\n",
        "random.seed()\n",
        "import math\n",
        "\n",
        "def drawTwoRandomNumbers(rho):\n",
        "  '''\n",
        "  Draw a pair of correlated random numbers\n",
        "  @var rho: SABR Rho\n",
        "  '''\n",
        "  rand_list = []\n",
        "  z1 = random.gauss(0,1)\n",
        "  y1 = random.gauss(0,1)\n",
        "  rand_list.append(z1)\n",
        "  term1 = z1 * rho\n",
        "  term2 = (y1 * math.pow((1.0 - math.pow(rho, 2.0)), 0.5))\n",
        "  x2 = term1 + term2\n",
        "  rand_list.append(x2)\n",
        "\n",
        "  return rand_list"
      ],
      "execution_count": 42,
      "outputs": []
    },
    {
      "cell_type": "code",
      "metadata": {
        "id": "qXa60akMdBaB",
        "colab_type": "code",
        "colab": {}
      },
      "source": [
        "# Monte Carlo Euler scheme\n",
        "# Reference SABR & SABR LIBOR Market Models, page 82, table 5.5\n",
        "\n",
        "import math\n",
        "def simulateSABRMonteCarloEuler(no_of_sim, no_of_steps, \n",
        "                                expiry, F_0, alpha_0, beta, rho, nu):\n",
        "  '''\n",
        "  Monte Carlo SABR using Euler scheme\n",
        "  @var no_of_sim: Monte Carlo paths\n",
        "  @var no_of_steps: discretization steps required\n",
        "  to reach the option expiry date\n",
        "  @var expiry: optio expiry (in years)\n",
        "  @var F_0: forward interest rate\n",
        "  @var alpha_0: SABR Alpha at t=0\n",
        "  @var beta: SABR Beta\n",
        "  @var rho: SABR Rho\n",
        "  @var nu: SABR Nu\n",
        "  '''\n",
        "  # Step length in years\n",
        "  dt = float(expiry) / float(no_of_steps)\n",
        "  dt_sqrt = math.sqrt(dt)\n",
        "  no_of_sim_counter = 0\n",
        "  simulated_forwards = []\n",
        "  while no_of_sim_counter < no_of_sim:\n",
        "    F_t = F_0\n",
        "    alpha_t = alpha_0\n",
        "    no_of_steps_counter = 1\n",
        "    while no_of_steps_counter <= no_of_steps:\n",
        "      # Zero absorbing boundary used for all the beta\n",
        "      # choices except beta = 0 and beta = 1\n",
        "      if ((beta > 0 and beta < 1) and F_t <= 0):\n",
        "        F_t = 0\n",
        "        no_of_steps_counter =  no_of_steps + 1\n",
        "      else:\n",
        "        # Generate two correlated random numbers\n",
        "        rand = drawTwoRandomNumbers(rho)\n",
        "        # Simulate the forward interest rate using the Euler\n",
        "        # scheme. Use the absolute for the diffusion to avoid \n",
        "        # numerical issues if the forward interest rate goes into \n",
        "        # negative territory\n",
        "        dW_F = dt_sqrt * rand[0]\n",
        "        F_b = math.pow(abs(F_t), beta)\n",
        "        F_t = F_t + alpha_t * F_b * dW_F\n",
        "        # Simulate the stochastic volatility using the Euler scheme\n",
        "        dW_a = dt_sqrt * rand[1]\n",
        "        alpha_t = (alpha_t + nu * alpha_t * dW_a)\n",
        "      no_of_steps_counter += 1\n",
        "    # At the end of each path, we store the forward interest rate in a list\n",
        "    simulated_forwards.append(F_t)\n",
        "    no_of_sim_counter = no_of_sim_counter + 1\n",
        "  return simulated_forwards"
      ],
      "execution_count": 43,
      "outputs": []
    },
    {
      "cell_type": "code",
      "metadata": {
        "id": "WyTee_8EdJjk",
        "colab_type": "code",
        "colab": {
          "base_uri": "https://localhost:8080/",
          "height": 33
        },
        "outputId": "5f6bf792-fbef-4fd4-f664-deccde0fc70f"
      },
      "source": [
        "# Run Monte Carlo Euler scheme example\n",
        "\n",
        "no_of_sim = 10000\n",
        "no_of_steps = 100\n",
        "expiry = 1\n",
        "F_0 = 0.05\n",
        "alpha_0 = 0.2\n",
        "beta = 0.6\n",
        "rho = -0.3\n",
        "nu = 0.2\n",
        "\n",
        "see_paths_euler = simulateSABRMonteCarloEuler(no_of_sim, no_of_steps, expiry, F_0, alpha_0, beta, rho, nu)\n",
        "print('See first 5 simulations: ', see_paths_euler[0:5])"
      ],
      "execution_count": 48,
      "outputs": [
        {
          "output_type": "stream",
          "text": [
            "See first 5 simulations:  [0.05493359128109417, 0.07716285723573395, 0.07903141866425427, 0.09761541652524656, 0.05983651717911646]\n"
          ],
          "name": "stdout"
        }
      ]
    },
    {
      "cell_type": "code",
      "metadata": {
        "id": "2yfG5xhhMbPZ",
        "colab_type": "code",
        "colab": {}
      },
      "source": [
        "# Monte Carlo Milstein scheme for SABR\n",
        "# Reference SABR & SABR LIBOR Market Models, page 89, table 5.10\n",
        "\n",
        "import math\n",
        "def simulateSABRMonteCarloMilstein(no_of_sim, no_of_steps, expiry, F_0, \n",
        "                                   alpha_0, beta, rho, nu):\n",
        "  '''\n",
        "  Monte Carlo SABR using Milstein scheme\n",
        "  @var no_of_sim: Monte Carlo paths\n",
        "  @var no_of_steps: discretization steps required\n",
        "  to reach the option expiry date\n",
        "  @var expiry: option expiry (in years)\n",
        "  @var F_0: Forward interest rate\n",
        "  @var alpha_0: SABR Alpha at t=0\n",
        "  @var beta: SABR Beta\n",
        "  @var rho: SABR Rho\n",
        "  @var nu: SABR Nu\n",
        "  '''\n",
        "  # Step length in years\n",
        "  dt = float(expiry) / float(no_of_steps)\n",
        "  dt_sqrt = math.sqrt(dt)\n",
        "  no_of_sim_counter = 0\n",
        "  simulated_forwards = []\n",
        "  while no_of_sim_counter < no_of_sim:\n",
        "    F_t = F_0\n",
        "    alpha_t = alpha_0\n",
        "    no_of_steps_counter = 1\n",
        "    while no_of_steps_counter <= no_of_steps:\n",
        "      # Zero absorbing boundary used for all the beta choices\n",
        "      # except beta = 0 and beta = 1\n",
        "      if ((beta > 0 and beta < 1) and F_t <= 0):\n",
        "        F_t = 0\n",
        "        no_of_steps_counter = no_of_steps + 1\n",
        "      else:\n",
        "        # Generate two correlated random numbers\n",
        "        rand = drawTwoRandomNumbers(rho)\n",
        "        # Simulate the forward interest rate using the Milstein scheme. Use\n",
        "        # the absolute for the diffusion to avoid the numerical issues if the\n",
        "        # forward interest rate goes into negative territory\n",
        "        dW_F = dt_sqrt * rand[0]\n",
        "        F_b = math.pow(abs(F_t), beta)\n",
        "        exp_F = 2.0 * beta - 1.0\n",
        "        F_t = (F_t + alpha_t * F_b * dW_F \n",
        "               + 0.5 * beta * math.pow(alpha_t, 2.0) \n",
        "               * math.pow(abs(F_t), exp_F) * (rand[0] * rand[0] - 1.0) * dt )\n",
        "        # Simulate the stochastic volatility using the Milstein scheme\n",
        "        dW_a = dt_sqrt * rand[1]\n",
        "        nu_sqr = math.pow(nu, 2.0)\n",
        "        alpha_t = (alpha_t + nu * alpha_t * dW_a \n",
        "                   + 0.5 * nu_sqr * alpha_t * (rand[1] * rand[1] - 1.0) * dt)\n",
        "      no_of_steps_counter += 1\n",
        "    # At the end of each path, we store the forward interest rate in a list\n",
        "    simulated_forwards.append(F_t)\n",
        "    no_of_sim_counter = no_of_sim_counter + 1\n",
        "  return simulated_forwards"
      ],
      "execution_count": 53,
      "outputs": []
    },
    {
      "cell_type": "code",
      "metadata": {
        "id": "qOb4gIPJTUwM",
        "colab_type": "code",
        "colab": {
          "base_uri": "https://localhost:8080/",
          "height": 33
        },
        "outputId": "59807846-e9b8-43e8-f12d-dd56524e8440"
      },
      "source": [
        "# Run Monte Carlo Milstein example\n",
        "\n",
        "no_of_sim = 10000\n",
        "no_of_steps = 100\n",
        "expiry = 1\n",
        "F_0 = 0.05\n",
        "alpha_0 = 0.2\n",
        "beta = 0.6\n",
        "rho = -0.3\n",
        "nu = 0.2\n",
        "\n",
        "see_paths_milstein = simulateSABRMonteCarloMilstein(no_of_sim, no_of_steps, expiry, F_0, alpha_0, beta, rho, nu)\n",
        "print('See first 5 simulations: ', see_paths_milstein[0:5])"
      ],
      "execution_count": 54,
      "outputs": [
        {
          "output_type": "stream",
          "text": [
            "See first 5 simulations:  [0.02743023945507001, 0.07769470541953066, 0.049987527388471356, 0.07251551962896854, 0.01671777275693085]\n"
          ],
          "name": "stdout"
        }
      ]
    },
    {
      "cell_type": "code",
      "metadata": {
        "id": "DWmbIyml_MYG",
        "colab_type": "code",
        "colab": {}
      },
      "source": [
        "# Double exponential correlation parameterization\n",
        "# Reference SABR & SABR LIBOR Market Models, page 135, table 6.4\n",
        "# Note multiple errors in code from book\n",
        "\n",
        "import numpy as np\n",
        "\n",
        "def generateParametricCorrelationMatrix(alpha, beta, rho_inf, maturity_grid):\n",
        "  '''\n",
        "  Function which generates a correlation matrix using the double \n",
        "  parameterization\n",
        "\n",
        "  @var alpha: alpha parameter\n",
        "  @var beta: beta parameter\n",
        "  @var rho_inf: rho_inf parameter\n",
        "  @var maturity_grid: represents a list containing the firward rate maturities\n",
        "  which we are going to model. For example, if we want to model the\n",
        "  semi-annual forward rates maturing between 1 and 5 years from now, we will set:\n",
        "  maturity_grid = [1, 1.5, 2, 2.5, 3, 3.5, 4, 4.5, 5]\n",
        "  '''\n",
        "  grid = len(maturity_grid)\n",
        "  # Create a null correlation matrix\n",
        "  corr_matrix = np.zeros((grid, grid))\n",
        "  for i in range(grid):\n",
        "    for j in range(grid):\n",
        "      first_e = np.exp(-beta * abs(maturity_grid[i] \n",
        "                                   - maturity_grid[j]))\n",
        "      second_e = np.exp(-alpha * min(maturity_grid[i], \n",
        "                                     maturity_grid[j]))\n",
        "      corr_matrix[i,j] = (rho_inf + (1.0 - rho_inf) *\n",
        "                          first_e * second_e) \n",
        "  return corr_matrix"
      ],
      "execution_count": 36,
      "outputs": []
    },
    {
      "cell_type": "code",
      "metadata": {
        "id": "iB1hJD3TBnYm",
        "colab_type": "code",
        "colab": {
          "base_uri": "https://localhost:8080/",
          "height": 100
        },
        "outputId": "00b8ef87-25b7-431e-d88d-8b55db8e5511"
      },
      "source": [
        "# Generate parametric correlation matrix example\n",
        "\n",
        "alpha = 0.2\n",
        "beta = 0.6\n",
        "rho_inf = -0.3\n",
        "maturity_grid = [1, 2, 3, 4, 5]\n",
        "\n",
        "corr = generateParametricCorrelationMatrix(alpha, beta, rho_inf, maturity_grid)\n",
        "corr"
      ],
      "execution_count": 37,
      "outputs": [
        {
          "output_type": "execute_result",
          "data": {
            "text/plain": [
              "array([[ 0.76434998,  0.28412765,  0.02057605, -0.12406413, -0.20344435],\n",
              "       [ 0.28412765,  0.57141606,  0.17824327, -0.03753453, -0.15595589],\n",
              "       [ 0.02057605,  0.17824327,  0.41345513,  0.09155248, -0.08511145],\n",
              "       [-0.12406413, -0.03753453,  0.09155248,  0.28412765,  0.02057605],\n",
              "       [-0.20344435, -0.15595589, -0.08511145,  0.02057605,  0.17824327]])"
            ]
          },
          "metadata": {
            "tags": []
          },
          "execution_count": 37
        }
      ]
    },
    {
      "cell_type": "code",
      "metadata": {
        "id": "sVSFpjBwDaiQ",
        "colab_type": "code",
        "colab": {}
      },
      "source": [
        "# Compute the Black volatility in terms of the instantaneous volatility\n",
        "# parameterized using equation 6.26 on page 138\n",
        "# Reference SABR & SABR LIBOR Market Models, page 139, table 6.6\n",
        "\n",
        "import numpy as np\n",
        "\n",
        "def getCapletVolatility(expiry, a, b, c, d):\n",
        "  '''\n",
        "  Return the caplet volatility at time t=0, computed in terms of the \n",
        "  instantaneous volatility function form proposed by Rebonato\n",
        "\n",
        "  @var expiry: caplet expiry (in years)\n",
        "  @var a: parameter a of Rebonato's instant. vol function\n",
        "  @var b: parameter b of Rebonato's instant. vol function\n",
        "  @var c: parameter c of Rebonato's instant. vol function\n",
        "  @var d: parameter d of Rebonato's instant. vol function\n",
        "  '''\n",
        "  a_sqr = a * a\n",
        "  b_sqr = b * b\n",
        "  c_sqr = c * c\n",
        "  d_sqr = d * d\n",
        "  tau = expiry\n",
        "  exp_term = np.exp(-c *  tau)\n",
        "  exp_plus_term = np.exp(c *  tau)\n",
        "  term1 = (-2.0 * c_sqr * (a_sqr + 4.0 * a * d * exp_plus_term \n",
        "                           - 2.0 * c * d_sqr * tau * exp_plus_term * exp_plus_term))\n",
        "  term2 = (2.0 * b * c * (2.0 * a * c * tau + a \n",
        "                          + 4.0 * d * exp_plus_term * (c * tau + 1.0)))\n",
        "  term3 = (b_sqr * (-(2.0 * c_sqr * tau * tau + 2.0 * c * tau + 1.0)))\n",
        "  variance_expiry = ((1.0 / (4.0 * c * c * c)) * exp_term * exp_term * (term1 - term2 + term3))\n",
        "  \n",
        "  tau = 0\n",
        "  exp_term = np.exp(-c * tau)\n",
        "  exp_plus_term = np.exp(c * tau)\n",
        "  term1 = (-2.0 * c_sqr * (a_sqr + 4.0 * a * d * exp_plus_term \n",
        "                           - 2.0 * c * d_sqr * tau * exp_plus_term * exp_plus_term))\n",
        "  term2 = (2.0 * b * c * (2.0 * a * c * tau + a \n",
        "                          + 4.0 * d * exp_plus_term * (c * tau + 1.0)))\n",
        "  term3 = (b_sqr * (-(2.0 * c_sqr * tau * tau + 2.0 * c * tau + 1.0)))\n",
        "  variance_t0 = ((1.0 / (4.0 * c * c * c)) * exp_term * exp_term * (term1 - term2 + term3))\n",
        "  \n",
        "  variance = variance_expiry - variance_t0\n",
        "  volatility = np.sqrt(variance / expiry)\n",
        "  \n",
        "  return volatility"
      ],
      "execution_count": 56,
      "outputs": []
    },
    {
      "cell_type": "code",
      "metadata": {
        "id": "jJAEUWJRcjR9",
        "colab_type": "code",
        "colab": {}
      },
      "source": [
        "# Compute the instantaneous volatility in terms of the parametric form\n",
        "# Reference SABR & SABR LIBOR Market Models, page 141, table 6.7\n",
        "\n",
        "import numpy as np\n",
        "\n",
        "def getInstantaneousVolatility(t, expiry, a, b, c, d):\n",
        "  '''\n",
        "  Return the instantaneous volatility computed in terms of the parametric\n",
        "  form proposed by Rebonato at a given time t\n",
        "\n",
        "  @var t: time at which we want to compute the instantaneous volatility (in years)\n",
        "  @var expiry: caplet expiry (in years)\n",
        "  @var a: parameter a of Rebonato's instant. vol function\n",
        "  @var b: parameter b of Rebonato's instant. vol function\n",
        "  @var c: parameter c of Rebonato's instant. vol function\n",
        "  @var d: parameter d of Rebonato's instant. vol function\n",
        "  '''\n",
        "  tau = expiry - t\n",
        "  instantaneous_vol = (a + b * tau) * np.exp(-c * tau) + d\n",
        "\n",
        "  return instantaneous_vol"
      ],
      "execution_count": 57,
      "outputs": []
    },
    {
      "cell_type": "code",
      "metadata": {
        "id": "0Qg1OWmQg7u5",
        "colab_type": "code",
        "colab": {}
      },
      "source": [
        ""
      ],
      "execution_count": null,
      "outputs": []
    }
  ]
}