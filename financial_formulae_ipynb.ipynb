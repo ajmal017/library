{
  "nbformat": 4,
  "nbformat_minor": 0,
  "metadata": {
    "colab": {
      "name": "financial_formulae_ipynb",
      "provenance": [],
      "collapsed_sections": [],
      "authorship_tag": "ABX9TyOky/g4UmHrfOVoLpdgTI35",
      "include_colab_link": true
    },
    "kernelspec": {
      "name": "python3",
      "display_name": "Python 3"
    }
  },
  "cells": [
    {
      "cell_type": "markdown",
      "metadata": {
        "id": "view-in-github",
        "colab_type": "text"
      },
      "source": [
        "<a href=\"https://colab.research.google.com/github/rhysdavies21/library/blob/master/financial_formulae_ipynb.ipynb\" target=\"_parent\"><img src=\"https://colab.research.google.com/assets/colab-badge.svg\" alt=\"Open In Colab\"/></a>"
      ]
    },
    {
      "cell_type": "markdown",
      "metadata": {
        "id": "_zRKisuaUkOl",
        "colab_type": "text"
      },
      "source": [
        "**Financial Formulae**"
      ]
    },
    {
      "cell_type": "code",
      "metadata": {
        "id": "vSH6sykSioLI",
        "colab_type": "code",
        "colab": {}
      },
      "source": [
        "# Black's formula\n",
        "\n",
        "from scipy.stats import norm\n",
        "import math\n",
        "\n",
        "def dPlusBlack(F_0 , y, expiry , vol):\n",
        "    d_plus = ((math.log(F_0 / y) + 0.5 * vol * vol * expiry)/ vol / math.sqrt(expiry))\n",
        "    return d_plus\n",
        "\n",
        "def dMinusBlack(F_0 , y, expiry , vol):\n",
        "    d_minus = (dPlusBlack(F_0 = F_0 , y = y, expiry = expiry ,vol = vol ) - vol * math.sqrt(expiry))\n",
        "    return d_minus\n",
        "\n",
        "def black(F_0,y,expiry,vol,rfr,expiry_1,isCall):\n",
        "    option_value = 0\n",
        "    if expiry * vol == 0.0:\n",
        "        if isCall:\n",
        "            option_value = max(F_0 - y, 0.0)\n",
        "        else:\n",
        "            option_value = max(y - F_0 , 0.0)\n",
        "    else:\n",
        "        d1 = dPlusBlack(F_0 = F_0 , y = y, expiry = expiry ,vol = vol)\n",
        "        d2 = dMinusBlack(F_0 = F_0 , y = y, expiry = expiry ,vol = vol)\n",
        "        if isCall:\n",
        "             option_value = (math.exp((-rfr)*expiry_1))*(F_0 * norm.cdf(d1) - y *norm.cdf(d2))\n",
        "        else:\n",
        "             option_value = (math.exp((-rfr)*expiry_1))*(y * norm.cdf(-d2) - F_0 *norm.cdf(-d1))\n",
        "    return option_value"
      ],
      "execution_count": 0,
      "outputs": []
    },
    {
      "cell_type": "code",
      "metadata": {
        "id": "RAzWSQ5ya9NG",
        "colab_type": "code",
        "colab": {
          "base_uri": "https://localhost:8080/",
          "height": 34
        },
        "outputId": "89dd354d-c6af-4a81-9915-9423aa289ffd"
      },
      "source": [
        "black_price = black(0.07,0.08,1,0.20,0.069394,1.25,\"isCall\")\n",
        "print(\"black_price = \"+\"{:.3%}\".format(black_price))"
      ],
      "execution_count": 30,
      "outputs": [
        {
          "output_type": "stream",
          "text": [
            "black_price = 0.206%\n"
          ],
          "name": "stdout"
        }
      ]
    },
    {
      "cell_type": "code",
      "metadata": {
        "id": "OAxGoFB4VKQu",
        "colab_type": "code",
        "colab": {}
      },
      "source": [
        "# Bachelier \n",
        "\n",
        "from scipy.stats import norm\n",
        "import math\n",
        "\n",
        "def dPlusBachelier(F_0 , y, expiry , vol):\n",
        "    d_plus = (F_0 - y)/ (vol * math.sqrt(expiry))\n",
        "    return d_plus\n",
        "\n",
        "def bachelier(F_0,y,expiry,vol,rfr,expiry_1,isCall):\n",
        "    option_value = 0\n",
        "    if expiry * vol == 0.0:\n",
        "        if isCall:\n",
        "            option_value = max(F_0 - y, 0.0)\n",
        "        else:\n",
        "            option_value = max(y - F_0 , 0.0)\n",
        "    else:\n",
        "        d1 = dPlusBachelier(F_0 = F_0 , y = y, expiry = expiry ,vol = vol)\n",
        "        if isCall:\n",
        "             option_value = (math.exp((-rfr)*expiry_1))*((F_0 - y)* norm.cdf(d1) + vol * math.sqrt(expiry) * norm.cdf(d1))\n",
        "        else:\n",
        "             option_value = (math.exp((-rfr)*expiry_1))*((y-F_0) * norm.cdf(-d1) + vol * math.sqrt(expiry) * norm.cdf(-d1))\n",
        "    return option_value\n"
      ],
      "execution_count": 0,
      "outputs": []
    },
    {
      "cell_type": "code",
      "metadata": {
        "id": "a58DspBvVh0-",
        "colab_type": "code",
        "colab": {
          "base_uri": "https://localhost:8080/",
          "height": 34
        },
        "outputId": "b18b71be-033d-4c6f-dd91-2f6e5b227abf"
      },
      "source": [
        "bachelier_price = bachelier(0.07,0.08,1,0.20,0.069394,1.25,\"isCall\")\n",
        "print(\"bachelier_price = \"+\"{:.3%}\".format(bachelier_price))"
      ],
      "execution_count": 31,
      "outputs": [
        {
          "output_type": "stream",
          "text": [
            "bachelier_price = 8.363%\n"
          ],
          "name": "stdout"
        }
      ]
    }
  ]
}