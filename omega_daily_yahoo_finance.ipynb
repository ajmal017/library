{
  "nbformat": 4,
  "nbformat_minor": 0,
  "metadata": {
    "colab": {
      "name": "Untitled13.ipynb",
      "provenance": [],
      "collapsed_sections": [],
      "include_colab_link": true
    },
    "kernelspec": {
      "name": "python3",
      "display_name": "Python 3"
    }
  },
  "cells": [
    {
      "cell_type": "markdown",
      "metadata": {
        "id": "view-in-github",
        "colab_type": "text"
      },
      "source": [
        "<a href=\"https://colab.research.google.com/github/rhysdavies21/library/blob/master/omega_daily_yahoo_finance.ipynb\" target=\"_parent\"><img src=\"https://colab.research.google.com/assets/colab-badge.svg\" alt=\"Open In Colab\"/></a>"
      ]
    },
    {
      "cell_type": "markdown",
      "metadata": {
        "id": "3Qhd-hF-sFns",
        "colab_type": "text"
      },
      "source": [
        "## **Comparing the Omega Measure across asset class**\n",
        "\n",
        "---\n",
        "\n"
      ]
    },
    {
      "cell_type": "markdown",
      "metadata": {
        "id": "tcbzLiRIdbnY",
        "colab_type": "text"
      },
      "source": [
        "**1. Load libraries and input**"
      ]
    },
    {
      "cell_type": "code",
      "metadata": {
        "id": "qO-AskLNsG2C",
        "colab_type": "code",
        "outputId": "1841c104-d6ea-431e-ee88-a6b9836fdf74",
        "colab": {
          "base_uri": "https://localhost:8080/",
          "height": 218
        }
      },
      "source": [
        "pip install yfinance --upgrade --no-cache-dir"
      ],
      "execution_count": 1,
      "outputs": [
        {
          "output_type": "stream",
          "text": [
            "Requirement already up-to-date: yfinance in /usr/local/lib/python3.6/dist-packages (0.1.49)\n",
            "Requirement already satisfied, skipping upgrade: pandas>=0.24 in /usr/local/lib/python3.6/dist-packages (from yfinance) (0.25.2)\n",
            "Requirement already satisfied, skipping upgrade: requests>=2.20 in /usr/local/lib/python3.6/dist-packages (from yfinance) (2.21.0)\n",
            "Requirement already satisfied, skipping upgrade: multitasking>=0.0.7 in /usr/local/lib/python3.6/dist-packages (from yfinance) (0.0.9)\n",
            "Requirement already satisfied, skipping upgrade: numpy>=1.15 in /usr/local/lib/python3.6/dist-packages (from yfinance) (1.17.3)\n",
            "Requirement already satisfied, skipping upgrade: python-dateutil>=2.6.1 in /usr/local/lib/python3.6/dist-packages (from pandas>=0.24->yfinance) (2.6.1)\n",
            "Requirement already satisfied, skipping upgrade: pytz>=2017.2 in /usr/local/lib/python3.6/dist-packages (from pandas>=0.24->yfinance) (2018.9)\n",
            "Requirement already satisfied, skipping upgrade: urllib3<1.25,>=1.21.1 in /usr/local/lib/python3.6/dist-packages (from requests>=2.20->yfinance) (1.24.3)\n",
            "Requirement already satisfied, skipping upgrade: idna<2.9,>=2.5 in /usr/local/lib/python3.6/dist-packages (from requests>=2.20->yfinance) (2.8)\n",
            "Requirement already satisfied, skipping upgrade: certifi>=2017.4.17 in /usr/local/lib/python3.6/dist-packages (from requests>=2.20->yfinance) (2019.9.11)\n",
            "Requirement already satisfied, skipping upgrade: chardet<3.1.0,>=3.0.2 in /usr/local/lib/python3.6/dist-packages (from requests>=2.20->yfinance) (3.0.4)\n",
            "Requirement already satisfied, skipping upgrade: six>=1.5 in /usr/local/lib/python3.6/dist-packages (from python-dateutil>=2.6.1->pandas>=0.24->yfinance) (1.12.0)\n"
          ],
          "name": "stdout"
        }
      ]
    },
    {
      "cell_type": "code",
      "metadata": {
        "id": "ATxI3KZWsP2a",
        "colab_type": "code",
        "outputId": "d3354a09-f0ab-4d69-8506-9ef528ecf393",
        "colab": {
          "base_uri": "https://localhost:8080/",
          "height": 67
        }
      },
      "source": [
        "# Import libraries\n",
        "import pandas as pd\n",
        "import yfinance as yf\n",
        "\n",
        "import matplotlib as mpl\n",
        "import matplotlib.pyplot as plt\n",
        "%matplotlib inline\n",
        "\n",
        "# Version check\n",
        "print ('pandas version: ', pd.__version__) \n",
        "print ('yfinance version: ', yf.__version__) \n",
        "print ('matplotlib version: ', mpl.__version__)"
      ],
      "execution_count": 2,
      "outputs": [
        {
          "output_type": "stream",
          "text": [
            "pandas version:  0.25.2\n",
            "yfinance version:  0.1.49\n",
            "matplotlib version:  3.1.1\n"
          ],
          "name": "stdout"
        }
      ]
    },
    {
      "cell_type": "code",
      "metadata": {
        "id": "n0NmH9SrA2zZ",
        "colab_type": "code",
        "colab": {}
      },
      "source": [
        "# Create class of formats\n",
        "class color:\n",
        "   PURPLE = '\\033[95m'\n",
        "   CYAN = '\\033[96m'\n",
        "   DARKCYAN = '\\033[36m'\n",
        "   BLUE = '\\033[94m'\n",
        "   GREEN = '\\033[92m'\n",
        "   YELLOW = '\\033[93m'\n",
        "   RED = '\\033[91m'\n",
        "   BOLD = '\\033[1m'\n",
        "   UNDERLINE = '\\033[4m'\n",
        "   END = '\\033[0m'"
      ],
      "execution_count": 0,
      "outputs": []
    },
    {
      "cell_type": "markdown",
      "metadata": {
        "id": "wKja_-KmPJrw",
        "colab_type": "text"
      },
      "source": [
        "FTSE 100 (^FTSE)\n",
        "{FTSE Index - FTSE Index Delayed Price. Currency in GBP}\n",
        "\n",
        "*iShares* MSCI World GBP Hedged ETF Acc (IGWD.L) {LSE - LSE Delayed price. Currency in GBp}\n",
        "\n",
        "*iShares* GiltTrak Index Fund (IE) Institutional Dist GBP (0P00006OKA.L)\n",
        "{Irish - Irish Delayed Price. Currency in GBp}\n"
      ]
    },
    {
      "cell_type": "code",
      "metadata": {
        "id": "dqd20HDwsXED",
        "colab_type": "code",
        "outputId": "b3552c0d-e4fa-4ae1-956b-bb6111fc4d10",
        "colab": {
          "base_uri": "https://localhost:8080/",
          "height": 67
        }
      },
      "source": [
        "# Choose inputs\n",
        "assets = '^FTSE IGWD.L 0P00006OKA.L'\n",
        "start_date = '2016-01-01'\n",
        "end_date = '2019-11-1'\n",
        "\n",
        "# Generate inputs - this requests users to input data via pop-up\n",
        "#assets = str(input(\"Choose tickers (string format with space between tickers) \"))\n",
        "#start_date = str(input(\"Choose start date (yyyy-mm-dd) \"))\n",
        "#end_date = str(input(\"Choose end date (yyyy-mm-dd) \"))\n",
        "\n",
        "# Display inputs\n",
        "print(color.BOLD+'assets :'+color.END, type(assets), assets)\n",
        "print(color.BOLD+'start_date: '+color.END, type(start_date), start_date)\n",
        "print(color.BOLD+'end_date: '+color.END, type(end_date), end_date)"
      ],
      "execution_count": 4,
      "outputs": [
        {
          "output_type": "stream",
          "text": [
            "\u001b[1massets :\u001b[0m <class 'str'> ^FTSE IGWD.L 0P00006OKA.L\n",
            "\u001b[1mstart_date: \u001b[0m <class 'str'> 2016-01-01\n",
            "\u001b[1mend_date: \u001b[0m <class 'str'> 2019-11-1\n"
          ],
          "name": "stdout"
        }
      ]
    },
    {
      "cell_type": "markdown",
      "metadata": {
        "id": "Ia9zx59kdwbH",
        "colab_type": "text"
      },
      "source": [
        "**2. Import and process and review historical data**"
      ]
    },
    {
      "cell_type": "code",
      "metadata": {
        "id": "LKjn7tSzF96G",
        "colab_type": "code",
        "outputId": "4aeb7b30-cd4f-4656-a243-2b917ffc8d70",
        "colab": {
          "base_uri": "https://localhost:8080/",
          "height": 550
        }
      },
      "source": [
        "# Import data\n",
        "raw_data = yf.download(assets, start_date, end_date)\n",
        "raw_data = raw_data.dropna()                                       # Drop all rows that have any NaN values\n",
        "\n",
        "# Review data\n",
        "print('\\n', color.BOLD+'Review dataframe of input data - head:'+color.END)\n",
        "display(raw_data['Adj Close'].head())\n",
        "\n",
        "print('\\n', color.BOLD+'Review dataframe of input data - tail:'+color.END)\n",
        "display(raw_data['Adj Close'].tail())\n",
        "\n",
        "print('\\n',color.BOLD+'Review shape of raw_data: '+color.END, raw_data.shape)"
      ],
      "execution_count": 9,
      "outputs": [
        {
          "output_type": "stream",
          "text": [
            "[*********************100%***********************]  3 of 3 completed\n",
            "\n",
            " \u001b[1mReview dataframe of input data - head:\u001b[0m\n"
          ],
          "name": "stdout"
        },
        {
          "output_type": "display_data",
          "data": {
            "text/html": [
              "<div>\n",
              "<style scoped>\n",
              "    .dataframe tbody tr th:only-of-type {\n",
              "        vertical-align: middle;\n",
              "    }\n",
              "\n",
              "    .dataframe tbody tr th {\n",
              "        vertical-align: top;\n",
              "    }\n",
              "\n",
              "    .dataframe thead th {\n",
              "        text-align: right;\n",
              "    }\n",
              "</style>\n",
              "<table border=\"1\" class=\"dataframe\">\n",
              "  <thead>\n",
              "    <tr style=\"text-align: right;\">\n",
              "      <th></th>\n",
              "      <th>0P00006OKA.L</th>\n",
              "      <th>IGWD.L</th>\n",
              "      <th>^FTSE</th>\n",
              "    </tr>\n",
              "    <tr>\n",
              "      <th>Date</th>\n",
              "      <th></th>\n",
              "      <th></th>\n",
              "      <th></th>\n",
              "    </tr>\n",
              "  </thead>\n",
              "  <tbody>\n",
              "    <tr>\n",
              "      <th>2016-01-04</th>\n",
              "      <td>10.120264</td>\n",
              "      <td>4045.5</td>\n",
              "      <td>6093.399902</td>\n",
              "    </tr>\n",
              "    <tr>\n",
              "      <th>2016-01-05</th>\n",
              "      <td>10.128804</td>\n",
              "      <td>4071.0</td>\n",
              "      <td>6137.200195</td>\n",
              "    </tr>\n",
              "    <tr>\n",
              "      <th>2016-01-06</th>\n",
              "      <td>10.201873</td>\n",
              "      <td>4037.0</td>\n",
              "      <td>6073.399902</td>\n",
              "    </tr>\n",
              "    <tr>\n",
              "      <th>2016-01-07</th>\n",
              "      <td>10.178148</td>\n",
              "      <td>3965.0</td>\n",
              "      <td>5954.100098</td>\n",
              "    </tr>\n",
              "    <tr>\n",
              "      <th>2016-01-08</th>\n",
              "      <td>10.204719</td>\n",
              "      <td>3898.0</td>\n",
              "      <td>5912.399902</td>\n",
              "    </tr>\n",
              "  </tbody>\n",
              "</table>\n",
              "</div>"
            ],
            "text/plain": [
              "            0P00006OKA.L  IGWD.L        ^FTSE\n",
              "Date                                         \n",
              "2016-01-04     10.120264  4045.5  6093.399902\n",
              "2016-01-05     10.128804  4071.0  6137.200195\n",
              "2016-01-06     10.201873  4037.0  6073.399902\n",
              "2016-01-07     10.178148  3965.0  5954.100098\n",
              "2016-01-08     10.204719  3898.0  5912.399902"
            ]
          },
          "metadata": {
            "tags": []
          }
        },
        {
          "output_type": "stream",
          "text": [
            "\n",
            " \u001b[1mReview dataframe of input data - tail:\u001b[0m\n"
          ],
          "name": "stdout"
        },
        {
          "output_type": "display_data",
          "data": {
            "text/html": [
              "<div>\n",
              "<style scoped>\n",
              "    .dataframe tbody tr th:only-of-type {\n",
              "        vertical-align: middle;\n",
              "    }\n",
              "\n",
              "    .dataframe tbody tr th {\n",
              "        vertical-align: top;\n",
              "    }\n",
              "\n",
              "    .dataframe thead th {\n",
              "        text-align: right;\n",
              "    }\n",
              "</style>\n",
              "<table border=\"1\" class=\"dataframe\">\n",
              "  <thead>\n",
              "    <tr style=\"text-align: right;\">\n",
              "      <th></th>\n",
              "      <th>0P00006OKA.L</th>\n",
              "      <th>IGWD.L</th>\n",
              "      <th>^FTSE</th>\n",
              "    </tr>\n",
              "    <tr>\n",
              "      <th>Date</th>\n",
              "      <th></th>\n",
              "      <th></th>\n",
              "      <th></th>\n",
              "    </tr>\n",
              "  </thead>\n",
              "  <tbody>\n",
              "    <tr>\n",
              "      <th>2019-10-24</th>\n",
              "      <td>11.682</td>\n",
              "      <td>5672.0</td>\n",
              "      <td>7328.299805</td>\n",
              "    </tr>\n",
              "    <tr>\n",
              "      <th>2019-10-25</th>\n",
              "      <td>11.631</td>\n",
              "      <td>5689.5</td>\n",
              "      <td>7324.500000</td>\n",
              "    </tr>\n",
              "    <tr>\n",
              "      <th>2019-10-28</th>\n",
              "      <td>11.536</td>\n",
              "      <td>5711.5</td>\n",
              "      <td>7331.299805</td>\n",
              "    </tr>\n",
              "    <tr>\n",
              "      <th>2019-10-29</th>\n",
              "      <td>11.517</td>\n",
              "      <td>5713.5</td>\n",
              "      <td>7306.299805</td>\n",
              "    </tr>\n",
              "    <tr>\n",
              "      <th>2019-10-30</th>\n",
              "      <td>11.572</td>\n",
              "      <td>5703.0</td>\n",
              "      <td>7330.799805</td>\n",
              "    </tr>\n",
              "  </tbody>\n",
              "</table>\n",
              "</div>"
            ],
            "text/plain": [
              "            0P00006OKA.L  IGWD.L        ^FTSE\n",
              "Date                                         \n",
              "2019-10-24        11.682  5672.0  7328.299805\n",
              "2019-10-25        11.631  5689.5  7324.500000\n",
              "2019-10-28        11.536  5711.5  7331.299805\n",
              "2019-10-29        11.517  5713.5  7306.299805\n",
              "2019-10-30        11.572  5703.0  7330.799805"
            ]
          },
          "metadata": {
            "tags": []
          }
        },
        {
          "output_type": "stream",
          "text": [
            "\n",
            " \u001b[1mReview shape of raw_data: \u001b[0m (921, 18)\n"
          ],
          "name": "stdout"
        }
      ]
    },
    {
      "cell_type": "code",
      "metadata": {
        "id": "Dtajs81nubM0",
        "colab_type": "code",
        "outputId": "692dadf1-5b9e-4842-a3b9-ed7d4001b465",
        "colab": {
          "base_uri": "https://localhost:8080/",
          "height": 567
        }
      },
      "source": [
        "# Change into performance metric\n",
        "new_df = raw_data['Adj Close'].pct_change(periods=1)  # Calculate performance: (data_adjclose['asset'][1] / data_adjclose['asset'][0] ) -1\n",
        "new_df = new_df.dropna()                              # Drop all rows that have any NaN values\n",
        "\n",
        "# Create asset_list\n",
        "asset_list = list(new_df.columns)[0:]\n",
        "\n",
        "# Review data\n",
        "print('\\n', color.BOLD+'Review dataframe of performance data - head:'+color.END)\n",
        "display(new_df.head())\n",
        "\n",
        "print('\\n', color.BOLD+'Review dataframe of performance data - tail:'+color.END)\n",
        "display(new_df.tail())\n",
        "\n",
        "print('\\n',color.BOLD+'Review shape of new_df: '+color.END, new_df.shape)\n",
        "print('\\n', color.BOLD+'asset_list: '+color.END, asset_list)"
      ],
      "execution_count": 10,
      "outputs": [
        {
          "output_type": "stream",
          "text": [
            "\n",
            " \u001b[1mReview dataframe of performance data - head:\u001b[0m\n"
          ],
          "name": "stdout"
        },
        {
          "output_type": "display_data",
          "data": {
            "text/html": [
              "<div>\n",
              "<style scoped>\n",
              "    .dataframe tbody tr th:only-of-type {\n",
              "        vertical-align: middle;\n",
              "    }\n",
              "\n",
              "    .dataframe tbody tr th {\n",
              "        vertical-align: top;\n",
              "    }\n",
              "\n",
              "    .dataframe thead th {\n",
              "        text-align: right;\n",
              "    }\n",
              "</style>\n",
              "<table border=\"1\" class=\"dataframe\">\n",
              "  <thead>\n",
              "    <tr style=\"text-align: right;\">\n",
              "      <th></th>\n",
              "      <th>0P00006OKA.L</th>\n",
              "      <th>IGWD.L</th>\n",
              "      <th>^FTSE</th>\n",
              "    </tr>\n",
              "    <tr>\n",
              "      <th>Date</th>\n",
              "      <th></th>\n",
              "      <th></th>\n",
              "      <th></th>\n",
              "    </tr>\n",
              "  </thead>\n",
              "  <tbody>\n",
              "    <tr>\n",
              "      <th>2016-01-05</th>\n",
              "      <td>0.000844</td>\n",
              "      <td>0.006303</td>\n",
              "      <td>0.007188</td>\n",
              "    </tr>\n",
              "    <tr>\n",
              "      <th>2016-01-06</th>\n",
              "      <td>0.007214</td>\n",
              "      <td>-0.008352</td>\n",
              "      <td>-0.010396</td>\n",
              "    </tr>\n",
              "    <tr>\n",
              "      <th>2016-01-07</th>\n",
              "      <td>-0.002326</td>\n",
              "      <td>-0.017835</td>\n",
              "      <td>-0.019643</td>\n",
              "    </tr>\n",
              "    <tr>\n",
              "      <th>2016-01-08</th>\n",
              "      <td>0.002611</td>\n",
              "      <td>-0.016898</td>\n",
              "      <td>-0.007004</td>\n",
              "    </tr>\n",
              "    <tr>\n",
              "      <th>2016-01-11</th>\n",
              "      <td>-0.000651</td>\n",
              "      <td>-0.006798</td>\n",
              "      <td>-0.006867</td>\n",
              "    </tr>\n",
              "  </tbody>\n",
              "</table>\n",
              "</div>"
            ],
            "text/plain": [
              "            0P00006OKA.L    IGWD.L     ^FTSE\n",
              "Date                                        \n",
              "2016-01-05      0.000844  0.006303  0.007188\n",
              "2016-01-06      0.007214 -0.008352 -0.010396\n",
              "2016-01-07     -0.002326 -0.017835 -0.019643\n",
              "2016-01-08      0.002611 -0.016898 -0.007004\n",
              "2016-01-11     -0.000651 -0.006798 -0.006867"
            ]
          },
          "metadata": {
            "tags": []
          }
        },
        {
          "output_type": "stream",
          "text": [
            "\n",
            " \u001b[1mReview dataframe of performance data - tail:\u001b[0m\n"
          ],
          "name": "stdout"
        },
        {
          "output_type": "display_data",
          "data": {
            "text/html": [
              "<div>\n",
              "<style scoped>\n",
              "    .dataframe tbody tr th:only-of-type {\n",
              "        vertical-align: middle;\n",
              "    }\n",
              "\n",
              "    .dataframe tbody tr th {\n",
              "        vertical-align: top;\n",
              "    }\n",
              "\n",
              "    .dataframe thead th {\n",
              "        text-align: right;\n",
              "    }\n",
              "</style>\n",
              "<table border=\"1\" class=\"dataframe\">\n",
              "  <thead>\n",
              "    <tr style=\"text-align: right;\">\n",
              "      <th></th>\n",
              "      <th>0P00006OKA.L</th>\n",
              "      <th>IGWD.L</th>\n",
              "      <th>^FTSE</th>\n",
              "    </tr>\n",
              "    <tr>\n",
              "      <th>Date</th>\n",
              "      <th></th>\n",
              "      <th></th>\n",
              "      <th></th>\n",
              "    </tr>\n",
              "  </thead>\n",
              "  <tbody>\n",
              "    <tr>\n",
              "      <th>2019-10-24</th>\n",
              "      <td>0.007677</td>\n",
              "      <td>0.005317</td>\n",
              "      <td>0.009310</td>\n",
              "    </tr>\n",
              "    <tr>\n",
              "      <th>2019-10-25</th>\n",
              "      <td>-0.004366</td>\n",
              "      <td>0.003085</td>\n",
              "      <td>-0.000519</td>\n",
              "    </tr>\n",
              "    <tr>\n",
              "      <th>2019-10-28</th>\n",
              "      <td>-0.008168</td>\n",
              "      <td>0.003867</td>\n",
              "      <td>0.000928</td>\n",
              "    </tr>\n",
              "    <tr>\n",
              "      <th>2019-10-29</th>\n",
              "      <td>-0.001647</td>\n",
              "      <td>0.000350</td>\n",
              "      <td>-0.003410</td>\n",
              "    </tr>\n",
              "    <tr>\n",
              "      <th>2019-10-30</th>\n",
              "      <td>0.004775</td>\n",
              "      <td>-0.001838</td>\n",
              "      <td>0.003353</td>\n",
              "    </tr>\n",
              "  </tbody>\n",
              "</table>\n",
              "</div>"
            ],
            "text/plain": [
              "            0P00006OKA.L    IGWD.L     ^FTSE\n",
              "Date                                        \n",
              "2019-10-24      0.007677  0.005317  0.009310\n",
              "2019-10-25     -0.004366  0.003085 -0.000519\n",
              "2019-10-28     -0.008168  0.003867  0.000928\n",
              "2019-10-29     -0.001647  0.000350 -0.003410\n",
              "2019-10-30      0.004775 -0.001838  0.003353"
            ]
          },
          "metadata": {
            "tags": []
          }
        },
        {
          "output_type": "stream",
          "text": [
            "\n",
            " \u001b[1mReview shape of new_df: \u001b[0m (920, 3)\n",
            "\n",
            " \u001b[1masset_list: \u001b[0m ['0P00006OKA.L', 'IGWD.L', '^FTSE']\n"
          ],
          "name": "stdout"
        }
      ]
    },
    {
      "cell_type": "markdown",
      "metadata": {
        "id": "u-GCTZe3mJ39",
        "colab_type": "text"
      },
      "source": [
        "**3. Define calc_function to calculate and illustrate Omega by asset and threshold**"
      ]
    },
    {
      "cell_type": "code",
      "metadata": {
        "id": "jJTXzoSNGBeA",
        "colab_type": "code",
        "colab": {}
      },
      "source": [
        "# Input threshold_list as a list of threshold values (on a daily basis)\n",
        "# calc_omega is function to create omega by asset for a given input of threshold\n",
        "# Inner loops over asset to calculate omega for some threshold. Then outer loop to calculate list of (list) omegas by asset for varying thresholds\n",
        "\n",
        "def calc_omega(threshold_list):\n",
        "  \n",
        "  update_new_df = new_df        # new dataframe to include gains, losses and omegas\n",
        "  omega_by_asset = []           # list of (lists) omega outputs by underlying asset for particular threshold\n",
        "  col_threshold =[]             # column of threshold values\n",
        "\n",
        "  for t in threshold_list:\n",
        "    threshold = t\n",
        "\n",
        "    vec_assets = []             # vector of assets for some threshold\n",
        "    vec_losses = []             # vector of losses for some threshold\n",
        "    vec_gains = []              # vector of gains for some threshold\n",
        "    vec_omega = []              # vector of omegas for some threshold\n",
        "\n",
        "    for a in asset_list:\n",
        "      \n",
        "      update_new_df['loss_col_'+a]= update_new_df[a].apply(lambda x: float(1) if x < threshold else float(0)) * (threshold - update_new_df[a])\n",
        "      update_new_df['gain_col_'+a]= update_new_df[a].apply(lambda x: float(1) if x > threshold else float(0)) * (update_new_df[a] - threshold)\n",
        "\n",
        "      vec_assets.append(a)\n",
        "      vec_losses.append(sum(update_new_df['loss_col_'+a][1:]))\n",
        "      vec_gains.append(sum(update_new_df['gain_col_'+a][1:]))\n",
        "      vec_omega.append(vec_gains[asset_list.index(a)] / vec_losses[asset_list.index(a)])\n",
        "\n",
        "    omega_by_asset.append(vec_omega)\n",
        "    col_threshold.append(t) \n",
        "   \n",
        "  output_df = pd.DataFrame(columns=asset_list[:], data=omega_by_asset)\n",
        "  output_df['Threshold_Heading'] = col_threshold\n",
        "  output_df.set_index('Threshold_Heading', inplace=True)\n",
        "\n",
        "  display(output_df)\n",
        "  print('\\n')\n",
        "  \n",
        "  ### Graph below\n",
        "\n",
        "  plt = output_df.plot(kind='line', figsize=(20,8), linewidth=3)\n",
        "  # plt = output_df.plot(kind='area', alpha=0.9, figsize=(20,8), linewidth=3)     # Alternative graph. Note that alpha denotes transparency\n",
        "  plt.set_title('Omega by Threshold for group of assets', size=16)\n",
        "  plt.set_xlabel('Threshold', fontsize=14)\n",
        "  plt.set_ylabel('Omega', fontsize=14)\n",
        "  plt.legend(loc='upper right', fontsize=14)\n",
        "  \n",
        "  plt.plot()\n",
        "\n",
        "  return   "
      ],
      "execution_count": 0,
      "outputs": []
    },
    {
      "cell_type": "markdown",
      "metadata": {
        "id": "QfFHj_x7nAcR",
        "colab_type": "text"
      },
      "source": [
        "**4. Run the calculation**"
      ]
    },
    {
      "cell_type": "code",
      "metadata": {
        "id": "Qdh5sCXdVqev",
        "colab_type": "code",
        "outputId": "cc2ebc2b-dd32-4dbb-9352-32e92bc2df31",
        "colab": {
          "base_uri": "https://localhost:8080/",
          "height": 968
        }
      },
      "source": [
        "# Run function for some given input\n",
        "calc_omega([0, 0.001, 0.002, 0.003, 0.004, 0.005, 0.006, 0.007, 0.008, 0.009, 0.01, 0.02])"
      ],
      "execution_count": 8,
      "outputs": [
        {
          "output_type": "display_data",
          "data": {
            "text/html": [
              "<div>\n",
              "<style scoped>\n",
              "    .dataframe tbody tr th:only-of-type {\n",
              "        vertical-align: middle;\n",
              "    }\n",
              "\n",
              "    .dataframe tbody tr th {\n",
              "        vertical-align: top;\n",
              "    }\n",
              "\n",
              "    .dataframe thead th {\n",
              "        text-align: right;\n",
              "    }\n",
              "</style>\n",
              "<table border=\"1\" class=\"dataframe\">\n",
              "  <thead>\n",
              "    <tr style=\"text-align: right;\">\n",
              "      <th></th>\n",
              "      <th>0P00006OKA.L</th>\n",
              "      <th>IGWD.L</th>\n",
              "      <th>^FTSE</th>\n",
              "    </tr>\n",
              "    <tr>\n",
              "      <th>Threshold_Heading</th>\n",
              "      <th></th>\n",
              "      <th></th>\n",
              "      <th></th>\n",
              "    </tr>\n",
              "  </thead>\n",
              "  <tbody>\n",
              "    <tr>\n",
              "      <th>0.000</th>\n",
              "      <td>1.095519</td>\n",
              "      <td>1.156910</td>\n",
              "      <td>1.079098</td>\n",
              "    </tr>\n",
              "    <tr>\n",
              "      <th>0.001</th>\n",
              "      <td>0.606176</td>\n",
              "      <td>0.799825</td>\n",
              "      <td>0.771868</td>\n",
              "    </tr>\n",
              "    <tr>\n",
              "      <th>0.002</th>\n",
              "      <td>0.334868</td>\n",
              "      <td>0.550927</td>\n",
              "      <td>0.552176</td>\n",
              "    </tr>\n",
              "    <tr>\n",
              "      <th>0.003</th>\n",
              "      <td>0.186013</td>\n",
              "      <td>0.378407</td>\n",
              "      <td>0.395512</td>\n",
              "    </tr>\n",
              "    <tr>\n",
              "      <th>0.004</th>\n",
              "      <td>0.103614</td>\n",
              "      <td>0.261392</td>\n",
              "      <td>0.284513</td>\n",
              "    </tr>\n",
              "    <tr>\n",
              "      <th>0.005</th>\n",
              "      <td>0.060134</td>\n",
              "      <td>0.183614</td>\n",
              "      <td>0.205894</td>\n",
              "    </tr>\n",
              "    <tr>\n",
              "      <th>0.006</th>\n",
              "      <td>0.036025</td>\n",
              "      <td>0.130216</td>\n",
              "      <td>0.149021</td>\n",
              "    </tr>\n",
              "    <tr>\n",
              "      <th>0.007</th>\n",
              "      <td>0.021579</td>\n",
              "      <td>0.093057</td>\n",
              "      <td>0.109852</td>\n",
              "    </tr>\n",
              "    <tr>\n",
              "      <th>0.008</th>\n",
              "      <td>0.013587</td>\n",
              "      <td>0.066454</td>\n",
              "      <td>0.082187</td>\n",
              "    </tr>\n",
              "    <tr>\n",
              "      <th>0.009</th>\n",
              "      <td>0.009213</td>\n",
              "      <td>0.047874</td>\n",
              "      <td>0.062166</td>\n",
              "    </tr>\n",
              "    <tr>\n",
              "      <th>0.010</th>\n",
              "      <td>0.006197</td>\n",
              "      <td>0.034763</td>\n",
              "      <td>0.047151</td>\n",
              "    </tr>\n",
              "    <tr>\n",
              "      <th>0.020</th>\n",
              "      <td>0.000368</td>\n",
              "      <td>0.001480</td>\n",
              "      <td>0.004319</td>\n",
              "    </tr>\n",
              "  </tbody>\n",
              "</table>\n",
              "</div>"
            ],
            "text/plain": [
              "                   0P00006OKA.L    IGWD.L     ^FTSE\n",
              "Threshold_Heading                                  \n",
              "0.000                  1.095519  1.156910  1.079098\n",
              "0.001                  0.606176  0.799825  0.771868\n",
              "0.002                  0.334868  0.550927  0.552176\n",
              "0.003                  0.186013  0.378407  0.395512\n",
              "0.004                  0.103614  0.261392  0.284513\n",
              "0.005                  0.060134  0.183614  0.205894\n",
              "0.006                  0.036025  0.130216  0.149021\n",
              "0.007                  0.021579  0.093057  0.109852\n",
              "0.008                  0.013587  0.066454  0.082187\n",
              "0.009                  0.009213  0.047874  0.062166\n",
              "0.010                  0.006197  0.034763  0.047151\n",
              "0.020                  0.000368  0.001480  0.004319"
            ]
          },
          "metadata": {
            "tags": []
          }
        },
        {
          "output_type": "stream",
          "text": [
            "\n",
            "\n"
          ],
          "name": "stdout"
        },
        {
          "output_type": "display_data",
          "data": {
            "image/png": "[encoded data removed]",
            "text/plain": [
              "<Figure size 1440x576 with 1 Axes>"
            ]
          },
          "metadata": {
            "tags": []
          }
        }
      ]
    }
  ]
}