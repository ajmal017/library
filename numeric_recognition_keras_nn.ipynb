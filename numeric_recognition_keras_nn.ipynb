{
  "nbformat": 4,
  "nbformat_minor": 0,
  "metadata": {
    "colab": {
      "name": "numeric_recognition_keras_nn.ipynb",
      "provenance": [],
      "collapsed_sections": [],
      "include_colab_link": true
    },
    "kernelspec": {
      "name": "python3",
      "display_name": "Python 3"
    }
  },
  "cells": [
    {
      "cell_type": "markdown",
      "metadata": {
        "id": "view-in-github",
        "colab_type": "text"
      },
      "source": [
        "<a href=\"https://colab.research.google.com/github/rhysdavies21/library/blob/master/numeric_recognition_keras_nn.ipynb\" target=\"_parent\"><img src=\"https://colab.research.google.com/assets/colab-badge.svg\" alt=\"Open In Colab\"/></a>"
      ]
    },
    {
      "cell_type": "markdown",
      "metadata": {
        "id": "BxVJ-A2BKNpD",
        "colab_type": "text"
      },
      "source": [
        "Image recognition MNIST library"
      ]
    },
    {
      "cell_type": "code",
      "metadata": {
        "id": "gvBJvYtJ71tQ",
        "colab_type": "code",
        "colab": {}
      },
      "source": [
        "# Load libraries\n",
        "from keras.datasets import mnist\n",
        "import numpy as np\n",
        "import matplotlib.pyplot as plt"
      ],
      "execution_count": 0,
      "outputs": []
    },
    {
      "cell_type": "code",
      "metadata": {
        "id": "a2oJ8zJyL9x1",
        "colab_type": "code",
        "colab": {}
      },
      "source": [
        "class color:\n",
        "   BOLD = '\\033[1m'\n",
        "   UNDERLINE = '\\033[4m'\n",
        "   END = '\\033[0m'"
      ],
      "execution_count": 0,
      "outputs": []
    },
    {
      "cell_type": "code",
      "metadata": {
        "id": "xVLDxFCqKPKR",
        "colab_type": "code",
        "colab": {}
      },
      "source": [
        "# Import data\n",
        "(train_images, train_labels), (test_images, test_labels) = mnist.load_data()"
      ],
      "execution_count": 0,
      "outputs": []
    },
    {
      "cell_type": "code",
      "metadata": {
        "id": "5hxvJ22pLB7K",
        "colab_type": "code",
        "outputId": "5b7ebcf7-6fc4-48d4-9645-afa21114c492",
        "colab": {
          "base_uri": "https://localhost:8080/",
          "height": 269
        }
      },
      "source": [
        "# Review data\n",
        "print(color.BOLD+'train_images:'+color.END)\n",
        "print('Shape: ', train_images.shape)\n",
        "print('ndim: ', train_images.ndim)\n",
        "\n",
        "print(color.BOLD+'\\ntrain_labels:'+color.END)\n",
        "print('Shape: ', train_labels.shape)\n",
        "print('ndim: ', train_labels.ndim)\n",
        "\n",
        "print(color.BOLD+'\\ntest_images:'+color.END)\n",
        "print('Shape: ', test_images.shape)\n",
        "print('ndim: ', test_images.ndim)\n",
        "\n",
        "print(color.BOLD+'\\ntest_labels:'+color.END)\n",
        "print('Shape: ', test_labels.shape)\n",
        "print('ndim: ', test_labels.ndim)"
      ],
      "execution_count": 0,
      "outputs": [
        {
          "output_type": "stream",
          "text": [
            "\u001b[1mtrain_images:\u001b[0m\n",
            "Shape:  (60000, 28, 28)\n",
            "ndim:  3\n",
            "\u001b[1m\n",
            "train_labels:\u001b[0m\n",
            "Shape:  (60000,)\n",
            "ndim:  1\n",
            "\u001b[1m\n",
            "test_images:\u001b[0m\n",
            "Shape:  (10000, 28, 28)\n",
            "ndim:  3\n",
            "\u001b[1m\n",
            "test_labels:\u001b[0m\n",
            "Shape:  (10000,)\n",
            "ndim:  1\n"
          ],
          "name": "stdout"
        }
      ]
    },
    {
      "cell_type": "code",
      "metadata": {
        "id": "qN_6CRp-8Kk4",
        "colab_type": "code",
        "outputId": "62b30f68-2612-4cde-e024-444e56ecfda1",
        "colab": {
          "base_uri": "https://localhost:8080/",
          "height": 545
        }
      },
      "source": [
        "# Review examples\n",
        "train_example_image = train_images[0]\n",
        "train_example_image = np.array(train_example_image, dtype='float')\n",
        "pixels = train_example_image.reshape((28, 28))\n",
        "plt.imshow(pixels, cmap='gray')\n",
        "plt.title('train_images[0]')\n",
        "plt.show()\n",
        "\n",
        "test_example_image = test_images[0]\n",
        "test_example_image = np.array(test_example_image, dtype='float')\n",
        "pixels = test_example_image.reshape((28, 28))\n",
        "plt.imshow(pixels, cmap='gray')\n",
        "plt.title('test_images[0]')\n",
        "plt.show()"
      ],
      "execution_count": 0,
      "outputs": [
        {
          "output_type": "display_data",
          "data": {
            "image/png": "[encoded data removed]",
            "text/plain": [
              "<Figure size 432x288 with 1 Axes>"
            ]
          },
          "metadata": {
            "tags": []
          }
        },
        {
          "output_type": "display_data",
          "data": {
            "image/png": "[encoded data removed]",
            "text/plain": [
              "<Figure size 432x288 with 1 Axes>"
            ]
          },
          "metadata": {
            "tags": []
          }
        }
      ]
    },
    {
      "cell_type": "code",
      "metadata": {
        "id": "CeJJKCwoM6Rs",
        "colab_type": "code",
        "colab": {}
      },
      "source": [
        ""
      ],
      "execution_count": 0,
      "outputs": []
    }
  ]
}