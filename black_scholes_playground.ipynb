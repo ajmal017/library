{
  "nbformat": 4,
  "nbformat_minor": 0,
  "metadata": {
    "colab": {
      "name": "black-scholes-playground.ipynb",
      "provenance": [],
      "collapsed_sections": [],
      "authorship_tag": "ABX9TyP9jw1sixxPUXcT8Q3E/sSo",
      "include_colab_link": true
    },
    "kernelspec": {
      "name": "python3",
      "display_name": "Python 3"
    }
  },
  "cells": [
    {
      "cell_type": "markdown",
      "metadata": {
        "id": "view-in-github",
        "colab_type": "text"
      },
      "source": [
        "<a href=\"https://colab.research.google.com/github/rhysdavies21/library/blob/master/black_scholes_playground.ipynb\" target=\"_parent\"><img src=\"https://colab.research.google.com/assets/colab-badge.svg\" alt=\"Open In Colab\"/></a>"
      ]
    },
    {
      "cell_type": "markdown",
      "metadata": {
        "id": "SW84Q-wmfjl6",
        "colab_type": "text"
      },
      "source": [
        "## **Black-Scholes** --- Calculation price, greeks and implied volatility\n",
        "\n",
        "*Reconciliation reference:*\n",
        "\n",
        "*https://goodcalculators.com/black-scholes-calculator/*\n",
        "\n",
        "*https://www.math.drexel.edu/~pg/fin/VanillaCalculator.html*"
      ]
    },
    {
      "cell_type": "code",
      "metadata": {
        "id": "wgvYrwFDfzqE",
        "colab_type": "code",
        "colab": {}
      },
      "source": [
        "# Import packages\n",
        "import numpy as np\n",
        "from scipy.stats import norm"
      ],
      "execution_count": 0,
      "outputs": []
    },
    {
      "cell_type": "markdown",
      "metadata": {
        "id": "e7MHts8R7GXA",
        "colab_type": "text"
      },
      "source": [
        "Black-Scholes analytical price"
      ]
    },
    {
      "cell_type": "code",
      "metadata": {
        "id": "DmUJe3bcf2xR",
        "colab_type": "code",
        "colab": {}
      },
      "source": [
        "# Black-Scholes analytical function\n",
        "\n",
        "def black_scholes_analytical(s_0, k, T, r, q, sigma, option_type):\n",
        "  d1 = (np.log(s_0/k) + (r-q+0.5*sigma**2)*T) / (sigma*np.sqrt(T))\n",
        "  d2 = (np.log(s_0/k) + (r-q-0.5*sigma**2)*T) / (sigma*np.sqrt(T))\n",
        "  if option_type == 'call':\n",
        "    val = np.exp(-q*T)*s_0*norm.cdf(d1,0,1) - k*np.exp(-r*T)*norm.cdf(d2,0,1)\n",
        "  elif option_type == 'put':\n",
        "    val = k*np.exp(-r*T)*norm.cdf(-d2,0,1) - s_0*np.exp(-q*T)*norm.cdf(-d1,0,1)\n",
        "  return val"
      ],
      "execution_count": 0,
      "outputs": []
    },
    {
      "cell_type": "markdown",
      "metadata": {
        "id": "8n4Wpsp97RvA",
        "colab_type": "text"
      },
      "source": [
        "Black-Scholes class object for prices and greeks"
      ]
    },
    {
      "cell_type": "code",
      "metadata": {
        "id": "YdvmUFKLf5Kq",
        "colab_type": "code",
        "colab": {}
      },
      "source": [
        "# class objecct to price and determine greeks\n",
        "\n",
        "class bs_object(object):\n",
        "  \"\"\"Black-Scholes model to provide present value and greeks for given inputs\"\"\"\n",
        "\n",
        "  def __init__(self, s_0, k, T, r, q, sigma, option_type):\n",
        "    self.s_0 = s_0\n",
        "    self.k = k\n",
        "    self.T = T\n",
        "    self.r = r\n",
        "    self.q = q\n",
        "    self.sigma = sigma \n",
        "    self.option_type = option_type\n",
        "    self.d1 = (np.log(self.s_0/self.k) + (self.r-self.q+0.5*self.sigma**2)*self.T) / (self.sigma*np.sqrt(self.T))\n",
        "    self.d2 = (np.log(self.s_0/self.k) + (self.r-self.q-0.5*self.sigma**2)*self.T) / (self.sigma*np.sqrt(self.T))\n",
        "\n",
        "  def val(self):\n",
        "    if self.option_type == 'call':\n",
        "      val = np.exp(-self.q*self.T)*self.s_0*norm.cdf(self.d1,0,1) - self.k*np.exp(-self.r*self.T)*norm.cdf(self.d2,0,1)\n",
        "    elif self.option_type == 'put':\n",
        "      val = self.k*np.exp(-self.r*self.T)*norm.cdf(-self.d2,0,1) - self.s_0 * np.exp(-self.q*self.T)*norm.cdf(-self.d1,0,1)\n",
        "    return val\n",
        "\n",
        "  def delta(self):\n",
        "    if self.option_type == 'call':\n",
        "      delta = np.exp(-self.q*self.T)*norm.cdf(self.d1,0,1)\n",
        "    elif self.option_type == 'put':\n",
        "      delta = -np.exp(-self.q*self.T)*norm.cdf(-self.d1,0,1)\n",
        "    return delta \n",
        "\n",
        "  def vega(self):\n",
        "    vega = self.s_0*np.exp(-self.q*self.T)*np.sqrt(self.T)*norm.pdf(self.d1)\n",
        "    return vega / 100\n",
        "\n",
        "  def theta(self):\n",
        "    if self.option_type == 'call':\n",
        "      theta = (-np.exp(-self.q*self.T)*self.s_0*norm.pdf(self.d1)*self.sigma/(2*np.sqrt(self.T)) \n",
        "               - self.r*self.k*np.exp(-self.r*self.T)*norm.cdf(self.d2,0,1)\n",
        "               + self.q*self.s_0*np.exp(-self.q*self.T)*norm.cdf(self.d1,0,1) \n",
        "               )\n",
        "    elif self.option_type == 'put':\n",
        "      theta = (-np.exp(-self.q*self.T)*self.s_0*norm.pdf(-self.d1)*self.sigma/(2*np.sqrt(self.T))\n",
        "               + self.r*self.k*np.exp(-self.r*self.T)*norm.cdf(-self.d2,0,1) \n",
        "               - self.q*self.s_0*np.exp(-self.q*self.T)*norm.cdf(-self.d1,0,1) \n",
        "               )\n",
        "    return theta\n",
        "\n",
        "  def rho(self):\n",
        "    if self.option_type == 'call':\n",
        "      rho = self.k*self.T*np.exp(-self.r*self.T)*norm.cdf(self.d2,0,1)\n",
        "    elif self.option_type == 'put':\n",
        "      rho = -self.k*self.T*np.exp(-self.r*self.T)*norm.cdf(-self.d2,0,1)\n",
        "    return rho / 100   \n",
        "\n",
        "  def gamma(self):\n",
        "    gamma = np.exp(-self.q*self.T)*norm.pdf(self.d1) / (self.s_0*self.sigma*np.sqrt(self.T))\n",
        "    return gamma"
      ],
      "execution_count": 0,
      "outputs": []
    },
    {
      "cell_type": "code",
      "metadata": {
        "id": "v82FpTtArwwL",
        "colab_type": "code",
        "outputId": "467fbd81-8cf5-4b0d-e614-79aace19d6cd",
        "colab": {
          "base_uri": "https://localhost:8080/",
          "height": 535
        }
      },
      "source": [
        "# Review class\n",
        "help(bs_object)"
      ],
      "execution_count": 0,
      "outputs": [
        {
          "output_type": "stream",
          "text": [
            "Help on class bs_object in module __main__:\n",
            "\n",
            "class bs_object(builtins.object)\n",
            " |  Black-Scholes model to provide present value and greeks for given inputs\n",
            " |  \n",
            " |  Methods defined here:\n",
            " |  \n",
            " |  __init__(self, s_0, k, T, r, q, sigma, option_type)\n",
            " |      Initialize self.  See help(type(self)) for accurate signature.\n",
            " |  \n",
            " |  delta(self)\n",
            " |  \n",
            " |  gamma(self)\n",
            " |  \n",
            " |  rho(self)\n",
            " |  \n",
            " |  theta(self)\n",
            " |  \n",
            " |  val(self)\n",
            " |  \n",
            " |  vega(self)\n",
            " |  \n",
            " |  ----------------------------------------------------------------------\n",
            " |  Data descriptors defined here:\n",
            " |  \n",
            " |  __dict__\n",
            " |      dictionary for instance variables (if defined)\n",
            " |  \n",
            " |  __weakref__\n",
            " |      list of weak references to the object (if defined)\n",
            "\n"
          ],
          "name": "stdout"
        }
      ]
    },
    {
      "cell_type": "markdown",
      "metadata": {
        "id": "NYgT94Vk7hRr",
        "colab_type": "text"
      },
      "source": [
        "Run Black-Scholes analytical pricer and class object"
      ]
    },
    {
      "cell_type": "code",
      "metadata": {
        "id": "8ofwtSKyf7hN",
        "colab_type": "code",
        "outputId": "721fa2fe-6f20-4f71-e59e-0bf11ec63cde",
        "colab": {
          "base_uri": "https://localhost:8080/",
          "height": 201
        }
      },
      "source": [
        "# Calculate black_scholes_analytical and bs_object\n",
        "\n",
        "# Inputs\n",
        "s_0_val = 102\n",
        "k_val = 105\n",
        "r_val = 0.05\n",
        "q_val = 0.02\n",
        "sigma_val = 0.15\n",
        "T_val =  2\n",
        "option_type_val = 'call'    # or 'put'\n",
        "decimals = 3\n",
        "\n",
        "# input collation for bs_object\n",
        "trade_1 = bs_object(s_0_val, k_val, T_val, \n",
        "               r_val, q_val, sigma_val, option_type_val)\n",
        "\n",
        "print('black_scholes_analytical=', round(\n",
        "    black_scholes_analytical(s_0_val, k_val, T_val, r_val, q_val, \n",
        "                             sigma_val, option_type_val), decimals), '\\n')\n",
        "\n",
        "print('Results from bs_object:')\n",
        "print('d1=', round(trade_1.d1, decimals))\n",
        "print('d2=', round(trade_1.d2, decimals)) \n",
        "print('Val=', round(trade_1.val(), decimals)) \n",
        "print('Delta=', round(trade_1.delta(), decimals)) \n",
        "print('Vega=', round(trade_1.vega(), decimals)) \n",
        "print('Theta=', round(trade_1.theta(), decimals)) \n",
        "print('Rho=', round(trade_1.rho(), decimals)) \n",
        "print('Gamma=', round(trade_1.gamma(), decimals))"
      ],
      "execution_count": 0,
      "outputs": [
        {
          "output_type": "stream",
          "text": [
            "black_scholes_analytical= 9.735 \n",
            "\n",
            "Results from bs_object:\n",
            "d1= 0.252\n",
            "d2= 0.04\n",
            "Val= 9.735\n",
            "Delta= 0.576\n",
            "Vega= 0.536\n",
            "Theta= -3.285\n",
            "Rho= 0.98\n",
            "Gamma= 0.017\n"
          ],
          "name": "stdout"
        }
      ]
    },
    {
      "cell_type": "markdown",
      "metadata": {
        "id": "T0HKIUKh7sUu",
        "colab_type": "text"
      },
      "source": [
        "Calculate implied volatility from option prices: \n",
        "i) Naive brute force approach\n",
        "ii) Newton-Raphson\n",
        "\n",
        "---\n",
        "\n"
      ]
    },
    {
      "cell_type": "code",
      "metadata": {
        "id": "CEc8_oeMf98P",
        "colab_type": "code",
        "colab": {}
      },
      "source": [
        "# Calculate implied volatility from option price\n",
        "# Method is naive using brute force and finding nearest \n",
        "# For better results use Newton-Raphson \n",
        "\n",
        "def imp_vol(pv, s_0, k, r, q, T, option_type, epsilon, max_sigma, inc_sigma):\n",
        "  sigma_array = np.linspace(inc_sigma_val,max_sigma_val, int(max_sigma_val/inc_sigma_val))\n",
        "  pv_iter_array = []\n",
        "  abs_diff_array = []\n",
        "  for sigma in sigma_array:\n",
        "    pv_iter = black_scholes_analytical(s_0, k, T, r, q, sigma, option_type)\n",
        "    pv_iter_array.append(pv_iter)\n",
        "    abs_diff = abs(pv - pv_iter)\n",
        "    abs_diff_array.append(abs_diff)\n",
        "  where_vol_diff_min = np.where(abs_diff_array == np.amin(abs_diff_array))[0][0]\n",
        "  return sigma_array[where_vol_diff_min]"
      ],
      "execution_count": 0,
      "outputs": []
    },
    {
      "cell_type": "code",
      "metadata": {
        "id": "KTR_0jRbgA8k",
        "colab_type": "code",
        "outputId": "d5a983f0-2e81-4d9e-b00c-3859dbbcc85f",
        "colab": {
          "base_uri": "https://localhost:8080/",
          "height": 33
        }
      },
      "source": [
        "# Run imp_vol calculations\n",
        "\n",
        "pv_val = 9.7\n",
        "s_0_val = 102\n",
        "k_val = 105\n",
        "r_val = 0.05\n",
        "q_val = 0.02\n",
        "T_val =  2\n",
        "option_type_val = 'call'    # or 'put'\n",
        "epsilon_val = 2\n",
        "max_sigma_val = 1\n",
        "inc_sigma_val = 0.001\n",
        "decimals = 4\n",
        "\n",
        "round(imp_vol(pv_val, s_0_val, k_val, r_val, q_val, T_val, option_type_val, epsilon_val, max_sigma_val, inc_sigma_val), decimals)"
      ],
      "execution_count": 0,
      "outputs": [
        {
          "output_type": "execute_result",
          "data": {
            "text/plain": [
              "0.149"
            ]
          },
          "metadata": {
            "tags": []
          },
          "execution_count": 27
        }
      ]
    },
    {
      "cell_type": "code",
      "metadata": {
        "id": "gRWO4Pzw1aNl",
        "colab_type": "code",
        "colab": {}
      },
      "source": [
        "# Estimate implied volatility using Newton-Raphson\n",
        "def newtonRaphson( pv_target, s_0, k, T, r, q, sigma, option_type, accuracy ): \n",
        "    h = ( (bs_object(s_0, k, T, r, q, sigma, option_type).val() - pv_target) \n",
        "    / bs_object(s_0, k, T, r, q, sigma, option_type).vega() )\n",
        "    while abs(h) >= accuracy:\n",
        "      h = ( (bs_object(s_0, k, T, r, q, sigma, option_type).val() - pv_target) \n",
        "      / bs_object(s_0, k, T, r, q, sigma, option_type).vega() )\n",
        "      sigma = sigma - h / 100\n",
        "    return sigma "
      ],
      "execution_count": 0,
      "outputs": []
    },
    {
      "cell_type": "code",
      "metadata": {
        "id": "0ZXe3U_a2Oxe",
        "colab_type": "code",
        "outputId": "deb28a73-e66f-4cbe-a8f9-5d4a63e58cb7",
        "colab": {
          "base_uri": "https://localhost:8080/",
          "height": 50
        }
      },
      "source": [
        "# Newton-Raphson to estimate implied volatility\n",
        "\n",
        "# Inputs\n",
        "pv_target_val = 12\n",
        "s_0_val = 102\n",
        "k_val = 105\n",
        "r_val = 0.05\n",
        "q_val = 0.02\n",
        "sigma_val = 0.05    # estimate implied volatility to begin\n",
        "T_val =  2\n",
        "option_type_val = 'call'    # or 'put'\n",
        "accuracy_val = 0.01\n",
        "decimals = 5\n",
        "\n",
        "# Estimate implied vol\n",
        "imp_vol_est = newtonRaphson(pv_target_val, s_0_val, k_val, T_val, r_val, q_val, sigma_val, option_type_val, accuracy_val)\n",
        "\n",
        "# Test\n",
        "pv_for_imp_vol_est = bs_object(s_0_val, k_val, T_val, r_val, q_val, imp_vol_est, option_type_val).val()\n",
        "print('Estimated implied volatility for pv_target_val=', pv_target_val, 'is', round(imp_vol_est, decimals))\n",
        "print('Compare with BS price for implied vol of =', round(imp_vol_est, decimals), 'giving PV of=', round(pv_for_imp_vol_est, decimals))"
      ],
      "execution_count": 0,
      "outputs": [
        {
          "output_type": "stream",
          "text": [
            "Estimated implied volatility for pv_target_val= 12 is 0.19227\n",
            "Compare with BS price for implied vol of = 0.19227 giving PV of= 12.0\n"
          ],
          "name": "stdout"
        }
      ]
    }
  ]
}