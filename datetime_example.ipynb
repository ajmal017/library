{
  "nbformat": 4,
  "nbformat_minor": 0,
  "metadata": {
    "colab": {
      "name": "datetime_example.ipynb",
      "provenance": [],
      "authorship_tag": "ABX9TyP6mNZLO7DtASZDDq4Q5Tp0",
      "include_colab_link": true
    },
    "kernelspec": {
      "name": "python3",
      "display_name": "Python 3"
    }
  },
  "cells": [
    {
      "cell_type": "markdown",
      "metadata": {
        "id": "view-in-github",
        "colab_type": "text"
      },
      "source": [
        "<a href=\"https://colab.research.google.com/github/rhysdavies21/library/blob/master/datetime_example.ipynb\" target=\"_parent\"><img src=\"https://colab.research.google.com/assets/colab-badge.svg\" alt=\"Open In Colab\"/></a>"
      ]
    },
    {
      "cell_type": "markdown",
      "metadata": {
        "id": "n2vab7AyVKYo",
        "colab_type": "text"
      },
      "source": [
        "## **Example - datetime**"
      ]
    },
    {
      "cell_type": "code",
      "metadata": {
        "id": "LrArMcxEVVAN",
        "colab_type": "code",
        "colab": {}
      },
      "source": [
        "# Useful documentaion\n",
        "# https://docs.python.org/2/library/datetime.html"
        "# https://stackabuse.com/converting-strings-to-datetime-in-python/"
      ],
      "execution_count": 3,
      "outputs": []
    },
    {
      "cell_type": "code",
      "metadata": {
        "id": "7-t_I6uCVXmU",
        "colab_type": "code",
        "colab": {
          "base_uri": "https://localhost:8080/",
          "height": 251
        },
        "outputId": "1395b8ec-b7f0-4937-b390-2958008238e6"
      },
      "source": [
        "import datetime\n",
        "\n",
        "# Example 1\n",
        "date_time_str_1 = 'Jun 28 2018 7:40AM'\n",
        "date_time_obj_1 = datetime.datetime.strptime(date_time_str_1, '%b %d %Y %I:%M%p')\n",
        "\n",
        "print('Example 1')\n",
        "print('Full:', date_time_str_1)\n",
        "print('Date:', date_time_obj_1.date())\n",
        "print('Time:', date_time_obj_1.time())\n",
        "print('Date-time:', date_time_obj_1)\n",
        "\n",
        "# Example 2\n",
        "date_time_str_2 = 'August 21 2020'\n",
        "date_time_obj_2 = datetime.datetime.strptime(date_time_str_2, '%B %d %Y')\n",
        "\n",
        "print('')\n",
        "print('Example 2')\n",
        "print('Full:', date_time_str_2)\n",
        "print('Date:', date_time_obj_2.date())\n",
        "print('Time:', date_time_obj_2.time())\n",
        "print('Date-time:', date_time_obj_2)\n",
        "print('Day:', date_time_obj_2.day)\n",
        "print('Month:', date_time_obj_2.month)\n",
        "print('Year:', date_time_obj_2.year)"
      ],
      "execution_count": 4,
      "outputs": [
        {
          "output_type": "stream",
          "text": [
            "Example 1\n",
            "Full: Jun 28 2018 7:40AM\n",
            "Date: 2018-06-28\n",
            "Time: 07:40:00\n",
            "Date-time: 2018-06-28 07:40:00\n",
            "\n",
            "Example 2\n",
            "Full: August 21 2020\n",
            "Date: 2020-08-21\n",
            "Time: 00:00:00\n",
            "Date-time: 2020-08-21 00:00:00\n",
            "Day: 21\n",
            "Month: 8\n",
            "Year: 2020\n"
          ],
          "name": "stdout"
        }
      ]
    },
    {
      "cell_type": "code",
      "metadata": {
        "id": "FIVPFdd0VZ82",
        "colab_type": "code",
        "colab": {}
      },
      "source": [
        ""
      ],
      "execution_count": null,
      "outputs": []
    }
  ]
}
