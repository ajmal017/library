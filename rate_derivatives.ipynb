{
  "nbformat": 4,
  "nbformat_minor": 0,
  "metadata": {
    "colab": {
      "name": "rate_derivatives.ipynb",
      "provenance": [],
      "collapsed_sections": [],
      "authorship_tag": "ABX9TyNdLnRmV0wavroPF2NFekdI",
      "include_colab_link": true
    },
    "kernelspec": {
      "name": "python3",
      "display_name": "Python 3"
    }
  },
  "cells": [
    {
      "cell_type": "markdown",
      "metadata": {
        "id": "view-in-github",
        "colab_type": "text"
      },
      "source": [
        "<a href=\"https://colab.research.google.com/github/rhysdavies21/library/blob/master/rate_derivatives.ipynb\" target=\"_parent\"><img src=\"https://colab.research.google.com/assets/colab-badge.svg\" alt=\"Open In Colab\"/></a>"
      ]
    },
    {
      "cell_type": "code",
      "metadata": {
        "id": "pRl0lhOg3NHP",
        "colab_type": "code",
        "colab": {}
      },
      "source": [
        "# ZC Bond Calculator\n",
        "\n",
        "def zero_coupon_bond(par, y, t):\n",
        "  '''\n",
        "  Price of a zero coupon bond\n",
        "  \n",
        "  : param par: face value of bond\n",
        "  : param y: annual yield or rate of the bond:\n",
        "  : param t: time to maturity, in years\n",
        "  '''\n",
        "  return par / (1+y)**t"
      ],
      "execution_count": 1,
      "outputs": []
    },
    {
      "cell_type": "code",
      "metadata": {
        "id": "eeWnwI4R30BI",
        "colab_type": "code",
        "colab": {
          "base_uri": "https://localhost:8080/",
          "height": 33
        },
        "outputId": "5e87b821-b355-464d-b226-5bf3a8e8cdbb"
      },
      "source": [
        "# Price ZC Bond\n",
        "\n",
        "print(zero_coupon_bond(100, 0.05, 5))"
      ],
      "execution_count": 2,
      "outputs": [
        {
          "output_type": "stream",
          "text": [
            "78.35261664684589\n"
          ],
          "name": "stdout"
        }
      ]
    },
    {
      "cell_type": "code",
      "metadata": {
        "id": "WZEI1yzW3_Mf",
        "colab_type": "code",
        "colab": {}
      },
      "source": [
        ""
      ],
      "execution_count": null,
      "outputs": []
    }
  ]
}