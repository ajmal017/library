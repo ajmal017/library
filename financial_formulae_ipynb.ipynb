{
  "nbformat": 4,
  "nbformat_minor": 0,
  "metadata": {
    "colab": {
      "name": "financial_formulae_ipynb",
      "provenance": [],
      "collapsed_sections": [],
      "authorship_tag": "ABX9TyOEbTE9PsRxiwbTLAnvIDPj",
      "include_colab_link": true
    },
    "kernelspec": {
      "name": "python3",
      "display_name": "Python 3"
    }
  },
  "cells": [
    {
      "cell_type": "markdown",
      "metadata": {
        "id": "view-in-github",
        "colab_type": "text"
      },
      "source": [
        "<a href=\"https://colab.research.google.com/github/rhysdavies21/library/blob/master/financial_formulae_ipynb.ipynb\" target=\"_parent\"><img src=\"https://colab.research.google.com/assets/colab-badge.svg\" alt=\"Open In Colab\"/></a>"
      ]
    },
    {
      "cell_type": "markdown",
      "metadata": {
        "id": "_zRKisuaUkOl",
        "colab_type": "text"
      },
      "source": [
        "**Financial Formulae**"
      ]
    },
    {
      "cell_type": "markdown",
      "metadata": {
        "id": "Qm9L-vzpiFId",
        "colab_type": "text"
      },
      "source": [
        "Black-Scholes"
      ]
    },
    {
      "cell_type": "code",
      "metadata": {
        "id": "X-W9sBZOiQyU",
        "colab_type": "code",
        "colab": {}
      },
      "source": [
        "import numpy as np\n",
        "from scipy.stats import norm\n",
        "\n",
        "def black_scholes_analytical(s_0, k, T, r, sigma, type='call'):\n",
        "  d1 = (np.log(s_0/k) + (r + 0.5*sigma**2) *T) / (sigma*np.sqrt(T))\n",
        "  d2 = (np.log(s_0/k) + (r - 0.5*sigma**2) *T) / (sigma*np.sqrt(T))\n",
        "  if type == 'call':\n",
        "    val = s_0 * norm.cdf(d1,0,1) - k*np.exp(-r*T)*norm.cdf(d2,0,1)\n",
        "  elif type == 'put':\n",
        "    val = k*np.exp(-r*T)*norm.cdf(-d2,0,1)-s_0 * norm.cdf(-d1,0,1)\n",
        "  return round(val, 5)"
      ],
      "execution_count": 0,
      "outputs": []
    },
    {
      "cell_type": "code",
      "metadata": {
        "id": "Ai8X0jMKleei",
        "colab_type": "code",
        "outputId": "859d5a6c-6f14-4fea-80b8-2521e89663f0",
        "colab": {
          "base_uri": "https://localhost:8080/",
          "height": 33
        }
      },
      "source": [
        "# Calculate black_scholes_analytical\n",
        "\n",
        "s_0_val = 100\n",
        "k_val = 100\n",
        "r_val = 0.05\n",
        "sigma_val = 0.15\n",
        "T_val =  1\n",
        "type_val = 'call'    # or 'put'\n",
        "decimals = 4\n",
        "\n",
        "round(black_scholes_analytical(s_0_val, k_val, T_val, r_val, sigma_val, type_val), 4)"
      ],
      "execution_count": 0,
      "outputs": [
        {
          "output_type": "execute_result",
          "data": {
            "text/plain": [
              "8.5917"
            ]
          },
          "metadata": {
            "tags": []
          },
          "execution_count": 5
        }
      ]
    },
    {
      "cell_type": "code",
      "metadata": {
        "id": "Z_Ju43GpB0Su",
        "colab_type": "code",
        "colab": {}
      },
      "source": [
        "# Calculate implied volatility from option price\n",
        "\n",
        "def imp_vol(pv, s_0, k, r, T, type, epsilon, max_sigma, inc_sigma):\n",
        "  sigma = 0.00001\n",
        "  sigma_final = 0\n",
        "  while sigma < max_sigma:\n",
        "    pv_iter = black_scholes_analytical(s_0, k, T, r, sigma, type)\n",
        "    abs_diff = abs(pv - pv_iter)\n",
        "    if abs_diff < epsilon:\n",
        "      sigma_final = sigma\n",
        "      sigma = max_sigma + 1000000\n",
        "      break\n",
        "    sigma += inc_sigma\n",
        "  return sigma_final"
      ],
      "execution_count": 0,
      "outputs": []
    },
    {
      "cell_type": "code",
      "metadata": {
        "id": "oL2tJTWtF9m6",
        "colab_type": "code",
        "outputId": "0766caea-25a8-47f8-b7c2-1c049dac1aa1",
        "colab": {
          "base_uri": "https://localhost:8080/",
          "height": 33
        }
      },
      "source": [
        "# Run calculations\n",
        "\n",
        "pv_val = 9\n",
        "s_0_val = 100\n",
        "k_val = 100\n",
        "r_val = 0.05\n",
        "T_val =  1\n",
        "type_val = 'call'    # or 'put'\n",
        "epsilon_val = 0.01\n",
        "max_sigma_val = 2\n",
        "inc_sigma_val = 0.001\n",
        "decimals = 4\n",
        "\n",
        "round(imp_vol(pv_val, s_0_val, k_val, r_val, T_val, type_val, \n",
        "        epsilon_val, max_sigma_val, inc_sigma_val), decimals)"
      ],
      "execution_count": 0,
      "outputs": [
        {
          "output_type": "execute_result",
          "data": {
            "text/plain": [
              "0.161"
            ]
          },
          "metadata": {
            "tags": []
          },
          "execution_count": 127
        }
      ]
    },
    {
      "cell_type": "markdown",
      "metadata": {
        "id": "fNQ2JkH4nuHk",
        "colab_type": "text"
      },
      "source": [
        "Black's Formula"
      ]
    },
    {
      "cell_type": "code",
      "metadata": {
        "id": "vSH6sykSioLI",
        "colab_type": "code",
        "colab": {}
      },
      "source": [
        "# Define Black '76 function\n",
        "from scipy.stats import norm\n",
        "import math \n",
        "\n",
        "def black(f_0, strike, expiry, vol, rate, c_p):\n",
        "    d_plus = (math.log(f_0 / strike) + 0.5 * vol * vol * expiry)/(vol / math.sqrt(expiry))\n",
        "    d_minus = (math.log(f_0 / strike) - 0.5 * vol * vol * expiry)/(vol / math.sqrt(expiry))\n",
        "    if c_p == 'c':\n",
        "            option_value = (math.exp((-rate)*expiry))*(f_0 * norm.cdf(d_plus) - strike *norm.cdf(d_minus))\n",
        "    elif c_p == 'p':\n",
        "            option_value = (math.exp((-rate)*expiry))*(strike * norm.cdf(-d_minus) - f_0 *norm.cdf(-d_plus))\n",
        "    else:\n",
        "            print('Check input')\n",
        "    return option_value"
      ],
      "execution_count": 0,
      "outputs": []
    },
    {
      "cell_type": "code",
      "metadata": {
        "id": "RAzWSQ5ya9NG",
        "colab_type": "code",
        "outputId": "fa9c236d-87ba-405d-8a57-12350952b915",
        "colab": {
          "base_uri": "https://localhost:8080/",
          "height": 67
        }
      },
      "source": [
        "# Request inputs\n",
        "c_p = str(input('call (c) or put (p) = '))\n",
        "\n",
        "f_0 = 0.07\n",
        "strike = 0.08\n",
        "expiry = 1\n",
        "black_vol = 0.2\n",
        "rate = 0.05\n",
        "\n",
        "# Price option\n",
        "if c_p in ['c', 'p']:\n",
        "  black_price = black(f_0, strike, expiry, black_vol, rate, c_p)\n",
        "  print('\\n' \"black_price = \"+\"{:.3%}\".format(black_price))\n",
        "else:\n",
        "  print('Check input')"
      ],
      "execution_count": 0,
      "outputs": [
        {
          "output_type": "stream",
          "text": [
            "call (c) or put (p) = c\n",
            "\n",
            "black_price = 0.214%\n"
          ],
          "name": "stdout"
        }
      ]
    },
    {
      "cell_type": "markdown",
      "metadata": {
        "id": "V_vyIqOtougo",
        "colab_type": "text"
      },
      "source": [
        "Bachelier Formula"
      ]
    },
    {
      "cell_type": "code",
      "metadata": {
        "id": "OAxGoFB4VKQu",
        "colab_type": "code",
        "colab": {}
      },
      "source": [
        "# Define Bachelier\n",
        "from scipy.stats import norm\n",
        "import math\n",
        "\n",
        "def dPlusBachelier(F_0 , y, expiry , vol):\n",
        "    d_plus = (F_0 - y)/ (vol * math.sqrt(expiry))\n",
        "    return d_plus\n",
        "\n",
        "def bachelier(F_0, y, expiry, vol, rfr, type):\n",
        "    if expiry * vol == 0.0:\n",
        "        if type == 'isCall':\n",
        "            option_value = max(F_0 - y, 0.0)\n",
        "        elif type == 'isPut':\n",
        "            option_value = max(y - F_0 , 0.0)\n",
        "        else:\n",
        "            option_value = 'Not defined'\n",
        "    else:\n",
        "        d1 = dPlusBachelier(F_0, y, expiry, vol)\n",
        "        if type == 'isCall':\n",
        "             option_value = (math.exp((-rfr)*expiry))*((F_0 - y)* norm.cdf(d1) + vol * math.sqrt(expiry) * norm.cdf(d1))\n",
        "        elif type == 'isPut':\n",
        "             option_value = (math.exp((-rfr)*expiry))*((y-F_0) * norm.cdf(-d1) + vol * math.sqrt(expiry) * norm.cdf(-d1))\n",
        "        else: option_vale = 'Not defined'\n",
        "    return option_value"
      ],
      "execution_count": 0,
      "outputs": []
    },
    {
      "cell_type": "code",
      "metadata": {
        "id": "a58DspBvVh0-",
        "colab_type": "code",
        "outputId": "9289a76d-73d7-4ecf-a084-4295915df65c",
        "colab": {
          "base_uri": "https://localhost:8080/",
          "height": 33
        }
      },
      "source": [
        "# Run Bachelier \n",
        "\n",
        "# Input\n",
        "F_0_val = 0.07\n",
        "y_val = 0.08\n",
        "expiry_val = 2\n",
        "vol_val = 0.2\n",
        "rfr_val = 0.07\n",
        "type_val = 'isCall'   # or 'isPut'\n",
        "\n",
        "# Output\n",
        "bachelier_price = bachelier(F_0_val, y_val, expiry_val, vol_val, rfr_val, type_val)\n",
        "print('bachelier_price = '+'{:.3%}'.format(bachelier_price))"
      ],
      "execution_count": 0,
      "outputs": [
        {
          "output_type": "stream",
          "text": [
            "bachelier_price = 11.525%\n"
          ],
          "name": "stdout"
        }
      ]
    },
    {
      "cell_type": "markdown",
      "metadata": {
        "id": "z0DUphuRo7zg",
        "colab_type": "text"
      },
      "source": [
        "SABR"
      ]
    },
    {
      "cell_type": "code",
      "metadata": {
        "id": "4TmzalzMCIWw",
        "colab_type": "code",
        "colab": {}
      },
      "source": [
        "# Define SABR Volatility function  # requires testing for term structure\n",
        "import math\n",
        "\n",
        "def sabr_vol(alpha, beta, rho, v, f, k, T):\n",
        "  bb = alpha / (f**(1-beta))\n",
        "  if k <= 0:                       # For negative rates shift smile\n",
        "    sabr_vol = 0\n",
        "    #note = 'No volatility since negative rates'\n",
        "  elif f ==  k:\n",
        "    z = 0\n",
        "    x = 0\n",
        "    sabr_vol = bb * (1+ ( (1-beta)*(1-beta)*alpha*alpha/(24*(f**(2-2*beta))) \n",
        "    + alpha*beta*rho*v/(4*(f**(1-beta))) + (2-3*rho*rho)*v*v/24) * T )\n",
        "    note = 'ATM'\n",
        "  elif f != k:\n",
        "    z = (v/alpha) * (f*k) ** ((1-beta)/2) * math.log(f/k)\n",
        "    x = math.log(  ( math.sqrt(1-2*rho*z+z*z) + z - rho ) / (1-rho) )\n",
        "    denominator =  (1 + ((1-beta)**2)*(1/24) * ((math.log(f/k))**2)+\n",
        "                   ((1-beta)**4)*(1/1920) * ((math.log(f/k))**4) )\n",
        "    numerator = ( 1 + ( ((1-beta)**2)*(1/24) * (alpha**2)/((f*k)**(1-beta)) +\n",
        "                      (1/4)*rho*beta*v*alpha/((f*k)**((1-beta)/2)) + \n",
        "                      (2-3*rho*rho)*(1/24)*v*v ) * T )\n",
        "    sabr_vol = v * math.log(f/k) * (1 / x) * (numerator / denominator)\n",
        "    note = 'Not ATM'\n",
        "    \n",
        "    my_z = z\n",
        "    my_x = x\n",
        "    my_numerator = numerator\n",
        "    my_denominator = denominator\n",
        "\n",
        "  return round(sabr_vol, 10)\n",
        "\n",
        "#  Tested against:   https://www.dropbox.com/s/pw9pn1dtu6bz5o9/SABR.py?dl=0\n",
        "#  referenced from: TRAVAGLINI_SABR_calibration_in_Python"
      ],
      "execution_count": 0,
      "outputs": []
    },
    {
      "cell_type": "code",
      "metadata": {
        "id": "I4pdzmxDDPof",
        "colab_type": "code",
        "outputId": "777e3494-d2f4-4b97-f363-3cd85e49704e",
        "colab": {
          "base_uri": "https://localhost:8080/",
          "height": 33
        }
      },
      "source": [
        "# Run SABR calculation example\n",
        "\n",
        "# Input\n",
        "alpha_val = 0.2\n",
        "beta_val = .2\n",
        "f_val = 0.03\n",
        "k_val = 0.09\n",
        "v_val = 0.5\n",
        "rho_val = 0.5\n",
        "T_val = 3\n",
        "\n",
        "# Output\n",
        "print('SABR', sabr_vol(alpha_val, beta_val, rho_val, v_val, f_val, k_val, T_val))"
      ],
      "execution_count": 0,
      "outputs": [
        {
          "output_type": "stream",
          "text": [
            "SABR 3.272972092\n"
          ],
          "name": "stdout"
        }
      ]
    },
    {
      "cell_type": "code",
      "metadata": {
        "id": "9y30ly4uGKZZ",
        "colab_type": "code",
        "outputId": "1a61907b-d47f-472d-f6d7-400fe896f10f",
        "colab": {
          "base_uri": "https://localhost:8080/",
          "height": 137
        }
      },
      "source": [
        "# Volatility table in pandas dataframe\n",
        "import pandas as pd\n",
        "\n",
        "# Input\n",
        "alpha_val = 0.2\n",
        "beta_val = 1\n",
        "f_val = 0.07\n",
        "v_val = 0.2\n",
        "rho_val = -0.3\n",
        "\n",
        "strikes = [0.01, 0.02, 0.03]\n",
        "maturities = [0.25, 0.5]\n",
        "\n",
        "vol_table = []   \n",
        "for strike in strikes:\n",
        "  vol_rows = []\n",
        "  for maturity in maturities:\n",
        "    vol_s_t = sabr_vol(alpha_val, beta_val, rho_val, v_val, f_val, strike, maturity)\n",
        "    vol_rows.append(vol_s_t)\n",
        "  vol_table.append(vol_rows)\n",
        "\n",
        "df1 = pd.DataFrame(vol_table, columns = maturities)\n",
        "df1.insert(loc=0, column='Strikes_Col', value=strikes)\n",
        "df1"
      ],
      "execution_count": 0,
      "outputs": [
        {
          "output_type": "execute_result",
          "data": {
            "text/html": [
              "<div>\n",
              "<style scoped>\n",
              "    .dataframe tbody tr th:only-of-type {\n",
              "        vertical-align: middle;\n",
              "    }\n",
              "\n",
              "    .dataframe tbody tr th {\n",
              "        vertical-align: top;\n",
              "    }\n",
              "\n",
              "    .dataframe thead th {\n",
              "        text-align: right;\n",
              "    }\n",
              "</style>\n",
              "<table border=\"1\" class=\"dataframe\">\n",
              "  <thead>\n",
              "    <tr style=\"text-align: right;\">\n",
              "      <th></th>\n",
              "      <th>Strikes_Col</th>\n",
              "      <th>0.25</th>\n",
              "      <th>0.5</th>\n",
              "    </tr>\n",
              "  </thead>\n",
              "  <tbody>\n",
              "    <tr>\n",
              "      <th>0</th>\n",
              "      <td>0.01</td>\n",
              "      <td>0.303514</td>\n",
              "      <td>0.303505</td>\n",
              "    </tr>\n",
              "    <tr>\n",
              "      <th>1</th>\n",
              "      <td>0.02</td>\n",
              "      <td>0.262606</td>\n",
              "      <td>0.262598</td>\n",
              "    </tr>\n",
              "    <tr>\n",
              "      <th>2</th>\n",
              "      <td>0.03</td>\n",
              "      <td>0.239283</td>\n",
              "      <td>0.239276</td>\n",
              "    </tr>\n",
              "  </tbody>\n",
              "</table>\n",
              "</div>"
            ],
            "text/plain": [
              "   Strikes_Col      0.25       0.5\n",
              "0         0.01  0.303514  0.303505\n",
              "1         0.02  0.262606  0.262598\n",
              "2         0.03  0.239283  0.239276"
            ]
          },
          "metadata": {
            "tags": []
          },
          "execution_count": 186
        }
      ]
    },
    {
      "cell_type": "code",
      "metadata": {
        "id": "M8kx0C4dX9kO",
        "colab_type": "code",
        "outputId": "c8e983c5-fa18-479a-9104-d07b5e82c337",
        "colab": {
          "base_uri": "https://localhost:8080/",
          "height": 248
        }
      },
      "source": [
        "from mpl_toolkits import mplot3d\n",
        "\n",
        "%matplotlib inline\n",
        "import numpy as np\n",
        "import matplotlib.pyplot as plt\n",
        "\n",
        "# Input\n",
        "alpha_val = 0.2\n",
        "beta_val = 1\n",
        "f_val = 0.07\n",
        "v_val = 0.4\n",
        "rho_val = -0.6\n",
        "\n",
        "strikes = [0.01, 0.02, 0.03, 0.04, 0.05, 0.06, 0.07, 0.08, 0.09, 0.1]\n",
        "maturities = [0.25, 0.5, 1, 2, 3, 4, 5]\n",
        "\n",
        "X = maturities\n",
        "Y = strikes\n",
        "\n",
        "X, Y = np.meshgrid(X, Y)\n",
        "sabr_vol_vec = np.vectorize(sabr_vol)\n",
        "Z = sabr_vol_vec(alpha_val, beta_val, rho_val, v_val, f_val, Y, X)\n",
        "\n",
        "fig = plt.figure()\n",
        "ax = plt.axes(projection='3d')\n",
        "ax.contour3D(X, Y, Z, 50, cmap='binary')\n",
        "ax.set_xlabel('Maturity')\n",
        "ax.set_ylabel('Strike')\n",
        "ax.set_zlabel('SABR Vol');\n",
        "ax.invert_xaxis()\n",
        "ax.view_init(60, 35)"
      ],
      "execution_count": 0,
      "outputs": [
        {
          "output_type": "display_data",
          "data": {
            "image/png": "[encoded data removed]",
            "text/plain": [
              "<Figure size 432x288 with 1 Axes>"
            ]
          },
          "metadata": {
            "tags": [],
            "needs_background": "light"
          }
        }
      ]
    }
  ]
}