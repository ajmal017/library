{
  "nbformat": 4,
  "nbformat_minor": 0,
  "metadata": {
    "colab": {
      "name": "mnist_numeric_recognition_keras_nn.ipynb",
      "provenance": [],
      "collapsed_sections": [],
      "include_colab_link": true
    },
    "kernelspec": {
      "name": "python3",
      "display_name": "Python 3"
    }
  },
  "cells": [
    {
      "cell_type": "markdown",
      "metadata": {
        "id": "view-in-github",
        "colab_type": "text"
      },
      "source": [
        "<a href=\"https://colab.research.google.com/github/rhysdavies21/library/blob/master/mnist_numeric_recognition_keras_nn.ipynb\" target=\"_parent\"><img src=\"https://colab.research.google.com/assets/colab-badge.svg\" alt=\"Open In Colab\"/></a>"
      ]
    },
    {
      "cell_type": "markdown",
      "metadata": {
        "id": "BxVJ-A2BKNpD",
        "colab_type": "text"
      },
      "source": [
        "## **Image recognition using MNIST library**"
      ]
    },
    {
      "cell_type": "markdown",
      "metadata": {
        "id": "AyZIJfLNaJ9y",
        "colab_type": "text"
      },
      "source": [
        "**1. Data import and review**"
      ]
    },
    {
      "cell_type": "code",
      "metadata": {
        "id": "gvBJvYtJ71tQ",
        "colab_type": "code",
        "outputId": "bc1cf988-acce-4b55-92a3-77a19c1d029b",
        "colab": {
          "base_uri": "https://localhost:8080/",
          "height": 79
        }
      },
      "source": [
        "# Load libraries\n",
        "from keras.datasets import mnist\n",
        "import numpy as np\n",
        "import matplotlib.pyplot as plt\n",
        "\n",
        "from keras import models\n",
        "from keras import layers\n",
        "\n",
        "from keras.utils import to_categorical"
      ],
      "execution_count": 0,
      "outputs": [
        {
          "output_type": "stream",
          "text": [
            "Using TensorFlow backend.\n"
          ],
          "name": "stderr"
        },
        {
          "output_type": "display_data",
          "data": {
            "text/html": [
              "<p style=\"color: red;\">\n",
              "The default version of TensorFlow in Colab will soon switch to TensorFlow 2.x.<br>\n",
              "We recommend you <a href=\"https://www.tensorflow.org/guide/migrate\" target=\"_blank\">upgrade</a> now \n",
              "or ensure your notebook will continue to use TensorFlow 1.x via the <code>%tensorflow_version 1.x</code> magic:\n",
              "<a href=\"https://colab.research.google.com/notebooks/tensorflow_version.ipynb\" target=\"_blank\">more info</a>.</p>\n"
            ],
            "text/plain": [
              "<IPython.core.display.HTML object>"
            ]
          },
          "metadata": {
            "tags": []
          }
        }
      ]
    },
    {
      "cell_type": "code",
      "metadata": {
        "id": "a2oJ8zJyL9x1",
        "colab_type": "code",
        "colab": {}
      },
      "source": [
        "class color:\n",
        "   BOLD = '\\033[1m'\n",
        "   UNDERLINE = '\\033[4m'\n",
        "   END = '\\033[0m'"
      ],
      "execution_count": 0,
      "outputs": []
    },
    {
      "cell_type": "code",
      "metadata": {
        "id": "xVLDxFCqKPKR",
        "colab_type": "code",
        "outputId": "3f7910a0-6a8b-406b-d8a3-48889d01c124",
        "colab": {
          "base_uri": "https://localhost:8080/",
          "height": 50
        }
      },
      "source": [
        "# Import data\n",
        "(train_images_raw, train_labels_raw), (test_images_raw, test_labels_raw) = mnist.load_data()"
      ],
      "execution_count": 0,
      "outputs": [
        {
          "output_type": "stream",
          "text": [
            "Downloading data from https://s3.amazonaws.com/img-datasets/mnist.npz\n",
            "11493376/11490434 [==============================] - 0s 0us/step\n"
          ],
          "name": "stdout"
        }
      ]
    },
    {
      "cell_type": "code",
      "metadata": {
        "id": "5hxvJ22pLB7K",
        "colab_type": "code",
        "outputId": "39777687-d601-4877-b71d-19347aa59daf",
        "colab": {
          "base_uri": "https://localhost:8080/",
          "height": 403
        }
      },
      "source": [
        "# Review data\n",
        "print(color.BOLD+'train_images_raw:'+color.END)\n",
        "print('Shape: ', train_images_raw.shape)\n",
        "print('Type: ', type(train_images_raw))\n",
        "print('dtype: ', train_images_raw.dtype)\n",
        "print('ndim: ', train_images_raw.ndim)\n",
        "\n",
        "print(color.BOLD+'\\ntrain_labels_raw:'+color.END)\n",
        "print('Shape: ', train_labels_raw.shape)\n",
        "print('Type: ', type(train_labels_raw))\n",
        "print('dtype: ', train_labels_raw.dtype)\n",
        "print('ndim: ', train_labels_raw.ndim)\n",
        "\n",
        "print(color.BOLD+'\\ntest_images_raw:'+color.END)\n",
        "print('Shape: ', test_images_raw.shape)\n",
        "print('Type: ', type(test_images_raw))\n",
        "print('dtype: ', test_images_raw.dtype)\n",
        "print('ndim: ', test_images_raw.ndim)\n",
        "\n",
        "print(color.BOLD+'\\ntest_labels_raw:'+color.END)\n",
        "print('Shape: ', test_labels_raw.shape)\n",
        "print('Type: ', type(test_labels_raw))\n",
        "print('dtype: ', test_labels_raw.dtype)\n",
        "print('ndim: ', test_labels_raw.ndim)"
      ],
      "execution_count": 0,
      "outputs": [
        {
          "output_type": "stream",
          "text": [
            "\u001b[1mtrain_images_raw:\u001b[0m\n",
            "Shape:  (60000, 28, 28)\n",
            "Type:  <class 'numpy.ndarray'>\n",
            "dtype:  uint8\n",
            "ndim:  3\n",
            "\u001b[1m\n",
            "train_labels_raw:\u001b[0m\n",
            "Shape:  (60000,)\n",
            "Type:  <class 'numpy.ndarray'>\n",
            "dtype:  uint8\n",
            "ndim:  1\n",
            "\u001b[1m\n",
            "test_images_raw:\u001b[0m\n",
            "Shape:  (10000, 28, 28)\n",
            "Type:  <class 'numpy.ndarray'>\n",
            "dtype:  uint8\n",
            "ndim:  3\n",
            "\u001b[1m\n",
            "test_labels_raw:\u001b[0m\n",
            "Shape:  (10000,)\n",
            "Type:  <class 'numpy.ndarray'>\n",
            "dtype:  uint8\n",
            "ndim:  1\n"
          ],
          "name": "stdout"
        }
      ]
    },
    {
      "cell_type": "code",
      "metadata": {
        "id": "qN_6CRp-8Kk4",
        "colab_type": "code",
        "outputId": "fd0b6e90-14fc-43c1-88a7-b22a6e4069de",
        "colab": {
          "base_uri": "https://localhost:8080/",
          "height": 604
        }
      },
      "source": [
        "# Review examples\n",
        "print(color.BOLD+color.UNDERLINE+'\\nReview train_images_raw'+color.END)\n",
        "fig=plt.figure(figsize=(4, 4))\n",
        "columns = 2\n",
        "rows = 2\n",
        "for i in range(1, columns*rows+1):\n",
        "    img = train_images_raw[i-1]\n",
        "    fig.add_subplot(rows, columns, i)\n",
        "    plt.imshow(img)\n",
        "    plt.title('train_images_raw['+str(i-1)+']')\n",
        "    plt.subplots_adjust(top = 0.75, bottom=0.01, hspace=0.5, wspace=0.4)    \n",
        "plt.show()\n",
        "\n",
        "print(color.BOLD+color.UNDERLINE+'\\nReview test_images_raw'+color.END)\n",
        "fig=plt.figure(figsize=(4, 4))\n",
        "columns = 2\n",
        "rows = 2\n",
        "for i in range(1, columns*rows+1):\n",
        "    img = test_images_raw[i-1]\n",
        "    fig.add_subplot(rows, columns, i)\n",
        "    plt.imshow(img)\n",
        "    plt.title('test_images_raw['+str(i-1)+']')\n",
        "    plt.subplots_adjust(top = 0.75, bottom=0.01, hspace=0.5, wspace=0.4)    \n",
        "plt.show()"
      ],
      "execution_count": 0,
      "outputs": [
        {
          "output_type": "stream",
          "text": [
            "\u001b[1m\u001b[4m\n",
            "Review train_images_raw\u001b[0m\n"
          ],
          "name": "stdout"
        },
        {
          "output_type": "display_data",
          "data": {
            "image/png": "[encoded data removed]",
            "text/plain": [
              "<Figure size 288x288 with 4 Axes>"
            ]
          },
          "metadata": {
            "tags": []
          }
        },
        {
          "output_type": "stream",
          "text": [
            "\u001b[1m\u001b[4m\n",
            "Review test_images_raw\u001b[0m\n"
          ],
          "name": "stdout"
        },
        {
          "output_type": "display_data",
          "data": {
            "image/png": "[encoded data removed]",
            "text/plain": [
              "<Figure size 288x288 with 4 Axes>"
            ]
          },
          "metadata": {
            "tags": []
          }
        }
      ]
    },
    {
      "cell_type": "markdown",
      "metadata": {
        "id": "pGIFsAELaSQu",
        "colab_type": "text"
      },
      "source": [
        "**2. Neural Network construction**"
      ]
    },
    {
      "cell_type": "code",
      "metadata": {
        "id": "5aZD-mtOxFwI",
        "colab_type": "code",
        "outputId": "493d1cb5-5cf5-4863-f89b-3b5931fa3b31",
        "colab": {
          "base_uri": "https://localhost:8080/",
          "height": 84
        }
      },
      "source": [
        "# Prepare image data\n",
        "train_images = train_images_raw.reshape((60000, 28*28)).astype('float32') / 255\n",
        "#train_images = train_images.astype('float32') / 255\n",
        "\n",
        "test_images = test_images_raw.reshape((10000, 28*28)).astype('float32') / 255\n",
        "#test_images = test_images.astype('float32') / 255\n",
        "\n",
        "# Prepare labels\n",
        "train_labels = to_categorical(train_labels_raw)\n",
        "test_labels = to_categorical(test_labels_raw)\n",
        "\n",
        "# Review data\n",
        "print('Shape of train_images', train_images.shape)\n",
        "print('Shape of train_labels', train_labels.shape)\n",
        "print('Shape of test_images', test_images.shape)\n",
        "print('Shape of test_labels', test_labels.shape)"
      ],
      "execution_count": 0,
      "outputs": [
        {
          "output_type": "stream",
          "text": [
            "Shape of train_images (60000, 784)\n",
            "Shape of train_labels (60000, 10)\n",
            "Shape of test_images (10000, 784)\n",
            "Shape of test_labels (10000, 10)\n"
          ],
          "name": "stdout"
        }
      ]
    },
    {
      "cell_type": "code",
      "metadata": {
        "id": "fpPYy4JHxhN2",
        "colab_type": "code",
        "outputId": "30761da0-dc35-40c1-84da-d77ab0f8dba5",
        "colab": {
          "base_uri": "https://localhost:8080/",
          "height": 709
        }
      },
      "source": [
        "# Construct network architecture\n",
        "network = models.Sequential()\n",
        "network.add(layers.Dense(512, activation='relu', input_shape=(28 * 28,)))\n",
        "network.add(layers.Dense(10, activation='softmax'))\n",
        "\n",
        "# Network compilation\n",
        "# categorical_crossentropy is loss function as feedback sigal for learning the weight \n",
        "# tensors. Reduction of loss happens via minibatch stochastic gradient descent. Rules governing\n",
        "# gradient descent defined in rmsprop \n",
        "network.compile(optimizer='rmsprop',\n",
        "                loss='categorical_crossentropy',\n",
        "                metrics=['accuracy'])\n",
        "\n",
        "# Training loop\n",
        "network.fit(train_images, train_labels, epochs=5, batch_size=128)"
      ],
      "execution_count": 0,
      "outputs": [
        {
          "output_type": "stream",
          "text": [
            "WARNING:tensorflow:From /usr/local/lib/python3.6/dist-packages/keras/backend/tensorflow_backend.py:66: The name tf.get_default_graph is deprecated. Please use tf.compat.v1.get_default_graph instead.\n",
            "\n",
            "WARNING:tensorflow:From /usr/local/lib/python3.6/dist-packages/keras/backend/tensorflow_backend.py:541: The name tf.placeholder is deprecated. Please use tf.compat.v1.placeholder instead.\n",
            "\n",
            "WARNING:tensorflow:From /usr/local/lib/python3.6/dist-packages/keras/backend/tensorflow_backend.py:4432: The name tf.random_uniform is deprecated. Please use tf.random.uniform instead.\n",
            "\n",
            "WARNING:tensorflow:From /usr/local/lib/python3.6/dist-packages/keras/optimizers.py:793: The name tf.train.Optimizer is deprecated. Please use tf.compat.v1.train.Optimizer instead.\n",
            "\n",
            "WARNING:tensorflow:From /usr/local/lib/python3.6/dist-packages/keras/backend/tensorflow_backend.py:3576: The name tf.log is deprecated. Please use tf.math.log instead.\n",
            "\n",
            "WARNING:tensorflow:From /usr/local/lib/python3.6/dist-packages/tensorflow_core/python/ops/math_grad.py:1424: where (from tensorflow.python.ops.array_ops) is deprecated and will be removed in a future version.\n",
            "Instructions for updating:\n",
            "Use tf.where in 2.0, which has the same broadcast rule as np.where\n",
            "WARNING:tensorflow:From /usr/local/lib/python3.6/dist-packages/keras/backend/tensorflow_backend.py:1033: The name tf.assign_add is deprecated. Please use tf.compat.v1.assign_add instead.\n",
            "\n",
            "WARNING:tensorflow:From /usr/local/lib/python3.6/dist-packages/keras/backend/tensorflow_backend.py:1020: The name tf.assign is deprecated. Please use tf.compat.v1.assign instead.\n",
            "\n",
            "WARNING:tensorflow:From /usr/local/lib/python3.6/dist-packages/keras/backend/tensorflow_backend.py:3005: The name tf.Session is deprecated. Please use tf.compat.v1.Session instead.\n",
            "\n",
            "Epoch 1/5\n",
            "WARNING:tensorflow:From /usr/local/lib/python3.6/dist-packages/keras/backend/tensorflow_backend.py:190: The name tf.get_default_session is deprecated. Please use tf.compat.v1.get_default_session instead.\n",
            "\n",
            "WARNING:tensorflow:From /usr/local/lib/python3.6/dist-packages/keras/backend/tensorflow_backend.py:197: The name tf.ConfigProto is deprecated. Please use tf.compat.v1.ConfigProto instead.\n",
            "\n",
            "WARNING:tensorflow:From /usr/local/lib/python3.6/dist-packages/keras/backend/tensorflow_backend.py:207: The name tf.global_variables is deprecated. Please use tf.compat.v1.global_variables instead.\n",
            "\n",
            "WARNING:tensorflow:From /usr/local/lib/python3.6/dist-packages/keras/backend/tensorflow_backend.py:216: The name tf.is_variable_initialized is deprecated. Please use tf.compat.v1.is_variable_initialized instead.\n",
            "\n",
            "WARNING:tensorflow:From /usr/local/lib/python3.6/dist-packages/keras/backend/tensorflow_backend.py:223: The name tf.variables_initializer is deprecated. Please use tf.compat.v1.variables_initializer instead.\n",
            "\n",
            "60000/60000 [==============================] - 6s 101us/step - loss: 0.2656 - acc: 0.9227\n",
            "Epoch 2/5\n",
            "60000/60000 [==============================] - 5s 88us/step - loss: 0.1099 - acc: 0.9677\n",
            "Epoch 3/5\n",
            "60000/60000 [==============================] - 5s 85us/step - loss: 0.0740 - acc: 0.9772\n",
            "Epoch 4/5\n",
            "60000/60000 [==============================] - 5s 85us/step - loss: 0.0548 - acc: 0.9834\n",
            "Epoch 5/5\n",
            "60000/60000 [==============================] - 5s 80us/step - loss: 0.0407 - acc: 0.9875\n"
          ],
          "name": "stdout"
        },
        {
          "output_type": "execute_result",
          "data": {
            "text/plain": [
              "<keras.callbacks.History at 0x7fd17c278f60>"
            ]
          },
          "metadata": {
            "tags": []
          },
          "execution_count": 7
        }
      ]
    },
    {
      "cell_type": "code",
      "metadata": {
        "id": "SMMQlNXg3Uz4",
        "colab_type": "code",
        "outputId": "37c54ee6-092c-4dfa-96df-4d3eb6a67b53",
        "colab": {
          "base_uri": "https://localhost:8080/",
          "height": 67
        }
      },
      "source": [
        "# Review accuracy\n",
        "test_loss, test_acc = network.evaluate(test_images, test_labels)\n",
        "print('test_loss: ', test_loss)\n",
        "print('test_acc: ', test_acc)"
      ],
      "execution_count": 0,
      "outputs": [
        {
          "output_type": "stream",
          "text": [
            "10000/10000 [==============================] - 1s 56us/step\n",
            "test_loss:  0.06497121583826375\n",
            "test_acc:  0.9798\n"
          ],
          "name": "stdout"
        }
      ]
    },
    {
      "cell_type": "code",
      "metadata": {
        "id": "zVFHRmVAOBjt",
        "colab_type": "code",
        "outputId": "d0e08e64-017f-4529-a9bb-13e914a97177",
        "colab": {
          "base_uri": "https://localhost:8080/",
          "height": 118
        }
      },
      "source": [
        "# Spot test\n",
        "print(color.BOLD+color.UNDERLINE+'\\nReview samples'+color.END)\n",
        "\n",
        "samples = 10\n",
        "\n",
        "sample_pred = []\n",
        "for i in range(1, samples+1):\n",
        "    sample_pred.append(network.predict(test_images_raw[i-1].reshape((1, 28*28)).astype('float32')).argmax())\n",
        "\n",
        "print('test_labels_raw:  ', list(test_labels_raw[0:samples]))\n",
        "print('Predicted Labels: ', sample_pred[0:samples])\n",
        "print('Identical?:', list(test_labels_raw[0:samples]) == sample_pred[0:samples] )\n",
        "\n",
        "element_check = []\n",
        "for j in range(1, samples+1):\n",
        "  running_check = list(test_labels_raw[0:samples])[j-1] == sample_pred[0:samples][j-1]\n",
        "  if running_check == True:\n",
        "    element_check.append(0)\n",
        "  else:\n",
        "    element_check.append(1)\n",
        "\n",
        "print('Total false predictions: ', sum(element_check), 'out of a total of', samples, 'samples')"
      ],
      "execution_count": 0,
      "outputs": [
        {
          "output_type": "stream",
          "text": [
            "\u001b[1m\u001b[4m\n",
            "Review samples\u001b[0m\n",
            "test_labels_raw:   [7, 2, 1, 0, 4, 1, 4, 9, 5, 9]\n",
            "Predicted Labels:  [7, 2, 1, 0, 4, 1, 4, 9, 5, 9]\n",
            "Identical?: True\n",
            "Total false predictions:  0 out of a total of 10 samples\n"
          ],
          "name": "stdout"
        }
      ]
    },
    {
      "cell_type": "code",
      "metadata": {
        "id": "S3d7timysHHu",
        "colab_type": "code",
        "colab": {}
      },
      "source": [
        ""
      ],
      "execution_count": 0,
      "outputs": []
    }
  ]
}