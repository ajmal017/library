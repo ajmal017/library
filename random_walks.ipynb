{
  "nbformat": 4,
  "nbformat_minor": 0,
  "metadata": {
    "colab": {
      "name": "random_walks.ipynb",
      "provenance": [],
      "authorship_tag": "ABX9TyMOH25w0uauGWL4i74GO584",
      "include_colab_link": true
    },
    "kernelspec": {
      "name": "python3",
      "display_name": "Python 3"
    }
  },
  "cells": [
    {
      "cell_type": "markdown",
      "metadata": {
        "id": "view-in-github",
        "colab_type": "text"
      },
      "source": [
        "<a href=\"https://colab.research.google.com/github/rhysdavies21/library/blob/master/random_walks.ipynb\" target=\"_parent\"><img src=\"https://colab.research.google.com/assets/colab-badge.svg\" alt=\"Open In Colab\"/></a>"
      ]
    },
    {
      "cell_type": "markdown",
      "metadata": {
        "id": "MoGkM9r-lXA4",
        "colab_type": "text"
      },
      "source": [
        "##**Random Walks**"
      ]
    },
    {
      "cell_type": "code",
      "metadata": {
        "id": "-VNwJVjAlbod",
        "colab_type": "code",
        "colab": {}
      },
      "source": [
        "# Define simple random walk\n",
        "import random\n",
        "\n",
        "def random_walk(n):\n",
        "  \"\"\"Calculates simple random walk of n steps. Four possible directions\"\"\"\n",
        "  \"\"\"and output is a coordinate\"\"\"\n",
        "  x=0\n",
        "  y=0\n",
        "  for i in range(n):\n",
        "    step = random.choice(['N', 'S', 'E', 'W'])\n",
        "    if step == 'N':\n",
        "      y = y+1\n",
        "    elif step == 'S':\n",
        "      y = y-1\n",
        "    elif step == 'E':\n",
        "      x = x+1\n",
        "    elif step == 'W':\n",
        "      x = x-1\n",
        "    else:\n",
        "      Message = 'Check for error'\n",
        "      return Message\n",
        "  return (x,y)"
      ],
      "execution_count": null,
      "outputs": []
    },
    {
      "cell_type": "code",
      "metadata": {
        "id": "KLUHs61c7Fll",
        "colab_type": "code",
        "colab": {
          "base_uri": "https://localhost:8080/",
          "height": 435
        },
        "outputId": "3cf46447-b395-411b-c35e-66c6752df07c"
      },
      "source": [
        "# Run a number of random_walks and plot position and distance\n",
        "\n",
        "for i in range(25):\n",
        "  walk = random_walk(10)\n",
        "  distance = abs(walk[0])+abs(walk[1])\n",
        "  print(walk, \"Distance from home =\", distance)"
      ],
      "execution_count": null,
      "outputs": [
        {
          "output_type": "stream",
          "text": [
            "(1, 3) Distance from home = 4\n",
            "(-1, -1) Distance from home = 2\n",
            "(-1, -1) Distance from home = 2\n",
            "(2, 0) Distance from home = 2\n",
            "(2, -4) Distance from home = 6\n",
            "(1, -1) Distance from home = 2\n",
            "(2, 2) Distance from home = 4\n",
            "(2, -6) Distance from home = 8\n",
            "(-2, 0) Distance from home = 2\n",
            "(-3, 3) Distance from home = 6\n",
            "(0, 0) Distance from home = 0\n",
            "(-1, 3) Distance from home = 4\n",
            "(3, 3) Distance from home = 6\n",
            "(0, 0) Distance from home = 0\n",
            "(-1, 1) Distance from home = 2\n",
            "(-3, -1) Distance from home = 4\n",
            "(0, 0) Distance from home = 0\n",
            "(2, -4) Distance from home = 6\n",
            "(0, 2) Distance from home = 2\n",
            "(2, 0) Distance from home = 2\n",
            "(2, 0) Distance from home = 2\n",
            "(1, 1) Distance from home = 2\n",
            "(2, -2) Distance from home = 4\n",
            "(3, -1) Distance from home = 4\n",
            "(2, 0) Distance from home = 2\n"
          ],
          "name": "stdout"
        }
      ]
    },
    {
      "cell_type": "code",
      "metadata": {
        "id": "ZhlufOxz7S6N",
        "colab_type": "code",
        "colab": {}
      },
      "source": [
        "# Succinnct random walk calculation using coordinates\n",
        "\n",
        "def random_walk_2(n):\n",
        "  \"\"\"Return coordinates after n block random walk\"\"\"\n",
        "  x, y = 0, 0\n",
        "  for i in range(n):\n",
        "    (dx, dy) = random.choice([(0,1),(0,-1),(1,0),(-1,0)])\n",
        "    x += dx\n",
        "    y += dy\n",
        "  return (x,y)"
      ],
      "execution_count": null,
      "outputs": []
    },
    {
      "cell_type": "code",
      "metadata": {
        "id": "sjkvQSoBrB4E",
        "colab_type": "code",
        "colab": {
          "base_uri": "https://localhost:8080/",
          "height": 518
        },
        "outputId": "d91e648e-19cd-42bc-9c63-f5eeda36773e"
      },
      "source": [
        "# Run a number of random walks for range of different length walks to \n",
        "# measure percentage that finish less than 4 blocks from the start\n",
        "# Note the results up/downs between odd and even number of steps\n",
        "\n",
        "number_of_walks = 20000\n",
        "\n",
        "for walk_length in range(1,31):\n",
        "  no_transport = 0 # number of walks 4 blocks or less from home\n",
        "  for i in range(number_of_walks):\n",
        "    (x,y) = random_walk_2(walk_length)\n",
        "    distance = abs(x) + abs(y)\n",
        "    if distance <= 4:\n",
        "      no_transport += 1\n",
        "  no_transport_percentage = float(no_transport) / number_of_walks\n",
        "  print(\"Walk size = \", walk_length, \"/ % of no transport = \", 100*no_transport_percentage)"
      ],
      "execution_count": null,
      "outputs": [
        {
          "output_type": "stream",
          "text": [
            "Walk size =  1 / % of no transport =  100.0\n",
            "Walk size =  2 / % of no transport =  100.0\n",
            "Walk size =  3 / % of no transport =  100.0\n",
            "Walk size =  4 / % of no transport =  100.0\n",
            "Walk size =  5 / % of no transport =  87.965\n",
            "Walk size =  6 / % of no transport =  93.88499999999999\n",
            "Walk size =  7 / % of no transport =  76.805\n",
            "Walk size =  8 / % of no transport =  86.85000000000001\n",
            "Walk size =  9 / % of no transport =  67.16499999999999\n",
            "Walk size =  10 / % of no transport =  79.53\n",
            "Walk size =  11 / % of no transport =  59.955000000000005\n",
            "Walk size =  12 / % of no transport =  73.245\n",
            "Walk size =  13 / % of no transport =  53.555\n",
            "Walk size =  14 / % of no transport =  67.605\n",
            "Walk size =  15 / % of no transport =  48.875\n",
            "Walk size =  16 / % of no transport =  63.065000000000005\n",
            "Walk size =  17 / % of no transport =  44.55\n",
            "Walk size =  18 / % of no transport =  57.31\n",
            "Walk size =  19 / % of no transport =  41.33\n",
            "Walk size =  20 / % of no transport =  53.910000000000004\n",
            "Walk size =  21 / % of no transport =  38.15\n",
            "Walk size =  22 / % of no transport =  50.92\n",
            "Walk size =  23 / % of no transport =  35.125\n",
            "Walk size =  24 / % of no transport =  47.885\n",
            "Walk size =  25 / % of no transport =  32.925\n",
            "Walk size =  26 / % of no transport =  45.5\n",
            "Walk size =  27 / % of no transport =  30.4\n",
            "Walk size =  28 / % of no transport =  42.335\n",
            "Walk size =  29 / % of no transport =  29.98\n",
            "Walk size =  30 / % of no transport =  41.345\n"
          ],
          "name": "stdout"
        }
      ]
    },
    {
      "cell_type": "code",
      "metadata": {
        "id": "_BpGl7korFL8",
        "colab_type": "code",
        "colab": {}
      },
      "source": [
        ""
      ],
      "execution_count": null,
      "outputs": []
    }
  ]
}