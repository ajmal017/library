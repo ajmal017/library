{
  "nbformat": 4,
  "nbformat_minor": 0,
  "metadata": {
    "colab": {
      "name": "Copy of black-scholes-playground.ipynb",
      "provenance": [],
      "collapsed_sections": [],
      "authorship_tag": "ABX9TyNW1m7iiJvnf2MVUvJTrpLX",
      "include_colab_link": true
    },
    "kernelspec": {
      "name": "python3",
      "display_name": "Python 3"
    }
  },
  "cells": [
    {
      "cell_type": "markdown",
      "metadata": {
        "id": "view-in-github",
        "colab_type": "text"
      },
      "source": [
        "<a href=\"https://colab.research.google.com/github/rhysdavies21/library/blob/master/Copy_of_black_scholes_playground.ipynb\" target=\"_parent\"><img src=\"https://colab.research.google.com/assets/colab-badge.svg\" alt=\"Open In Colab\"/></a>"
      ]
    },
    {
      "cell_type": "markdown",
      "metadata": {
        "id": "SW84Q-wmfjl6",
        "colab_type": "text"
      },
      "source": [
        "## **Black-Scholes** --- Calculation price, greeks and implied volatility\n",
        "\n",
        "*Reconciliation reference:*\n",
        "\n",
        "*https://goodcalculators.com/black-scholes-calculator/*\n",
        "\n",
        "*https://www.math.drexel.edu/~pg/fin/VanillaCalculator.html*"
      ]
    },
    {
      "cell_type": "code",
      "metadata": {
        "id": "wgvYrwFDfzqE",
        "colab_type": "code",
        "colab": {}
      },
      "source": [
        "# Import packages\n",
        "import numpy as np\n",
        "from scipy.stats import norm"
      ],
      "execution_count": 25,
      "outputs": []
    },
    {
      "cell_type": "markdown",
      "metadata": {
        "id": "e7MHts8R7GXA",
        "colab_type": "text"
      },
      "source": [
        "Black-Scholes analytical price"
      ]
    },
    {
      "cell_type": "code",
      "metadata": {
        "id": "DmUJe3bcf2xR",
        "colab_type": "code",
        "colab": {}
      },
      "source": [
        "# Black-Scholes analytical function\n",
        "\n",
        "def black_scholes_analytical(s_0, k, T, r, q, sigma, option_type):\n",
        "  d1 = (np.log(s_0/k) + (r-q+0.5*sigma**2)*T) / (sigma*np.sqrt(T))\n",
        "  d2 = (np.log(s_0/k) + (r-q-0.5*sigma**2)*T) / (sigma*np.sqrt(T))\n",
        "  if option_type == 'call':\n",
        "    val = np.exp(-q*T)*s_0*norm.cdf(d1,0,1) - k*np.exp(-r*T)*norm.cdf(d2,0,1)\n",
        "  elif option_type == 'put':\n",
        "    val = k*np.exp(-r*T)*norm.cdf(-d2,0,1) - s_0*np.exp(-q*T)*norm.cdf(-d1,0,1)\n",
        "  return val"
      ],
      "execution_count": 26,
      "outputs": []
    },
    {
      "cell_type": "markdown",
      "metadata": {
        "id": "8n4Wpsp97RvA",
        "colab_type": "text"
      },
      "source": [
        "Black-Scholes class object for prices and greeks"
      ]
    },
    {
      "cell_type": "code",
      "metadata": {
        "id": "YdvmUFKLf5Kq",
        "colab_type": "code",
        "colab": {}
      },
      "source": [
        "# class objecct to price and determine greeks\n",
        "\n",
        "class bs_object(object):\n",
        "  \"\"\"Black-Scholes model to provide present value and greeks for given inputs\"\"\"\n",
        "\n",
        "  def __init__(self, s_0, k, T, r, q, sigma, option_type):\n",
        "    self.s_0 = s_0\n",
        "    self.k = k\n",
        "    self.T = T\n",
        "    self.r = r\n",
        "    self.q = q\n",
        "    self.sigma = sigma \n",
        "    self.option_type = option_type\n",
        "    self.d1 = (np.log(self.s_0/self.k) + (self.r-self.q+0.5*self.sigma**2)*self.T) / (self.sigma*np.sqrt(self.T))\n",
        "    self.d2 = (np.log(self.s_0/self.k) + (self.r-self.q-0.5*self.sigma**2)*self.T) / (self.sigma*np.sqrt(self.T))\n",
        "\n",
        "  def val(self):\n",
        "    if self.option_type == 'call':\n",
        "      val = np.exp(-self.q*self.T)*self.s_0*norm.cdf(self.d1,0,1) - self.k*np.exp(-self.r*self.T)*norm.cdf(self.d2,0,1)\n",
        "    elif self.option_type == 'put':\n",
        "      val = self.k*np.exp(-self.r*self.T)*norm.cdf(-self.d2,0,1) - self.s_0 * np.exp(-self.q*self.T)*norm.cdf(-self.d1,0,1)\n",
        "    return val\n",
        "\n",
        "  def delta(self):\n",
        "    if self.option_type == 'call':\n",
        "      delta = np.exp(-self.q*self.T)*norm.cdf(self.d1,0,1)\n",
        "    elif self.option_type == 'put':\n",
        "      delta = -np.exp(-self.q*self.T)*norm.cdf(-self.d1,0,1)\n",
        "    return delta \n",
        "\n",
        "  def vega(self):\n",
        "    vega = self.s_0*np.exp(-self.q*self.T)*np.sqrt(self.T)*norm.pdf(self.d1)\n",
        "    return vega / 100\n",
        "\n",
        "  def theta(self):\n",
        "    if self.option_type == 'call':\n",
        "      theta = (-np.exp(-self.q*self.T)*self.s_0*norm.pdf(self.d1)*self.sigma/(2*np.sqrt(self.T)) \n",
        "               - self.r*self.k*np.exp(-self.r*self.T)*norm.cdf(self.d2,0,1)\n",
        "               + self.q*self.s_0*np.exp(-self.q*self.T)*norm.cdf(self.d1,0,1) \n",
        "               )\n",
        "    elif self.option_type == 'put':\n",
        "      theta = (-np.exp(-self.q*self.T)*self.s_0*norm.pdf(-self.d1)*self.sigma/(2*np.sqrt(self.T))\n",
        "               + self.r*self.k*np.exp(-self.r*self.T)*norm.cdf(-self.d2,0,1) \n",
        "               - self.q*self.s_0*np.exp(-self.q*self.T)*norm.cdf(-self.d1,0,1) \n",
        "               )\n",
        "    return theta\n",
        "\n",
        "  def rho(self):\n",
        "    if self.option_type == 'call':\n",
        "      rho = self.k*self.T*np.exp(-self.r*self.T)*norm.cdf(self.d2,0,1)\n",
        "    elif self.option_type == 'put':\n",
        "      rho = -self.k*self.T*np.exp(-self.r*self.T)*norm.cdf(-self.d2,0,1)\n",
        "    return rho / 100   \n",
        "\n",
        "  def gamma(self):\n",
        "    gamma = np.exp(-self.q*self.T)*norm.pdf(self.d1) / (self.s_0*self.sigma*np.sqrt(self.T))\n",
        "    return gamma"
      ],
      "execution_count": 27,
      "outputs": []
    },
    {
      "cell_type": "code",
      "metadata": {
        "id": "v82FpTtArwwL",
        "colab_type": "code",
        "colab": {}
      },
      "source": [
        "# Review class\n",
        "# help(bs_object)"
      ],
      "execution_count": 28,
      "outputs": []
    },
    {
      "cell_type": "markdown",
      "metadata": {
        "id": "NYgT94Vk7hRr",
        "colab_type": "text"
      },
      "source": [
        "Run Black-Scholes analytical pricer and class object"
      ]
    },
    {
      "cell_type": "code",
      "metadata": {
        "id": "8ofwtSKyf7hN",
        "colab_type": "code",
        "colab": {
          "base_uri": "https://localhost:8080/",
          "height": 201
        },
        "outputId": "8b41f057-1146-41c7-b4ae-d24638517e11"
      },
      "source": [
        "# Calculate black_scholes_analytical and bs_object\n",
        "\n",
        "# Inputs\n",
        "s_0_val = 102\n",
        "k_val = 105\n",
        "r_val = 0.05\n",
        "q_val = 0.02\n",
        "sigma_val = 0.15\n",
        "T_val =  2\n",
        "option_type_val = 'call'    # or 'put'\n",
        "decimals = 3\n",
        "\n",
        "# input collation for bs_object\n",
        "trade_1 = bs_object(s_0_val, k_val, T_val, \n",
        "               r_val, q_val, sigma_val, option_type_val)\n",
        "\n",
        "print('black_scholes_analytical=', round(\n",
        "    black_scholes_analytical(s_0_val, k_val, T_val, r_val, q_val, \n",
        "                             sigma_val, option_type_val), decimals), '\\n')\n",
        "\n",
        "print('Results from bs_object:')\n",
        "print('d1=', round(trade_1.d1, decimals))\n",
        "print('d2=', round(trade_1.d2, decimals)) \n",
        "print('Val=', round(trade_1.val(), decimals)) \n",
        "print('Delta=', round(trade_1.delta(), decimals)) \n",
        "print('Vega=', round(trade_1.vega(), decimals)) \n",
        "print('Theta=', round(trade_1.theta(), decimals)) \n",
        "print('Rho=', round(trade_1.rho(), decimals)) \n",
        "print('Gamma=', round(trade_1.gamma(), decimals))"
      ],
      "execution_count": 29,
      "outputs": [
        {
          "output_type": "stream",
          "text": [
            "black_scholes_analytical= 9.735 \n",
            "\n",
            "Results from bs_object:\n",
            "d1= 0.252\n",
            "d2= 0.04\n",
            "Val= 9.735\n",
            "Delta= 0.576\n",
            "Vega= 0.536\n",
            "Theta= -3.285\n",
            "Rho= 0.98\n",
            "Gamma= 0.017\n"
          ],
          "name": "stdout"
        }
      ]
    },
    {
      "cell_type": "markdown",
      "metadata": {
        "id": "T0HKIUKh7sUu",
        "colab_type": "text"
      },
      "source": [
        "Calculate implied volatility from option prices: \n",
        "i) Naive brute force approach\n",
        "ii) Newton-Raphson\n",
        "\n",
        "---\n",
        "\n"
      ]
    },
    {
      "cell_type": "code",
      "metadata": {
        "id": "CEc8_oeMf98P",
        "colab_type": "code",
        "colab": {}
      },
      "source": [
        "# Calculate implied volatility from option price\n",
        "# Method is naive using brute force and finding nearest \n",
        "# For better results use Newton-Raphson \n",
        "\n",
        "def imp_vol(pv, s_0, k, r, q, T, option_type, epsilon, max_sigma, inc_sigma):\n",
        "  sigma_array = np.linspace(inc_sigma_val,max_sigma_val, int(max_sigma_val/inc_sigma_val))\n",
        "  pv_iter_array = []\n",
        "  abs_diff_array = []\n",
        "  for sigma in sigma_array:\n",
        "    pv_iter = black_scholes_analytical(s_0, k, T, r, q, sigma, option_type)\n",
        "    pv_iter_array.append(pv_iter)\n",
        "    abs_diff = abs(pv - pv_iter)\n",
        "    abs_diff_array.append(abs_diff)\n",
        "  where_vol_diff_min = np.where(abs_diff_array == np.amin(abs_diff_array))[0][0]\n",
        "  return sigma_array[where_vol_diff_min]"
      ],
      "execution_count": 30,
      "outputs": []
    },
    {
      "cell_type": "code",
      "metadata": {
        "id": "KTR_0jRbgA8k",
        "colab_type": "code",
        "colab": {
          "base_uri": "https://localhost:8080/",
          "height": 33
        },
        "outputId": "bae2f513-0f72-439f-df0e-2ec130161c6b"
      },
      "source": [
        "# Run imp_vol calculations\n",
        "\n",
        "pv_val = 9.7\n",
        "s_0_val = 102\n",
        "k_val = 105\n",
        "r_val = 0.05\n",
        "q_val = 0.02\n",
        "T_val =  2\n",
        "option_type_val = 'call'    # or 'put'\n",
        "epsilon_val = 2\n",
        "max_sigma_val = 1\n",
        "inc_sigma_val = 0.001\n",
        "decimals = 4\n",
        "\n",
        "round(imp_vol(pv_val, s_0_val, k_val, r_val, q_val, T_val, option_type_val, epsilon_val, max_sigma_val, inc_sigma_val), decimals)"
      ],
      "execution_count": 31,
      "outputs": [
        {
          "output_type": "execute_result",
          "data": {
            "text/plain": [
              "0.149"
            ]
          },
          "metadata": {
            "tags": []
          },
          "execution_count": 31
        }
      ]
    },
    {
      "cell_type": "code",
      "metadata": {
        "id": "gRWO4Pzw1aNl",
        "colab_type": "code",
        "colab": {}
      },
      "source": [
        "# Estimate implied volatility using Newton-Raphson\n",
        "def newtonRaphson( pv_target, s_0, k, T, r, q, sigma, option_type, accuracy ): \n",
        "    h = ( (bs_object(s_0, k, T, r, q, sigma, option_type).val() - pv_target) \n",
        "    / bs_object(s_0, k, T, r, q, sigma, option_type).vega() )\n",
        "    while abs(h) >= accuracy:\n",
        "      h = ( (bs_object(s_0, k, T, r, q, sigma, option_type).val() - pv_target) \n",
        "      / bs_object(s_0, k, T, r, q, sigma, option_type).vega() )\n",
        "      sigma = sigma - h / 100\n",
        "    return sigma "
      ],
      "execution_count": 32,
      "outputs": []
    },
    {
      "cell_type": "code",
      "metadata": {
        "id": "0ZXe3U_a2Oxe",
        "colab_type": "code",
        "colab": {
          "base_uri": "https://localhost:8080/",
          "height": 50
        },
        "outputId": "f495a70a-b9ee-4394-8de5-e497e884c3a6"
      },
      "source": [
        "# Newton-Raphson to estimate implied volatility\n",
        "\n",
        "# Inputs\n",
        "pv_target_val = 12\n",
        "s_0_val = 102\n",
        "k_val = 105\n",
        "r_val = 0.05\n",
        "q_val = 0.02\n",
        "sigma_val = 0.05    # estimate implied volatility to begin\n",
        "T_val =  2\n",
        "option_type_val = 'call'    # or 'put'\n",
        "accuracy_val = 0.01\n",
        "decimals = 5\n",
        "\n",
        "# Estimate implied vol\n",
        "imp_vol_est = newtonRaphson(pv_target_val, s_0_val, k_val, T_val, r_val, q_val, sigma_val, option_type_val, accuracy_val)\n",
        "\n",
        "# Test\n",
        "pv_for_imp_vol_est = bs_object(s_0_val, k_val, T_val, r_val, q_val, imp_vol_est, option_type_val).val()\n",
        "print('Estimated implied volatility for pv_target_val=', pv_target_val, 'is', round(imp_vol_est, decimals))\n",
        "print('Compare with BS price for implied vol of =', round(imp_vol_est, decimals), 'giving PV of=', round(pv_for_imp_vol_est, decimals))"
      ],
      "execution_count": 33,
      "outputs": [
        {
          "output_type": "stream",
          "text": [
            "Estimated implied volatility for pv_target_val= 12 is 0.19227\n",
            "Compare with BS price for implied vol of = 0.19227 giving PV of= 12.0\n"
          ],
          "name": "stdout"
        }
      ]
    },
    {
      "cell_type": "code",
      "metadata": {
        "id": "MKLPolPb191C",
        "colab_type": "code",
        "colab": {
          "base_uri": "https://localhost:8080/",
          "height": 248
        },
        "outputId": "b2941d33-6913-496f-fbf0-72f2d61b9009"
      },
      "source": [
        "from mpl_toolkits.mplot3d import axes3d\n",
        "import matplotlib.pyplot as plt\n",
        "import numpy as np\n",
        "\n",
        "\n",
        "fig = plt.figure()\n",
        "#ax = fig.add_subplot(111, projection='3d')\n",
        "ax = fig.gca(projection='3d')\n",
        "\n",
        "K = np.arange(0.5, 2.0, 0.05)\n",
        "# X = [50, -4, -3, -2, -1, 0, 1, 2, 3]\n",
        "T = np.arange(0.25, 5, 0.25)\n",
        "\n",
        "K, T = np.meshgrid(K, T)\n",
        "Vol = 0.5*K**2 + 0.3*T**2 \n",
        "\n",
        "surf = ax.plot_surface(K, T, Vol)\n",
        "\n",
        "\n"
      ],
      "execution_count": 34,
      "outputs": [
        {
          "output_type": "display_data",
          "data": {
            "image/png": "[encoded data removed]",
            "text/plain": [
              "<Figure size 432x288 with 1 Axes>"
            ]
          },
          "metadata": {
            "tags": [],
            "needs_background": "light"
          }
        }
      ]
    },
    {
      "cell_type": "markdown",
      "metadata": {
        "id": "TNuiupDLvKYj",
        "colab_type": "text"
      },
      "source": [
        ""
      ]
    },
    {
      "cell_type": "code",
      "metadata": {
        "id": "50tTjBBRidOs",
        "colab_type": "code",
        "colab": {
          "base_uri": "https://localhost:8080/",
          "height": 228
        },
        "outputId": "339e8c80-b979-4081-ed32-084d8786c6f2"
      },
      "source": [
        "\n",
        "import io\n",
        "import ftplib\n",
        "import pandas\n",
        "import requests\n",
        "#import requests_html\n",
        "import ssl\n",
        "import numpy as np\n",
        "from yahoo_fin import options\n",
        "from yahoo_fin import stock_info as si\n",
        "import matplotlib.pyplot as plt\n",
        "import py_vollib.black_scholes as vol\n",
        "import yfinance as yf\n",
        "\n",
        "\n",
        "tickers = [\"aapl\", \"nflx\"]\n",
        "\n",
        "dow_data = {}\n",
        "for ticker in tickers:\n",
        "    try:\n",
        "        dow_data[ticker] = options.get_options_chain(ticker)\n",
        "    except Exception:\n",
        "        print(ticker + \" failed\")\n",
        "\n",
        "#print(dow_data[\"aapl\"][\"calls\"].keys())\n",
        "\n",
        "for ticker in tickers:\n",
        "    iv_dec = []\n",
        "    calls = dow_data[ticker]['calls']\n",
        "    volatility = calls[\"Implied Volatility\"]\n",
        "    for ii in range(len(volatility)):\n",
        "        x = volatility[ii]\n",
        "        dec = float(x.strip('%').replace(',',''))/100\n",
        "        iv_dec.append(dec)\n",
        "        \n",
        "    dow_data[ticker]['calls'][\"iv_dec\"] = iv_dec\n",
        "\n",
        "\n",
        "strike = dow_data[\"nflx\"]['calls'][\"Strike\"]\n",
        "iv = dow_data[\"nflx\"]['calls'][\"iv_dec\"]\n",
        "\n",
        "dow_data.head(3)\n",
        "#calls\n",
        "#print(strike)\n",
        "\n",
        "# https://github.com/luke-truitt/ralph-usa/blob/6b3ded77f99bf150f385b7486ed27bf4bfd5e305/algDev/preprocessing/smile.py"
      ],
      "execution_count": 177,
      "outputs": [
        {
          "output_type": "error",
          "ename": "AttributeError",
          "evalue": "ignored",
          "traceback": [
            "\u001b[0;31m---------------------------------------------------------------------------\u001b[0m",
            "\u001b[0;31mAttributeError\u001b[0m                            Traceback (most recent call last)",
            "\u001b[0;32m<ipython-input-177-7c4a4d7d5631>\u001b[0m in \u001b[0;36m<module>\u001b[0;34m()\u001b[0m\n\u001b[1;32m     40\u001b[0m \u001b[0miv\u001b[0m \u001b[0;34m=\u001b[0m \u001b[0mdow_data\u001b[0m\u001b[0;34m[\u001b[0m\u001b[0;34m\"nflx\"\u001b[0m\u001b[0;34m]\u001b[0m\u001b[0;34m[\u001b[0m\u001b[0;34m'calls'\u001b[0m\u001b[0;34m]\u001b[0m\u001b[0;34m[\u001b[0m\u001b[0;34m\"iv_dec\"\u001b[0m\u001b[0;34m]\u001b[0m\u001b[0;34m\u001b[0m\u001b[0;34m\u001b[0m\u001b[0m\n\u001b[1;32m     41\u001b[0m \u001b[0;34m\u001b[0m\u001b[0m\n\u001b[0;32m---> 42\u001b[0;31m \u001b[0mdow_data\u001b[0m\u001b[0;34m.\u001b[0m\u001b[0mhead\u001b[0m\u001b[0;34m(\u001b[0m\u001b[0;36m3\u001b[0m\u001b[0;34m)\u001b[0m\u001b[0;34m\u001b[0m\u001b[0;34m\u001b[0m\u001b[0m\n\u001b[0m\u001b[1;32m     43\u001b[0m \u001b[0;31m#calls\u001b[0m\u001b[0;34m\u001b[0m\u001b[0;34m\u001b[0m\u001b[0;34m\u001b[0m\u001b[0m\n\u001b[1;32m     44\u001b[0m \u001b[0;31m#print(strike)\u001b[0m\u001b[0;34m\u001b[0m\u001b[0;34m\u001b[0m\u001b[0;34m\u001b[0m\u001b[0m\n",
            "\u001b[0;31mAttributeError\u001b[0m: 'dict' object has no attribute 'head'"
          ]
        }
      ]
    },
    {
      "cell_type": "code",
      "metadata": {
        "id": "2kxRwxr5vLOe",
        "colab_type": "code",
        "colab": {}
      },
      "source": [
        "!pip install -q yfinance\n",
        "!pip install -q yahoo_fin\n",
        "!pip install -q py_vollib\n",
        "!pip install -q requests_html\n",
        "!pip install -q yahooquery"
      ],
      "execution_count": 40,
      "outputs": []
    },
    {
      "cell_type": "code",
      "metadata": {
        "id": "GXUbLeR1zEZ8",
        "colab_type": "code",
        "colab": {
          "base_uri": "https://localhost:8080/",
          "height": 228
        },
        "outputId": "9cc29ab8-0d69-44a3-f21c-172c18202684"
      },
      "source": [
        "vol_time_slice_dict=options.get_options_chain('tsla', date=expiration_set[6])\n",
        "\n",
        "vol_time_slice = pd.concat([vol_time_slice_dict['calls'], vol_time_slice_dict['puts']])\n",
        "\n",
        "df_final =vol_time_slice[vol_time_slice['Last Price'] !=0]\n",
        "\n",
        "\n",
        "expiration_set=options.get_expiration_dates('tsla')\n",
        "\n",
        "\n",
        "today = datetime.datetime(int(2020), int(6), int(17))\n",
        "this_expiration = datetime.datetime(expiration_set[6])\n",
        "this_tenor = this_expiration - today\n",
        "\n",
        "\n",
        "\n",
        "print(expiration)\n",
        "options.get_calls('tsla', date=expiration_set[6]).head()"
      ],
      "execution_count": 172,
      "outputs": [
        {
          "output_type": "error",
          "ename": "TypeError",
          "evalue": "ignored",
          "traceback": [
            "\u001b[0;31m---------------------------------------------------------------------------\u001b[0m",
            "\u001b[0;31mTypeError\u001b[0m                                 Traceback (most recent call last)",
            "\u001b[0;32m<ipython-input-172-03ae986a8e3b>\u001b[0m in \u001b[0;36m<module>\u001b[0;34m()\u001b[0m\n\u001b[1;32m     10\u001b[0m \u001b[0;34m\u001b[0m\u001b[0m\n\u001b[1;32m     11\u001b[0m \u001b[0mtoday\u001b[0m \u001b[0;34m=\u001b[0m \u001b[0mdatetime\u001b[0m\u001b[0;34m.\u001b[0m\u001b[0mdatetime\u001b[0m\u001b[0;34m(\u001b[0m\u001b[0mint\u001b[0m\u001b[0;34m(\u001b[0m\u001b[0;36m2020\u001b[0m\u001b[0;34m)\u001b[0m\u001b[0;34m,\u001b[0m \u001b[0mint\u001b[0m\u001b[0;34m(\u001b[0m\u001b[0;36m6\u001b[0m\u001b[0;34m)\u001b[0m\u001b[0;34m,\u001b[0m \u001b[0mint\u001b[0m\u001b[0;34m(\u001b[0m\u001b[0;36m17\u001b[0m\u001b[0;34m)\u001b[0m\u001b[0;34m)\u001b[0m\u001b[0;34m\u001b[0m\u001b[0;34m\u001b[0m\u001b[0m\n\u001b[0;32m---> 12\u001b[0;31m \u001b[0mthis_expiration\u001b[0m \u001b[0;34m=\u001b[0m \u001b[0mdatetime\u001b[0m\u001b[0;34m.\u001b[0m\u001b[0mdatetime\u001b[0m\u001b[0;34m(\u001b[0m\u001b[0mexpiration_set\u001b[0m\u001b[0;34m[\u001b[0m\u001b[0;36m6\u001b[0m\u001b[0;34m]\u001b[0m\u001b[0;34m)\u001b[0m\u001b[0;34m\u001b[0m\u001b[0;34m\u001b[0m\u001b[0m\n\u001b[0m\u001b[1;32m     13\u001b[0m \u001b[0mthis_tenor\u001b[0m \u001b[0;34m=\u001b[0m \u001b[0mthis_expiration\u001b[0m \u001b[0;34m-\u001b[0m \u001b[0mtoday\u001b[0m\u001b[0;34m\u001b[0m\u001b[0;34m\u001b[0m\u001b[0m\n\u001b[1;32m     14\u001b[0m \u001b[0;34m\u001b[0m\u001b[0m\n",
            "\u001b[0;31mTypeError\u001b[0m: an integer is required (got type str)"
          ]
        }
      ]
    },
    {
      "cell_type": "code",
      "metadata": {
        "id": "Fze0ZsKczDsz",
        "colab_type": "code",
        "colab": {
          "base_uri": "https://localhost:8080/",
          "height": 353
        },
        "outputId": "9cb6f7ff-3bf0-46e1-e814-a11731249f01"
      },
      "source": [
        "new_r = df_final.shape[0]\n",
        "new_col =  np.ones(new_r) * 3\n",
        "idx=1   \n",
        "df_final.insert(loc=idx, column='Expiration', value=new_col)\n",
        "df_final.head()"
      ],
      "execution_count": 168,
      "outputs": [
        {
          "output_type": "error",
          "ename": "ValueError",
          "evalue": "ignored",
          "traceback": [
            "\u001b[0;31m---------------------------------------------------------------------------\u001b[0m",
            "\u001b[0;31mValueError\u001b[0m                                Traceback (most recent call last)",
            "\u001b[0;32m<ipython-input-168-b2c25e7bb369>\u001b[0m in \u001b[0;36m<module>\u001b[0;34m()\u001b[0m\n\u001b[1;32m      2\u001b[0m \u001b[0mnew_col\u001b[0m \u001b[0;34m=\u001b[0m  \u001b[0mnp\u001b[0m\u001b[0;34m.\u001b[0m\u001b[0mones\u001b[0m\u001b[0;34m(\u001b[0m\u001b[0mnew_r\u001b[0m\u001b[0;34m)\u001b[0m \u001b[0;34m*\u001b[0m \u001b[0;36m3\u001b[0m\u001b[0;34m\u001b[0m\u001b[0;34m\u001b[0m\u001b[0m\n\u001b[1;32m      3\u001b[0m \u001b[0midx\u001b[0m\u001b[0;34m=\u001b[0m\u001b[0;36m1\u001b[0m\u001b[0;34m\u001b[0m\u001b[0;34m\u001b[0m\u001b[0m\n\u001b[0;32m----> 4\u001b[0;31m \u001b[0mdf_final\u001b[0m\u001b[0;34m.\u001b[0m\u001b[0minsert\u001b[0m\u001b[0;34m(\u001b[0m\u001b[0mloc\u001b[0m\u001b[0;34m=\u001b[0m\u001b[0midx\u001b[0m\u001b[0;34m,\u001b[0m \u001b[0mcolumn\u001b[0m\u001b[0;34m=\u001b[0m\u001b[0;34m'Expiration'\u001b[0m\u001b[0;34m,\u001b[0m \u001b[0mvalue\u001b[0m\u001b[0;34m=\u001b[0m\u001b[0mnew_col\u001b[0m\u001b[0;34m)\u001b[0m\u001b[0;34m\u001b[0m\u001b[0;34m\u001b[0m\u001b[0m\n\u001b[0m\u001b[1;32m      5\u001b[0m \u001b[0mdf_final\u001b[0m\u001b[0;34m.\u001b[0m\u001b[0mhead\u001b[0m\u001b[0;34m(\u001b[0m\u001b[0;34m)\u001b[0m\u001b[0;34m\u001b[0m\u001b[0;34m\u001b[0m\u001b[0m\n",
            "\u001b[0;32m/usr/local/lib/python3.6/dist-packages/pandas/core/frame.py\u001b[0m in \u001b[0;36minsert\u001b[0;34m(self, loc, column, value, allow_duplicates)\u001b[0m\n\u001b[1;32m   3494\u001b[0m         \u001b[0mself\u001b[0m\u001b[0;34m.\u001b[0m\u001b[0m_ensure_valid_index\u001b[0m\u001b[0;34m(\u001b[0m\u001b[0mvalue\u001b[0m\u001b[0;34m)\u001b[0m\u001b[0;34m\u001b[0m\u001b[0;34m\u001b[0m\u001b[0m\n\u001b[1;32m   3495\u001b[0m         \u001b[0mvalue\u001b[0m \u001b[0;34m=\u001b[0m \u001b[0mself\u001b[0m\u001b[0;34m.\u001b[0m\u001b[0m_sanitize_column\u001b[0m\u001b[0;34m(\u001b[0m\u001b[0mcolumn\u001b[0m\u001b[0;34m,\u001b[0m \u001b[0mvalue\u001b[0m\u001b[0;34m,\u001b[0m \u001b[0mbroadcast\u001b[0m\u001b[0;34m=\u001b[0m\u001b[0;32mFalse\u001b[0m\u001b[0;34m)\u001b[0m\u001b[0;34m\u001b[0m\u001b[0;34m\u001b[0m\u001b[0m\n\u001b[0;32m-> 3496\u001b[0;31m         \u001b[0mself\u001b[0m\u001b[0;34m.\u001b[0m\u001b[0m_data\u001b[0m\u001b[0;34m.\u001b[0m\u001b[0minsert\u001b[0m\u001b[0;34m(\u001b[0m\u001b[0mloc\u001b[0m\u001b[0;34m,\u001b[0m \u001b[0mcolumn\u001b[0m\u001b[0;34m,\u001b[0m \u001b[0mvalue\u001b[0m\u001b[0;34m,\u001b[0m \u001b[0mallow_duplicates\u001b[0m\u001b[0;34m=\u001b[0m\u001b[0mallow_duplicates\u001b[0m\u001b[0;34m)\u001b[0m\u001b[0;34m\u001b[0m\u001b[0;34m\u001b[0m\u001b[0m\n\u001b[0m\u001b[1;32m   3497\u001b[0m \u001b[0;34m\u001b[0m\u001b[0m\n\u001b[1;32m   3498\u001b[0m     \u001b[0;32mdef\u001b[0m \u001b[0massign\u001b[0m\u001b[0;34m(\u001b[0m\u001b[0mself\u001b[0m\u001b[0;34m,\u001b[0m \u001b[0;34m**\u001b[0m\u001b[0mkwargs\u001b[0m\u001b[0;34m)\u001b[0m \u001b[0;34m->\u001b[0m \u001b[0;34m\"DataFrame\"\u001b[0m\u001b[0;34m:\u001b[0m\u001b[0;34m\u001b[0m\u001b[0;34m\u001b[0m\u001b[0m\n",
            "\u001b[0;32m/usr/local/lib/python3.6/dist-packages/pandas/core/internals/managers.py\u001b[0m in \u001b[0;36minsert\u001b[0;34m(self, loc, item, value, allow_duplicates)\u001b[0m\n\u001b[1;32m   1171\u001b[0m         \u001b[0;32mif\u001b[0m \u001b[0;32mnot\u001b[0m \u001b[0mallow_duplicates\u001b[0m \u001b[0;32mand\u001b[0m \u001b[0mitem\u001b[0m \u001b[0;32min\u001b[0m \u001b[0mself\u001b[0m\u001b[0;34m.\u001b[0m\u001b[0mitems\u001b[0m\u001b[0;34m:\u001b[0m\u001b[0;34m\u001b[0m\u001b[0;34m\u001b[0m\u001b[0m\n\u001b[1;32m   1172\u001b[0m             \u001b[0;31m# Should this be a different kind of error??\u001b[0m\u001b[0;34m\u001b[0m\u001b[0;34m\u001b[0m\u001b[0;34m\u001b[0m\u001b[0m\n\u001b[0;32m-> 1173\u001b[0;31m             \u001b[0;32mraise\u001b[0m \u001b[0mValueError\u001b[0m\u001b[0;34m(\u001b[0m\u001b[0;34mf\"cannot insert {item}, already exists\"\u001b[0m\u001b[0;34m)\u001b[0m\u001b[0;34m\u001b[0m\u001b[0;34m\u001b[0m\u001b[0m\n\u001b[0m\u001b[1;32m   1174\u001b[0m \u001b[0;34m\u001b[0m\u001b[0m\n\u001b[1;32m   1175\u001b[0m         \u001b[0;32mif\u001b[0m \u001b[0;32mnot\u001b[0m \u001b[0misinstance\u001b[0m\u001b[0;34m(\u001b[0m\u001b[0mloc\u001b[0m\u001b[0;34m,\u001b[0m \u001b[0mint\u001b[0m\u001b[0;34m)\u001b[0m\u001b[0;34m:\u001b[0m\u001b[0;34m\u001b[0m\u001b[0;34m\u001b[0m\u001b[0m\n",
            "\u001b[0;31mValueError\u001b[0m: cannot insert Expiration, already exists"
          ]
        }
      ]
    },
    {
      "cell_type": "code",
      "metadata": {
        "id": "wt0sYVYbvcfm",
        "colab_type": "code",
        "colab": {
          "base_uri": "https://localhost:8080/",
          "height": 369
        },
        "outputId": "eb994c0d-3c4f-4a92-e849-1e1119de8a1c"
      },
      "source": [
        "# Import libraries\n",
        "import io\n",
        "import ftplib\n",
        "import pandas\n",
        "import requests\n",
        "import ssl\n",
        "import numpy as np\n",
        "from yahoo_fin import options\n",
        "from yahoo_fin import stock_info as si\n",
        "import matplotlib.pyplot as plt\n",
        "import py_vollib.black_scholes as vol\n",
        "import yfinance as yf\n",
        "#import HTMLSession\n",
        "import datetime\n",
        "\n",
        "today = datetime.datetime(int(2020), int(6), int(18))\n",
        "\n",
        "# Import data from yahoo\n",
        "#import_vol_raw_data = {}\n",
        "\n",
        "expiration_set=options.get_expiration_dates('tsla')\n",
        "\n",
        "this_expiration = expiration_set[8]\n",
        "\n",
        "import_vol_raw_data = options.get_options_chain('tsla', date=expiration_set[8]) # this is dict\n",
        "\n",
        "\n",
        "For each expiry date do\n",
        "make combined data from and build in a column with expiry date\n",
        "\n",
        "\n",
        "\n",
        "#this_tenor = this_expiration - today\n",
        "\n",
        "import_vol_data = pd.concat([vol_time_slice_dict['calls'], vol_time_slice_dict['puts']])\n",
        "\n",
        "import_vol_data_clean =import_vol_data[import_vol_data['Last Price'] !=0]\n",
        "\n",
        "tenor_list = []\n",
        "\n",
        "\n",
        "#yy=import_vol_data_clean['Contract Name'].strip('TSLA')[0:2]\n",
        "#mm=import_vol_data_clean['Contract Name'].strip('TSLA')[2:4]\n",
        "#dd=import_vol_data_clean['Contract Name'].strip('TSLA')[4:6]\n",
        "#tenor=(datetime.datetime(2000+int(yy), int(mm), int(dd)) - today).days\n",
        "#tenor_list.append(tenor)\n",
        "\n",
        "#strike = import_vol_data['tsla']['puts']['Strike']\n",
        "#vol = import_vol_data['tsla']['puts']['Implied Volatility']\n",
        "#vol2 = vol / 100\n",
        "import pandas as pd\n",
        "#d = {'strike_range':strike, 'tenor_range':tenor,'vol_output': vol}\n",
        "#df = pd.DataFrame(d)\n",
        "#type(df['vol_output'][2])\n",
        "\n",
        "this_expiration\n",
        "\n",
        "d = datetime.datetime.strptime(this_expiration, '%d %B, %Y')\n",
        "#print(d.strftime('%Y-%m-%d'))\n",
        "print(d.strftime('%m-%d-%y'))\n"
      ],
      "execution_count": 206,
      "outputs": [
        {
          "output_type": "error",
          "ename": "ValueError",
          "evalue": "ignored",
          "traceback": [
            "\u001b[0;31m---------------------------------------------------------------------------\u001b[0m",
            "\u001b[0;31mValueError\u001b[0m                                Traceback (most recent call last)",
            "\u001b[0;32m<ipython-input-206-33a279fd9652>\u001b[0m in \u001b[0;36m<module>\u001b[0;34m()\u001b[0m\n\u001b[1;32m     52\u001b[0m \u001b[0mthis_expiration\u001b[0m\u001b[0;34m\u001b[0m\u001b[0;34m\u001b[0m\u001b[0m\n\u001b[1;32m     53\u001b[0m \u001b[0;34m\u001b[0m\u001b[0m\n\u001b[0;32m---> 54\u001b[0;31m \u001b[0md\u001b[0m \u001b[0;34m=\u001b[0m \u001b[0mdatetime\u001b[0m\u001b[0;34m.\u001b[0m\u001b[0mdatetime\u001b[0m\u001b[0;34m.\u001b[0m\u001b[0mstrptime\u001b[0m\u001b[0;34m(\u001b[0m\u001b[0mthis_expiration\u001b[0m\u001b[0;34m,\u001b[0m \u001b[0;34m'%d %B, %Y'\u001b[0m\u001b[0;34m)\u001b[0m\u001b[0;34m\u001b[0m\u001b[0;34m\u001b[0m\u001b[0m\n\u001b[0m\u001b[1;32m     55\u001b[0m \u001b[0;31m#print(d.strftime('%Y-%m-%d'))\u001b[0m\u001b[0;34m\u001b[0m\u001b[0;34m\u001b[0m\u001b[0;34m\u001b[0m\u001b[0m\n\u001b[1;32m     56\u001b[0m \u001b[0mprint\u001b[0m\u001b[0;34m(\u001b[0m\u001b[0md\u001b[0m\u001b[0;34m.\u001b[0m\u001b[0mstrftime\u001b[0m\u001b[0;34m(\u001b[0m\u001b[0;34m'%m-%d-%y'\u001b[0m\u001b[0;34m)\u001b[0m\u001b[0;34m)\u001b[0m\u001b[0;34m\u001b[0m\u001b[0;34m\u001b[0m\u001b[0m\n",
            "\u001b[0;32m/usr/lib/python3.6/_strptime.py\u001b[0m in \u001b[0;36m_strptime_datetime\u001b[0;34m(cls, data_string, format)\u001b[0m\n\u001b[1;32m    563\u001b[0m     \"\"\"Return a class cls instance based on the input string and the\n\u001b[1;32m    564\u001b[0m     format string.\"\"\"\n\u001b[0;32m--> 565\u001b[0;31m     \u001b[0mtt\u001b[0m\u001b[0;34m,\u001b[0m \u001b[0mfraction\u001b[0m \u001b[0;34m=\u001b[0m \u001b[0m_strptime\u001b[0m\u001b[0;34m(\u001b[0m\u001b[0mdata_string\u001b[0m\u001b[0;34m,\u001b[0m \u001b[0mformat\u001b[0m\u001b[0;34m)\u001b[0m\u001b[0;34m\u001b[0m\u001b[0;34m\u001b[0m\u001b[0m\n\u001b[0m\u001b[1;32m    566\u001b[0m     \u001b[0mtzname\u001b[0m\u001b[0;34m,\u001b[0m \u001b[0mgmtoff\u001b[0m \u001b[0;34m=\u001b[0m \u001b[0mtt\u001b[0m\u001b[0;34m[\u001b[0m\u001b[0;34m-\u001b[0m\u001b[0;36m2\u001b[0m\u001b[0;34m:\u001b[0m\u001b[0;34m]\u001b[0m\u001b[0;34m\u001b[0m\u001b[0;34m\u001b[0m\u001b[0m\n\u001b[1;32m    567\u001b[0m     \u001b[0margs\u001b[0m \u001b[0;34m=\u001b[0m \u001b[0mtt\u001b[0m\u001b[0;34m[\u001b[0m\u001b[0;34m:\u001b[0m\u001b[0;36m6\u001b[0m\u001b[0;34m]\u001b[0m \u001b[0;34m+\u001b[0m \u001b[0;34m(\u001b[0m\u001b[0mfraction\u001b[0m\u001b[0;34m,\u001b[0m\u001b[0;34m)\u001b[0m\u001b[0;34m\u001b[0m\u001b[0;34m\u001b[0m\u001b[0m\n",
            "\u001b[0;32m/usr/lib/python3.6/_strptime.py\u001b[0m in \u001b[0;36m_strptime\u001b[0;34m(data_string, format)\u001b[0m\n\u001b[1;32m    360\u001b[0m     \u001b[0;32mif\u001b[0m \u001b[0;32mnot\u001b[0m \u001b[0mfound\u001b[0m\u001b[0;34m:\u001b[0m\u001b[0;34m\u001b[0m\u001b[0;34m\u001b[0m\u001b[0m\n\u001b[1;32m    361\u001b[0m         raise ValueError(\"time data %r does not match format %r\" %\n\u001b[0;32m--> 362\u001b[0;31m                          (data_string, format))\n\u001b[0m\u001b[1;32m    363\u001b[0m     \u001b[0;32mif\u001b[0m \u001b[0mlen\u001b[0m\u001b[0;34m(\u001b[0m\u001b[0mdata_string\u001b[0m\u001b[0;34m)\u001b[0m \u001b[0;34m!=\u001b[0m \u001b[0mfound\u001b[0m\u001b[0;34m.\u001b[0m\u001b[0mend\u001b[0m\u001b[0;34m(\u001b[0m\u001b[0;34m)\u001b[0m\u001b[0;34m:\u001b[0m\u001b[0;34m\u001b[0m\u001b[0;34m\u001b[0m\u001b[0m\n\u001b[1;32m    364\u001b[0m         raise ValueError(\"unconverted data remains: %s\" %\n",
            "\u001b[0;31mValueError\u001b[0m: time data 'September 18, 2020' does not match format '%d %B, %Y'"
          ]
        }
      ]
    },
    {
      "cell_type": "code",
      "metadata": {
        "id": "K9YFiHGs31JP",
        "colab_type": "code",
        "colab": {
          "base_uri": "https://localhost:8080/",
          "height": 396
        },
        "outputId": "a17a434c-a240-4da0-cc74-9646fe60c802"
      },
      "source": [
        "print(d.strftime('%Y-%m-%d'))\n",
        "import io\n",
        "import ftplib\n",
        "import pandas\n",
        "import requests\n",
        "#import requests_html\n",
        "import ssl\n",
        "import numpy as np\n",
        "from yahoo_fin import options\n",
        "from yahoo_fin import stock_info as si\n",
        "import matplotlib.pyplot as plt\n",
        "import py_vollib.black_scholes as vol\n",
        "import yfinance as yf\n",
        "\n",
        "tickers = [\"aapl\", \"nflx\"]\n",
        "\n",
        "dow_data = {}\n",
        "for ticker in tickers:\n",
        "    try:\n",
        "        dow_data[ticker] = options.get_options_chain(ticker)\n",
        "    except Exception:\n",
        "        print(ticker + \" failed\")\n",
        "\n",
        "print(dow_data[\"aapl\"][\"calls\"].keys())\n",
        "\n",
        "for ticker in tickers:\n",
        "    iv_dec = []\n",
        "    calls = dow_data[ticker]['calls']\n",
        "    volatility = calls[\"Implied Volatility\"]\n",
        "    for ii in range(len(volatility)):\n",
        "        x = volatility[ii]\n",
        "        dec = float(x.strip('%').replace(',',''))/100\n",
        "        iv_dec.append(dec)\n",
        "        \n",
        "    dow_data[ticker]['calls'][\"iv_dec\"] = iv_dec\n",
        "\n",
        "strike = dow_data[\"nflx\"]['calls'][\"Strike\"]\n",
        "iv = dow_data[\"nflx\"]['calls'][\"iv_dec\"]\n",
        "\n",
        "plt.plot(strike, iv) \n",
        "plt.xlabel('strike') \n",
        "plt.ylabel(\"iv\") \n",
        "plt.title('smile of aapl') \n",
        "\n",
        "# plt.show() \n",
        "\n",
        "poly = np.polyfit(strike, iv, 2) \n",
        "print(poly)\n",
        "\n",
        "x"
      ],
      "execution_count": 43,
      "outputs": [
        {
          "output_type": "stream",
          "text": [
            "Index(['Contract Name', 'Last Trade Date', 'Strike', 'Last Price', 'Bid',\n",
            "       'Ask', 'Change', '% Change', 'Volume', 'Open Interest',\n",
            "       'Implied Volatility'],\n",
            "      dtype='object')\n",
            "[ 1.03427287e-05 -8.23317703e-03  1.65247813e+00]\n"
          ],
          "name": "stdout"
        },
        {
          "output_type": "execute_result",
          "data": {
            "text/plain": [
              "'50.00%'"
            ]
          },
          "metadata": {
            "tags": []
          },
          "execution_count": 43
        },
        {
          "output_type": "display_data",
          "data": {
            "image/png": "[encoded data removed]",
            "text/plain": [
              "<Figure size 432x288 with 1 Axes>"
            ]
          },
          "metadata": {
            "tags": [],
            "needs_background": "light"
          }
        }
      ]
    },
    {
      "cell_type": "code",
      "metadata": {
        "id": "oIOhf8FEZRF-",
        "colab_type": "code",
        "colab": {}
      },
      "source": [
        "# https://github.com/dpguthrie/yahooquery"
      ],
      "execution_count": 83,
      "outputs": []
    }
  ]
}