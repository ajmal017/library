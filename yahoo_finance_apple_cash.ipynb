{
  "nbformat": 4,
  "nbformat_minor": 0,
  "metadata": {
    "colab": {
      "name": "Untitled7.ipynb",
      "provenance": [],
      "include_colab_link": true
    },
    "kernelspec": {
      "name": "python3",
      "display_name": "Python 3"
    }
  },
  "cells": [
    {
      "cell_type": "markdown",
      "metadata": {
        "id": "view-in-github",
        "colab_type": "text"
      },
      "source": [
        "<a href=\"https://colab.research.google.com/github/rhysdavies21/library/blob/master/yahoo_finance_apple_cash.ipynb\" target=\"_parent\"><img src=\"https://colab.research.google.com/assets/colab-badge.svg\" alt=\"Open In Colab\"/></a>"
      ]
    },
    {
      "cell_type": "markdown",
      "metadata": {
        "id": "vv46ES8A5i_T",
        "colab_type": "text"
      },
      "source": [
        "Yahoo financial data (Review Apple cash position)"
      ]
    },
    {
      "cell_type": "code",
      "metadata": {
        "id": "p9wDapmA5mBF",
        "colab_type": "code",
        "colab": {}
      },
      "source": [
        "# Ref https://pypi.org/project/yahoofinancials/"
      ],
      "execution_count": 0,
      "outputs": []
    },
    {
      "cell_type": "code",
      "metadata": {
        "id": "RCVgLriS5pmQ",
        "colab_type": "code",
        "colab": {
          "base_uri": "https://localhost:8080/",
          "height": 202
        },
        "outputId": "c73554e6-c2ae-46d6-cedb-83dfefdc0ee1"
      },
      "source": [
        "pip install yahoofinancials"
      ],
      "execution_count": 1,
      "outputs": [
        {
          "output_type": "stream",
          "text": [
            "Collecting yahoofinancials\n",
            "  Downloading https://files.pythonhosted.org/packages/46/be/44b0bc468a22e114f99dc6a1211f848e4ab7955f3262df589cea98f03cfd/yahoofinancials-1.5.tar.gz\n",
            "Requirement already satisfied: beautifulsoup4 in /usr/local/lib/python3.6/dist-packages (from yahoofinancials) (4.6.3)\n",
            "Requirement already satisfied: pytz in /usr/local/lib/python3.6/dist-packages (from yahoofinancials) (2018.9)\n",
            "Building wheels for collected packages: yahoofinancials\n",
            "  Building wheel for yahoofinancials (setup.py) ... \u001b[?25l\u001b[?25hdone\n",
            "  Created wheel for yahoofinancials: filename=yahoofinancials-1.5-cp36-none-any.whl size=15195 sha256=f8481f2f4be049f547b3049e99eb1f830e586e1776d73426925f2825244e7684\n",
            "  Stored in directory: /root/.cache/pip/wheels/42/15/e7/240c5cdc8782b9479ba73404640a3be57bb4053a5c3edd6be5\n",
            "Successfully built yahoofinancials\n",
            "Installing collected packages: yahoofinancials\n",
            "Successfully installed yahoofinancials-1.5\n"
          ],
          "name": "stdout"
        }
      ]
    },
    {
      "cell_type": "code",
      "metadata": {
        "id": "MTYEXxbU5szV",
        "colab_type": "code",
        "colab": {}
      },
      "source": [
        "# Import libraries\n",
        "import pandas as pd\n",
        "from yahoofinancials import YahooFinancials"
      ],
      "execution_count": 0,
      "outputs": []
    },
    {
      "cell_type": "code",
      "metadata": {
        "id": "M_42EF9_5zJr",
        "colab_type": "code",
        "colab": {
          "base_uri": "https://localhost:8080/",
          "height": 84
        },
        "outputId": "2ab391f9-984f-4bc9-def5-6c633e565b5e"
      },
      "source": [
        "# Review summary and key-statistics data\n",
        "\n",
        "stock = 'AAPL'\n",
        "\n",
        "yahoo_financials = YahooFinancials(stock)\n",
        "\n",
        "print('stock:', stock)\n",
        "\n",
        "print('summary_data / dividendYield', \"{:.2%}\".format(yahoo_financials.get_summary_data()[stock]['dividendYield']))\n",
        "\n",
        "print('key_statistics / forwardPE:', \"{:.3}\".format(yahoo_financials.get_key_statistics_data()[stock]['forwardPE'])) \n",
        "\n",
        "print('key_statistics / Beta:', \"{:.5}\".format(yahoo_financials.get_key_statistics_data()[stock]['beta']))"
      ],
      "execution_count": 3,
      "outputs": [
        {
          "output_type": "stream",
          "text": [
            "stock: AAPL\n",
            "summary_data / dividendYield 1.31%\n",
            "key_statistics / forwardPE: 18.5\n",
            "key_statistics / Beta: 1.0959\n"
          ],
          "name": "stdout"
        }
      ]
    },
    {
      "cell_type": "code",
      "metadata": {
        "id": "c5GaH0_151xA",
        "colab_type": "code",
        "colab": {
          "base_uri": "https://localhost:8080/",
          "height": 101
        },
        "outputId": "e2b3ad41-08b1-4d21-8db1-1c2919e2a6b8"
      },
      "source": [
        "# Review financial statements\n",
        "\n",
        "stock = 'AAPL'\n",
        "\n",
        "yahoo_financials = YahooFinancials(stock)\n",
        "\n",
        "print('stock:', stock)\n",
        "\n",
        "print('cash: ', \n",
        "      list(yahoo_financials.get_financial_stmts('annual', 'balance')['balanceSheetHistory'][stock][0].keys())[0], \n",
        "      ' ', \n",
        "      \"{:,.0f}\".format(yahoo_financials.get_financial_stmts('annual', 'balance')['balanceSheetHistory'][stock][0]['2018-09-29']['cash']))\n",
        "\n",
        "print('cash: ', \n",
        "      list(yahoo_financials.get_financial_stmts('annual', 'balance')['balanceSheetHistory'][stock][1].keys())[0], \n",
        "      ' ', \n",
        "      \"{:,.0f}\".format(yahoo_financials.get_financial_stmts('annual', 'balance')['balanceSheetHistory'][stock][1]['2017-09-30']['cash']))\n",
        "\n",
        "print('cash: ', \n",
        "      list(yahoo_financials.get_financial_stmts('annual', 'balance')['balanceSheetHistory'][stock][2].keys())[0], \n",
        "      ' ', \n",
        "      \"{:,.0f}\".format(yahoo_financials.get_financial_stmts('annual', 'balance')['balanceSheetHistory'][stock][2]['2016-09-24']['cash']))\n",
        "\n",
        "print('cash: ', \n",
        "      list(yahoo_financials.get_financial_stmts('annual', 'balance')['balanceSheetHistory'][stock][3].keys())[0], \n",
        "      ' ', \n",
        "      \"{:,.0f}\".format(yahoo_financials.get_financial_stmts('annual', 'balance')['balanceSheetHistory'][stock][3]['2015-09-26']['cash']))"
      ],
      "execution_count": 4,
      "outputs": [
        {
          "output_type": "stream",
          "text": [
            "stock: AAPL\n",
            "cash:  2018-09-29   25,913,000,000\n",
            "cash:  2017-09-30   20,289,000,000\n",
            "cash:  2016-09-24   20,484,000,000\n",
            "cash:  2015-09-26   21,120,000,000\n"
          ],
          "name": "stdout"
        }
      ]
    },
    {
      "cell_type": "code",
      "metadata": {
        "id": "c2q2rAhp575a",
        "colab_type": "code",
        "colab": {}
      },
      "source": [
        ""
      ],
      "execution_count": 0,
      "outputs": []
    }
  ]
}