{
  "nbformat": 4,
  "nbformat_minor": 0,
  "metadata": {
    "colab": {
      "name": "rate_derivatives.ipynb",
      "provenance": [],
      "collapsed_sections": [],
      "authorship_tag": "ABX9TyOHi7Qdk8hID9lq4Yzrz7rd",
      "include_colab_link": true
    },
    "kernelspec": {
      "name": "python3",
      "display_name": "Python 3"
    }
  },
  "cells": [
    {
      "cell_type": "markdown",
      "metadata": {
        "id": "view-in-github",
        "colab_type": "text"
      },
      "source": [
        "<a href=\"https://colab.research.google.com/github/rhysdavies21/library/blob/master/rate_derivatives.ipynb\" target=\"_parent\"><img src=\"https://colab.research.google.com/assets/colab-badge.svg\" alt=\"Open In Colab\"/></a>"
      ]
    },
    {
      "cell_type": "code",
      "metadata": {
        "id": "pRl0lhOg3NHP",
        "colab_type": "code",
        "colab": {}
      },
      "source": [
        "# ZC Bond Calculator\n",
        "\n",
        "def zero_coupon_bond(par, y, t):\n",
        "  '''\n",
        "  Price of a zero coupon bond\n",
        "  \n",
        "  : param par: face value of bond\n",
        "  : param y: annual yield or rate of the bond:\n",
        "  : param t: time to maturity, in years\n",
        "  '''\n",
        "  return par / (1+y)**t"
      ],
      "execution_count": null,
      "outputs": []
    },
    {
      "cell_type": "code",
      "metadata": {
        "id": "eeWnwI4R30BI",
        "colab_type": "code",
        "colab": {
          "base_uri": "https://localhost:8080/",
          "height": 33
        },
        "outputId": "5e87b821-b355-464d-b226-5bf3a8e8cdbb"
      },
      "source": [
        "# Price ZC Bond\n",
        "\n",
        "print(zero_coupon_bond(100, 0.05, 5))"
      ],
      "execution_count": null,
      "outputs": [
        {
          "output_type": "stream",
          "text": [
            "78.35261664684589\n"
          ],
          "name": "stdout"
        }
      ]
    },
    {
      "cell_type": "code",
      "metadata": {
        "id": "WZEI1yzW3_Mf",
        "colab_type": "code",
        "colab": {}
      },
      "source": [
        "# Bootstrapping yield curve\n",
        "\n",
        "import math\n",
        "\n",
        "class BootstrapYieldCurve(object):\n",
        "\n",
        "  def __init__(self):\n",
        "    self.zero_rates = dict()\n",
        "    self.instruments = dict()\n",
        "\n",
        "  def add_instrument(self, par, T, coup, price, compounding_freq=2):\n",
        "    self.instruments[T] = (par, coup, price, compounding_freq)\n",
        "\n",
        "  def get_maturities(self):\n",
        "    '''\n",
        "    : return: a list of maturities of added instruments\n",
        "    '''\n",
        "    return sorted(self.instruments.keys())\n",
        "\n",
        "  def get_zero_rates(self):\n",
        "    '''\n",
        "    Returns a list of spot rates on the yield curve\n",
        "    '''\n",
        "    self.bootstrap_zero_coupons()\n",
        "    self.get_bond_spot_rates()\n",
        "    return [self.zero_rates[T] for T in self.get_maturities()]\n",
        "\n",
        "  def bootstrap_zero_coupons(self):\n",
        "    '''\n",
        "    Bootstrap the yield curve with zero coupon instruments first\n",
        "    '''\n",
        "    for (T, instrument) in self.instruments.items():\n",
        "      (par, coup, price, freq) = instrument\n",
        "      if coup == 0:\n",
        "        spot_rate = self.zero_coupon_spot_rate(par, price, T)\n",
        "        self.zero_rates[T] = spot_rate\n",
        "\n",
        "  def zero_coupon_spot_rate(self, par, price, T):\n",
        "    '''\n",
        "    : return: the zero coupon spot rate with continuous compounding\n",
        "    '''\n",
        "    spot_rate = math.log(par/price)/T\n",
        "    return spot_rate\n",
        "  \n",
        "  def get_bond_spot_rates(self):\n",
        "    '''\n",
        "    Get spot rates implied by bonds, using short-term instruments\n",
        "    '''\n",
        "    for T in self.get_maturities():\n",
        "      instrument = self.instruments[T]\n",
        "      (par, coup, price, freq) = instrument\n",
        "      if coup != 0:\n",
        "        spot_rate = self.calculate_bond_spot_rate(T, instrument)\n",
        "        self.zero_rates[T] = spot_rate\n",
        "\n",
        "  def calculate_bond_spot_rate(self, T, instrument):\n",
        "    try: \n",
        "      (par, coup, price, freq) = instrument\n",
        "      periods = T* freq\n",
        "      value = price\n",
        "      per_coupon = coup/freq\n",
        "      for i in range (int(periods)-1):\n",
        "        t = (i+1)/float(freq)\n",
        "        spot_rate = self.zero_rates[t]\n",
        "        discounted_coupon = per_coupon * math.exp(-spot_rate * t)\n",
        "        value -= discounted_coupon\n",
        "\n",
        "      last_period = int(periods)/float(freq)\n",
        "      spot_rate = - math.log(value/(par + per_coupon)) / last_period\n",
        "      return spot_rate\n",
        "    except:\n",
        "      print('Error: spot rate note found for T=', t)"
      ],
      "execution_count": 16,
      "outputs": []
    },
    {
      "cell_type": "code",
      "metadata": {
        "id": "EtasTER9XkUl",
        "colab_type": "code",
        "colab": {
          "base_uri": "https://localhost:8080/",
          "height": 529
        },
        "outputId": "bbce7817-2742-4257-f1c7-3b45f697d148"
      },
      "source": [
        "# Instantiate BootstrapYieldCurve\n",
        "\n",
        "yield_curve = BootstrapYieldCurve()\n",
        "yield_curve.add_instrument(100, 0.25, 0., 97.5)\n",
        "yield_curve.add_instrument(100, 0.5, 0., 94.9)\n",
        "yield_curve.add_instrument(100, 1.0, 0., 90.)\n",
        "yield_curve.add_instrument(100, 1.5, 8, 96.2, 2)\n",
        "yield_curve.add_instrument(100, 2.0, 12, 101.6, 2)\n",
        "\n",
        "y = yield_curve.get_zero_rates()\n",
        "x = yield_curve.get_maturities()\n",
        "\n",
        "%pylab inline\n",
        "\n",
        "fig = plt.figure(figsize=(12,8))\n",
        "plot(x, y)\n",
        "title('Zerp Curve')\n",
        "ylabel('Zero Rte (%)')\n",
        "xlabel('Maturity in years');"
      ],
      "execution_count": 17,
      "outputs": [
        {
          "output_type": "stream",
          "text": [
            "Populating the interactive namespace from numpy and matplotlib\n"
          ],
          "name": "stdout"
        },
        {
          "output_type": "display_data",
          "data": {
            "image/png": "[encoded data removed]",
            "text/plain": [
              "<Figure size 864x576 with 1 Axes>"
            ]
          },
          "metadata": {
            "tags": [],
            "needs_background": "light"
          }
        }
      ]
    },
    {
      "cell_type": "code",
      "metadata": {
        "id": "T7iTMd48YUkf",
        "colab_type": "code",
        "colab": {}
      },
      "source": [
        ""
      ],
      "execution_count": null,
      "outputs": []
    }
  ]
}